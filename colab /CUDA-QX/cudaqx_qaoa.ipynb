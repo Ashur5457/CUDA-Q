{
  "cells": [
    {
      "cell_type": "markdown",
      "metadata": {
        "id": "view-in-github",
        "colab_type": "text"
      },
      "source": [
        "<a href=\"https://colab.research.google.com/github/Squirtle007/CUDA-Q/blob/main/colab%20/CUDA-QX/cudaqx_qaoa.ipynb\" target=\"_parent\"><img src=\"https://colab.research.google.com/assets/colab-badge.svg\" alt=\"Open In Colab\"/></a>"
      ]
    },
    {
      "cell_type": "code",
      "execution_count": 1,
      "metadata": {
        "colab": {
          "base_uri": "https://localhost:8080/"
        },
        "id": "2JHNaUJjgL2Y",
        "outputId": "f923e901-8991-4228-a190-2406ec5aea75"
      },
      "outputs": [
        {
          "output_type": "stream",
          "name": "stdout",
          "text": [
            "\u001b[2K   \u001b[90m━━━━━━━━━━━━━━━━━━━━━━━━━━━━━━━━━━━━━━━━\u001b[0m \u001b[32m156.9/156.9 MB\u001b[0m \u001b[31m3.9 MB/s\u001b[0m eta \u001b[36m0:00:00\u001b[0m\n",
            "\u001b[?25hInstalling collected packages: cutensor-cu12, custatevec-cu12, uvicorn, cutensornet-cu12, cudensitymat-cu12, astpretty, starlette, pyscf, cuquantum-python-cu12, fastapi, cuda-quantum-cu12, cudaq-solvers\n",
            "Successfully installed astpretty-3.0.0 cuda-quantum-cu12-0.9.1 cudaq-solvers-0.1.0 cudensitymat-cu12-0.0.5 cuquantum-python-cu12-24.11.0 custatevec-cu12-1.7.0 cutensor-cu12-2.0.2 cutensornet-cu12-2.6.0 fastapi-0.115.11 pyscf-2.8.0 starlette-0.46.0 uvicorn-0.34.0\n"
          ]
        }
      ],
      "source": [
        "!pip install cudaq-solvers==0.1.0"
      ]
    },
    {
      "cell_type": "markdown",
      "metadata": {
        "id": "90-M1O-E0Lvv"
      },
      "source": [
        "# Quantum Approximate Optimization Algorithm"
      ]
    },
    {
      "cell_type": "markdown",
      "source": [
        "The **Quantum Approximate Optimization Algorithm (QAOA)** is a variational quantum algorithm designed to solve combinatorial optimization problems. It operates by alternating between two quantum operators:  \n",
        "1. **Cost Hamiltonian** – Encodes the problem constraints.  \n",
        "2. **Mixer Hamiltonian** – Introduces transitions between states.  \n",
        "\n",
        "By optimizing parameters in these operations, QAOA aims to find high-quality approximate solutions to problems like **Max-Cut** and **QUBO** (quadratic unconstrained binary optimization) on near-term quantum devices. To learn more details, [here](https://github.com/NVIDIA/cuda-q-academic/blob/main/qaoa-for-max-cut/01_Max-Cut-with-QAOA.ipynb) in a well-structured tutorial."
      ],
      "metadata": {
        "id": "ZharNsru4wPk"
      }
    },
    {
      "cell_type": "markdown",
      "source": [
        "The coefficient matrix for Max-Cut is constructed based on the graph structure using the standard QUBO formulation:  \n",
        "\n",
        "$$\n",
        "H = 1/2\\sum_{(i, j) \\in E} w_{ij}(I-Z_i Z_j)\n",
        "$$  \n",
        "\n",
        "where:\n",
        "- $Z_i$ represents the Pauli-Z operator for qubit (node) $i$.\n",
        "- Each edge $(i, j)$ contributes a term $w_{ij}(I-Z_i Z_j)/2$,  \n",
        "- If nodes $i$ and $j$ are assigned to different groups, they contribute a cut of weight $w_{ij}$; otherwise, the contribution is $0$.\n",
        "\n",
        "Let's start from an example graph:"
      ],
      "metadata": {
        "id": "Oj3-cJJI2EtX"
      }
    },
    {
      "cell_type": "code",
      "source": [
        "import networkx as nx\n",
        "\n",
        "\n",
        "G=nx.Graph()\n",
        "G.add_weighted_edges_from([(0, 1, 1), (1, 2, 1), (1, 4, 1), (2, 3, 1), (3, 4, 1), (4, 0, 1)])\n",
        "nx.draw(G, with_labels=True, alpha=0.8, node_size=500, node_color='#76B900')"
      ],
      "metadata": {
        "colab": {
          "base_uri": "https://localhost:8080/",
          "height": 516
        },
        "id": "t5eqQJxezJxi",
        "outputId": "cff998b9-d14c-4648-e473-5d079b2a55dc"
      },
      "execution_count": 2,
      "outputs": [
        {
          "output_type": "display_data",
          "data": {
            "text/plain": [
              "<Figure size 640x480 with 1 Axes>"
            ],
            "image/png": "[encoded data removed]"
          },
          "metadata": {}
        }
      ]
    },
    {
      "cell_type": "markdown",
      "source": [
        "Note that maximizing $H = \\frac{1}{2} \\sum_{(i, j) \\in E} w_{ij} (I - Z_i Z_j)$ is equivalent to simply minimizing $ \\sum_{(i, j) \\in E} w_{ij} Z_i Z_j$.\n",
        "Then we can construct the simplified Hamiltonian and the coefficient matrix accordingly:"
      ],
      "metadata": {
        "id": "H44M7VZv6Q36"
      }
    },
    {
      "cell_type": "code",
      "source": [
        "import numpy as np\n",
        "\n",
        "\n",
        "# Initialize coefficient matrix\n",
        "coefficient_matrix = np.zeros((G.number_of_nodes(), G.number_of_nodes()))\n",
        "\n",
        "# Fill the matrix with negative edge weights for Max-Cut\n",
        "for i, j, w in G.edges(data=True):\n",
        "    coefficient_matrix[i, j] = w['weight']\n",
        "    coefficient_matrix[j, i] = w['weight']  # Since the graph is undirected\n",
        "\n",
        "print(coefficient_matrix)"
      ],
      "metadata": {
        "colab": {
          "base_uri": "https://localhost:8080/"
        },
        "id": "PrcokPqD0Oqe",
        "outputId": "6ee14da5-4c5d-4d69-a7b1-2f7bffdfe72c"
      },
      "execution_count": 3,
      "outputs": [
        {
          "output_type": "stream",
          "name": "stdout",
          "text": [
            "[[0. 1. 0. 0. 1.]\n",
            " [1. 0. 1. 0. 1.]\n",
            " [0. 1. 0. 1. 0.]\n",
            " [0. 0. 1. 0. 1.]\n",
            " [1. 1. 0. 1. 0.]]\n"
          ]
        }
      ]
    },
    {
      "cell_type": "code",
      "source": [
        "import cudaq\n",
        "from cudaq import spin\n",
        "\n",
        "\n",
        "# Flatten the coefficient matrix\n",
        "flattened_matrix = coefficient_matrix.flatten()\n",
        "\n",
        "# Number of qubits (original matrix is square)\n",
        "qubit_count = coefficient_matrix.shape[0]\n",
        "\n",
        "# Construct Hamiltonian using the flattened matrix\n",
        "hamiltonian = 0\n",
        "for idx, value in enumerate(flattened_matrix):\n",
        "    if value != 0:\n",
        "        i = idx // qubit_count  # Row index\n",
        "        j = idx % qubit_count   # Column index\n",
        "\n",
        "        if i == j:\n",
        "            hamiltonian += value * spin.z(i)  # First-order term\n",
        "        elif i < j:  # For symmetric matrices\n",
        "            hamiltonian += value * spin.z(i) * spin.z(j)  # Second-order term\n",
        "\n",
        "# Print the Hamiltonian\n",
        "print(\"Problem Hamiltonian:\", hamiltonian)"
      ],
      "metadata": {
        "colab": {
          "base_uri": "https://localhost:8080/"
        },
        "id": "Y6YKfd0sm8x6",
        "outputId": "782c5c30-1884-4298-917f-c55b22ad7301"
      },
      "execution_count": 4,
      "outputs": [
        {
          "output_type": "stream",
          "name": "stdout",
          "text": [
            "Problem Hamiltonian: [1+0j] ZIIIZ\n",
            "[1+0j] IZZII\n",
            "[1+0j] IZIIZ\n",
            "[1+0j] IIIZZ\n",
            "[1+0j] IIZZI\n",
            "[1+0j] ZZIII\n",
            "[0+0j] IIIII\n",
            "\n"
          ]
        }
      ]
    },
    {
      "cell_type": "code",
      "execution_count": 5,
      "metadata": {
        "colab": {
          "base_uri": "https://localhost:8080/"
        },
        "id": "3fpifp_U0UKK",
        "outputId": "e927629e-139a-4c8b-eade-acdb0b675515"
      },
      "outputs": [
        {
          "output_type": "stream",
          "name": "stdout",
          "text": [
            "Initial parameters =  [ 0.21810696 -0.20613464  0.25468776  0.36579856]\n",
            "     ╭───╮                                                ╭────────────╮»\n",
            "q0 : ┤ h ├──●──────────────────●────●──────────────────●──┤ rx(0.5094) ├»\n",
            "     ├───┤╭─┴─╮╭────────────╮╭─┴─╮  │                  │  ╰────────────╯»\n",
            "q1 : ┤ h ├┤ x ├┤ rz(0.4362) ├┤ x ├──┼──────────────────┼────────●───────»\n",
            "     ├───┤╰───╯╰────────────╯╰───╯  │                  │      ╭─┴─╮     »\n",
            "q2 : ┤ h ├──────────────────────────┼──────────────────┼──────┤ x ├─────»\n",
            "     ├───┤                          │                  │      ╰───╯     »\n",
            "q3 : ┤ h ├──────────────────────────┼──────────────────┼────────────────»\n",
            "     ├───┤                        ╭─┴─╮╭────────────╮╭─┴─╮              »\n",
            "q4 : ┤ h ├────────────────────────┤ x ├┤ rz(0.4362) ├┤ x ├──────────────»\n",
            "     ╰───╯                        ╰───╯╰────────────╯╰───╯              »\n",
            "\n",
            "################################################################################\n",
            "\n",
            "                                                                       »\n",
            "───────────────────────────────────────────────────────────────●───────»\n",
            "                                           ╭────────────╮    ╭─┴─╮     »\n",
            "────────────────●────●──────────────────●──┤ rx(0.5094) ├────┤ x ├─────»\n",
            "╭────────────╮╭─┴─╮  │                  │  ╰────────────╯    ╰───╯     »\n",
            "┤ rz(0.4362) ├┤ x ├──┼──────────────────┼────────●─────────────────────»\n",
            "╰────────────╯╰───╯  │                  │      ╭─┴─╮     ╭────────────╮»\n",
            "─────────────────────┼──────────────────┼──────┤ x ├─────┤ rz(0.4362) ├»\n",
            "                   ╭─┴─╮╭────────────╮╭─┴─╮    ╰───╯     ╰────────────╯»\n",
            "───────────────────┤ x ├┤ rz(0.4362) ├┤ x ├────────────────────────────»\n",
            "                   ╰───╯╰────────────╯╰───╯                            »\n",
            "\n",
            "################################################################################\n",
            "\n",
            "                                                                   »\n",
            "─────────────────────●──────────────────────────────────────────●──»\n",
            "╭─────────────╮    ╭─┴─╮                                        │  »\n",
            "┤ rz(-0.4123) ├────┤ x ├────────────────────────────────────────┼──»\n",
            "╰─────────────╯╭───┴───┴────╮                                   │  »\n",
            "───────●───────┤ rx(0.5094) ├───────────────────────────────────┼──»\n",
            "     ╭─┴─╮     ╰────────────╯                   ╭────────────╮  │  »\n",
            "─────┤ x ├───────────●───────────────────────●──┤ rx(0.5094) ├──┼──»\n",
            "     ╰───╯         ╭─┴─╮     ╭────────────╮╭─┴─╮├────────────┤╭─┴─╮»\n",
            "───────────────────┤ x ├─────┤ rz(0.4362) ├┤ x ├┤ rx(0.5094) ├┤ x ├»\n",
            "                   ╰───╯     ╰────────────╯╰───╯╰────────────╯╰───╯»\n",
            "\n",
            "################################################################################\n",
            "\n",
            "                    ╭────────────╮                                        »\n",
            "─────────────────●──┤ rx(0.7316) ├────────────────────────────────────────»\n",
            "                 │  ╰────────────╯                                        »\n",
            "─────────────────┼────────●────────────────────────●────●─────────────────»\n",
            "                 │      ╭─┴─╮     ╭─────────────╮╭─┴─╮  │                 »\n",
            "─────────────────┼──────┤ x ├─────┤ rz(-0.4123) ├┤ x ├──┼─────────────────»\n",
            "                 │      ╰───╯     ╰─────────────╯╰───╯  │                 »\n",
            "─────────────────┼──────────────────────────────────────┼─────────────────»\n",
            "╭─────────────╮╭─┴─╮                                  ╭─┴─╮╭─────────────╮»\n",
            "┤ rz(-0.4123) ├┤ x ├──────────────────────────────────┤ x ├┤ rz(-0.4123) ├»\n",
            "╰─────────────╯╰───╯                                  ╰───╯╰─────────────╯»\n",
            "\n",
            "################################################################################\n",
            "\n",
            "                                                                         »\n",
            "─────────────────────────────────────────────────────────────────────────»\n",
            "     ╭────────────╮                                                      »\n",
            "──●──┤ rx(0.7316) ├──────────────────────────────────────────────────────»\n",
            "  │  ╰────────────╯                    ╭────────────╮                    »\n",
            "──┼────────●────────────────────────●──┤ rx(0.7316) ├────────────────────»\n",
            "  │      ╭─┴─╮     ╭─────────────╮╭─┴─╮╰────────────╯                    »\n",
            "──┼──────┤ x ├─────┤ rz(-0.4123) ├┤ x ├──────●────────────────────────●──»\n",
            "╭─┴─╮    ╰───╯     ╰─────────────╯╰───╯    ╭─┴─╮     ╭─────────────╮╭─┴─╮»\n",
            "┤ x ├──────────────────────────────────────┤ x ├─────┤ rz(-0.4123) ├┤ x ├»\n",
            "╰───╯                                      ╰───╯     ╰─────────────╯╰───╯»\n",
            "\n",
            "################################################################################\n",
            "\n",
            "              \n",
            "──────────────\n",
            "              \n",
            "──────────────\n",
            "              \n",
            "──────────────\n",
            "╭────────────╮\n",
            "┤ rx(0.7316) ├\n",
            "├────────────┤\n",
            "┤ rx(0.7316) ├\n",
            "╰────────────╯\n",
            "\n"
          ]
        }
      ],
      "source": [
        "import cudaq_solvers as solvers\n",
        "from scipy.optimize import minimize\n",
        "from typing import List\n",
        "\n",
        "\n",
        "# Parameters of QAOA\n",
        "layer_count = 2\n",
        "parameter_count = 2 * layer_count\n",
        "\n",
        "@cudaq.kernel\n",
        "def kernel_qaoa(thetas: List[float]):\n",
        "    \"\"\"QAOA ansatz for Max-Cut using the flattened coefficient matrix.\"\"\"\n",
        "    qvector = cudaq.qvector(qubit_count)\n",
        "\n",
        "    # Create superposition\n",
        "    h(qvector)\n",
        "\n",
        "    # Loop over layers\n",
        "    for layer in range(layer_count):\n",
        "        for idx, value in enumerate(flattened_matrix):\n",
        "            if value != 0:\n",
        "                i = idx // qubit_count  # Row index\n",
        "                j = idx % qubit_count   # Column index\n",
        "\n",
        "                if i == j:\n",
        "                    # Apply Rz gate for first-order terms\n",
        "                    rz(2.0 * value * thetas[layer], qvector[i])\n",
        "                elif i < j:\n",
        "                    # Apply CNOT-Rz-CNOT for second-order terms\n",
        "                    x.ctrl(qvector[i], qvector[j])\n",
        "                    rz(2.0 * value * thetas[layer], qvector[j])\n",
        "                    x.ctrl(qvector[i], qvector[j])\n",
        "\n",
        "        # Mixer unitary\n",
        "        for qubit in range(qubit_count):\n",
        "            rx(2.0 * thetas[layer + layer_count], qvector[qubit])\n",
        "\n",
        "\n",
        "# Specify the initial parameters and visualize the kernel\n",
        "np.random.seed(13)\n",
        "initial_parameters = np.random.uniform(-np.pi / 8.0, np.pi / 8.0, parameter_count)\n",
        "print(\"Initial parameters = \", initial_parameters)\n",
        "print(cudaq.draw(kernel_qaoa, initial_parameters))"
      ]
    },
    {
      "cell_type": "code",
      "source": [
        "# Optimize through cudaq-solver with the GPU backend\n",
        "\n",
        "#cudaq.set_target('qpp-cpu')  # Use 'qpp-cpu' for simulation on CPU\n",
        "\n",
        "expectation, optimized_parameters, _ = solvers.vqe(kernel_qaoa,\n",
        "                                              hamiltonian,\n",
        "                                              initial_parameters,\n",
        "                                              optimizer=minimize,\n",
        "                                              method='L-BFGS-B',\n",
        "                                              jac='3-point',\n",
        "                                              tol=1e-5,\n",
        "                                              options={'disp': True})\n",
        "print(f'Final  = {expectation}')"
      ],
      "metadata": {
        "colab": {
          "base_uri": "https://localhost:8080/"
        },
        "id": "jHKNUZBP8sF0",
        "outputId": "24c295ca-2c53-4b36-cccd-77b165e7d17a"
      },
      "execution_count": 6,
      "outputs": [
        {
          "output_type": "stream",
          "name": "stdout",
          "text": [
            "Final  = -3.2468595165487435\n"
          ]
        }
      ]
    },
    {
      "cell_type": "code",
      "source": [
        "# Sample the circuit using the optimized parameters and find the most probable bitstring with the maximum cut value\n",
        "counts = cudaq.sample(kernel_qaoa, optimized_parameters, shots_count=2**(qubit_count+5))\n",
        "print(counts.most_probable())"
      ],
      "metadata": {
        "colab": {
          "base_uri": "https://localhost:8080/"
        },
        "id": "6IONl51dxGn7",
        "outputId": "0352cf8e-0c2d-4e3a-b658-7da1acb707b9"
      },
      "execution_count": 7,
      "outputs": [
        {
          "output_type": "stream",
          "name": "stdout",
          "text": [
            "11010\n"
          ]
        }
      ]
    }
  ],
  "metadata": {
    "colab": {
      "provenance": [],
      "include_colab_link": true
    },
    "kernelspec": {
      "display_name": "Python 3",
      "name": "python3"
    },
    "language_info": {
      "name": "python"
    }
  },
  "nbformat": 4,
  "nbformat_minor": 0
}