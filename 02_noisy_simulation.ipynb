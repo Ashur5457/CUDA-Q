{
  "cells": [
    {
      "cell_type": "markdown",
      "metadata": {
        "id": "view-in-github",
        "colab_type": "text"
      },
      "source": [
        "<a href=\"https://colab.research.google.com/github/Squirtle007/CUDA-Q/blob/main/02_noisy_simulation.ipynb\" target=\"_parent\"><img src=\"https://colab.research.google.com/assets/colab-badge.svg\" alt=\"Open In Colab\"/></a>"
      ]
    },
    {
      "cell_type": "markdown",
      "metadata": {
        "id": "KG_mfMGO4Et_"
      },
      "source": [
        "<a href=\"https://colab.research.google.com/github/Squirtle007/CUDA_Quantum/blob/main/colab/v0.8.0/cudaq_tutorial_01.ipynb\" target=\"_parent\"><img src=\"https://colab.research.google.com/assets/colab-badge.svg\" alt=\"Open In Colab\"/></a>"
      ]
    },
    {
      "cell_type": "markdown",
      "metadata": {
        "id": "nviq34EqVB9t"
      },
      "source": [
        "**Set up CUDA-Q Environment**"
      ]
    },
    {
      "cell_type": "code",
      "execution_count": 1,
      "metadata": {
        "colab": {
          "base_uri": "https://localhost:8080/"
        },
        "id": "qssbbdb0U-6s",
        "outputId": "c953b7b5-7372-4b5a-c4ef-1e8c570c40af"
      },
      "outputs": [
        {
          "output_type": "stream",
          "name": "stdout",
          "text": [
            "Collecting cuda-quantum==0.8.0\n",
            "  Downloading cuda_quantum-0.8.0-cp310-cp310-manylinux_2_28_x86_64.whl.metadata (7.6 kB)\n",
            "Collecting astpretty~=3.0 (from cuda-quantum==0.8.0)\n",
            "  Downloading astpretty-3.0.0-py2.py3-none-any.whl.metadata (5.5 kB)\n",
            "Collecting cuquantum-cu11~=24.03 (from cuda-quantum==0.8.0)\n",
            "  Downloading cuquantum_cu11-24.8.0-py3-none-manylinux2014_x86_64.whl.metadata (2.7 kB)\n",
            "Collecting graphlib-backport>=1.0 (from cuda-quantum==0.8.0)\n",
            "  Downloading graphlib_backport-1.1.0-py3-none-any.whl.metadata (4.4 kB)\n",
            "Requirement already satisfied: numpy>=1.24 in /usr/local/lib/python3.10/dist-packages (from cuda-quantum==0.8.0) (1.26.4)\n",
            "Requirement already satisfied: requests>=2.31 in /usr/local/lib/python3.10/dist-packages (from cuda-quantum==0.8.0) (2.32.3)\n",
            "Collecting nvidia-cublas-cu11==11.11.3.6 (from cuda-quantum==0.8.0)\n",
            "  Downloading nvidia_cublas_cu11-11.11.3.6-py3-none-manylinux2014_x86_64.whl.metadata (1.5 kB)\n",
            "Collecting nvidia-cuda-runtime-cu11==11.8.89 (from cuda-quantum==0.8.0)\n",
            "  Downloading nvidia_cuda_runtime_cu11-11.8.89-py3-none-manylinux2014_x86_64.whl.metadata (1.5 kB)\n",
            "Collecting nvidia-cusolver-cu11==11.4.1.48 (from cuda-quantum==0.8.0)\n",
            "  Downloading nvidia_cusolver_cu11-11.4.1.48-py3-none-manylinux2014_x86_64.whl.metadata (1.6 kB)\n",
            "Collecting custatevec-cu11==1.6.0.post1 (from cuquantum-cu11~=24.03->cuda-quantum==0.8.0)\n",
            "  Downloading custatevec_cu11-1.6.0.post1-py3-none-manylinux2014_x86_64.whl.metadata (2.1 kB)\n",
            "Collecting cutensornet-cu11==2.5.0 (from cuquantum-cu11~=24.03->cuda-quantum==0.8.0)\n",
            "  Downloading cutensornet_cu11-2.5.0-py3-none-manylinux2014_x86_64.whl.metadata (2.0 kB)\n",
            "Collecting cutensor-cu11<3,>=2.0.1 (from cutensornet-cu11==2.5.0->cuquantum-cu11~=24.03->cuda-quantum==0.8.0)\n",
            "  Downloading cutensor_cu11-2.0.2-py3-none-manylinux2014_x86_64.whl.metadata (2.1 kB)\n",
            "Requirement already satisfied: charset-normalizer<4,>=2 in /usr/local/lib/python3.10/dist-packages (from requests>=2.31->cuda-quantum==0.8.0) (3.3.2)\n",
            "Requirement already satisfied: idna<4,>=2.5 in /usr/local/lib/python3.10/dist-packages (from requests>=2.31->cuda-quantum==0.8.0) (3.10)\n",
            "Requirement already satisfied: urllib3<3,>=1.21.1 in /usr/local/lib/python3.10/dist-packages (from requests>=2.31->cuda-quantum==0.8.0) (2.2.3)\n",
            "Requirement already satisfied: certifi>=2017.4.17 in /usr/local/lib/python3.10/dist-packages (from requests>=2.31->cuda-quantum==0.8.0) (2024.8.30)\n",
            "Downloading cuda_quantum-0.8.0-cp310-cp310-manylinux_2_28_x86_64.whl (118.7 MB)\n",
            "\u001b[2K   \u001b[90m━━━━━━━━━━━━━━━━━━━━━━━━━━━━━━━━━━━━━━━━\u001b[0m \u001b[32m118.7/118.7 MB\u001b[0m \u001b[31m5.3 MB/s\u001b[0m eta \u001b[36m0:00:00\u001b[0m\n",
            "\u001b[?25hDownloading nvidia_cublas_cu11-11.11.3.6-py3-none-manylinux2014_x86_64.whl (417.9 MB)\n",
            "\u001b[2K   \u001b[90m━━━━━━━━━━━━━━━━━━━━━━━━━━━━━━━━━━━━━━━━\u001b[0m \u001b[32m417.9/417.9 MB\u001b[0m \u001b[31m4.2 MB/s\u001b[0m eta \u001b[36m0:00:00\u001b[0m\n",
            "\u001b[?25hDownloading nvidia_cuda_runtime_cu11-11.8.89-py3-none-manylinux2014_x86_64.whl (875 kB)\n",
            "\u001b[2K   \u001b[90m━━━━━━━━━━━━━━━━━━━━━━━━━━━━━━━━━━━━━━━━\u001b[0m \u001b[32m875.6/875.6 kB\u001b[0m \u001b[31m17.5 MB/s\u001b[0m eta \u001b[36m0:00:00\u001b[0m\n",
            "\u001b[?25hDownloading nvidia_cusolver_cu11-11.4.1.48-py3-none-manylinux2014_x86_64.whl (128.2 MB)\n",
            "\u001b[2K   \u001b[90m━━━━━━━━━━━━━━━━━━━━━━━━━━━━━━━━━━━━━━━━\u001b[0m \u001b[32m128.2/128.2 MB\u001b[0m \u001b[31m6.1 MB/s\u001b[0m eta \u001b[36m0:00:00\u001b[0m\n",
            "\u001b[?25hDownloading astpretty-3.0.0-py2.py3-none-any.whl (4.9 kB)\n",
            "Downloading cuquantum_cu11-24.8.0-py3-none-manylinux2014_x86_64.whl (7.0 kB)\n",
            "Downloading custatevec_cu11-1.6.0.post1-py3-none-manylinux2014_x86_64.whl (38.6 MB)\n",
            "\u001b[2K   \u001b[90m━━━━━━━━━━━━━━━━━━━━━━━━━━━━━━━━━━━━━━━━\u001b[0m \u001b[32m38.6/38.6 MB\u001b[0m \u001b[31m13.4 MB/s\u001b[0m eta \u001b[36m0:00:00\u001b[0m\n",
            "\u001b[?25hDownloading cutensornet_cu11-2.5.0-py3-none-manylinux2014_x86_64.whl (2.2 MB)\n",
            "\u001b[2K   \u001b[90m━━━━━━━━━━━━━━━━━━━━━━━━━━━━━━━━━━━━━━━━\u001b[0m \u001b[32m2.2/2.2 MB\u001b[0m \u001b[31m33.9 MB/s\u001b[0m eta \u001b[36m0:00:00\u001b[0m\n",
            "\u001b[?25hDownloading graphlib_backport-1.1.0-py3-none-any.whl (7.1 kB)\n",
            "Downloading cutensor_cu11-2.0.2-py3-none-manylinux2014_x86_64.whl (148.8 MB)\n",
            "\u001b[2K   \u001b[90m━━━━━━━━━━━━━━━━━━━━━━━━━━━━━━━━━━━━━━━━\u001b[0m \u001b[32m148.8/148.8 MB\u001b[0m \u001b[31m7.7 MB/s\u001b[0m eta \u001b[36m0:00:00\u001b[0m\n",
            "\u001b[?25hInstalling collected packages: cutensor-cu11, custatevec-cu11, nvidia-cuda-runtime-cu11, nvidia-cublas-cu11, graphlib-backport, cutensornet-cu11, astpretty, nvidia-cusolver-cu11, cuquantum-cu11, cuda-quantum\n",
            "Successfully installed astpretty-3.0.0 cuda-quantum-0.8.0 cuquantum-cu11-24.8.0 custatevec-cu11-1.6.0.post1 cutensor-cu11-2.0.2 cutensornet-cu11-2.5.0 graphlib-backport-1.1.0 nvidia-cublas-cu11-11.11.3.6 nvidia-cuda-runtime-cu11-11.8.89 nvidia-cusolver-cu11-11.4.1.48\n"
          ]
        }
      ],
      "source": [
        "#The following commands are used to set up the environment in Colab\n",
        "%pip install cuda-quantum==0.8.0"
      ]
    },
    {
      "cell_type": "markdown",
      "metadata": {
        "id": "CjPE2h7O99Ou"
      },
      "source": [
        "## Noisy Simulation\n",
        "\n",
        "Quantum noise can be characterized into coherent and incoherent sources of errors that arise during a computation. Coherent noise is commonly due to systematic errors originating from device miscalibrations, for example, gates implementing a rotation $\\theta + \\epsilon$ instead of $\\theta$.\n",
        "\n",
        "Incoherent noise has its origins in quantum states being entangled with the environment due to decoherence. This leads to mixed states which are probability distributions over pure states and are described by employing the density matrix formalism.\n",
        "\n",
        "We can model incoherent noise via quantum channels which are linear, completely positive, and trace preserving maps. These maps are called Kraus operators, $\\{ K_i \\}$, which satisfy the condition $\\sum_{i} K_i^\\dagger K_i = \\mathbb{I}$.\n",
        "\n",
        "The bit-flip channel flips the qubit with probability $p$ and leaves it unchanged with probability $1-p$. This can be represented by employing Kraus operators:\n",
        "\n",
        "$$K_0 = \\sqrt{1-p} \\begin{pmatrix}\n",
        "    1 & 0 \\\\\n",
        "    0 & 1\n",
        "\\end{pmatrix}$$\n",
        "\n",
        "$$K_1 = \\sqrt{p} \\begin{pmatrix}\n",
        "  0 & 1 \\\\\n",
        "  1 & 0\n",
        "\\end{pmatrix}$$\n",
        "\n",
        "Let's implement the **bit-flip** channel as well as **depolarization** channel using CUDA-Q:"
      ]
    },
    {
      "cell_type": "code",
      "execution_count": 2,
      "metadata": {
        "id": "wNCEYvU0-A_j"
      },
      "outputs": [],
      "source": [
        "import cudaq\n",
        "from cudaq import spin\n",
        "\n",
        "import numpy as np\n",
        "\n",
        "# To model quantum noise, we need to utilize the density matrix simulator target.\n",
        "cudaq.set_target(\"density-matrix-cpu\")"
      ]
    },
    {
      "cell_type": "code",
      "execution_count": 3,
      "metadata": {
        "colab": {
          "base_uri": "https://localhost:8080/"
        },
        "id": "b7bRStj_-Dk5",
        "outputId": "880d7c10-6bad-47b3-8c4e-390be39c0e4a"
      },
      "outputs": [
        {
          "output_type": "stream",
          "name": "stdout",
          "text": [
            "     ╭───╮\n",
            "q0 : ┤ x ├\n",
            "     ├───┤\n",
            "q1 : ┤ x ├\n",
            "     ╰───╯\n",
            "\n"
          ]
        }
      ],
      "source": [
        "# Let's define a simple kernel that we will add noise to.\n",
        "qubit_count = 2\n",
        "\n",
        "\n",
        "@cudaq.kernel\n",
        "def kernel(qubit_count: int):\n",
        "    qvector = cudaq.qvector(qubit_count)\n",
        "    x(qvector)\n",
        "\n",
        "\n",
        "print(cudaq.draw(kernel, qubit_count))"
      ]
    },
    {
      "cell_type": "code",
      "execution_count": 4,
      "metadata": {
        "id": "WgphqD2c-Fel",
        "colab": {
          "base_uri": "https://localhost:8080/"
        },
        "outputId": "063f60f9-d97c-4515-be67-44bf45b828f0"
      },
      "outputs": [
        {
          "output_type": "stream",
          "name": "stdout",
          "text": [
            "{ 11:1000 }\n",
            "\n"
          ]
        }
      ],
      "source": [
        "# In the ideal noiseless case, we get |11> 100% of the time.\n",
        "\n",
        "ideal_counts = cudaq.sample(kernel, qubit_count, shots_count=1000)\n",
        "print(ideal_counts)  #ideal_counts.dump()"
      ]
    },
    {
      "cell_type": "code",
      "execution_count": 5,
      "metadata": {
        "id": "gpS-FzFO-KzU",
        "colab": {
          "base_uri": "https://localhost:8080/"
        },
        "outputId": "32337d97-7d3b-4e77-af62-ff886a8e1677"
      },
      "outputs": [
        {
          "output_type": "stream",
          "name": "stdout",
          "text": [
            "{ 11:846 10:82 01:63 00:9 }\n",
            "\n"
          ]
        }
      ],
      "source": [
        "# First, we will define an out of the box noise channel. In this case,\n",
        "# we choose depolarization noise. This depolarization will result in\n",
        "# the qubit state decaying into a mix of the basis states, |0> and |1>,\n",
        "# with our provided probability.\n",
        "error_probability = 0.1\n",
        "depolarization_channel = cudaq.DepolarizationChannel(error_probability)\n",
        "\n",
        "# We can also define our own, custom noise channels through\n",
        "# Kraus operators. Here we will define two operators representing\n",
        "# bit flip errors.\n",
        "\n",
        "# Define the Kraus Error Operator as a complex ndarray.\n",
        "kraus_0 = np.sqrt(1 - error_probability) * np.array([[1.0, 0.0], [0.0, 1.0]],\n",
        "                                                    dtype=np.complex128)\n",
        "kraus_1 = np.sqrt(error_probability) * np.array([[0.0, 1.0], [1.0, 0.0]],\n",
        "                                                dtype=np.complex128)\n",
        "\n",
        "# Add the Kraus Operator to create a quantum channel.\n",
        "bitflip_channel = cudaq.KrausChannel([kraus_0, kraus_1])\n",
        "\n",
        "# Add the two channels to our Noise Model.\n",
        "noise_model = cudaq.NoiseModel()\n",
        "\n",
        "# Apply the depolarization channel to any X-gate on the 0th qubit.\n",
        "noise_model.add_channel(\"x\", [0], depolarization_channel)\n",
        "# Apply the bitflip channel to any X-gate on the 1st qubit.\n",
        "noise_model.add_channel(\"x\", [1], bitflip_channel)\n",
        "\n",
        "# Due to the impact of noise, our measurements will no longer be uniformly\n",
        "# in the |11> state.\n",
        "noisy_counts = cudaq.sample(kernel,\n",
        "                            qubit_count,\n",
        "                            noise_model=noise_model,\n",
        "                            shots_count=1000)\n",
        "\n",
        "print(noisy_counts)  #noisy_counts.dump()"
      ]
    },
    {
      "cell_type": "code",
      "execution_count": 6,
      "metadata": {
        "colab": {
          "base_uri": "https://localhost:8080/"
        },
        "id": "jXsWZ4UL-Mu3",
        "outputId": "b8ef9287-824e-47ca-e643-1c58325d67d3"
      },
      "outputs": [
        {
          "output_type": "execute_result",
          "data": {
            "text/plain": [
              "-0.8666666666666666"
            ]
          },
          "metadata": {},
          "execution_count": 6
        }
      ],
      "source": [
        "# We can also use noise models with the observe function\n",
        "\n",
        "hamiltonian = spin.z(0)\n",
        "\n",
        "noisy_result = cudaq.observe(kernel,\n",
        "                             hamiltonian,\n",
        "                             qubit_count,\n",
        "                             noise_model=noise_model)\n",
        "\n",
        "noisy_result.expectation()"
      ]
    },
    {
      "cell_type": "markdown",
      "source": [
        "Then implement the **phase-flip** channel using CUDA-Q:"
      ],
      "metadata": {
        "id": "y6s9bmHx7WlJ"
      }
    },
    {
      "cell_type": "code",
      "source": [
        "import cudaq\n",
        "\n",
        "# Set the target to our density matrix simulator.\n",
        "cudaq.set_target('density-matrix-cpu')\n",
        "\n",
        "# CUDA-Q supports several different models of noise. In this\n",
        "# case, we will examine the modeling of decoherence of the qubit phase.\n",
        "# This will occur from \"phase flip\" errors, wherein the qubit has a\n",
        "# user-specified probability of undergoing a Z-180 rotation.\n",
        "\n",
        "# We will begin by defining an empty noise model that we will add\n",
        "# our phase flip channel to.\n",
        "noise = cudaq.NoiseModel()\n",
        "\n",
        "# We define a phase-flip channel setting to `1.0` the probability of the qubit\n",
        "# undergoing a phase rotation of 180 degrees (π).\n",
        "phase_flip = cudaq.PhaseFlipChannel(1.0)\n",
        "# We will apply this channel to any Z gate on the qubit.\n",
        "# In other words, after each Z gate on qubit 0, there will be a\n",
        "# probability of `1.0` that the qubit undergoes an extra\n",
        "# Z rotation.\n",
        "noise.add_channel('z', [0], phase_flip)\n",
        "\n",
        "\n",
        "@cudaq.kernel\n",
        "def kernel():\n",
        "    # Single qubit initialized to the |0> state.\n",
        "    qubit = cudaq.qubit()\n",
        "    # Place qubit in superposition state.\n",
        "    h(qubit)\n",
        "    # Rotate the phase around Z by 180 degrees (π).\n",
        "    z(qubit)\n",
        "    # Apply another Hadamard and measure.\n",
        "    h(qubit)\n",
        "    mz(qubit)\n",
        "\n",
        "\n",
        "print(cudaq.draw(kernel))"
      ],
      "metadata": {
        "colab": {
          "base_uri": "https://localhost:8080/"
        },
        "id": "U4jSqpoN5nZg",
        "outputId": "65a6ca61-63ae-4608-9d29-ea23f50c43b7"
      },
      "execution_count": 7,
      "outputs": [
        {
          "output_type": "stream",
          "name": "stdout",
          "text": [
            "     ╭───╮╭───╮╭───╮\n",
            "q0 : ┤ h ├┤ z ├┤ h ├\n",
            "     ╰───╯╰───╯╰───╯\n",
            "\n"
          ]
        }
      ]
    },
    {
      "cell_type": "code",
      "source": [
        "# Without noise, we'd expect the qubit to end in the |1>\n",
        "# state due to the phase rotation between the two Hadamard\n",
        "# gates.\n",
        "noiseless_result = cudaq.sample(kernel)\n",
        "print(noiseless_result)"
      ],
      "metadata": {
        "colab": {
          "base_uri": "https://localhost:8080/"
        },
        "id": "q3YGVBma7h92",
        "outputId": "42833a0f-ca29-48fb-8f38-c2e2ddc39658"
      },
      "execution_count": 8,
      "outputs": [
        {
          "output_type": "stream",
          "name": "stdout",
          "text": [
            "{ 1:1000 }\n",
            "\n"
          ]
        }
      ]
    },
    {
      "cell_type": "code",
      "source": [
        "# With noise, our Z-gate will effectively cancel out due\n",
        "# to the presence of a phase flip error on the gate with a\n",
        "# probability of `1.0`. This will put us back in the |0> state.\n",
        "noisy_result = cudaq.sample(kernel, noise_model=noise)\n",
        "print(noisy_result)"
      ],
      "metadata": {
        "colab": {
          "base_uri": "https://localhost:8080/"
        },
        "id": "1A_GnH__7jYN",
        "outputId": "2dca6191-df95-4c4f-b0fa-f6baf2420169"
      },
      "execution_count": 9,
      "outputs": [
        {
          "output_type": "stream",
          "name": "stdout",
          "text": [
            "{ 0:1000 }\n",
            "\n"
          ]
        }
      ]
    }
  ],
  "metadata": {
    "colab": {
      "provenance": [],
      "include_colab_link": true
    },
    "kernelspec": {
      "display_name": "Python 3",
      "name": "python3"
    },
    "language_info": {
      "name": "python"
    }
  },
  "nbformat": 4,
  "nbformat_minor": 0
}