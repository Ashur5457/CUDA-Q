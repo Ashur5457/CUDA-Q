{
 "cells": [
  {
   "cell_type": "code",
   "execution_count": 14,
   "id": "b36aa076-47ee-4c38-bea8-9e88ca777b64",
   "metadata": {},
   "outputs": [],
   "source": [
    "\"\"\"\n",
    "Run this file in cuda-quantum container with the tag 0.7.1\n",
    "Please follow the instrcution (Docker required):\n",
    "https://catalog.ngc.nvidia.com/orgs/nvidia/teams/quantum/containers/cuda-quantum\n",
    "\"\"\"\n",
    "\n",
    "import cudaq\n",
    "import time\n",
    "\n",
    "num_qubits = 30\n",
    "\n",
    "@cudaq.kernel\n",
    "def kernel(num_qubits: int):\n",
    "    qubits = cudaq.qvector(num_qubits)\n",
    "    h(qubits[0])\n",
    "    for q in range(num_qubits-1):\n",
    "        x.ctrl(qubits[q], qubits[q+1])"
   ]
  },
  {
   "cell_type": "code",
   "execution_count": 15,
   "id": "423ac37c-8847-480a-b653-8cfc3efe06d3",
   "metadata": {},
   "outputs": [
    {
     "name": "stdout",
     "output_type": "stream",
     "text": [
      "Time: 19.85245418548584 (sec)\n",
      "0.4999999999999999\n"
     ]
    }
   ],
   "source": [
    "cudaq.set_target(\"tensornet\")\n",
    "\n",
    "t0 = time.time()\n",
    "state = cudaq.get_state(kernel, num_qubits)\n",
    "print(\"Time:\", time.time()-t0, \"(sec)\")\n",
    "print(abs(state[0])**2)"
   ]
  },
  {
   "cell_type": "code",
   "execution_count": 16,
   "id": "ba0b1f91-a7da-47b4-8289-e7e66a8e240e",
   "metadata": {},
   "outputs": [
    {
     "name": "stdout",
     "output_type": "stream",
     "text": [
      "Time: 28.071824312210083 (sec)\n",
      "0.4999999828857291\n"
     ]
    }
   ],
   "source": [
    "cudaq.set_target(\"nvidia\")\n",
    "\n",
    "t0 = time.time()\n",
    "state = cudaq.get_state(kernel, num_qubits)\n",
    "print(\"Time:\", time.time()-t0, \"(sec)\")\n",
    "print(abs(state[0])**2)"
   ]
  }
 ],
 "metadata": {
  "kernelspec": {
   "display_name": "Python 3 (ipykernel)",
   "language": "python",
   "name": "python3"
  },
  "language_info": {
   "codemirror_mode": {
    "name": "ipython",
    "version": 3
   },
   "file_extension": ".py",
   "mimetype": "text/x-python",
   "name": "python",
   "nbconvert_exporter": "python",
   "pygments_lexer": "ipython3",
   "version": "3.10.12"
  }
 },
 "nbformat": 4,
 "nbformat_minor": 5
}
