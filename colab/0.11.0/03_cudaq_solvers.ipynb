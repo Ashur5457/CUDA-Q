{
  "cells": [
    {
      "cell_type": "markdown",
      "metadata": {
        "id": "view-in-github",
        "colab_type": "text"
      },
      "source": [
        "<a href=\"https://colab.research.google.com/github/Squirtle007/CUDA-Q/blob/main/colab/0.11.0/03_cudaq_solvers.ipynb\" target=\"_parent\"><img src=\"https://colab.research.google.com/assets/colab-badge.svg\" alt=\"Open In Colab\"/></a>"
      ]
    },
    {
      "cell_type": "code",
      "execution_count": null,
      "id": "lU8Imd2Gb4w4",
      "metadata": {
        "colab": {
          "base_uri": "https://localhost:8080/"
        },
        "id": "lU8Imd2Gb4w4",
        "outputId": "cb1802af-9f04-422c-c6a1-f53dc2e3ef01"
      },
      "outputs": [
        {
          "output_type": "stream",
          "name": "stdout",
          "text": [
            "  Installing build dependencies ... \u001b[?25l\u001b[?25hdone\n",
            "  Getting requirements to build wheel ... \u001b[?25l\u001b[?25hdone\n",
            "  Preparing metadata (pyproject.toml) ... \u001b[?25l\u001b[?25hdone\n",
            "\u001b[2K   \u001b[90m━━━━━━━━━━━━━━━━━━━━━━━━━━━━━━━━━━━━━━━━\u001b[0m \u001b[32m124.6/124.6 MB\u001b[0m \u001b[31m8.1 MB/s\u001b[0m eta \u001b[36m0:00:00\u001b[0m\n",
            "\u001b[2K   \u001b[90m━━━━━━━━━━━━━━━━━━━━━━━━━━━━━━━━━━━━━━━━\u001b[0m \u001b[32m6.0/6.0 MB\u001b[0m \u001b[31m111.1 MB/s\u001b[0m eta \u001b[36m0:00:00\u001b[0m\n",
            "\u001b[2K   \u001b[90m━━━━━━━━━━━━━━━━━━━━━━━━━━━━━━━━━━━━━━━━\u001b[0m \u001b[32m4.6/4.6 MB\u001b[0m \u001b[31m112.2 MB/s\u001b[0m eta \u001b[36m0:00:00\u001b[0m\n",
            "\u001b[2K   \u001b[90m━━━━━━━━━━━━━━━━━━━━━━━━━━━━━━━━━━━━━━━━\u001b[0m \u001b[32m70.2/70.2 MB\u001b[0m \u001b[31m10.9 MB/s\u001b[0m eta \u001b[36m0:00:00\u001b[0m\n",
            "\u001b[2K   \u001b[90m━━━━━━━━━━━━━━━━━━━━━━━━━━━━━━━━━━━━━━━━\u001b[0m \u001b[32m2.9/2.9 MB\u001b[0m \u001b[31m76.6 MB/s\u001b[0m eta \u001b[36m0:00:00\u001b[0m\n",
            "\u001b[2K   \u001b[90m━━━━━━━━━━━━━━━━━━━━━━━━━━━━━━━━━━━━━━━━\u001b[0m \u001b[32m202.3/202.3 MB\u001b[0m \u001b[31m6.8 MB/s\u001b[0m eta \u001b[36m0:00:00\u001b[0m\n",
            "\u001b[?25h  Building wheel for cudaq (pyproject.toml) ... \u001b[?25l\u001b[?25hdone\n",
            "\u001b[2K   \u001b[90m━━━━━━━━━━━━━━━━━━━━━━━━━━━━━━━━━━━━━━━━\u001b[0m \u001b[32m1.4/1.4 MB\u001b[0m \u001b[31m11.2 MB/s\u001b[0m eta \u001b[36m0:00:00\u001b[0m\n",
            "\u001b[2K   \u001b[90m━━━━━━━━━━━━━━━━━━━━━━━━━━━━━━━━━━━━━━━━\u001b[0m \u001b[32m51.2/51.2 MB\u001b[0m \u001b[31m14.5 MB/s\u001b[0m eta \u001b[36m0:00:00\u001b[0m\n",
            "\u001b[2K   \u001b[90m━━━━━━━━━━━━━━━━━━━━━━━━━━━━━━━━━━━━━━━━\u001b[0m \u001b[32m258.3/258.3 kB\u001b[0m \u001b[31m9.7 MB/s\u001b[0m eta \u001b[36m0:00:00\u001b[0m\n",
            "\u001b[2K   \u001b[90m━━━━━━━━━━━━━━━━━━━━━━━━━━━━━━━━━━━━━━━━\u001b[0m \u001b[32m1.7/1.7 MB\u001b[0m \u001b[31m56.9 MB/s\u001b[0m eta \u001b[36m0:00:00\u001b[0m\n",
            "\u001b[2K   \u001b[90m━━━━━━━━━━━━━━━━━━━━━━━━━━━━━━━━━━━━━━━━\u001b[0m \u001b[32m9.1/9.1 MB\u001b[0m \u001b[31m140.7 MB/s\u001b[0m eta \u001b[36m0:00:00\u001b[0m\n",
            "\u001b[2K   \u001b[90m━━━━━━━━━━━━━━━━━━━━━━━━━━━━━━━━━━━━━━━━\u001b[0m \u001b[32m9.0/9.0 MB\u001b[0m \u001b[31m128.3 MB/s\u001b[0m eta \u001b[36m0:00:00\u001b[0m\n",
            "\u001b[?25h\u001b[31mERROR: pip's dependency resolver does not currently take into account all the packages that are installed. This behaviour is the source of the following dependency conflicts.\n",
            "torch 2.6.0+cu124 requires nvidia-cublas-cu12==12.4.5.8; platform_system == \"Linux\" and platform_machine == \"x86_64\", but you have nvidia-cublas-cu12 12.5.3.2 which is incompatible.\n",
            "torch 2.6.0+cu124 requires nvidia-cuda-cupti-cu12==12.4.127; platform_system == \"Linux\" and platform_machine == \"x86_64\", but you have nvidia-cuda-cupti-cu12 12.5.82 which is incompatible.\n",
            "torch 2.6.0+cu124 requires nvidia-cuda-nvrtc-cu12==12.4.127; platform_system == \"Linux\" and platform_machine == \"x86_64\", but you have nvidia-cuda-nvrtc-cu12 12.5.82 which is incompatible.\n",
            "torch 2.6.0+cu124 requires nvidia-cuda-runtime-cu12==12.4.127; platform_system == \"Linux\" and platform_machine == \"x86_64\", but you have nvidia-cuda-runtime-cu12 12.5.82 which is incompatible.\n",
            "torch 2.6.0+cu124 requires nvidia-cudnn-cu12==9.1.0.70; platform_system == \"Linux\" and platform_machine == \"x86_64\", but you have nvidia-cudnn-cu12 9.3.0.75 which is incompatible.\n",
            "torch 2.6.0+cu124 requires nvidia-cufft-cu12==11.2.1.3; platform_system == \"Linux\" and platform_machine == \"x86_64\", but you have nvidia-cufft-cu12 11.2.3.61 which is incompatible.\n",
            "torch 2.6.0+cu124 requires nvidia-curand-cu12==10.3.5.147; platform_system == \"Linux\" and platform_machine == \"x86_64\", but you have nvidia-curand-cu12 10.3.6.82 which is incompatible.\n",
            "torch 2.6.0+cu124 requires nvidia-cusolver-cu12==11.6.1.9; platform_system == \"Linux\" and platform_machine == \"x86_64\", but you have nvidia-cusolver-cu12 11.6.3.83 which is incompatible.\n",
            "torch 2.6.0+cu124 requires nvidia-cusparse-cu12==12.3.1.170; platform_system == \"Linux\" and platform_machine == \"x86_64\", but you have nvidia-cusparse-cu12 12.5.1.3 which is incompatible.\n",
            "torch 2.6.0+cu124 requires nvidia-nvjitlink-cu12==12.4.127; platform_system == \"Linux\" and platform_machine == \"x86_64\", but you have nvidia-nvjitlink-cu12 12.5.82 which is incompatible.\u001b[0m\u001b[31m\n",
            "\u001b[0m"
          ]
        }
      ],
      "source": [
        "!pip install cudaq==0.11.0 -q\n",
        "!pip install cudaq-solvers==0.3.0 -q\n",
        "!pip install pyqubo==1.5.0 networkx==3.4.2 -q\n",
        "# Remember to restart the kernel after installing the packages"
      ]
    },
    {
      "cell_type": "markdown",
      "id": "vl-2amHIREsx",
      "metadata": {
        "id": "vl-2amHIREsx"
      },
      "source": [
        "# **CUDA-Q Solvers**\n",
        "\n",
        "## QAOA\n",
        "The **Quantum Approximate Optimization Algorithm (QAOA)** is a variational quantum algorithm designed to solve combinatorial optimization problems. It operates by alternating between two quantum operators:  \n",
        "1. **Cost Hamiltonian** – Encodes the problem constraints.  \n",
        "2. **Mixer Hamiltonian** – Introduces transitions between states.  \n",
        "\n",
        "By optimizing parameters in these operations, QAOA aims to find high-quality approximate solutions to problems like **Max-Cut** and **QUBO** (Quadratic Unconstrained Binary Optimization) on near-term quantum devices. To learn more details, [here](https://github.com/NVIDIA/cuda-q-academic/blob/main/qaoa-for-max-cut/01_Max-Cut-with-QAOA.ipynb) is a well-structured tutorial.\n",
        "\n",
        "---\n",
        "\n",
        "## Max-Cut\n",
        "Let's explore the Max-Cut problem, with its Hamiltonian expressed using Pauli operators as follows:\n",
        "\n",
        "$$\n",
        "H = 1/2\\sum_{(i, j) \\in E} w_{ij}(I-Z_i Z_j)\n",
        "$$  \n",
        "\n",
        "where:\n",
        "- $Z_i$ represents the Pauli-Z operator for qubit (node) $i$.\n",
        "- Each edge $(i, j)$ contributes a term $w_{ij}(I-Z_i Z_j)/2$,  \n",
        "- If nodes $i$ and $j$ are assigned to different groups, they contribute a cut of weight $w_{ij}$; otherwise, the contribution is $0$.\n",
        "\n",
        "First, we define the binary variables and objective based on the graph structure using PyQUBO:"
      ]
    },
    {
      "cell_type": "code",
      "execution_count": null,
      "id": "ed5b672a-2332-4c9b-aad2-e6c7a840e6ed",
      "metadata": {
        "colab": {
          "base_uri": "https://localhost:8080/",
          "height": 516
        },
        "id": "ed5b672a-2332-4c9b-aad2-e6c7a840e6ed",
        "outputId": "23748880-e606-44aa-a34a-226f8900d2bb"
      },
      "outputs": [
        {
          "output_type": "display_data",
          "data": {
            "text/plain": [
              "<Figure size 640x480 with 1 Axes>"
            ],
            "image/png": "[encoded data removed]"
          },
          "metadata": {}
        }
      ],
      "source": [
        "import networkx as nx\n",
        "\n",
        "\n",
        "# Create weighted graph\n",
        "G = nx.Graph()\n",
        "G.add_weighted_edges_from([(0, 1, 1.5), (1, 2, 2.0), (1, 4, 1.0), (2, 3, 1.0), (3, 4, 1.0), (4, 0, 1.0)])\n",
        "nx.draw(G, with_labels=True, alpha=0.8, node_size=500, node_color='#76B900')"
      ]
    },
    {
      "cell_type": "code",
      "execution_count": null,
      "id": "fs3KsmtWyQn5",
      "metadata": {
        "id": "fs3KsmtWyQn5"
      },
      "outputs": [],
      "source": [
        "from pyqubo import Binary\n",
        "\n",
        "\n",
        "\"\"\"Modify this code block to address other combinatorial optimization problems formulated using PyQUBO\"\"\"\n",
        "\n",
        "# Define binary variables (0, 1) for each node\n",
        "variables = {i: Binary(f\"x_{i}\") for i in G.nodes}\n",
        "\n",
        "# Objective: maximize the sum over cut edges (multiplied by -1 for minimization):\n",
        "objective = sum((-1)*G[i][j]['weight']*(variables[i] + variables[j] - 2 * variables[i] * variables[j]) for i, j in G.edges)\n",
        "\n",
        "# Compile model\n",
        "model = objective.compile()"
      ]
    },
    {
      "cell_type": "markdown",
      "id": "8IdY7ZjUSRhj",
      "metadata": {
        "id": "8IdY7ZjUSRhj"
      },
      "source": [
        "Note that the QUBO formulation from PyQUBO is based on the 0 and 1 basis. Here, we aim to transform it into the -1 and 1 basis and construct the Hamiltonian with Ising formulation, making it compatible for use with CUDA-Q:"
      ]
    },
    {
      "cell_type": "code",
      "execution_count": null,
      "id": "wHSUboJCdIbv",
      "metadata": {
        "colab": {
          "base_uri": "https://localhost:8080/"
        },
        "id": "wHSUboJCdIbv",
        "outputId": "31d10322-d2ae-4659-a9fc-dbbde2a8403a"
      },
      "outputs": [
        {
          "output_type": "stream",
          "name": "stdout",
          "text": [
            "Number of qubits: 5\n",
            "Flattened coefficient matrix: [0.   0.75 0.   0.   0.5  0.75 0.   1.   0.   0.5  0.   1.   0.   0.5\n",
            " 0.   0.   0.   0.5  0.   0.5  0.5  0.5  0.   0.5  0.  ]\n",
            "Hamiltonian: (-3.75+0i) + (0.5+0i) * Z3Z4 + (0.5+0i) * Z2Z3 + (0.5+0i) * Z1Z4 + (1+0i) * Z1Z2 + (0.5+0i) * Z0Z4 + (0.75+0i) * Z0Z1\n"
          ]
        }
      ],
      "source": [
        "import cudaq\n",
        "from cudaq import spin\n",
        "import numpy as np\n",
        "from typing import List\n",
        "\n",
        "\n",
        "def to_cudaq(model):\n",
        "    \"\"\"\n",
        "    Convert a binary optimization model to QAOA inputs compatible with CUDA-Q.\n",
        "\n",
        "    This function extracts the linear and quadratic coefficients from the model's\n",
        "    Ising formulation, maps variables to qubit indices, and constructs:\n",
        "      - Number of qubits\n",
        "      - Flattened coefficient matrix representing both linear (Z) and quadratic (ZZ) terms\n",
        "      - CUDA-Q Hamiltonian composed of corresponding Pauli Z operators\n",
        "    \"\"\"\n",
        "\n",
        "    num_qubits = len(model.variables)\n",
        "    h, J, offset = model.to_ising()\n",
        "\n",
        "    # Map variables to qubit indices\n",
        "    vars_set = set(h) | {v for pair in J for v in pair}\n",
        "    var_to_index = {var: idx for idx, var in enumerate(sorted(vars_set))}\n",
        "\n",
        "    # Initialization\n",
        "    coeff_matrix = np.zeros((num_qubits, num_qubits), dtype=float)\n",
        "    H = 0\n",
        "\n",
        "    # Fill in linear terms (diagonal)\n",
        "    for var, weight in h.items():\n",
        "        idx = var_to_index[var]\n",
        "        coeff_matrix[idx, idx] = float(weight)\n",
        "        H += weight * spin.z(idx)\n",
        "\n",
        "    # Fill in quadratic terms (off-diagonal)\n",
        "    for (v1, v2), weight in J.items():\n",
        "        i, j = var_to_index[v1], var_to_index[v2]\n",
        "        coeff_matrix[i, j] = float(weight)\n",
        "        coeff_matrix[j, i] = float(weight)  # symmetric\n",
        "        H += weight * spin.z(i) * spin.z(j)\n",
        "\n",
        "    H += offset\n",
        "    flattened_coeff = coeff_matrix.flatten()\n",
        "\n",
        "    return num_qubits, flattened_coeff, H\n",
        "\n",
        "\n",
        "num_qubits, flattened_coeff, H = to_cudaq(model)\n",
        "print(\"Number of qubits:\", num_qubits)\n",
        "print(\"Flattened coefficient matrix:\", flattened_coeff)\n",
        "print(\"Hamiltonian:\", H)"
      ]
    },
    {
      "cell_type": "markdown",
      "id": "JcpeXZqrU5O_",
      "metadata": {
        "id": "JcpeXZqrU5O_"
      },
      "source": [
        "The `to_cudaq` function allows for the conversion of any variables and objectives pre-defined by `pyqubo` into CUDA-Q compatible primitives. You can utilize this transformation for other problems you wish to solve."
      ]
    },
    {
      "cell_type": "markdown",
      "id": "XqHgJK46CzCX",
      "metadata": {
        "id": "XqHgJK46CzCX"
      },
      "source": [
        "## **QAOA using [cudaq-solvers.vqe](https://nvidia.github.io/cudaqx/api/solvers/python_api.html#cudaq_solvers.vqe)**"
      ]
    },
    {
      "cell_type": "code",
      "execution_count": null,
      "id": "QVJo_-TGGrMf",
      "metadata": {
        "colab": {
          "base_uri": "https://localhost:8080/"
        },
        "id": "QVJo_-TGGrMf",
        "outputId": "b247d7d3-9fbd-4dba-9452-ea1e2222c4be"
      },
      "outputs": [
        {
          "output_type": "stream",
          "name": "stdout",
          "text": [
            "Initial parameters =  [-0.09853596  0.35399019  0.18220762  0.07748619]\n",
            "     ╭───╮                                                   ╭────────────╮»\n",
            "q0 : ┤ h ├──●───────────────────●────●────────────────────●──┤ rx(0.3644) ├»\n",
            "     ├───┤╭─┴─╮╭─────────────╮╭─┴─╮  │                    │  ╰────────────╯»\n",
            "q1 : ┤ h ├┤ x ├┤ rz(-0.1478) ├┤ x ├──┼────────────────────┼────────●───────»\n",
            "     ├───┤╰───╯╰─────────────╯╰───╯  │                    │      ╭─┴─╮     »\n",
            "q2 : ┤ h ├───────────────────────────┼────────────────────┼──────┤ x ├─────»\n",
            "     ├───┤                           │                    │      ╰───╯     »\n",
            "q3 : ┤ h ├───────────────────────────┼────────────────────┼────────────────»\n",
            "     ├───┤                         ╭─┴─╮╭──────────────╮╭─┴─╮              »\n",
            "q4 : ┤ h ├─────────────────────────┤ x ├┤ rz(-0.09854) ├┤ x ├──────────────»\n",
            "     ╰───╯                         ╰───╯╰──────────────╯╰───╯              »\n",
            "\n",
            "################################################################################\n",
            "\n",
            "                                                                            »\n",
            "───────────────────────────────────────────────────────────────────●────────»\n",
            "                                              ╭────────────╮     ╭─┴─╮      »\n",
            "─────────────────●────●────────────────────●──┤ rx(0.3644) ├─────┤ x ├──────»\n",
            "╭─────────────╮╭─┴─╮  │                    │  ╰────────────╯     ╰───╯      »\n",
            "┤ rz(-0.1971) ├┤ x ├──┼────────────────────┼────────●───────────────────────»\n",
            "╰─────────────╯╰───╯  │                    │      ╭─┴─╮     ╭──────────────╮»\n",
            "──────────────────────┼────────────────────┼──────┤ x ├─────┤ rz(-0.09854) ├»\n",
            "                    ╭─┴─╮╭──────────────╮╭─┴─╮    ╰───╯     ╰──────────────╯»\n",
            "────────────────────┤ x ├┤ rz(-0.09854) ├┤ x ├──────────────────────────────»\n",
            "                    ╰───╯╰──────────────╯╰───╯                              »\n",
            "\n",
            "################################################################################\n",
            "\n",
            "                                                                   »\n",
            "───────────────────●────────────────────────────────────────────●──»\n",
            "╭───────────╮    ╭─┴─╮                                          │  »\n",
            "┤ rz(0.531) ├────┤ x ├──────────────────────────────────────────┼──»\n",
            "╰───────────╯╭───┴───┴────╮                                     │  »\n",
            "──────●──────┤ rx(0.3644) ├─────────────────────────────────────┼──»\n",
            "    ╭─┴─╮    ╰────────────╯                     ╭────────────╮  │  »\n",
            "────┤ x ├──────────●─────────────────────────●──┤ rx(0.3644) ├──┼──»\n",
            "    ╰───╯        ╭─┴─╮     ╭──────────────╮╭─┴─╮├────────────┤╭─┴─╮»\n",
            "─────────────────┤ x ├─────┤ rz(-0.09854) ├┤ x ├┤ rx(0.3644) ├┤ x ├»\n",
            "                 ╰───╯     ╰──────────────╯╰───╯╰────────────╯╰───╯»\n",
            "\n",
            "################################################################################\n",
            "\n",
            "                  ╭───────────╮                                         »\n",
            "───────────────●──┤ rx(0.155) ├─────────────────────────────────────────»\n",
            "               │  ╰───────────╯                                         »\n",
            "───────────────┼────────●─────────────────────●────●─────────────────●──»\n",
            "               │      ╭─┴─╮    ╭───────────╮╭─┴─╮  │                 │  »\n",
            "───────────────┼──────┤ x ├────┤ rz(0.708) ├┤ x ├──┼─────────────────┼──»\n",
            "               │      ╰───╯    ╰───────────╯╰───╯  │                 │  »\n",
            "───────────────┼───────────────────────────────────┼─────────────────┼──»\n",
            "╭───────────╮╭─┴─╮                               ╭─┴─╮╭───────────╮╭─┴─╮»\n",
            "┤ rz(0.354) ├┤ x ├───────────────────────────────┤ x ├┤ rz(0.354) ├┤ x ├»\n",
            "╰───────────╯╰───╯                               ╰───╯╰───────────╯╰───╯»\n",
            "\n",
            "################################################################################\n",
            "\n",
            "                                                                           \n",
            "───────────────────────────────────────────────────────────────────────────\n",
            "╭───────────╮                                                              \n",
            "┤ rx(0.155) ├──────────────────────────────────────────────────────────────\n",
            "╰───────────╯                  ╭───────────╮                               \n",
            "──────●─────────────────────●──┤ rx(0.155) ├───────────────────────────────\n",
            "    ╭─┴─╮    ╭───────────╮╭─┴─╮╰───────────╯                  ╭───────────╮\n",
            "────┤ x ├────┤ rz(0.354) ├┤ x ├──────●─────────────────────●──┤ rx(0.155) ├\n",
            "    ╰───╯    ╰───────────╯╰───╯    ╭─┴─╮    ╭───────────╮╭─┴─╮├───────────┤\n",
            "───────────────────────────────────┤ x ├────┤ rz(0.354) ├┤ x ├┤ rx(0.155) ├\n",
            "                                   ╰───╯    ╰───────────╯╰───╯╰───────────╯\n",
            "\n"
          ]
        }
      ],
      "source": [
        "from scipy.optimize import minimize\n",
        "import numpy as np\n",
        "\n",
        "\n",
        "# Parameters of QAOA\n",
        "num_layers = 2\n",
        "num_params = 2 * num_layers\n",
        "\n",
        "@cudaq.kernel\n",
        "def kernel_qaoa(thetas: List[float]):\n",
        "    \"\"\"\n",
        "    QAOA ansatz using a flattened coefficient matrix for linear and quadratic terms.\n",
        "    \"\"\"\n",
        "    qubits = cudaq.qvector(num_qubits)\n",
        "    h(qubits)\n",
        "\n",
        "    for layer in range(num_layers):\n",
        "        gamma = thetas[layer]\n",
        "        beta = thetas[layer + num_layers]\n",
        "\n",
        "        # Apply problem unitary\n",
        "        for idx, coeff in enumerate(flattened_coeff):\n",
        "            if coeff != 0:\n",
        "                i = idx // num_qubits  # Row index\n",
        "                j = idx % num_qubits   # Column index\n",
        "\n",
        "                if i == j:\n",
        "                    # Linear term (diagonal)\n",
        "                    rz(2.0 * coeff * gamma, qubits[i])\n",
        "                elif i < j:\n",
        "                    # Quadratic term (off-diagonal)\n",
        "                    x.ctrl(qubits[i], qubits[j])\n",
        "                    rz(2.0 * coeff * gamma, qubits[j])\n",
        "                    x.ctrl(qubits[i], qubits[j])\n",
        "\n",
        "        # Apply mixer unitary\n",
        "        for i in range(num_qubits):\n",
        "            rx(2.0 * beta, qubits[i])\n",
        "\n",
        "\n",
        "\n",
        "# Specify the initial parameters and visualize the kernel\n",
        "np.random.seed(42)\n",
        "initial_parameters = np.random.uniform(-np.pi / 8.0, np.pi / 8.0, num_params)\n",
        "print(\"Initial parameters = \", initial_parameters)\n",
        "print(cudaq.draw(kernel_qaoa, initial_parameters))"
      ]
    },
    {
      "cell_type": "code",
      "execution_count": null,
      "id": "bghGdZ_W5QT2",
      "metadata": {
        "colab": {
          "base_uri": "https://localhost:8080/"
        },
        "id": "bghGdZ_W5QT2",
        "outputId": "661f5201-bae1-43f3-bb26-30f17866e9ff"
      },
      "outputs": [
        {
          "output_type": "stream",
          "name": "stderr",
          "text": [
            "/tmp/ipython-input-6-2453152393.py:7: DeprecationWarning: scipy.optimize: The `disp` and `iprint` options of the L-BFGS-B solver are deprecated and will be removed in SciPy 1.18.0.\n",
            "  expectation, optimized_parameters, _ = solvers.vqe(kernel_qaoa,\n"
          ]
        },
        {
          "output_type": "stream",
          "name": "stdout",
          "text": [
            "Final expectation value  = -5.419391016228474\n"
          ]
        }
      ],
      "source": [
        "import cudaq_solvers as solvers\n",
        "from scipy.optimize import minimize\n",
        "\n",
        "\n",
        "# Optimize through cudaq-solver\n",
        "cudaq.set_target('nvidia')  # Simulation on GPU backend\n",
        "expectation, optimized_parameters, _ = solvers.vqe(kernel_qaoa,\n",
        "                                              H,\n",
        "                                              initial_parameters,\n",
        "                                              optimizer=minimize,\n",
        "                                              method='L-BFGS-B',\n",
        "                                              jac='3-point',\n",
        "                                              tol=1e-5,\n",
        "                                              options={'disp': True})\n",
        "\n",
        "print('Final expectation value  =', expectation)"
      ]
    },
    {
      "cell_type": "code",
      "execution_count": null,
      "id": "lst2wWgV0Wlt",
      "metadata": {
        "colab": {
          "base_uri": "https://localhost:8080/"
        },
        "id": "lst2wWgV0Wlt",
        "outputId": "f922fa2f-e8ee-4e95-8271-cef639aadc82"
      },
      "outputs": [
        {
          "output_type": "stream",
          "name": "stdout",
          "text": [
            "Best result: {\"Binary('x_0')\": 0, \"Binary('x_1')\": 1, \"Binary('x_2')\": 0, \"Binary('x_3')\": 1, \"Binary('x_4')\": 0}\n"
          ]
        }
      ],
      "source": [
        "def to_variables(variables, kernel_qaoa, optimized_parameters, method=\"statevector\"):\n",
        "    \"\"\"\n",
        "    Return the result in the format of the predefined binary variables.\n",
        "    \"\"\"\n",
        "\n",
        "    if method == \"sampling\":\n",
        "        # Sample the circuit and find the most probable bitstring\n",
        "        counts = cudaq.sample(kernel_qaoa, optimized_parameters, shots_count=8192)\n",
        "        most_probable_bits = counts.most_probable()\n",
        "\n",
        "    if method == \"statevector\":\n",
        "        # Compute the state vector and extract the most probable bitstring\n",
        "        states = cudaq.get_state(kernel_qaoa, optimized_parameters)\n",
        "        bits = [f\"{format(i, f'0{states.num_qubits()}b')}\" for i in range(2**states.num_qubits())]\n",
        "        probs = np.abs(states.amplitudes([f\"{b}\" for b in bits]))**2\n",
        "        most_probable_bits = bits[np.argmax(probs)]\n",
        "\n",
        "    best_result = {str(variables[i]): int(bit) for i, bit in enumerate(most_probable_bits)}\n",
        "\n",
        "    return best_result\n",
        "\n",
        "\n",
        "best_result = to_variables(variables, kernel_qaoa, optimized_parameters, method=\"statevector\")\n",
        "print(\"Best result:\", best_result)"
      ]
    },
    {
      "cell_type": "markdown",
      "id": "2xu6AC1QDPjn",
      "metadata": {
        "id": "2xu6AC1QDPjn"
      },
      "source": [
        "## **QAOA using cudaq-solvers.qaoa**\n",
        "Use a simpler and more intuitive approach with the built-in `cudaq-solvers.qaoa` API."
      ]
    },
    {
      "cell_type": "code",
      "execution_count": null,
      "id": "03e30c57-3367-49a8-b0f3-b2481d79edd6",
      "metadata": {
        "colab": {
          "base_uri": "https://localhost:8080/"
        },
        "id": "03e30c57-3367-49a8-b0f3-b2481d79edd6",
        "outputId": "99963b7a-f343-4b71-d7ca-aa36222448dc"
      },
      "outputs": [
        {
          "output_type": "stream",
          "name": "stdout",
          "text": [
            "Optimal energy:  -6.49993092905297\n",
            "Sampled states:  { 01010:521 10101:479 }\n",
            "\n",
            "Optimal Configuration:  01010\n"
          ]
        }
      ],
      "source": [
        "import cudaq_solvers as solvers\n",
        "\n",
        "\n",
        "# Get the number of parameters we'll need\n",
        "num_layers = 2\n",
        "parameter_count = solvers.get_num_qaoa_parameters(H,\n",
        "                                                  num_layers,\n",
        "                                                  full_parameterization=True)\n",
        "\n",
        "# Create the initial parameters to begin optimization\n",
        "initial_parameters = np.random.uniform(-np.pi / 8, np.pi / 8, parameter_count)\n",
        "\n",
        "# Set up the optimizer for convergence; supported cudaq-x optimizers include 'cobyla' and 'lbfgs'\n",
        "optimizer = 'cobyla'\n",
        "\n",
        "# Run QAOA, specify full parameterization using an optimization parameter for\n",
        "# every term in the problem Hamiltonian and the mixer hamiltonian.\n",
        "opt_value, opt_params, opt_config = solvers.qaoa(H,\n",
        "                                                 num_layers,\n",
        "                                                 initial_parameters,\n",
        "                                                 optimizer=optimizer,\n",
        "                                                 full_parameterization=True,\n",
        "                                                 )\n",
        "\n",
        "# Print the results\n",
        "print('Optimal energy: ', opt_value)\n",
        "print('Sampled states: ', opt_config)\n",
        "print('Optimal Configuration: ', opt_config.most_probable())"
      ]
    }
  ],
  "metadata": {
    "colab": {
      "provenance": [],
      "gpuType": "T4",
      "include_colab_link": true
    },
    "kernelspec": {
      "display_name": "Python 3",
      "name": "python3"
    },
    "language_info": {
      "codemirror_mode": {
        "name": "ipython",
        "version": 3
      },
      "file_extension": ".py",
      "mimetype": "text/x-python",
      "name": "python",
      "nbconvert_exporter": "python",
      "pygments_lexer": "ipython3",
      "version": "3.10.12"
    },
    "accelerator": "GPU"
  },
  "nbformat": 4,
  "nbformat_minor": 5
}