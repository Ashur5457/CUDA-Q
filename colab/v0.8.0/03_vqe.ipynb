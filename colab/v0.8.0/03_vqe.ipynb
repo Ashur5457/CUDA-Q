{
  "cells": [
    {
      "cell_type": "markdown",
      "metadata": {
        "id": "view-in-github",
        "colab_type": "text"
      },
      "source": [
        "<a href=\"https://colab.research.google.com/github/Squirtle007/CUDA-Q/blob/main/colab/v0.8.0/03_vqe.ipynb\" target=\"_parent\"><img src=\"https://colab.research.google.com/assets/colab-badge.svg\" alt=\"Open In Colab\"/></a>"
      ]
    },
    {
      "cell_type": "markdown",
      "metadata": {
        "id": "Ar02CoRdfQau"
      },
      "source": [
        "**Set up CUDA-Q Environment**"
      ]
    },
    {
      "cell_type": "code",
      "execution_count": 1,
      "metadata": {
        "colab": {
          "base_uri": "https://localhost:8080/"
        },
        "id": "2JHNaUJjgL2Y",
        "outputId": "6fee08f2-9c35-417a-fbfd-755110e1fc65"
      },
      "outputs": [
        {
          "output_type": "stream",
          "name": "stdout",
          "text": [
            "Collecting cuda-quantum==0.8.0\n",
            "  Downloading cuda_quantum-0.8.0-cp310-cp310-manylinux_2_28_x86_64.whl.metadata (7.6 kB)\n",
            "Collecting astpretty~=3.0 (from cuda-quantum==0.8.0)\n",
            "  Downloading astpretty-3.0.0-py2.py3-none-any.whl.metadata (5.5 kB)\n",
            "Collecting cuquantum-cu11~=24.03 (from cuda-quantum==0.8.0)\n",
            "  Downloading cuquantum_cu11-24.8.0-py3-none-manylinux2014_x86_64.whl.metadata (2.7 kB)\n",
            "Collecting graphlib-backport>=1.0 (from cuda-quantum==0.8.0)\n",
            "  Downloading graphlib_backport-1.1.0-py3-none-any.whl.metadata (4.4 kB)\n",
            "Requirement already satisfied: numpy>=1.24 in /usr/local/lib/python3.10/dist-packages (from cuda-quantum==0.8.0) (1.26.4)\n",
            "Requirement already satisfied: requests>=2.31 in /usr/local/lib/python3.10/dist-packages (from cuda-quantum==0.8.0) (2.32.3)\n",
            "Collecting nvidia-cublas-cu11==11.11.3.6 (from cuda-quantum==0.8.0)\n",
            "  Downloading nvidia_cublas_cu11-11.11.3.6-py3-none-manylinux2014_x86_64.whl.metadata (1.5 kB)\n",
            "Collecting nvidia-cuda-runtime-cu11==11.8.89 (from cuda-quantum==0.8.0)\n",
            "  Downloading nvidia_cuda_runtime_cu11-11.8.89-py3-none-manylinux2014_x86_64.whl.metadata (1.5 kB)\n",
            "Collecting nvidia-cusolver-cu11==11.4.1.48 (from cuda-quantum==0.8.0)\n",
            "  Downloading nvidia_cusolver_cu11-11.4.1.48-py3-none-manylinux2014_x86_64.whl.metadata (1.6 kB)\n",
            "Collecting custatevec-cu11==1.6.0.post1 (from cuquantum-cu11~=24.03->cuda-quantum==0.8.0)\n",
            "  Downloading custatevec_cu11-1.6.0.post1-py3-none-manylinux2014_x86_64.whl.metadata (2.1 kB)\n",
            "Collecting cutensornet-cu11==2.5.0 (from cuquantum-cu11~=24.03->cuda-quantum==0.8.0)\n",
            "  Downloading cutensornet_cu11-2.5.0-py3-none-manylinux2014_x86_64.whl.metadata (2.0 kB)\n",
            "Collecting cutensor-cu11<3,>=2.0.1 (from cutensornet-cu11==2.5.0->cuquantum-cu11~=24.03->cuda-quantum==0.8.0)\n",
            "  Downloading cutensor_cu11-2.0.2-py3-none-manylinux2014_x86_64.whl.metadata (2.1 kB)\n",
            "Requirement already satisfied: charset-normalizer<4,>=2 in /usr/local/lib/python3.10/dist-packages (from requests>=2.31->cuda-quantum==0.8.0) (3.4.0)\n",
            "Requirement already satisfied: idna<4,>=2.5 in /usr/local/lib/python3.10/dist-packages (from requests>=2.31->cuda-quantum==0.8.0) (3.10)\n",
            "Requirement already satisfied: urllib3<3,>=1.21.1 in /usr/local/lib/python3.10/dist-packages (from requests>=2.31->cuda-quantum==0.8.0) (2.2.3)\n",
            "Requirement already satisfied: certifi>=2017.4.17 in /usr/local/lib/python3.10/dist-packages (from requests>=2.31->cuda-quantum==0.8.0) (2024.8.30)\n",
            "Downloading cuda_quantum-0.8.0-cp310-cp310-manylinux_2_28_x86_64.whl (118.7 MB)\n",
            "\u001b[2K   \u001b[90m━━━━━━━━━━━━━━━━━━━━━━━━━━━━━━━━━━━━━━━━\u001b[0m \u001b[32m118.7/118.7 MB\u001b[0m \u001b[31m5.7 MB/s\u001b[0m eta \u001b[36m0:00:00\u001b[0m\n",
            "\u001b[?25hDownloading nvidia_cublas_cu11-11.11.3.6-py3-none-manylinux2014_x86_64.whl (417.9 MB)\n",
            "\u001b[2K   \u001b[90m━━━━━━━━━━━━━━━━━━━━━━━━━━━━━━━━━━━━━━━━\u001b[0m \u001b[32m417.9/417.9 MB\u001b[0m \u001b[31m3.0 MB/s\u001b[0m eta \u001b[36m0:00:00\u001b[0m\n",
            "\u001b[?25hDownloading nvidia_cuda_runtime_cu11-11.8.89-py3-none-manylinux2014_x86_64.whl (875 kB)\n",
            "\u001b[2K   \u001b[90m━━━━━━━━━━━━━━━━━━━━━━━━━━━━━━━━━━━━━━━━\u001b[0m \u001b[32m875.6/875.6 kB\u001b[0m \u001b[31m13.8 MB/s\u001b[0m eta \u001b[36m0:00:00\u001b[0m\n",
            "\u001b[?25hDownloading nvidia_cusolver_cu11-11.4.1.48-py3-none-manylinux2014_x86_64.whl (128.2 MB)\n",
            "\u001b[2K   \u001b[90m━━━━━━━━━━━━━━━━━━━━━━━━━━━━━━━━━━━━━━━━\u001b[0m \u001b[32m128.2/128.2 MB\u001b[0m \u001b[31m8.3 MB/s\u001b[0m eta \u001b[36m0:00:00\u001b[0m\n",
            "\u001b[?25hDownloading astpretty-3.0.0-py2.py3-none-any.whl (4.9 kB)\n",
            "Downloading cuquantum_cu11-24.8.0-py3-none-manylinux2014_x86_64.whl (7.0 kB)\n",
            "Downloading custatevec_cu11-1.6.0.post1-py3-none-manylinux2014_x86_64.whl (38.6 MB)\n",
            "\u001b[2K   \u001b[90m━━━━━━━━━━━━━━━━━━━━━━━━━━━━━━━━━━━━━━━━\u001b[0m \u001b[32m38.6/38.6 MB\u001b[0m \u001b[31m18.1 MB/s\u001b[0m eta \u001b[36m0:00:00\u001b[0m\n",
            "\u001b[?25hDownloading cutensornet_cu11-2.5.0-py3-none-manylinux2014_x86_64.whl (2.2 MB)\n",
            "\u001b[2K   \u001b[90m━━━━━━━━━━━━━━━━━━━━━━━━━━━━━━━━━━━━━━━━\u001b[0m \u001b[32m2.2/2.2 MB\u001b[0m \u001b[31m47.5 MB/s\u001b[0m eta \u001b[36m0:00:00\u001b[0m\n",
            "\u001b[?25hDownloading graphlib_backport-1.1.0-py3-none-any.whl (7.1 kB)\n",
            "Downloading cutensor_cu11-2.0.2-py3-none-manylinux2014_x86_64.whl (148.8 MB)\n",
            "\u001b[2K   \u001b[90m━━━━━━━━━━━━━━━━━━━━━━━━━━━━━━━━━━━━━━━━\u001b[0m \u001b[32m148.8/148.8 MB\u001b[0m \u001b[31m5.9 MB/s\u001b[0m eta \u001b[36m0:00:00\u001b[0m\n",
            "\u001b[?25hInstalling collected packages: cutensor-cu11, custatevec-cu11, nvidia-cuda-runtime-cu11, nvidia-cublas-cu11, graphlib-backport, cutensornet-cu11, astpretty, nvidia-cusolver-cu11, cuquantum-cu11, cuda-quantum\n",
            "Successfully installed astpretty-3.0.0 cuda-quantum-0.8.0 cuquantum-cu11-24.8.0 custatevec-cu11-1.6.0.post1 cutensor-cu11-2.0.2 cutensornet-cu11-2.5.0 graphlib-backport-1.1.0 nvidia-cublas-cu11-11.11.3.6 nvidia-cuda-runtime-cu11-11.8.89 nvidia-cusolver-cu11-11.4.1.48\n"
          ]
        }
      ],
      "source": [
        "#The following commands are used to set up the environment in Colab\n",
        "%pip install cuda-quantum==0.8.0"
      ]
    },
    {
      "cell_type": "markdown",
      "source": [
        "# Cost Minimization\n",
        "\n",
        "Below, we start with a basic example of a hybrid variational algorithm that involves flipping the Bloch vector of a qubit from the $|{0}\\rangle$ state to the $|{1}\\rangle$ state. First, we import the relevant packages and set our backend to simulate our workflow on NVIDIA GPUs."
      ],
      "metadata": {
        "id": "JEiYtVeq-Mk6"
      }
    },
    {
      "cell_type": "code",
      "execution_count": 2,
      "metadata": {
        "id": "pW2noQygfPTk"
      },
      "outputs": [],
      "source": [
        "import cudaq\n",
        "from typing import List\n",
        "\n",
        "cudaq.set_target(\"nvidia\")"
      ]
    },
    {
      "cell_type": "code",
      "execution_count": 3,
      "metadata": {
        "colab": {
          "base_uri": "https://localhost:8080/"
        },
        "id": "X7nPDpcZfWml",
        "outputId": "23414c3a-83dc-435c-c9b0-0b8967601844"
      },
      "outputs": [
        {
          "output_type": "stream",
          "name": "stdout",
          "text": [
            "     ╭───────╮╭───────╮\n",
            "q0 : ┤ rx(0) ├┤ ry(0) ├\n",
            "     ╰───────╯╰───────╯\n",
            "\n"
          ]
        }
      ],
      "source": [
        "# Initialize a kernel/ ansatz and variational parameters.\n",
        "@cudaq.kernel\n",
        "def kernel(angles: List[float]):\n",
        "    # Allocate a qubit that is initialised to the |0> state.\n",
        "    qubit = cudaq.qubit()\n",
        "    # Define gates and the qubits they act upon.\n",
        "    rx(angles[0], qubit)\n",
        "    ry(angles[1], qubit)\n",
        "\n",
        "\n",
        "# Our hamiltonian will be the Z expectation value of our qubit.\n",
        "hamiltonian = cudaq.spin.z(0)\n",
        "\n",
        "# Initial gate parameters which intialize the qubit in the zero state\n",
        "initial_parameters = [0, 0]\n",
        "\n",
        "print(cudaq.draw(kernel, initial_parameters))"
      ]
    },
    {
      "cell_type": "markdown",
      "source": [
        "We build our cost function such that its minimal value corresponds to the qubit being in the $|{1}\\rangle$ state. The `observe` call below allows us to simulate our state vector $|{\\psi}\\rangle$ and calculate\n",
        "\n",
        "$$ \\langle \\psi | Z | \\psi \\rangle. $$"
      ],
      "metadata": {
        "id": "sjfYLWqh-SBh"
      }
    },
    {
      "cell_type": "code",
      "execution_count": 4,
      "metadata": {
        "id": "hU23Fu_GfaC7"
      },
      "outputs": [],
      "source": [
        "cost_values = []\n",
        "\n",
        "\n",
        "def cost(parameters):\n",
        "    \"\"\"Returns the expectation value as our cost.\"\"\"\n",
        "    expectation_value = cudaq.observe(kernel, hamiltonian,\n",
        "                                      parameters).expectation()\n",
        "    cost_values.append(expectation_value)\n",
        "    return expectation_value"
      ]
    },
    {
      "cell_type": "code",
      "source": [
        "# We see that the initial value of our cost function is one, demonstrating that our qubit is in the zero state\n",
        "initial_cost_value = cost(initial_parameters)\n",
        "print(initial_cost_value)"
      ],
      "metadata": {
        "id": "gzAj_XfDa869",
        "outputId": "94b5db10-f9b2-4aab-e757-615987cfa22e",
        "colab": {
          "base_uri": "https://localhost:8080/"
        }
      },
      "execution_count": 5,
      "outputs": [
        {
          "output_type": "stream",
          "name": "stdout",
          "text": [
            "1.0\n"
          ]
        }
      ]
    },
    {
      "cell_type": "markdown",
      "source": [
        "Below we use our built-in optimization suite to minimize the cost function. We will be using the gradient-free COBYLA alogrithm."
      ],
      "metadata": {
        "id": "W-LtHvZva_hP"
      }
    },
    {
      "cell_type": "code",
      "execution_count": 6,
      "metadata": {
        "id": "Abq7lKT4fbNN"
      },
      "outputs": [],
      "source": [
        "# Define a CUDA-Q optimizer.\n",
        "optimizer = cudaq.optimizers.COBYLA()\n",
        "optimizer.initial_parameters = initial_parameters\n",
        "\n",
        "result = optimizer.optimize(dimensions=2, function=cost)"
      ]
    },
    {
      "cell_type": "code",
      "execution_count": 7,
      "metadata": {
        "colab": {
          "base_uri": "https://localhost:8080/",
          "height": 466
        },
        "id": "kkalE-exffTQ",
        "outputId": "77cb2c0f-13ef-4f75-b26d-eca94e173df0"
      },
      "outputs": [
        {
          "output_type": "execute_result",
          "data": {
            "text/plain": [
              "Text(0, 0.5, 'Cost Value')"
            ]
          },
          "metadata": {},
          "execution_count": 7
        },
        {
          "output_type": "display_data",
          "data": {
            "text/plain": [
              "<Figure size 640x480 with 1 Axes>"
            ],
            "image/png": "[encoded data removed]"
          },
          "metadata": {}
        }
      ],
      "source": [
        "# Plotting how the value of the cost function decreases during the minimization procedure.\n",
        "import matplotlib.pyplot as plt\n",
        "\n",
        "x_values = list(range(len(cost_values)))\n",
        "y_values = cost_values\n",
        "\n",
        "plt.plot(x_values, y_values)\n",
        "\n",
        "plt.xlabel(\"Epochs\")\n",
        "plt.ylabel(\"Cost Value\")"
      ]
    },
    {
      "cell_type": "markdown",
      "source": [
        "We see that the final value of our cost function,\n",
        "\n",
        "$$ \\langle \\psi | Z | \\psi \\rangle = -1, $$\n",
        "\n",
        "demonstrating that the qubit is in the $|{1}\\rangle$ state."
      ],
      "metadata": {
        "id": "dLs8dMA--ah_"
      }
    },
    {
      "cell_type": "markdown",
      "metadata": {
        "id": "2K6qB3wVfpCb"
      },
      "source": [
        "# Variational Quantum Eigensolver"
      ]
    },
    {
      "cell_type": "markdown",
      "metadata": {
        "id": "TAm6R8avfsh8"
      },
      "source": [
        "A common application of the Variational Quantum Eigensolver (VQE) algorithm is to compute the ground state energy of a molecular system. The code below demonstrates how to perform classical preprocessing for a $H_2$ molecule (i.e. obtain the integrals from a Hartree-Fock computation to build the molecular Hamiltonian), prepare the initial Hartree-Fock state on the quantum register, add the parameterized UCCSD ansatz to the kernel, and select the COBYLA optimizer.  We are then ready to call `cudaq:vqe` to estimate the minimum energy of the system."
      ]
    },
    {
      "cell_type": "code",
      "execution_count": 8,
      "metadata": {
        "colab": {
          "base_uri": "https://localhost:8080/"
        },
        "id": "WeVYDfw-fvuG",
        "outputId": "c6c2f7c5-66cc-4435-a56c-b1dfd211f74c"
      },
      "outputs": [
        {
          "output_type": "stream",
          "name": "stdout",
          "text": [
            "Collecting openfermionpyscf==0.5\n",
            "  Downloading openfermionpyscf-0.5-py3-none-any.whl.metadata (6.9 kB)\n",
            "Collecting openfermion>=0.5 (from openfermionpyscf==0.5)\n",
            "  Downloading openfermion-1.6.1-py3-none-any.whl.metadata (10 kB)\n",
            "Collecting pyscf (from openfermionpyscf==0.5)\n",
            "  Downloading pyscf-2.7.0-py3-none-manylinux_2_17_x86_64.manylinux2014_x86_64.whl.metadata (6.2 kB)\n",
            "Requirement already satisfied: pytest in /usr/local/lib/python3.10/dist-packages (from openfermionpyscf==0.5) (7.4.4)\n",
            "Collecting cirq-core~=1.0 (from openfermion>=0.5->openfermionpyscf==0.5)\n",
            "  Downloading cirq_core-1.4.1-py3-none-any.whl.metadata (1.8 kB)\n",
            "Collecting deprecation (from openfermion>=0.5->openfermionpyscf==0.5)\n",
            "  Downloading deprecation-2.1.0-py2.py3-none-any.whl.metadata (4.6 kB)\n",
            "Requirement already satisfied: h5py>=2.8 in /usr/local/lib/python3.10/dist-packages (from openfermion>=0.5->openfermionpyscf==0.5) (3.11.0)\n",
            "Requirement already satisfied: networkx in /usr/local/lib/python3.10/dist-packages (from openfermion>=0.5->openfermionpyscf==0.5) (3.4.2)\n",
            "Requirement already satisfied: numpy>=1.11.0 in /usr/local/lib/python3.10/dist-packages (from openfermion>=0.5->openfermionpyscf==0.5) (1.26.4)\n",
            "Collecting pubchempy (from openfermion>=0.5->openfermionpyscf==0.5)\n",
            "  Downloading PubChemPy-1.0.4.tar.gz (29 kB)\n",
            "  Preparing metadata (setup.py) ... \u001b[?25l\u001b[?25hdone\n",
            "Requirement already satisfied: requests>=2.18 in /usr/local/lib/python3.10/dist-packages (from openfermion>=0.5->openfermionpyscf==0.5) (2.32.3)\n",
            "Requirement already satisfied: scipy>=1.1.0 in /usr/local/lib/python3.10/dist-packages (from openfermion>=0.5->openfermionpyscf==0.5) (1.13.1)\n",
            "Requirement already satisfied: sympy in /usr/local/lib/python3.10/dist-packages (from openfermion>=0.5->openfermionpyscf==0.5) (1.13.1)\n",
            "Requirement already satisfied: setuptools in /usr/local/lib/python3.10/dist-packages (from pyscf->openfermionpyscf==0.5) (75.1.0)\n",
            "Requirement already satisfied: iniconfig in /usr/local/lib/python3.10/dist-packages (from pytest->openfermionpyscf==0.5) (2.0.0)\n",
            "Requirement already satisfied: packaging in /usr/local/lib/python3.10/dist-packages (from pytest->openfermionpyscf==0.5) (24.1)\n",
            "Requirement already satisfied: pluggy<2.0,>=0.12 in /usr/local/lib/python3.10/dist-packages (from pytest->openfermionpyscf==0.5) (1.5.0)\n",
            "Requirement already satisfied: exceptiongroup>=1.0.0rc8 in /usr/local/lib/python3.10/dist-packages (from pytest->openfermionpyscf==0.5) (1.2.2)\n",
            "Requirement already satisfied: tomli>=1.0.0 in /usr/local/lib/python3.10/dist-packages (from pytest->openfermionpyscf==0.5) (2.0.2)\n",
            "Requirement already satisfied: attrs>=21.3.0 in /usr/local/lib/python3.10/dist-packages (from cirq-core~=1.0->openfermion>=0.5->openfermionpyscf==0.5) (24.2.0)\n",
            "Collecting duet>=0.2.8 (from cirq-core~=1.0->openfermion>=0.5->openfermionpyscf==0.5)\n",
            "  Downloading duet-0.2.9-py3-none-any.whl.metadata (2.3 kB)\n",
            "Requirement already satisfied: matplotlib~=3.0 in /usr/local/lib/python3.10/dist-packages (from cirq-core~=1.0->openfermion>=0.5->openfermionpyscf==0.5) (3.7.1)\n",
            "Requirement already satisfied: pandas in /usr/local/lib/python3.10/dist-packages (from cirq-core~=1.0->openfermion>=0.5->openfermionpyscf==0.5) (2.2.2)\n",
            "Collecting sortedcontainers~=2.0 (from cirq-core~=1.0->openfermion>=0.5->openfermionpyscf==0.5)\n",
            "  Downloading sortedcontainers-2.4.0-py2.py3-none-any.whl.metadata (10 kB)\n",
            "Requirement already satisfied: typing-extensions>=4.2 in /usr/local/lib/python3.10/dist-packages (from cirq-core~=1.0->openfermion>=0.5->openfermionpyscf==0.5) (4.12.2)\n",
            "Requirement already satisfied: tqdm in /usr/local/lib/python3.10/dist-packages (from cirq-core~=1.0->openfermion>=0.5->openfermionpyscf==0.5) (4.66.5)\n",
            "Requirement already satisfied: charset-normalizer<4,>=2 in /usr/local/lib/python3.10/dist-packages (from requests>=2.18->openfermion>=0.5->openfermionpyscf==0.5) (3.4.0)\n",
            "Requirement already satisfied: idna<4,>=2.5 in /usr/local/lib/python3.10/dist-packages (from requests>=2.18->openfermion>=0.5->openfermionpyscf==0.5) (3.10)\n",
            "Requirement already satisfied: urllib3<3,>=1.21.1 in /usr/local/lib/python3.10/dist-packages (from requests>=2.18->openfermion>=0.5->openfermionpyscf==0.5) (2.2.3)\n",
            "Requirement already satisfied: certifi>=2017.4.17 in /usr/local/lib/python3.10/dist-packages (from requests>=2.18->openfermion>=0.5->openfermionpyscf==0.5) (2024.8.30)\n",
            "Requirement already satisfied: mpmath<1.4,>=1.1.0 in /usr/local/lib/python3.10/dist-packages (from sympy->openfermion>=0.5->openfermionpyscf==0.5) (1.3.0)\n",
            "Requirement already satisfied: contourpy>=1.0.1 in /usr/local/lib/python3.10/dist-packages (from matplotlib~=3.0->cirq-core~=1.0->openfermion>=0.5->openfermionpyscf==0.5) (1.3.0)\n",
            "Requirement already satisfied: cycler>=0.10 in /usr/local/lib/python3.10/dist-packages (from matplotlib~=3.0->cirq-core~=1.0->openfermion>=0.5->openfermionpyscf==0.5) (0.12.1)\n",
            "Requirement already satisfied: fonttools>=4.22.0 in /usr/local/lib/python3.10/dist-packages (from matplotlib~=3.0->cirq-core~=1.0->openfermion>=0.5->openfermionpyscf==0.5) (4.54.1)\n",
            "Requirement already satisfied: kiwisolver>=1.0.1 in /usr/local/lib/python3.10/dist-packages (from matplotlib~=3.0->cirq-core~=1.0->openfermion>=0.5->openfermionpyscf==0.5) (1.4.7)\n",
            "Requirement already satisfied: pillow>=6.2.0 in /usr/local/lib/python3.10/dist-packages (from matplotlib~=3.0->cirq-core~=1.0->openfermion>=0.5->openfermionpyscf==0.5) (10.4.0)\n",
            "Requirement already satisfied: pyparsing>=2.3.1 in /usr/local/lib/python3.10/dist-packages (from matplotlib~=3.0->cirq-core~=1.0->openfermion>=0.5->openfermionpyscf==0.5) (3.2.0)\n",
            "Requirement already satisfied: python-dateutil>=2.7 in /usr/local/lib/python3.10/dist-packages (from matplotlib~=3.0->cirq-core~=1.0->openfermion>=0.5->openfermionpyscf==0.5) (2.8.2)\n",
            "Requirement already satisfied: pytz>=2020.1 in /usr/local/lib/python3.10/dist-packages (from pandas->cirq-core~=1.0->openfermion>=0.5->openfermionpyscf==0.5) (2024.2)\n",
            "Requirement already satisfied: tzdata>=2022.7 in /usr/local/lib/python3.10/dist-packages (from pandas->cirq-core~=1.0->openfermion>=0.5->openfermionpyscf==0.5) (2024.2)\n",
            "Requirement already satisfied: six>=1.5 in /usr/local/lib/python3.10/dist-packages (from python-dateutil>=2.7->matplotlib~=3.0->cirq-core~=1.0->openfermion>=0.5->openfermionpyscf==0.5) (1.16.0)\n",
            "Downloading openfermionpyscf-0.5-py3-none-any.whl (16 kB)\n",
            "Downloading openfermion-1.6.1-py3-none-any.whl (1.2 MB)\n",
            "\u001b[2K   \u001b[90m━━━━━━━━━━━━━━━━━━━━━━━━━━━━━━━━━━━━━━━━\u001b[0m \u001b[32m1.2/1.2 MB\u001b[0m \u001b[31m21.6 MB/s\u001b[0m eta \u001b[36m0:00:00\u001b[0m\n",
            "\u001b[?25hDownloading pyscf-2.7.0-py3-none-manylinux_2_17_x86_64.manylinux2014_x86_64.whl (48.7 MB)\n",
            "\u001b[2K   \u001b[90m━━━━━━━━━━━━━━━━━━━━━━━━━━━━━━━━━━━━━━━━\u001b[0m \u001b[32m48.7/48.7 MB\u001b[0m \u001b[31m14.2 MB/s\u001b[0m eta \u001b[36m0:00:00\u001b[0m\n",
            "\u001b[?25hDownloading cirq_core-1.4.1-py3-none-any.whl (1.9 MB)\n",
            "\u001b[2K   \u001b[90m━━━━━━━━━━━━━━━━━━━━━━━━━━━━━━━━━━━━━━━━\u001b[0m \u001b[32m1.9/1.9 MB\u001b[0m \u001b[31m41.8 MB/s\u001b[0m eta \u001b[36m0:00:00\u001b[0m\n",
            "\u001b[?25hDownloading deprecation-2.1.0-py2.py3-none-any.whl (11 kB)\n",
            "Downloading duet-0.2.9-py3-none-any.whl (29 kB)\n",
            "Downloading sortedcontainers-2.4.0-py2.py3-none-any.whl (29 kB)\n",
            "Building wheels for collected packages: pubchempy\n",
            "  Building wheel for pubchempy (setup.py) ... \u001b[?25l\u001b[?25hdone\n",
            "  Created wheel for pubchempy: filename=PubChemPy-1.0.4-py3-none-any.whl size=13819 sha256=3d24cacc122d1124af68118c56f214b391608e059678cf6d2a9f80ba1f136a3a\n",
            "  Stored in directory: /root/.cache/pip/wheels/90/7c/45/18a0671e3c3316966ef7ed9ad2b3f3300a7e41d3421a44e799\n",
            "Successfully built pubchempy\n",
            "Installing collected packages: sortedcontainers, pubchempy, duet, deprecation, pyscf, cirq-core, openfermion, openfermionpyscf\n",
            "Successfully installed cirq-core-1.4.1 deprecation-2.1.0 duet-0.2.9 openfermion-1.6.1 openfermionpyscf-0.5 pubchempy-1.0.4 pyscf-2.7.0 sortedcontainers-2.4.0\n"
          ]
        }
      ],
      "source": [
        "!pip install openfermionpyscf==0.5"
      ]
    },
    {
      "cell_type": "code",
      "execution_count": 9,
      "metadata": {
        "id": "VyzGtQ0rf1Na"
      },
      "outputs": [],
      "source": [
        "import cudaq\n",
        "import matplotlib.pyplot as plt\n",
        "from scipy.optimize import minimize\n",
        "import numpy as np\n",
        "\n",
        "# Single precision\n",
        "cudaq.set_target(\"nvidia\")\n",
        "# Double precision\n",
        "#cudaq.set_target(\"nvidia-fp64\")"
      ]
    },
    {
      "cell_type": "markdown",
      "metadata": {
        "id": "44EV0RgEf4im"
      },
      "source": [
        "The problem of interest here is a chain of hydrogen atoms seperated along the z-axis at a fixed interval called the bond distance.\n",
        "\n",
        "The interatomic electrostatic forces due to the electrons and protons and the shielding by the neutrons creates a chemical system whose energy can be minimised to find a stable configuration.\n",
        "\n",
        "Let us first begin by defining the molecule and other metadata about the problem.\n"
      ]
    },
    {
      "cell_type": "code",
      "execution_count": 10,
      "metadata": {
        "id": "O2EVWbe3f6BU"
      },
      "outputs": [],
      "source": [
        "# Number of hydrogen atoms.\n",
        "hydrogen_count = 2\n",
        "\n",
        "# Distance between the atoms in Angstroms.\n",
        "bond_distance = 0.7474\n",
        "\n",
        "# Define a linear chain of Hydrogen atoms\n",
        "geometry = [('H', (0, 0, i * bond_distance)) for i in range(hydrogen_count)]\n",
        "\n",
        "molecule, data = cudaq.chemistry.create_molecular_hamiltonian(\n",
        "    geometry, 'sto-3g', 1, 0)\n",
        "\n",
        "electron_count = data.n_electrons\n",
        "qubit_count = 2 * data.n_orbitals"
      ]
    },
    {
      "cell_type": "markdown",
      "metadata": {
        "id": "Mj7OEl0Jf8dZ"
      },
      "source": [
        "We now generate a Unitary Coupled-Cluster Singles and Doubles (UCCSD) ansatz from the template provided by CUDA-Q.  "
      ]
    },
    {
      "cell_type": "code",
      "execution_count": 11,
      "metadata": {
        "id": "ktLZOQAwf8AV"
      },
      "outputs": [],
      "source": [
        "@cudaq.kernel\n",
        "def kernel(thetas: list[float]):\n",
        "\n",
        "    qubits = cudaq.qvector(qubit_count)\n",
        "\n",
        "    for i in range(electron_count):\n",
        "        x(qubits[i])\n",
        "\n",
        "    cudaq.kernels.uccsd(qubits, thetas, electron_count, qubit_count)\n",
        "\n",
        "\n",
        "parameter_count = cudaq.kernels.uccsd_num_parameters(electron_count,\n",
        "                                                     qubit_count)"
      ]
    },
    {
      "cell_type": "markdown",
      "metadata": {
        "id": "A4KB7xkSf901"
      },
      "source": [
        "### Using CUDA-Q Optimizers\n",
        "\n",
        "We use the builtin optimizers within CUDA-Q for the minimization procedure."
      ]
    },
    {
      "cell_type": "code",
      "execution_count": 12,
      "metadata": {
        "colab": {
          "base_uri": "https://localhost:8080/"
        },
        "id": "rD7X_gpef4Hx",
        "outputId": "e51c998b-81b3-4fed-976d-9373ad12477a"
      },
      "outputs": [
        {
          "output_type": "stream",
          "name": "stdout",
          "text": [
            "-1.1371740035195181\n"
          ]
        }
      ],
      "source": [
        "optimizer = cudaq.optimizers.COBYLA()\n",
        "\n",
        "energy, parameters = cudaq.vqe(kernel,\n",
        "                               molecule,\n",
        "                               optimizer,\n",
        "                               parameter_count=parameter_count)\n",
        "\n",
        "print(energy)"
      ]
    },
    {
      "cell_type": "markdown",
      "metadata": {
        "id": "BxJJQCscgAos"
      },
      "source": [
        "### Integration with Third-Party Optimizers\n",
        "\n",
        "We can also integrate popular libraries like scipy with CUDA-Q."
      ]
    },
    {
      "cell_type": "code",
      "execution_count": 13,
      "metadata": {
        "colab": {
          "base_uri": "https://localhost:8080/",
          "height": 472
        },
        "id": "S0w72GoCgAuU",
        "outputId": "0dad18f0-0485-4c4b-c59f-e39de354dd39"
      },
      "outputs": [
        {
          "output_type": "display_data",
          "data": {
            "text/plain": [
              "<Figure size 640x480 with 1 Axes>"
            ],
            "image/png": "[encoded data removed]"
          },
          "metadata": {}
        }
      ],
      "source": [
        "# Define a function to minimize\n",
        "def cost(theta):\n",
        "\n",
        "    exp_val = cudaq.observe(kernel, molecule, theta).expectation()\n",
        "\n",
        "    return exp_val\n",
        "\n",
        "\n",
        "exp_vals = []\n",
        "\n",
        "\n",
        "def callback(xk):\n",
        "    exp_vals.append(cost(xk))\n",
        "\n",
        "\n",
        "# Initial variational parameters.\n",
        "np.random.seed(42)\n",
        "x0 = np.random.normal(0, np.pi, parameter_count)\n",
        "\n",
        "# Use the scipy optimizer to minimize the function of interest\n",
        "result = minimize(cost,\n",
        "                  x0,\n",
        "                  method='COBYLA',\n",
        "                  callback=callback,\n",
        "                  options={'maxiter': 40})\n",
        "\n",
        "plt.plot(exp_vals)\n",
        "plt.xlabel('Epochs')\n",
        "plt.ylabel('Energy')\n",
        "plt.title('VQE')\n",
        "plt.show()"
      ]
    },
    {
      "cell_type": "markdown",
      "metadata": {
        "id": "90-M1O-E0Lvv"
      },
      "source": [
        "# Quantum Approximate Optimization Algorithm"
      ]
    },
    {
      "cell_type": "markdown",
      "metadata": {
        "id": "U96uliXS0RGq"
      },
      "source": [
        "Here we build up a kernel for QAOA with `p` layers, with each layer containing the alternating set of unitaries corresponding to the problem and the mixer Hamiltonians. The algorithm leverages the VQE algorithm to compute the Max-Cut of a 3-regular (each node connects with 3 edges) graph generated below."
      ]
    },
    {
      "cell_type": "code",
      "execution_count": 14,
      "metadata": {
        "colab": {
          "base_uri": "https://localhost:8080/",
          "height": 516
        },
        "id": "fuwuHDd60QcY",
        "outputId": "21c78dec-a396-47ee-f2a7-53a4722f79fa"
      },
      "outputs": [
        {
          "output_type": "display_data",
          "data": {
            "text/plain": [
              "<Figure size 640x480 with 1 Axes>"
            ],
            "image/png": "[encoded data removed]"
          },
          "metadata": {}
        }
      ],
      "source": [
        "import networkx as nx\n",
        "import random\n",
        "\n",
        "num_nodes = 10\n",
        "\n",
        "random.seed(13)\n",
        "edges = nx.random_regular_graph(3, num_nodes).edges()\n",
        "G = nx.Graph()\n",
        "G.add_edges_from(edges)\n",
        "nx.draw(G, with_labels=True, alpha=0.8, node_size=500, node_color='#76B900')"
      ]
    },
    {
      "cell_type": "code",
      "execution_count": 15,
      "metadata": {
        "colab": {
          "base_uri": "https://localhost:8080/"
        },
        "id": "3fpifp_U0UKK",
        "outputId": "bd8ff592-a237-4f23-cff0-f7d3a646bfce"
      },
      "outputs": [
        {
          "output_type": "stream",
          "name": "stdout",
          "text": [
            "Initial parameters =  [0.21810696323572243, -0.20613464375211488, 0.2546877639814583, 0.3657985647468064]\n",
            "     ╭───╮                                                                   »\n",
            "q0 : ┤ h ├──●──────────────────●────●──────────────────●────●────────────────»\n",
            "     ├───┤  │                  │    │                  │    │                »\n",
            "q1 : ┤ h ├──┼──────────────────┼────┼──────────────────┼────┼────────────────»\n",
            "     ├───┤  │                  │    │                  │    │                »\n",
            "q2 : ┤ h ├──┼──────────────────┼────┼──────────────────┼────┼────────────────»\n",
            "     ├───┤  │                  │    │                  │    │                »\n",
            "q3 : ┤ h ├──┼──────────────────┼────┼──────────────────┼────┼────────────────»\n",
            "     ├───┤  │                  │    │                  │    │                »\n",
            "q4 : ┤ h ├──┼──────────────────┼────┼──────────────────┼────┼────────────────»\n",
            "     ├───┤  │                  │  ╭─┴─╮╭────────────╮╭─┴─╮  │                »\n",
            "q5 : ┤ h ├──┼──────────────────┼──┤ x ├┤ rz(0.4362) ├┤ x ├──┼────────────────»\n",
            "     ├───┤  │                  │  ╰───╯╰────────────╯╰───╯  │                »\n",
            "q6 : ┤ h ├──┼──────────────────┼────────────────────────────┼────────────────»\n",
            "     ├───┤╭─┴─╮╭────────────╮╭─┴─╮                          │                »\n",
            "q7 : ┤ h ├┤ x ├┤ rz(0.4362) ├┤ x ├──────────────────────────┼────────────────»\n",
            "     ├───┤╰───╯╰────────────╯╰───╯                        ╭─┴─╮╭────────────╮»\n",
            "q8 : ┤ h ├────────────────────────────────────────────────┤ x ├┤ rz(0.4362) ├»\n",
            "     ├───┤                                                ╰───╯╰────────────╯»\n",
            "q9 : ┤ h ├───────────────────────────────────────────────────────────────────»\n",
            "     ╰───╯                                                                   »\n",
            "\n",
            "################################################################################\n",
            "\n",
            "     ╭────────────╮                                                »\n",
            "──●──┤ rx(0.5094) ├────────────────────────────────────────────────»\n",
            "  │  ╰────────────╯                                                »\n",
            "──┼────────●───────────────────────●────●──────────────────●────●──»\n",
            "  │        │                       │    │                  │    │  »\n",
            "──┼────────┼───────────────────────┼────┼──────────────────┼────┼──»\n",
            "  │        │                       │    │                  │    │  »\n",
            "──┼────────┼───────────────────────┼────┼──────────────────┼────┼──»\n",
            "  │        │                       │    │                  │    │  »\n",
            "──┼────────┼───────────────────────┼────┼──────────────────┼────┼──»\n",
            "  │        │                       │    │                  │    │  »\n",
            "──┼────────┼───────────────────────┼────┼──────────────────┼────┼──»\n",
            "  │        │                       │  ╭─┴─╮╭────────────╮╭─┴─╮  │  »\n",
            "──┼────────┼───────────────────────┼──┤ x ├┤ rz(0.4362) ├┤ x ├──┼──»\n",
            "  │      ╭─┴─╮     ╭────────────╮╭─┴─╮╰───╯╰────────────╯╰───╯  │  »\n",
            "──┼──────┤ x ├─────┤ rz(0.4362) ├┤ x ├──────────────────────────┼──»\n",
            "╭─┴─╮    ╰───╯     ╰────────────╯╰───╯                          │  »\n",
            "┤ x ├───────────────────────────────────────────────────────────┼──»\n",
            "╰───╯                                                         ╭─┴─╮»\n",
            "──────────────────────────────────────────────────────────────┤ x ├»\n",
            "                                                              ╰───╯»\n",
            "\n",
            "################################################################################\n",
            "\n",
            "                                                                            »\n",
            "────────────────────────────────────────────────────────────────────────────»\n",
            "                   ╭────────────╮                                           »\n",
            "────────────────●──┤ rx(0.5094) ├───────────────────────────────────────────»\n",
            "                │  ╰────────────╯                                           »\n",
            "────────────────┼────────●───────────────────────●────●──────────────────●──»\n",
            "                │        │                       │  ╭─┴─╮╭────────────╮╭─┴─╮»\n",
            "────────────────┼────────┼───────────────────────┼──┤ x ├┤ rz(0.4362) ├┤ x ├»\n",
            "                │      ╭─┴─╮     ╭────────────╮╭─┴─╮╰───╯╰────────────╯╰───╯»\n",
            "────────────────┼──────┤ x ├─────┤ rz(0.4362) ├┤ x ├────────────────────────»\n",
            "                │      ╰───╯     ╰────────────╯╰───╯                        »\n",
            "────────────────┼───────────────────────────────────────────────────────────»\n",
            "                │                                                           »\n",
            "────────────────┼───────────────────────────────────────────────────────────»\n",
            "                │                                                           »\n",
            "────────────────┼───────────────────────────────────────────────────────────»\n",
            "                │                                                           »\n",
            "────────────────┼───────────────────────────────────────────────────────────»\n",
            "╭────────────╮╭─┴─╮                                                         »\n",
            "┤ rz(0.4362) ├┤ x ├─────────────────────────────────────────────────────────»\n",
            "╰────────────╯╰───╯                                                         »\n",
            "\n",
            "################################################################################\n",
            "\n",
            "                                                                            »\n",
            "────────────────────────────────────────────────────────────────────────────»\n",
            "                                                                            »\n",
            "────────────────────────────────────────────────────────────────────────────»\n",
            "                        ╭────────────╮                                      »\n",
            "──●──────────────────●──┤ rx(0.5094) ├──────────────────────────────────────»\n",
            "  │                  │  ╰────────────╯                                      »\n",
            "──┼──────────────────┼────────●───────────────────────●────●────────────────»\n",
            "  │                  │      ╭─┴─╮     ╭────────────╮╭─┴─╮  │                »\n",
            "──┼──────────────────┼──────┤ x ├─────┤ rz(0.4362) ├┤ x ├──┼────────────────»\n",
            "  │                  │      ╰───╯     ╰────────────╯╰───╯  │                »\n",
            "──┼──────────────────┼─────────────────────────────────────┼────────────────»\n",
            "  │                  │                                     │                »\n",
            "──┼──────────────────┼─────────────────────────────────────┼────────────────»\n",
            "  │                  │                                     │                »\n",
            "──┼──────────────────┼─────────────────────────────────────┼────────────────»\n",
            "╭─┴─╮╭────────────╮╭─┴─╮                                   │                »\n",
            "┤ x ├┤ rz(0.4362) ├┤ x ├───────────────────────────────────┼────────────────»\n",
            "╰───╯╰────────────╯╰───╯                                 ╭─┴─╮╭────────────╮»\n",
            "─────────────────────────────────────────────────────────┤ x ├┤ rz(0.4362) ├»\n",
            "                                                         ╰───╯╰────────────╯»\n",
            "\n",
            "################################################################################\n",
            "\n",
            "                                                                       »\n",
            "───────────────────────────────────────────────────────────────────────»\n",
            "                                                                       »\n",
            "───────────────────────────────────────────────────────────────────────»\n",
            "                                                                       »\n",
            "───────────────────────────────────────────────────────────────────────»\n",
            "     ╭────────────╮                                                    »\n",
            "──●──┤ rx(0.5094) ├────────────────────────────────────────────────────»\n",
            "  │  ╰────────────╯                   ╭────────────╮                   »\n",
            "──┼────────●───────────────────────●──┤ rx(0.5094) ├───────────────────»\n",
            "  │        │                       │  ╰────────────╯                   »\n",
            "──┼────────┼───────────────────────┼────────●───────────────────────●──»\n",
            "  │      ╭─┴─╮     ╭────────────╮╭─┴─╮      │                       │  »\n",
            "──┼──────┤ x ├─────┤ rz(0.4362) ├┤ x ├──────┼───────────────────────┼──»\n",
            "  │      ╰───╯     ╰────────────╯╰───╯    ╭─┴─╮     ╭────────────╮╭─┴─╮»\n",
            "──┼───────────────────────────────────────┤ x ├─────┤ rz(0.4362) ├┤ x ├»\n",
            "  │                                   ╭───┴───┴────╮╰────────────╯╰───╯»\n",
            "──┼────────●───────────────────────●──┤ rx(0.5094) ├───────────────────»\n",
            "╭─┴─╮    ╭─┴─╮     ╭────────────╮╭─┴─╮├────────────┤                   »\n",
            "┤ x ├────┤ x ├─────┤ rz(0.4362) ├┤ x ├┤ rx(0.5094) ├───────────────────»\n",
            "╰───╯    ╰───╯     ╰────────────╯╰───╯╰────────────╯                   »\n",
            "\n",
            "################################################################################\n",
            "\n",
            "                                                                             »\n",
            "─────────────────────────────────────────────────●───────────────────●────●──»\n",
            "                                                 │                   │    │  »\n",
            "─────────────────────────────────────────────────┼───────────────────┼────┼──»\n",
            "                                                 │                   │    │  »\n",
            "─────────────────────────────────────────────────┼───────────────────┼────┼──»\n",
            "                                                 │                   │    │  »\n",
            "─────────────────────────────────────────────────┼───────────────────┼────┼──»\n",
            "                                                 │                   │    │  »\n",
            "─────────────────────────────────────────────────┼───────────────────┼────┼──»\n",
            "                                 ╭────────────╮  │                   │  ╭─┴─╮»\n",
            "──────●───────────────────────●──┤ rx(0.5094) ├──┼───────────────────┼──┤ x ├»\n",
            "    ╭─┴─╮     ╭────────────╮╭─┴─╮├────────────┤  │                   │  ╰───╯»\n",
            "────┤ x ├─────┤ rz(0.4362) ├┤ x ├┤ rx(0.5094) ├──┼───────────────────┼───────»\n",
            "╭───┴───┴────╮╰────────────╯╰───╯╰────────────╯╭─┴─╮╭─────────────╮╭─┴─╮     »\n",
            "┤ rx(0.5094) ├─────────────────────────────────┤ x ├┤ rz(-0.4123) ├┤ x ├─────»\n",
            "╰────────────╯                                 ╰───╯╰─────────────╯╰───╯     »\n",
            "─────────────────────────────────────────────────────────────────────────────»\n",
            "                                                                             »\n",
            "─────────────────────────────────────────────────────────────────────────────»\n",
            "                                                                             »\n",
            "\n",
            "################################################################################\n",
            "\n",
            "                                             ╭────────────╮               »\n",
            "─────────────────●────●───────────────────●──┤ rx(0.7316) ├───────────────»\n",
            "                 │    │                   │  ╰────────────╯               »\n",
            "─────────────────┼────┼───────────────────┼────────●──────────────────────»\n",
            "                 │    │                   │        │                      »\n",
            "─────────────────┼────┼───────────────────┼────────┼──────────────────────»\n",
            "                 │    │                   │        │                      »\n",
            "─────────────────┼────┼───────────────────┼────────┼──────────────────────»\n",
            "                 │    │                   │        │                      »\n",
            "─────────────────┼────┼───────────────────┼────────┼──────────────────────»\n",
            "╭─────────────╮╭─┴─╮  │                   │        │                      »\n",
            "┤ rz(-0.4123) ├┤ x ├──┼───────────────────┼────────┼──────────────────────»\n",
            "╰─────────────╯╰───╯  │                   │        │                      »\n",
            "──────────────────────┼───────────────────┼────────┼──────────────────────»\n",
            "                      │                   │      ╭─┴─╮     ╭─────────────╮»\n",
            "──────────────────────┼───────────────────┼──────┤ x ├─────┤ rz(-0.4123) ├»\n",
            "                    ╭─┴─╮╭─────────────╮╭─┴─╮    ╰───╯     ╰─────────────╯»\n",
            "────────────────────┤ x ├┤ rz(-0.4123) ├┤ x ├─────────────────────────────»\n",
            "                    ╰───╯╰─────────────╯╰───╯                             »\n",
            "──────────────────────────────────────────────────────────────────────────»\n",
            "                                                                          »\n",
            "\n",
            "################################################################################\n",
            "\n",
            "                                                                     »\n",
            "─────────────────────────────────────────────────────────────────────»\n",
            "                                                       ╭────────────╮»\n",
            "──●────●───────────────────●────●───────────────────●──┤ rx(0.7316) ├»\n",
            "  │    │                   │    │                   │  ╰────────────╯»\n",
            "──┼────┼───────────────────┼────┼───────────────────┼────────●───────»\n",
            "  │    │                   │    │                   │        │       »\n",
            "──┼────┼───────────────────┼────┼───────────────────┼────────┼───────»\n",
            "  │    │                   │    │                   │      ╭─┴─╮     »\n",
            "──┼────┼───────────────────┼────┼───────────────────┼──────┤ x ├─────»\n",
            "  │    │                   │    │                   │      ╰───╯     »\n",
            "──┼────┼───────────────────┼────┼───────────────────┼────────────────»\n",
            "  │  ╭─┴─╮╭─────────────╮╭─┴─╮  │                   │                »\n",
            "──┼──┤ x ├┤ rz(-0.4123) ├┤ x ├──┼───────────────────┼────────────────»\n",
            "╭─┴─╮╰───╯╰─────────────╯╰───╯  │                   │                »\n",
            "┤ x ├───────────────────────────┼───────────────────┼────────────────»\n",
            "╰───╯                           │                   │                »\n",
            "────────────────────────────────┼───────────────────┼────────────────»\n",
            "                              ╭─┴─╮╭─────────────╮╭─┴─╮              »\n",
            "──────────────────────────────┤ x ├┤ rz(-0.4123) ├┤ x ├──────────────»\n",
            "                              ╰───╯╰─────────────╯╰───╯              »\n",
            "\n",
            "################################################################################\n",
            "\n",
            "                                                                      »\n",
            "──────────────────────────────────────────────────────────────────────»\n",
            "                                                                      »\n",
            "──────────────────────────────────────────────────────────────────────»\n",
            "                                                                      »\n",
            "─────────────────●────●───────────────────●────●───────────────────●──»\n",
            "                 │  ╭─┴─╮╭─────────────╮╭─┴─╮  │                   │  »\n",
            "─────────────────┼──┤ x ├┤ rz(-0.4123) ├┤ x ├──┼───────────────────┼──»\n",
            "╭─────────────╮╭─┴─╮╰───╯╰─────────────╯╰───╯  │                   │  »\n",
            "┤ rz(-0.4123) ├┤ x ├───────────────────────────┼───────────────────┼──»\n",
            "╰─────────────╯╰───╯                           │                   │  »\n",
            "───────────────────────────────────────────────┼───────────────────┼──»\n",
            "                                               │                   │  »\n",
            "───────────────────────────────────────────────┼───────────────────┼──»\n",
            "                                               │                   │  »\n",
            "───────────────────────────────────────────────┼───────────────────┼──»\n",
            "                                             ╭─┴─╮╭─────────────╮╭─┴─╮»\n",
            "─────────────────────────────────────────────┤ x ├┤ rz(-0.4123) ├┤ x ├»\n",
            "                                             ╰───╯╰─────────────╯╰───╯»\n",
            "──────────────────────────────────────────────────────────────────────»\n",
            "                                                                      »\n",
            "\n",
            "################################################################################\n",
            "\n",
            "                                                                         »\n",
            "─────────────────────────────────────────────────────────────────────────»\n",
            "                                                                         »\n",
            "─────────────────────────────────────────────────────────────────────────»\n",
            "╭────────────╮                                                           »\n",
            "┤ rx(0.7316) ├───────────────────────────────────────────────────────────»\n",
            "╰────────────╯                                             ╭────────────╮»\n",
            "──────●────────────────────────●────●───────────────────●──┤ rx(0.7316) ├»\n",
            "    ╭─┴─╮     ╭─────────────╮╭─┴─╮  │                   │  ╰────────────╯»\n",
            "────┤ x ├─────┤ rz(-0.4123) ├┤ x ├──┼───────────────────┼────────●───────»\n",
            "    ╰───╯     ╰─────────────╯╰───╯  │                   │        │       »\n",
            "────────────────────────────────────┼───────────────────┼────────┼───────»\n",
            "                                    │                   │      ╭─┴─╮     »\n",
            "────────────────────────────────────┼───────────────────┼──────┤ x ├─────»\n",
            "                                    │                   │      ╰───╯     »\n",
            "────────────────────────────────────┼───────────────────┼────────────────»\n",
            "                                    │                   │                »\n",
            "────────────────────────────────────┼───────────────────┼────────●───────»\n",
            "                                  ╭─┴─╮╭─────────────╮╭─┴─╮    ╭─┴─╮     »\n",
            "──────────────────────────────────┤ x ├┤ rz(-0.4123) ├┤ x ├────┤ x ├─────»\n",
            "                                  ╰───╯╰─────────────╯╰───╯    ╰───╯     »\n",
            "\n",
            "################################################################################\n",
            "\n",
            "                                                                    »\n",
            "────────────────────────────────────────────────────────────────────»\n",
            "                                                                    »\n",
            "────────────────────────────────────────────────────────────────────»\n",
            "                                                                    »\n",
            "────────────────────────────────────────────────────────────────────»\n",
            "                                                                    »\n",
            "────────────────────────────────────────────────────────────────────»\n",
            "                    ╭────────────╮                                  »\n",
            "─────────────────●──┤ rx(0.7316) ├──────────────────────────────────»\n",
            "                 │  ╰────────────╯                                  »\n",
            "─────────────────┼────────●────────────────────────●────────●───────»\n",
            "╭─────────────╮╭─┴─╮      │                        │      ╭─┴─╮     »\n",
            "┤ rz(-0.4123) ├┤ x ├──────┼────────────────────────┼──────┤ x ├─────»\n",
            "╰─────────────╯╰───╯    ╭─┴─╮     ╭─────────────╮╭─┴─╮╭───┴───┴────╮»\n",
            "────────────────────────┤ x ├─────┤ rz(-0.4123) ├┤ x ├┤ rx(0.7316) ├»\n",
            "                    ╭───┴───┴────╮╰─────────────╯╰───╯╰────────────╯»\n",
            "─────────────────●──┤ rx(0.7316) ├──────────────────────────────────»\n",
            "╭─────────────╮╭─┴─╮├────────────┤                                  »\n",
            "┤ rz(-0.4123) ├┤ x ├┤ rx(0.7316) ├──────────────────────────────────»\n",
            "╰─────────────╯╰───╯╰────────────╯                                  »\n",
            "\n",
            "################################################################################\n",
            "\n",
            "                                  \n",
            "──────────────────────────────────\n",
            "                                  \n",
            "──────────────────────────────────\n",
            "                                  \n",
            "──────────────────────────────────\n",
            "                                  \n",
            "──────────────────────────────────\n",
            "                                  \n",
            "──────────────────────────────────\n",
            "                    ╭────────────╮\n",
            "─────────────────●──┤ rx(0.7316) ├\n",
            "╭─────────────╮╭─┴─╮├────────────┤\n",
            "┤ rz(-0.4123) ├┤ x ├┤ rx(0.7316) ├\n",
            "╰─────────────╯╰───╯╰────────────╯\n",
            "──────────────────────────────────\n",
            "                                  \n",
            "──────────────────────────────────\n",
            "                                  \n",
            "──────────────────────────────────\n",
            "                                  \n",
            "\n"
          ]
        }
      ],
      "source": [
        "import cudaq\n",
        "from cudaq import spin\n",
        "\n",
        "from typing import List\n",
        "\n",
        "import numpy as np\n",
        "\n",
        "\n",
        "\n",
        "# The problem Hamiltonian\n",
        "hamiltonian = 0    # Initialize the hamiltonian object\n",
        "for (i, j) in edges:\n",
        "    hamiltonian += 0.5 * spin.z(i) * spin.z(j)\n",
        "\n",
        "pairs = [int(node) for edge in edges for node in edge]\n",
        "\n",
        "\n",
        "# Problem parameters.\n",
        "qubit_count = num_nodes\n",
        "layer_count: int = 2\n",
        "parameter_count: int = 2 * layer_count\n",
        "\n",
        "\n",
        "@cudaq.kernel\n",
        "def kernel_qaoa(qubit_count: int, pairs: List[int], layer_count: int, thetas: List[float]):\n",
        "    \"\"\"QAOA ansatz for Max-Cut\"\"\"\n",
        "    qvector = cudaq.qvector(qubit_count)\n",
        "\n",
        "    # Create superposition\n",
        "    h(qvector)\n",
        "\n",
        "    # Loop over the layers\n",
        "    for layer in range(layer_count):\n",
        "        # Loop over the qubits\n",
        "        # Problem unitary\n",
        "        for i in range(int(len(pairs)/2)):\n",
        "            q1, q2 = pairs[2*i], pairs[2*i+1]\n",
        "            x.ctrl(qvector[q1], qvector[q2])\n",
        "            rz(2.0 * thetas[layer], qvector[q2])\n",
        "            x.ctrl(qvector[q1], qvector[q2])\n",
        "\n",
        "        # Mixer unitary\n",
        "        for qubit in range(qubit_count):\n",
        "            rx(2.0 * thetas[layer + layer_count], qvector[qubit])\n",
        "\n",
        "\n",
        "# Specify the optimizer and its initial parameters. Make it repeatable.\n",
        "cudaq.set_random_seed(13)\n",
        "optimizer = cudaq.optimizers.COBYLA()\n",
        "np.random.seed(13)\n",
        "optimizer.initial_parameters = np.random.uniform(-np.pi / 8.0, np.pi / 8.0, parameter_count)\n",
        "print(\"Initial parameters = \", optimizer.initial_parameters)\n",
        "print(cudaq.draw(kernel_qaoa, qubit_count, pairs, layer_count, optimizer.initial_parameters))"
      ]
    },
    {
      "cell_type": "code",
      "execution_count": 16,
      "metadata": {
        "colab": {
          "base_uri": "https://localhost:8080/"
        },
        "id": "9rz2j3Q00VyT",
        "outputId": "c6c83ff6-a3ea-40df-9fb1-7922cdf3f2cb"
      },
      "outputs": [
        {
          "output_type": "stream",
          "name": "stdout",
          "text": [
            "Execution time = 0.518 (s)\n",
            "Optimal value =  -3.2731325600235515\n",
            "Optimal parameters =  [-0.34244254629196363, -0.8398784859960708, 0.23450065185067387, 0.25946099212603224]\n",
            "{ 0001111111:233 0111011111:14 1011011111:6 0001011111:669 1010011111:2 0010011111:600 1100011111:2 0100011111:2 1101101111:10 0001101111:521 0110101111:18 1010101111:13 1100101111:18 0100101111:41 1000101111:650 0111001111:18 1011001111:87 1001001111:266 0001001111:1252 1110001111:33 0110001111:8 0100001111:37 1000001111:8 0111110111:1 1011110111:2 0101110111:13 1001110111:22 0001110111:695 1110110111:4 1010110111:1 0100110111:373 1000110111:70 1111010111:3 1011010111:2 1001010111:1 0010010111:75 1000010111:2 0001100111:24 1110100111:38 0110100111:38 1001000111:25 0001000111:22 1011000111:13 0110000111:2 1111111011:2 0111111011:17 0011111011:22 1110111011:12 0010111011:63 0100111011:20 0111011011:25 1011011011:44 0101011011:12 1001011011:82 0001011011:431 0110011011:64 1000011011:7 1111101011:12 0011101011:5 0101101011:4 0001101011:14 1110101011:18 0110101011:2 1010101011:14 1100101011:45 1000101011:414 0101001011:27 0001001011:2 1110001011:14 1000001011:31 1011101111:55 0000001011:1 1111110011:46 1011110011:3 1101110011:28 0001110011:72 0110110011:326 0100110011:2095 1000110011:157 1111010011:4 0111010011:76 1011010011:3 1101010011:28 1001010011:8 0110010011:176 1010010011:28 1010011011:11 1000010011:1 0111100011:2 1011100011:14 1101100011:14 1100001011:12 0101100011:6 0001100011:3 0110100011:19 0010100011:6 1100100011:112 1100110011:274 1000100011:70 1110110011:71 0000100011:30 0111000011:5 1011000011:14 0001010011:59 1101000011:35 0101000011:10 1001000011:4 0001000011:1 1010000011:17 1100000011:1 0100000011:6 0111111101:5 0011111101:7 0101111101:2 0001111101:36 0101110011:239 1110111101:56 1010111101:120 0010111101:334 1100111101:31 1000111101:36 0000111101:10 1111011101:1 0111011101:51 1011011101:45 0011011101:879 0001011101:150 0110011101:60 1100000111:8 1010011101:109 0010011101:2892 1000011101:15 1111101101:1 0011101101:11 1110101111:12 1001101101:702 0001101101:40 0110101101:15 1010101101:3894 1010100111:16 0010101101:566 1100101101:16 0100101101:48 0000101101:338 1111001101:12 0011001101:659 1101001101:28 0001001101:223 1110001101:271 0110001101:657 1010001101:11581 1100001101:5 0100001101:16 0000001101:124 1111110101:1 0011110101:17 1101110101:29 0101110101:39 1001110101:54 0001110101:574 1010100011:13 1010110101:376 1100110101:34 0100110101:17 1000110101:32 1111010101:28 0111010101:60 1101111101:9 1001010101:6 0001010101:83 1110010101:12 0110010101:89 1010010101:8 0010010101:611 1100010101:2 0100010101:1 1000010101:5 1111100101:30 0111100101:3 0110010111:13 1011101011:21 1011100101:4 0011100101:9 1101100101:58 0101100101:3 0010100111:26 0110111101:3 1001100101:444 0101100111:16 0001100101:58 1110100101:759 0110100101:182 0010100101:388 1101001111:9 1100100101:101 0111110011:15 0111000101:2 1011000101:611 1101000101:5 0010110101:4698 0101000101:1 0001000101:21 1010000101:270 0010000101:17 0100000101:1 0001111011:78 1000000101:1 1111111001:9 1011111001:13 0011111001:1 0111101101:1 1101111001:28 0101111001:1 1011010101:36 0001111001:7 0110111001:35 1010111001:213 0000111001:39 0111011001:15 1101011001:42 1001011001:392 0110011001:165 1100111001:15 1100011001:12 1000011001:5 0000101111:4549 1111101001:2 0000111011:550 0000011101:39 0011101001:1 1001101001:104 1111011001:302 1110101001:258 0110101001:15 0010101001:5 1100101001:143 0000110111:5314 0000101001:6 1111001001:378 0111001001:16 0100011101:7 1011001001:1038 0011001001:17 0100101011:16 0101001001:2 1010100101:2051 1001001001:890 0001001001:16 0111100111:8 0110001001:13 1010001001:3974 0110111111:7 0010001001:47 0011100111:6 0100001001:1 0110001011:5 1000001001:38 1011110001:1 0011101111:55 1000101101:2950 0000100010:1 1101000010:313 0101010011:616 1000101001:856 0001111100:42 0100000111:1 1111011110:14 1001000010:1 1100000010:8 1001100011:16 1111111100:1 1100001100:3 1011101000:17 1001111010:35 1010111100:14 1100111100:11 0001001000:9 0110111011:13 1111001011:1 0100110110:1072 1000111100:2 0011011100:104 1010010000:12 0101011100:11 0010001011:6 0010001110:771 1100100111:158 1100010001:53 1110011100:3 0101010110:659 0100000010:1 0100001100:4 0011000100:26 1001011000:52 1111000101:48 0100011100:11 0000011100:33 1110111111:6 1010110100:17 0011101100:17 0101010100:20 1000110110:27 0010001100:26 0101110100:557 1110011001:383 1110000001:259 1110011011:21 0110010010:738 0101111111:2 0111101110:6 1011100010:4 1111100111:6 0010010010:35 0101001100:34 1110010010:50 1001001100:395 1101001001:180 0000001010:7 1011011010:25 0100101100:2 0001001100:69 1110011101:17 1000111000:3 1010001011:613 0111010110:898 0111110110:31 0000000011:1 0110001100:55 1000111011:96 0000110110:401 0000110011:672 0111111100:2 1110011110:14 1000001100:18 0000001100:56 0011011001:81 0101000010:109 1011101001:14 1001100010:73 1011110100:14 1101000100:64 1100011000:6 1010001010:44 0110001110:470 0001001110:10947 0110101110:90 0011110100:15 1111001111:1 0100101000:1 1110100011:12 0000100110:297 0010001101:3935 1000010001:7 0100010011:11 0001110100:8 1110011111:8 0010110001:481 0110110100:142 1000000100:10 0000101011:20 1000111001:127 1001110110:12 0001011001:43 0010110100:40 1100110100:19 0101000110:228 1000110100:3 0001011110:2040 1111010100:14 1001100111:48 0101111110:96 0011010100:50 0101010101:3 1101010100:11 0110011110:80 1111101100:14 1001111011:37 1001110100:7 0100011011:8 0000011001:25 0001010100:24 1010111000:23 1101100010:2833 1010010100:1 0011001100:238 0010010100:14 1100010100:3 1010110011:35 0011000011:9 0100010100:18 1110100010:136 0010010011:36 0010111010:2 1011001101:3793 1100111110:22 1100100001:589 1110000100:63 0001000010:59 1100111111:19 1001111000:12 1011001110:248 1110100100:435 1001011010:200 1111100100:71 1010110010:23 1111011100:25 0010100100:9 1101010000:417 1111010000:4633 1101110100:3 0111011100:86 1110001001:1980 1101001100:35 0001001010:195 1111111111:2 1100100100:88 0011011000:139 0101000100:18 0111110000:2 0010000010:15 0011110000:2 0001110000:34 1101100111:34 1101101000:58 0110100000:10 0111110100:37 1011110000:27 0000010011:20 1000011010:2 1101101100:40 0111100110:4 0100110100:14 1101000000:250 0111010000:599 1110110010:213 0101111011:37 0011010101:451 1010001000:15 0011110110:9 1101011101:4 1001011100:15 0010001111:2037 0111010111:47 1110110001:10767 1110000000:248 1101110001:731 0111000100:66 1100111000:15 0001011000:30 0000110000:5 1101101101:30 0110000010:40 1110010111:7 0101100010:118 1011100100:6 0011010000:26 0011000101:12 1000100001:385 1000100000:14 1011001000:372 0011001110:1997 1011010100:9 0111001110:661 0011010011:31 0000101100:1 0010101111:433 0110010100:59 0011110111:25 0100100011:3 0100100100:53 0111110101:21 0011000000:17 1011110101:5 0110100001:42 1001010000:17 0001111010:39 0010110111:530 0001101100:33 1111000010:7 0110001000:22 0011001000:4 1110010000:484 0110000100:47 0000111110:14 0110111110:41 1101001011:34 1111000000:548 1110010100:14 1011000100:10 1010110000:252 0010111100:45 0010100010:9 0111001000:72 1010101100:627 1011111000:5 1010010010:1 0100110000:116 1100000000:16 1001100110:168 1111110000:381 1101101011:22 1001000000:6 0111000010:33 0010011110:98 0100100111:187 0010100000:8 0101000000:4 1010011010:6 0111101100:1 0000110101:554 0110000001:3 0100001000:3 1001001000:296 0111000000:16 1100101100:29 1111101000:71 0001000000:3 1101001110:520 0100010001:10 0101110000:263 0111001100:155 0001010000:15 1010011001:2235 0001100000:16 0110101010:4 0011000010:27 1101011100:10 1000100100:38 1110111010:27 0010010000:13 0111100100:4 1001111111:4 0110010000:299 1011100110:3 1100100000:422 0000011000:8 1001110001:438 1001001110:1716 0110100100:80 0011100100:2 1011001010:12 1001101011:74 1010011000:10 1010000001:97 1010001111:276 1000001010:32 1010100000:20 0111001011:2 0101100000:4 1001001010:565 0011100011:2 1100011100:1 1011000000:1 1111101010:12 0000101000:1 0000101110:627 1101110111:3 0100010111:26 1110100000:687 1000011111:5 1100010010:12 0000111111:559 0000100100:3 1011111010:1 1111010001:583 0100101001:4 0110011000:40 0101101100:35 0000000101:1 0010001000:2 0110101000:3 1010000000:3 1101100110:714 0000100001:15 0011100000:2 0011101010:1 1000000000:2 1110111001:68 0101100100:9 0111001010:33 0111100000:7 0010011100:7 1011111011:4 0110000000:6 1010011100:7 0000110001:237 1011010000:36 0011101110:30 0011111000:5 0001100100:16 1011100111:4 1000000010:1 0101111010:258 1000101100:70 1111100001:40 0110011100:21 1100010000:37 1100010011:15 1000101000:50 0010110011:37 0000010101:9 1111111010:1 1101010110:12 0110101100:10 1110000010:21 1001000001:40 0011001011:17 1110101100:73 0010101010:2 1000010100:2 1100110000:809 1111010110:11 1000110000:11 0111011000:73 1100101000:70 1111001110:245 0100111001:34 0110110010:2239 1001000100:10 1110110101:174 1101110000:2063 1110000011:36 0101011110:799 1010101000:22 0000001111:421 1000100111:84 0000011010:34 0001101000:13 1101010001:197 0101001101:13 0000110100:2 1001101000:12 1101111011:6 0101010010:3844 1111000100:515 0011101000:1 0111101000:1 1110011000:30 1010101110:36 0100000100:3 1111001100:671 0100011000:5 1111111000:1 1100110110:17 1011011000:185 1000001101:124 0100111000:14 1001110011:53 1001100000:27 1001011110:47 0101101110:214 0100001011:24 1011011100:5 1110001100:66 1010011110:3 0101111100:16 0111110010:131 0110111000:28 0001000100:15 1110001000:705 0001111000:1 0101011101:3 1011101100:17 1000011000:10 0011100110:14 0000010111:69 0111010100:420 1001000101:11 1101100100:483 1010110001:1189 1010001100:263 0010000100:15 1101111000:30 1010010001:232 0101010111:31 1001111100:2 0101101001:6 0010111000:1 1100000100:19 0010011011:464 0110111100:2 0011001010:34 1110111100:2 1000100010:49 1101011000:19 0100100010:25 0000100111:593 1100100010:812 1010000100:30 0011010110:124 1111001010:507 0110100110:425 1010100010:1 0110100010:4 1001111001:46 0001100010:18 1011011001:842 0111100010:14 1111100010:31 1110111000:23 1011100001:13 1110101110:36 0000010010:1 0101011111:20 1011010001:167 0001010010:30 1001010010:20 1011001100:2095 1101010010:533 1011010010:48 0111010010:2866 1111010010:343 1100011011:1 0000110010:15 1001001101:2285 1111110100:1 1101111100:4 0100110010:3971 1100111011:7 1100110010:717 0010110010:10 1010100100:12 0001110010:283 1010100110:12 1001110000:9 1001110010:657 0011110001:14 0001011100:10 0101110010:11390 1101110010:3819 0011110010:3 0110110101:591 0101101010:4 0000000000:2 1011110010:24 1111110010:117 0100001010:4 1011001011:19 1100001010:19 1010111011:19 0010001010:21 1000000011:1 0010011001:694 0110001010:53 0000000100:2 1110001010:523 0101001010:407 1101001010:4659 1100001111:3 0000011011:65 0000101010:27 0100010000:38 1000001110:18 0101101111:16 1000101010:58 1111011000:583 1011000001:22 1110110000:1253 0100101010:33 0010101011:10 1100101010:448 1111001000:5436 0011010001:52 1111100011:24 1010101010:2 1110101010:97 1001101100:148 1010010110:3 0001101010:8 0001010111:137 1001101010:95 0100010010:63 1101101010:595 0111101010:8 0100011010:4 1100110111:2 1110000101:45 1001100100:70 1100011010:6 0111001101:22 1001010100:2 1001100001:81 0110011010:451 0111110001:6 1110011010:72 0001011010:753 0110000101:44 1100100110:96 1000100101:563 0101011010:2033 0100001110:2 1101011010:434 1110001110:89 1101101001:143 1100001001:4 1011111100:2 0011011010:99 1111011010:210 0010010110:142 0101101000:2 0000111010:42 0111000111:1 0110110110:859 1000111010:3 1100001000:21 0100111010:622 1010111010:4 0110111010:6 0010111111:204 1101111010:17 0011111010:1 0111111010:4 0000000111:2 0000000110:8 1001011111:11 1000000110:11 1001001011:142 0100000110:12 1111100000:31 0010000110:38 0101110001:38 0011010010:18 1010000110:2 0011000111:13 0110000110:54 1101001000:619 1110000110:2 1100011101:5 0001000110:64 1111101110:8 1101000110:39 0110011111:27 1011000110:33 0111111001:4 0111000110:153 1111000110:33 0100100110:827 1000011100:2 1111100110:39 0010100110:47 0010000001:44 1110100110:60 0010000011:2 0010101100:22 1100110001:2047 1000110010:18 0001100110:380 0101100110:2354 0000010110:5 0000010100:17 1001101110:678 0101001110:1254 0011011011:84 0100100101:28 1000010000:10 0010101000:10 0100010110:12 1100010110:2 0110010110:87 0001010110:266 1001010110:13 0111011110:464 1010101001:634 1011010110:5 0010110110:170 0110110000:239 1100011110:2 1010000111:27 0011000110:10 0001110110:2169 0101110110:4071 0011111111:15 1101110110:55 1110101000:134 1011110110:4 0110110111:325 0011111100:4 1111110110:1 1110010011:37 0000001110:196 0111010001:89 1001000110:37 1100001110:7 1101011111:5 1000100110:12 1010001110:51 1001111101:33 0010111001:46 0101010001:40 1000101110:76 0100101110:125 1100101110:68 0001101110:1729 0000011111:27 1101010111:4 1010100001:774 0010101110:166 1110010001:1809 1110101101:26 0101011000:21 1101101110:325 1101010101:3 1000010010:6 1011101110:5 1111011011:5 1011101101:64 0101111000:32 0000011110:32 1000011110:3 0111101111:13 1111110001:193 0100011110:17 0010000111:28 1101011110:42 0011010111:56 0011011110:555 0011001111:820 1101100000:576 1011011110:6 1100111010:13 0100111110:27 0010111110:26 1010111110:4 0100111100:17 1110111110:4 0001111110:276 1001111110:5 1101111110:38 1010110110:6 0011111110:4 1001011101:6 0111111110:4 1000000001:8 1100000001:4 0001000001:8 0101001111:258 0101000001:1 0101010000:15 1101000001:28 0101000111:16 0010011000:20 0010011010:34 0011000001:20 1000000111:3 1101011011:11 1111000001:11 1110110110:12 0010100001:46 1000111111:12 0011011111:417 0100100001:4 1110100001:2021 1001101111:312 0001100001:17 0000100101:217 1101100001:94 0111011010:575 0011100001:1 0000010001:11 0101011001:9 0010010001:314 1111000111:4 0100110001:262 0110010001:660 0001010001:46 1001010001:79 0010110000:16 1000110001:677 0111100001:4 0110110001:1778 0001110001:97 }\n",
            "\n",
            "The optimal bitstring with max. number of shots = 1010001101\n"
          ]
        }
      ],
      "source": [
        "import time\n",
        "\n",
        "\n",
        "# Define the simulation target:\n",
        "cudaq.set_target(\"nvidia\")  # \"nvidia\" for GPU, \"qpp-cpu\" for CPU\n",
        "\n",
        "\n",
        "# Define the objective, return `<state(params) | H | state(params)>`\n",
        "def objective(parameters):\n",
        "    return cudaq.observe(kernel_qaoa, hamiltonian, qubit_count, pairs, layer_count,\n",
        "                         parameters).expectation()\n",
        "\n",
        "\n",
        "# Optimize!\n",
        "t0 = time.time()\n",
        "optimal_expectation, optimal_parameters = optimizer.optimize(\n",
        "    dimensions=parameter_count, function=objective)\n",
        "print(\"Execution time =\", round(time.time()-t0, 3), \"(s)\")\n",
        "\n",
        "# Print the optimized value and its parameters\n",
        "print(\"Optimal value = \", optimal_expectation)\n",
        "print(\"Optimal parameters = \", optimal_parameters)\n",
        "\n",
        "# Sample the circuit using the optimized parameters\n",
        "counts = cudaq.sample(kernel_qaoa, qubit_count, pairs, layer_count, optimal_parameters, shots_count=2**18)\n",
        "print(counts)\n",
        "\n",
        "max = 0\n",
        "for bitstring in counts:\n",
        "    if counts[bitstring] > max:\n",
        "        max = counts[bitstring]\n",
        "        bitstring_max = bitstring\n",
        "print(\"The optimal bitstring with max. number of shots =\", bitstring_max)"
      ]
    }
  ],
  "metadata": {
    "accelerator": "GPU",
    "colab": {
      "gpuType": "T4",
      "provenance": [],
      "include_colab_link": true
    },
    "kernelspec": {
      "display_name": "Python 3",
      "name": "python3"
    },
    "language_info": {
      "name": "python"
    }
  },
  "nbformat": 4,
  "nbformat_minor": 0
}