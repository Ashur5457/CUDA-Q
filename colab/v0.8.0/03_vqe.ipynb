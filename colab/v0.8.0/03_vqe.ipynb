{
  "cells": [
    {
      "cell_type": "markdown",
      "metadata": {
        "id": "view-in-github",
        "colab_type": "text"
      },
      "source": [
        "<a href=\"https://colab.research.google.com/github/Squirtle007/CUDA-Q/blob/main/colab/v0.8.0/03_vqe.ipynb\" target=\"_parent\"><img src=\"https://colab.research.google.com/assets/colab-badge.svg\" alt=\"Open In Colab\"/></a>"
      ]
    },
    {
      "cell_type": "markdown",
      "metadata": {
        "id": "Ar02CoRdfQau"
      },
      "source": [
        "**Set up CUDA-Q Environment**"
      ]
    },
    {
      "cell_type": "code",
      "execution_count": null,
      "metadata": {
        "colab": {
          "base_uri": "https://localhost:8080/"
        },
        "id": "2JHNaUJjgL2Y",
        "outputId": "d3d72fad-9968-4936-e78d-0b7234084bbe"
      },
      "outputs": [
        {
          "output_type": "stream",
          "name": "stdout",
          "text": [
            "Collecting cuda-quantum==0.8.0\n",
            "  Downloading cuda_quantum-0.8.0-cp310-cp310-manylinux_2_28_x86_64.whl.metadata (7.6 kB)\n",
            "Collecting astpretty~=3.0 (from cuda-quantum==0.8.0)\n",
            "  Downloading astpretty-3.0.0-py2.py3-none-any.whl.metadata (5.5 kB)\n",
            "Collecting cuquantum-cu11~=24.03 (from cuda-quantum==0.8.0)\n",
            "  Downloading cuquantum_cu11-24.8.0-py3-none-manylinux2014_x86_64.whl.metadata (2.7 kB)\n",
            "Collecting graphlib-backport>=1.0 (from cuda-quantum==0.8.0)\n",
            "  Downloading graphlib_backport-1.1.0-py3-none-any.whl.metadata (4.4 kB)\n",
            "Requirement already satisfied: numpy>=1.24 in /usr/local/lib/python3.10/dist-packages (from cuda-quantum==0.8.0) (1.26.4)\n",
            "Requirement already satisfied: requests>=2.31 in /usr/local/lib/python3.10/dist-packages (from cuda-quantum==0.8.0) (2.32.3)\n",
            "Collecting nvidia-cublas-cu11==11.11.3.6 (from cuda-quantum==0.8.0)\n",
            "  Downloading nvidia_cublas_cu11-11.11.3.6-py3-none-manylinux2014_x86_64.whl.metadata (1.5 kB)\n",
            "Collecting nvidia-cuda-runtime-cu11==11.8.89 (from cuda-quantum==0.8.0)\n",
            "  Downloading nvidia_cuda_runtime_cu11-11.8.89-py3-none-manylinux2014_x86_64.whl.metadata (1.5 kB)\n",
            "Collecting nvidia-cusolver-cu11==11.4.1.48 (from cuda-quantum==0.8.0)\n",
            "  Downloading nvidia_cusolver_cu11-11.4.1.48-py3-none-manylinux2014_x86_64.whl.metadata (1.6 kB)\n",
            "Collecting custatevec-cu11==1.6.0.post1 (from cuquantum-cu11~=24.03->cuda-quantum==0.8.0)\n",
            "  Downloading custatevec_cu11-1.6.0.post1-py3-none-manylinux2014_x86_64.whl.metadata (2.1 kB)\n",
            "Collecting cutensornet-cu11==2.5.0 (from cuquantum-cu11~=24.03->cuda-quantum==0.8.0)\n",
            "  Downloading cutensornet_cu11-2.5.0-py3-none-manylinux2014_x86_64.whl.metadata (2.0 kB)\n",
            "Collecting cutensor-cu11<3,>=2.0.1 (from cutensornet-cu11==2.5.0->cuquantum-cu11~=24.03->cuda-quantum==0.8.0)\n",
            "  Downloading cutensor_cu11-2.0.2-py3-none-manylinux2014_x86_64.whl.metadata (2.1 kB)\n",
            "Requirement already satisfied: charset-normalizer<4,>=2 in /usr/local/lib/python3.10/dist-packages (from requests>=2.31->cuda-quantum==0.8.0) (3.3.2)\n",
            "Requirement already satisfied: idna<4,>=2.5 in /usr/local/lib/python3.10/dist-packages (from requests>=2.31->cuda-quantum==0.8.0) (3.10)\n",
            "Requirement already satisfied: urllib3<3,>=1.21.1 in /usr/local/lib/python3.10/dist-packages (from requests>=2.31->cuda-quantum==0.8.0) (2.2.3)\n",
            "Requirement already satisfied: certifi>=2017.4.17 in /usr/local/lib/python3.10/dist-packages (from requests>=2.31->cuda-quantum==0.8.0) (2024.8.30)\n",
            "Downloading cuda_quantum-0.8.0-cp310-cp310-manylinux_2_28_x86_64.whl (118.7 MB)\n",
            "\u001b[2K   \u001b[90m━━━━━━━━━━━━━━━━━━━━━━━━━━━━━━━━━━━━━━━━\u001b[0m \u001b[32m118.7/118.7 MB\u001b[0m \u001b[31m5.1 MB/s\u001b[0m eta \u001b[36m0:00:00\u001b[0m\n",
            "\u001b[?25hDownloading nvidia_cublas_cu11-11.11.3.6-py3-none-manylinux2014_x86_64.whl (417.9 MB)\n",
            "\u001b[2K   \u001b[90m━━━━━━━━━━━━━━━━━━━━━━━━━━━━━━━━━━━━━━━━\u001b[0m \u001b[32m417.9/417.9 MB\u001b[0m \u001b[31m3.8 MB/s\u001b[0m eta \u001b[36m0:00:00\u001b[0m\n",
            "\u001b[?25hDownloading nvidia_cuda_runtime_cu11-11.8.89-py3-none-manylinux2014_x86_64.whl (875 kB)\n",
            "\u001b[2K   \u001b[90m━━━━━━━━━━━━━━━━━━━━━━━━━━━━━━━━━━━━━━━━\u001b[0m \u001b[32m875.6/875.6 kB\u001b[0m \u001b[31m51.8 MB/s\u001b[0m eta \u001b[36m0:00:00\u001b[0m\n",
            "\u001b[?25hDownloading nvidia_cusolver_cu11-11.4.1.48-py3-none-manylinux2014_x86_64.whl (128.2 MB)\n",
            "\u001b[2K   \u001b[90m━━━━━━━━━━━━━━━━━━━━━━━━━━━━━━━━━━━━━━━━\u001b[0m \u001b[32m128.2/128.2 MB\u001b[0m \u001b[31m7.4 MB/s\u001b[0m eta \u001b[36m0:00:00\u001b[0m\n",
            "\u001b[?25hDownloading astpretty-3.0.0-py2.py3-none-any.whl (4.9 kB)\n",
            "Downloading cuquantum_cu11-24.8.0-py3-none-manylinux2014_x86_64.whl (7.0 kB)\n",
            "Downloading custatevec_cu11-1.6.0.post1-py3-none-manylinux2014_x86_64.whl (38.6 MB)\n",
            "\u001b[2K   \u001b[90m━━━━━━━━━━━━━━━━━━━━━━━━━━━━━━━━━━━━━━━━\u001b[0m \u001b[32m38.6/38.6 MB\u001b[0m \u001b[31m5.7 MB/s\u001b[0m eta \u001b[36m0:00:00\u001b[0m\n",
            "\u001b[?25hDownloading cutensornet_cu11-2.5.0-py3-none-manylinux2014_x86_64.whl (2.2 MB)\n",
            "\u001b[2K   \u001b[90m━━━━━━━━━━━━━━━━━━━━━━━━━━━━━━━━━━━━━━━━\u001b[0m \u001b[32m2.2/2.2 MB\u001b[0m \u001b[31m11.4 MB/s\u001b[0m eta \u001b[36m0:00:00\u001b[0m\n",
            "\u001b[?25hDownloading graphlib_backport-1.1.0-py3-none-any.whl (7.1 kB)\n",
            "Downloading cutensor_cu11-2.0.2-py3-none-manylinux2014_x86_64.whl (148.8 MB)\n",
            "\u001b[2K   \u001b[90m━━━━━━━━━━━━━━━━━━━━━━━━━━━━━━━━━━━━━━━━\u001b[0m \u001b[32m148.8/148.8 MB\u001b[0m \u001b[31m3.6 MB/s\u001b[0m eta \u001b[36m0:00:00\u001b[0m\n",
            "\u001b[?25hInstalling collected packages: cutensor-cu11, custatevec-cu11, nvidia-cuda-runtime-cu11, nvidia-cublas-cu11, graphlib-backport, cutensornet-cu11, astpretty, nvidia-cusolver-cu11, cuquantum-cu11, cuda-quantum\n",
            "Successfully installed astpretty-3.0.0 cuda-quantum-0.8.0 cuquantum-cu11-24.8.0 custatevec-cu11-1.6.0.post1 cutensor-cu11-2.0.2 cutensornet-cu11-2.5.0 graphlib-backport-1.1.0 nvidia-cublas-cu11-11.11.3.6 nvidia-cuda-runtime-cu11-11.8.89 nvidia-cusolver-cu11-11.4.1.48\n"
          ]
        }
      ],
      "source": [
        "#The following commands are used to set up the environment in Colab\n",
        "%pip install cuda-quantum==0.8.0"
      ]
    },
    {
      "cell_type": "markdown",
      "source": [
        "# Cost Minimization\n",
        "\n",
        "Below, we start with a basic example of a hybrid variational algorithm that involves flipping the Bloch vector of a qubit from the $|{0}\\rangle$ state to the $|{1}\\rangle$ state. First, we import the relevant packages and set our backend to simulate our workflow on NVIDIA GPUs."
      ],
      "metadata": {
        "id": "JEiYtVeq-Mk6"
      }
    },
    {
      "cell_type": "code",
      "execution_count": null,
      "metadata": {
        "id": "pW2noQygfPTk"
      },
      "outputs": [],
      "source": [
        "import cudaq\n",
        "from typing import List\n",
        "\n",
        "cudaq.set_target(\"nvidia\")"
      ]
    },
    {
      "cell_type": "code",
      "execution_count": null,
      "metadata": {
        "colab": {
          "base_uri": "https://localhost:8080/"
        },
        "id": "X7nPDpcZfWml",
        "outputId": "b1018e42-0dcd-4468-e725-9b8e73a37c24"
      },
      "outputs": [
        {
          "output_type": "stream",
          "name": "stdout",
          "text": [
            "     ╭───────╮╭───────╮\n",
            "q0 : ┤ rx(0) ├┤ ry(0) ├\n",
            "     ╰───────╯╰───────╯\n",
            "\n"
          ]
        }
      ],
      "source": [
        "# Initialize a kernel/ ansatz and variational parameters.\n",
        "@cudaq.kernel\n",
        "def kernel(angles: List[float]):\n",
        "    # Allocate a qubit that is initialised to the |0> state.\n",
        "    qubit = cudaq.qubit()\n",
        "    # Define gates and the qubits they act upon.\n",
        "    rx(angles[0], qubit)\n",
        "    ry(angles[1], qubit)\n",
        "\n",
        "\n",
        "# Our hamiltonian will be the Z expectation value of our qubit.\n",
        "hamiltonian = cudaq.spin.z(0)\n",
        "\n",
        "# Initial gate parameters which intialize the qubit in the zero state\n",
        "initial_parameters = [0, 0]\n",
        "\n",
        "print(cudaq.draw(kernel, initial_parameters))"
      ]
    },
    {
      "cell_type": "markdown",
      "source": [
        "We build our cost function such that its minimal value corresponds to the qubit being in the $|{1}\\rangle$ state. The `observe` call below allows us to simulate our state vector $|{\\psi}\\rangle$ and calculate\n",
        "\n",
        "$$ \\langle \\psi | Z | \\psi \\rangle. $$"
      ],
      "metadata": {
        "id": "sjfYLWqh-SBh"
      }
    },
    {
      "cell_type": "code",
      "execution_count": null,
      "metadata": {
        "id": "hU23Fu_GfaC7"
      },
      "outputs": [],
      "source": [
        "cost_values = []\n",
        "\n",
        "\n",
        "def cost(parameters):\n",
        "    \"\"\"Returns the expectation value as our cost.\"\"\"\n",
        "    expectation_value = cudaq.observe(kernel, hamiltonian,\n",
        "                                      parameters).expectation()\n",
        "    cost_values.append(expectation_value)\n",
        "    return expectation_value"
      ]
    },
    {
      "cell_type": "code",
      "source": [
        "# We see that the initial value of our cost function is one, demonstrating that our qubit is in the zero state\n",
        "initial_cost_value = cost(initial_parameters)\n",
        "print(initial_cost_value)"
      ],
      "metadata": {
        "id": "gzAj_XfDa869",
        "outputId": "3fd607d0-7821-4858-8bcd-0a7c843bb41d",
        "colab": {
          "base_uri": "https://localhost:8080/"
        }
      },
      "execution_count": null,
      "outputs": [
        {
          "output_type": "stream",
          "name": "stdout",
          "text": [
            "1.0\n"
          ]
        }
      ]
    },
    {
      "cell_type": "markdown",
      "source": [
        "Below we use our built-in optimization suite to minimize the cost function. We will be using the gradient-free COBYLA alogrithm."
      ],
      "metadata": {
        "id": "W-LtHvZva_hP"
      }
    },
    {
      "cell_type": "code",
      "execution_count": null,
      "metadata": {
        "id": "Abq7lKT4fbNN"
      },
      "outputs": [],
      "source": [
        "# Define a CUDA-Q optimizer.\n",
        "optimizer = cudaq.optimizers.COBYLA()\n",
        "optimizer.initial_parameters = initial_parameters\n",
        "\n",
        "result = optimizer.optimize(dimensions=2, function=cost)"
      ]
    },
    {
      "cell_type": "code",
      "execution_count": null,
      "metadata": {
        "colab": {
          "base_uri": "https://localhost:8080/",
          "height": 467
        },
        "id": "kkalE-exffTQ",
        "outputId": "1b54b21c-4afa-40dd-cc78-648d22c3ef94"
      },
      "outputs": [
        {
          "output_type": "execute_result",
          "data": {
            "text/plain": [
              "Text(0, 0.5, 'Cost Value')"
            ]
          },
          "metadata": {},
          "execution_count": 7
        },
        {
          "output_type": "display_data",
          "data": {
            "text/plain": [
              "<Figure size 640x480 with 1 Axes>"
            ],
            "image/png": "[encoded data removed]"
          },
          "metadata": {}
        }
      ],
      "source": [
        "# Plotting how the value of the cost function decreases during the minimization procedure.\n",
        "import matplotlib.pyplot as plt\n",
        "\n",
        "x_values = list(range(len(cost_values)))\n",
        "y_values = cost_values\n",
        "\n",
        "plt.plot(x_values, y_values)\n",
        "\n",
        "plt.xlabel(\"Epochs\")\n",
        "plt.ylabel(\"Cost Value\")"
      ]
    },
    {
      "cell_type": "markdown",
      "source": [
        "We see that the final value of our cost function,\n",
        "\n",
        "$$ \\langle \\psi | Z | \\psi \\rangle = -1, $$\n",
        "\n",
        "demonstrating that the qubit is in the $|{1}\\rangle$ state."
      ],
      "metadata": {
        "id": "dLs8dMA--ah_"
      }
    },
    {
      "cell_type": "markdown",
      "metadata": {
        "id": "2K6qB3wVfpCb"
      },
      "source": [
        "# Variational Quantum Eigensolver"
      ]
    },
    {
      "cell_type": "markdown",
      "metadata": {
        "id": "TAm6R8avfsh8"
      },
      "source": [
        "A common application of the Variational Quantum Eigensolver (VQE) algorithm is to compute the ground state energy of a molecular system. The code below demonstrates how to perform classical preprocessing for a $H_2$ molecule (i.e. obtain the integrals from a Hartree-Fock computation to build the molecular Hamiltonian), prepare the initial Hartree-Fock state on the quantum register, add the parameterized UCCSD ansatz to the kernel, and select the COBYLA optimizer.  We are then ready to call `cudaq:vqe` to estimate the minimum energy of the system."
      ]
    },
    {
      "cell_type": "code",
      "execution_count": null,
      "metadata": {
        "colab": {
          "base_uri": "https://localhost:8080/"
        },
        "id": "WeVYDfw-fvuG",
        "outputId": "c4a5a032-26b1-42f8-e54e-991cc4850244"
      },
      "outputs": [
        {
          "output_type": "stream",
          "name": "stdout",
          "text": [
            "Collecting openfermionpyscf==0.5\n",
            "  Downloading openfermionpyscf-0.5-py3-none-any.whl.metadata (6.9 kB)\n",
            "Collecting openfermion>=0.5 (from openfermionpyscf==0.5)\n",
            "  Downloading openfermion-1.6.1-py3-none-any.whl.metadata (10 kB)\n",
            "Collecting pyscf (from openfermionpyscf==0.5)\n",
            "  Downloading pyscf-2.7.0-py3-none-manylinux_2_17_x86_64.manylinux2014_x86_64.whl.metadata (6.2 kB)\n",
            "Requirement already satisfied: pytest in /usr/local/lib/python3.10/dist-packages (from openfermionpyscf==0.5) (7.4.4)\n",
            "Collecting cirq-core~=1.0 (from openfermion>=0.5->openfermionpyscf==0.5)\n",
            "  Downloading cirq_core-1.4.1-py3-none-any.whl.metadata (1.8 kB)\n",
            "Collecting deprecation (from openfermion>=0.5->openfermionpyscf==0.5)\n",
            "  Downloading deprecation-2.1.0-py2.py3-none-any.whl.metadata (4.6 kB)\n",
            "Requirement already satisfied: h5py>=2.8 in /usr/local/lib/python3.10/dist-packages (from openfermion>=0.5->openfermionpyscf==0.5) (3.11.0)\n",
            "Requirement already satisfied: networkx in /usr/local/lib/python3.10/dist-packages (from openfermion>=0.5->openfermionpyscf==0.5) (3.3)\n",
            "Requirement already satisfied: numpy>=1.11.0 in /usr/local/lib/python3.10/dist-packages (from openfermion>=0.5->openfermionpyscf==0.5) (1.26.4)\n",
            "Collecting pubchempy (from openfermion>=0.5->openfermionpyscf==0.5)\n",
            "  Downloading PubChemPy-1.0.4.tar.gz (29 kB)\n",
            "  Preparing metadata (setup.py) ... \u001b[?25l\u001b[?25hdone\n",
            "Requirement already satisfied: requests>=2.18 in /usr/local/lib/python3.10/dist-packages (from openfermion>=0.5->openfermionpyscf==0.5) (2.32.3)\n",
            "Requirement already satisfied: scipy>=1.1.0 in /usr/local/lib/python3.10/dist-packages (from openfermion>=0.5->openfermionpyscf==0.5) (1.13.1)\n",
            "Requirement already satisfied: sympy in /usr/local/lib/python3.10/dist-packages (from openfermion>=0.5->openfermionpyscf==0.5) (1.13.3)\n",
            "Requirement already satisfied: setuptools in /usr/local/lib/python3.10/dist-packages (from pyscf->openfermionpyscf==0.5) (71.0.4)\n",
            "Requirement already satisfied: iniconfig in /usr/local/lib/python3.10/dist-packages (from pytest->openfermionpyscf==0.5) (2.0.0)\n",
            "Requirement already satisfied: packaging in /usr/local/lib/python3.10/dist-packages (from pytest->openfermionpyscf==0.5) (24.1)\n",
            "Requirement already satisfied: pluggy<2.0,>=0.12 in /usr/local/lib/python3.10/dist-packages (from pytest->openfermionpyscf==0.5) (1.5.0)\n",
            "Requirement already satisfied: exceptiongroup>=1.0.0rc8 in /usr/local/lib/python3.10/dist-packages (from pytest->openfermionpyscf==0.5) (1.2.2)\n",
            "Requirement already satisfied: tomli>=1.0.0 in /usr/local/lib/python3.10/dist-packages (from pytest->openfermionpyscf==0.5) (2.0.2)\n",
            "Requirement already satisfied: attrs>=21.3.0 in /usr/local/lib/python3.10/dist-packages (from cirq-core~=1.0->openfermion>=0.5->openfermionpyscf==0.5) (24.2.0)\n",
            "Collecting duet>=0.2.8 (from cirq-core~=1.0->openfermion>=0.5->openfermionpyscf==0.5)\n",
            "  Downloading duet-0.2.9-py3-none-any.whl.metadata (2.3 kB)\n",
            "Requirement already satisfied: matplotlib~=3.0 in /usr/local/lib/python3.10/dist-packages (from cirq-core~=1.0->openfermion>=0.5->openfermionpyscf==0.5) (3.7.1)\n",
            "Requirement already satisfied: pandas in /usr/local/lib/python3.10/dist-packages (from cirq-core~=1.0->openfermion>=0.5->openfermionpyscf==0.5) (2.2.2)\n",
            "Requirement already satisfied: sortedcontainers~=2.0 in /usr/local/lib/python3.10/dist-packages (from cirq-core~=1.0->openfermion>=0.5->openfermionpyscf==0.5) (2.4.0)\n",
            "Requirement already satisfied: typing-extensions>=4.2 in /usr/local/lib/python3.10/dist-packages (from cirq-core~=1.0->openfermion>=0.5->openfermionpyscf==0.5) (4.12.2)\n",
            "Requirement already satisfied: tqdm in /usr/local/lib/python3.10/dist-packages (from cirq-core~=1.0->openfermion>=0.5->openfermionpyscf==0.5) (4.66.5)\n",
            "Requirement already satisfied: charset-normalizer<4,>=2 in /usr/local/lib/python3.10/dist-packages (from requests>=2.18->openfermion>=0.5->openfermionpyscf==0.5) (3.3.2)\n",
            "Requirement already satisfied: idna<4,>=2.5 in /usr/local/lib/python3.10/dist-packages (from requests>=2.18->openfermion>=0.5->openfermionpyscf==0.5) (3.10)\n",
            "Requirement already satisfied: urllib3<3,>=1.21.1 in /usr/local/lib/python3.10/dist-packages (from requests>=2.18->openfermion>=0.5->openfermionpyscf==0.5) (2.2.3)\n",
            "Requirement already satisfied: certifi>=2017.4.17 in /usr/local/lib/python3.10/dist-packages (from requests>=2.18->openfermion>=0.5->openfermionpyscf==0.5) (2024.8.30)\n",
            "Requirement already satisfied: mpmath<1.4,>=1.1.0 in /usr/local/lib/python3.10/dist-packages (from sympy->openfermion>=0.5->openfermionpyscf==0.5) (1.3.0)\n",
            "Requirement already satisfied: contourpy>=1.0.1 in /usr/local/lib/python3.10/dist-packages (from matplotlib~=3.0->cirq-core~=1.0->openfermion>=0.5->openfermionpyscf==0.5) (1.3.0)\n",
            "Requirement already satisfied: cycler>=0.10 in /usr/local/lib/python3.10/dist-packages (from matplotlib~=3.0->cirq-core~=1.0->openfermion>=0.5->openfermionpyscf==0.5) (0.12.1)\n",
            "Requirement already satisfied: fonttools>=4.22.0 in /usr/local/lib/python3.10/dist-packages (from matplotlib~=3.0->cirq-core~=1.0->openfermion>=0.5->openfermionpyscf==0.5) (4.54.1)\n",
            "Requirement already satisfied: kiwisolver>=1.0.1 in /usr/local/lib/python3.10/dist-packages (from matplotlib~=3.0->cirq-core~=1.0->openfermion>=0.5->openfermionpyscf==0.5) (1.4.7)\n",
            "Requirement already satisfied: pillow>=6.2.0 in /usr/local/lib/python3.10/dist-packages (from matplotlib~=3.0->cirq-core~=1.0->openfermion>=0.5->openfermionpyscf==0.5) (10.4.0)\n",
            "Requirement already satisfied: pyparsing>=2.3.1 in /usr/local/lib/python3.10/dist-packages (from matplotlib~=3.0->cirq-core~=1.0->openfermion>=0.5->openfermionpyscf==0.5) (3.1.4)\n",
            "Requirement already satisfied: python-dateutil>=2.7 in /usr/local/lib/python3.10/dist-packages (from matplotlib~=3.0->cirq-core~=1.0->openfermion>=0.5->openfermionpyscf==0.5) (2.8.2)\n",
            "Requirement already satisfied: pytz>=2020.1 in /usr/local/lib/python3.10/dist-packages (from pandas->cirq-core~=1.0->openfermion>=0.5->openfermionpyscf==0.5) (2024.2)\n",
            "Requirement already satisfied: tzdata>=2022.7 in /usr/local/lib/python3.10/dist-packages (from pandas->cirq-core~=1.0->openfermion>=0.5->openfermionpyscf==0.5) (2024.2)\n",
            "Requirement already satisfied: six>=1.5 in /usr/local/lib/python3.10/dist-packages (from python-dateutil>=2.7->matplotlib~=3.0->cirq-core~=1.0->openfermion>=0.5->openfermionpyscf==0.5) (1.16.0)\n",
            "Downloading openfermionpyscf-0.5-py3-none-any.whl (16 kB)\n",
            "Downloading openfermion-1.6.1-py3-none-any.whl (1.2 MB)\n",
            "\u001b[2K   \u001b[90m━━━━━━━━━━━━━━━━━━━━━━━━━━━━━━━━━━━━━━━━\u001b[0m \u001b[32m1.2/1.2 MB\u001b[0m \u001b[31m37.8 MB/s\u001b[0m eta \u001b[36m0:00:00\u001b[0m\n",
            "\u001b[?25hDownloading pyscf-2.7.0-py3-none-manylinux_2_17_x86_64.manylinux2014_x86_64.whl (48.7 MB)\n",
            "\u001b[2K   \u001b[90m━━━━━━━━━━━━━━━━━━━━━━━━━━━━━━━━━━━━━━━━\u001b[0m \u001b[32m48.7/48.7 MB\u001b[0m \u001b[31m16.2 MB/s\u001b[0m eta \u001b[36m0:00:00\u001b[0m\n",
            "\u001b[?25hDownloading cirq_core-1.4.1-py3-none-any.whl (1.9 MB)\n",
            "\u001b[2K   \u001b[90m━━━━━━━━━━━━━━━━━━━━━━━━━━━━━━━━━━━━━━━━\u001b[0m \u001b[32m1.9/1.9 MB\u001b[0m \u001b[31m72.1 MB/s\u001b[0m eta \u001b[36m0:00:00\u001b[0m\n",
            "\u001b[?25hDownloading deprecation-2.1.0-py2.py3-none-any.whl (11 kB)\n",
            "Downloading duet-0.2.9-py3-none-any.whl (29 kB)\n",
            "Building wheels for collected packages: pubchempy\n",
            "  Building wheel for pubchempy (setup.py) ... \u001b[?25l\u001b[?25hdone\n",
            "  Created wheel for pubchempy: filename=PubChemPy-1.0.4-py3-none-any.whl size=13820 sha256=39ac75814391279dfb6e0905b32beb0bc26d4fda587a51294461400bb63a6a92\n",
            "  Stored in directory: /root/.cache/pip/wheels/90/7c/45/18a0671e3c3316966ef7ed9ad2b3f3300a7e41d3421a44e799\n",
            "Successfully built pubchempy\n",
            "Installing collected packages: pubchempy, duet, deprecation, pyscf, cirq-core, openfermion, openfermionpyscf\n",
            "Successfully installed cirq-core-1.4.1 deprecation-2.1.0 duet-0.2.9 openfermion-1.6.1 openfermionpyscf-0.5 pubchempy-1.0.4 pyscf-2.7.0\n"
          ]
        }
      ],
      "source": [
        "!pip install openfermionpyscf==0.5"
      ]
    },
    {
      "cell_type": "code",
      "execution_count": null,
      "metadata": {
        "id": "VyzGtQ0rf1Na"
      },
      "outputs": [],
      "source": [
        "import cudaq\n",
        "import matplotlib.pyplot as plt\n",
        "from scipy.optimize import minimize\n",
        "import numpy as np\n",
        "\n",
        "# Single precision\n",
        "cudaq.set_target(\"nvidia\")\n",
        "# Double precision\n",
        "#cudaq.set_target(\"nvidia-fp64\")"
      ]
    },
    {
      "cell_type": "markdown",
      "metadata": {
        "id": "44EV0RgEf4im"
      },
      "source": [
        "The problem of interest here is a chain of hydrogen atoms seperated along the z-axis at a fixed interval called the bond distance.\n",
        "\n",
        "The interatomic electrostatic forces due to the electrons and protons and the shielding by the neutrons creates a chemical system whose energy can be minimised to find a stable configuration.\n",
        "\n",
        "Let us first begin by defining the molecule and other metadata about the problem.\n"
      ]
    },
    {
      "cell_type": "code",
      "execution_count": null,
      "metadata": {
        "id": "O2EVWbe3f6BU"
      },
      "outputs": [],
      "source": [
        "# Number of hydrogen atoms.\n",
        "hydrogen_count = 2\n",
        "\n",
        "# Distance between the atoms in Angstroms.\n",
        "bond_distance = 0.7474\n",
        "\n",
        "# Define a linear chain of Hydrogen atoms\n",
        "geometry = [('H', (0, 0, i * bond_distance)) for i in range(hydrogen_count)]\n",
        "\n",
        "molecule, data = cudaq.chemistry.create_molecular_hamiltonian(\n",
        "    geometry, 'sto-3g', 1, 0)\n",
        "\n",
        "electron_count = data.n_electrons\n",
        "qubit_count = 2 * data.n_orbitals"
      ]
    },
    {
      "cell_type": "markdown",
      "metadata": {
        "id": "Mj7OEl0Jf8dZ"
      },
      "source": [
        "We now generate a Unitary Coupled-Cluster Singles and Doubles (UCCSD) ansatz from the template provided by CUDA-Q.  "
      ]
    },
    {
      "cell_type": "code",
      "execution_count": null,
      "metadata": {
        "id": "ktLZOQAwf8AV"
      },
      "outputs": [],
      "source": [
        "@cudaq.kernel\n",
        "def kernel(thetas: list[float]):\n",
        "\n",
        "    qubits = cudaq.qvector(qubit_count)\n",
        "\n",
        "    for i in range(electron_count):\n",
        "        x(qubits[i])\n",
        "\n",
        "    cudaq.kernels.uccsd(qubits, thetas, electron_count, qubit_count)\n",
        "\n",
        "\n",
        "parameter_count = cudaq.kernels.uccsd_num_parameters(electron_count,\n",
        "                                                     qubit_count)"
      ]
    },
    {
      "cell_type": "markdown",
      "metadata": {
        "id": "A4KB7xkSf901"
      },
      "source": [
        "### Using CUDA-Q Optimizers\n",
        "\n",
        "We use the builtin optimizers within CUDA-Q for the minimization procedure."
      ]
    },
    {
      "cell_type": "code",
      "execution_count": null,
      "metadata": {
        "colab": {
          "base_uri": "https://localhost:8080/"
        },
        "id": "rD7X_gpef4Hx",
        "outputId": "95583dc8-e825-4309-bd93-34c44afad9d7"
      },
      "outputs": [
        {
          "output_type": "stream",
          "name": "stdout",
          "text": [
            "-1.1371740035195181\n"
          ]
        }
      ],
      "source": [
        "optimizer = cudaq.optimizers.COBYLA()\n",
        "\n",
        "energy, parameters = cudaq.vqe(kernel,\n",
        "                               molecule,\n",
        "                               optimizer,\n",
        "                               parameter_count=parameter_count)\n",
        "\n",
        "print(energy)"
      ]
    },
    {
      "cell_type": "markdown",
      "metadata": {
        "id": "BxJJQCscgAos"
      },
      "source": [
        "### Integration with Third-Party Optimizers\n",
        "\n",
        "We can also integrate popular libraries like scipy with CUDA-Q."
      ]
    },
    {
      "cell_type": "code",
      "execution_count": null,
      "metadata": {
        "colab": {
          "base_uri": "https://localhost:8080/",
          "height": 472
        },
        "id": "S0w72GoCgAuU",
        "outputId": "7e64ccfc-fcc3-4912-d870-3d13eb27b2e2"
      },
      "outputs": [
        {
          "output_type": "display_data",
          "data": {
            "text/plain": [
              "<Figure size 640x480 with 1 Axes>"
            ],
            "image/png": "[encoded data removed]"
          },
          "metadata": {}
        }
      ],
      "source": [
        "# Define a function to minimize\n",
        "def cost(theta):\n",
        "\n",
        "    exp_val = cudaq.observe(kernel, molecule, theta).expectation()\n",
        "\n",
        "    return exp_val\n",
        "\n",
        "\n",
        "exp_vals = []\n",
        "\n",
        "\n",
        "def callback(xk):\n",
        "    exp_vals.append(cost(xk))\n",
        "\n",
        "\n",
        "# Initial variational parameters.\n",
        "np.random.seed(42)\n",
        "x0 = np.random.normal(0, np.pi, parameter_count)\n",
        "\n",
        "# Use the scipy optimizer to minimize the function of interest\n",
        "result = minimize(cost,\n",
        "                  x0,\n",
        "                  method='COBYLA',\n",
        "                  callback=callback,\n",
        "                  options={'maxiter': 40})\n",
        "\n",
        "plt.plot(exp_vals)\n",
        "plt.xlabel('Epochs')\n",
        "plt.ylabel('Energy')\n",
        "plt.title('VQE')\n",
        "plt.show()"
      ]
    },
    {
      "cell_type": "markdown",
      "metadata": {
        "id": "90-M1O-E0Lvv"
      },
      "source": [
        "# Quantum Approximate Optimization Algorithm"
      ]
    },
    {
      "cell_type": "markdown",
      "metadata": {
        "id": "U96uliXS0RGq"
      },
      "source": [
        "Here we build up a kernel for QAOA with `p` layers, with each layer containing the alternating set of unitaries corresponding to the problem and the mixer Hamiltonians. The algorithm leverages the VQE algorithm to compute the Max-Cut of a 3-regular (each node connects with 3 edges) graph generated below."
      ]
    },
    {
      "cell_type": "code",
      "execution_count": null,
      "metadata": {
        "colab": {
          "base_uri": "https://localhost:8080/",
          "height": 516
        },
        "id": "fuwuHDd60QcY",
        "outputId": "a2b9692a-ba94-4b44-e1df-14eb2f6e0f77"
      },
      "outputs": [
        {
          "output_type": "display_data",
          "data": {
            "text/plain": [
              "<Figure size 640x480 with 1 Axes>"
            ],
            "image/png": "[encoded data removed]"
          },
          "metadata": {}
        }
      ],
      "source": [
        "import networkx as nx\n",
        "import random\n",
        "\n",
        "num_nodes = 10\n",
        "\n",
        "random.seed(13)\n",
        "edges = nx.random_regular_graph(3, num_nodes).edges()\n",
        "G = nx.Graph()\n",
        "G.add_edges_from(edges)\n",
        "nx.draw(G, with_labels=True, alpha=0.8, node_size=500, node_color='#76B900')"
      ]
    },
    {
      "cell_type": "code",
      "execution_count": null,
      "metadata": {
        "colab": {
          "base_uri": "https://localhost:8080/"
        },
        "id": "3fpifp_U0UKK",
        "outputId": "30a9a65b-a16e-4498-e8e7-c40c21645892"
      },
      "outputs": [
        {
          "output_type": "stream",
          "name": "stdout",
          "text": [
            "Initial parameters =  [0.21810696323572243, -0.20613464375211488, 0.2546877639814583, 0.3657985647468064]\n",
            "     ╭───╮                                                                   »\n",
            "q0 : ┤ h ├──●──────────────────●─────────────────────────────────────────────»\n",
            "     ├───┤╭─┴─╮╭────────────╮╭─┴─╮                                           »\n",
            "q1 : ┤ h ├┤ x ├┤ rz(0.4362) ├┤ x ├──●──────────────────●─────────────────────»\n",
            "     ├───┤╰───╯╰────────────╯╰───╯╭─┴─╮╭────────────╮╭─┴─╮                   »\n",
            "q2 : ┤ h ├────────────────────────┤ x ├┤ rz(0.4362) ├┤ x ├──●────────────────»\n",
            "     ├───┤                        ╰───╯╰────────────╯╰───╯╭─┴─╮╭────────────╮»\n",
            "q3 : ┤ h ├────────────────────────────────────────────────┤ x ├┤ rz(0.4362) ├»\n",
            "     ├───┤                                                ╰───╯╰────────────╯»\n",
            "q4 : ┤ h ├───────────────────────────────────────────────────────────────────»\n",
            "     ├───┤                                                                   »\n",
            "q5 : ┤ h ├───────────────────────────────────────────────────────────────────»\n",
            "     ├───┤                                                                   »\n",
            "q6 : ┤ h ├───────────────────────────────────────────────────────────────────»\n",
            "     ├───┤                                                                   »\n",
            "q7 : ┤ h ├───────────────────────────────────────────────────────────────────»\n",
            "     ├───┤                                                                   »\n",
            "q8 : ┤ h ├───────────────────────────────────────────────────────────────────»\n",
            "     ├───┤                                                                   »\n",
            "q9 : ┤ h ├───────────────────────────────────────────────────────────────────»\n",
            "     ╰───╯                                                                   »\n",
            "\n",
            "################################################################################\n",
            "\n",
            "                                                                             »\n",
            "─────────────────────────────────────────────────────────────────────────────»\n",
            "                                                                             »\n",
            "─────────────────────────────────────────────────────────────────────────────»\n",
            "                                                                             »\n",
            "──●──────────────────────────────────────────────────────────────────────────»\n",
            "╭─┴─╮                                                                        »\n",
            "┤ x ├──●──────────────────●──────────────────────────────────────────────────»\n",
            "╰───╯╭─┴─╮╭────────────╮╭─┴─╮                                                »\n",
            "─────┤ x ├┤ rz(0.4362) ├┤ x ├──●──────────────────●──────────────────────────»\n",
            "     ╰───╯╰────────────╯╰───╯╭─┴─╮╭────────────╮╭─┴─╮                        »\n",
            "─────────────────────────────┤ x ├┤ rz(0.4362) ├┤ x ├──●──────────────────●──»\n",
            "                             ╰───╯╰────────────╯╰───╯╭─┴─╮╭────────────╮╭─┴─╮»\n",
            "─────────────────────────────────────────────────────┤ x ├┤ rz(0.4362) ├┤ x ├»\n",
            "                                                     ╰───╯╰────────────╯╰───╯»\n",
            "─────────────────────────────────────────────────────────────────────────────»\n",
            "                                                                             »\n",
            "─────────────────────────────────────────────────────────────────────────────»\n",
            "                                                                             »\n",
            "─────────────────────────────────────────────────────────────────────────────»\n",
            "                                                                             »\n",
            "\n",
            "################################################################################\n",
            "\n",
            "                                                                        ╭───╮»\n",
            "────────────────────────────────────────────────────────────────────────┤ x ├»\n",
            "                                                                        ╰─┬─╯»\n",
            "──────────────────────────────────────────────────────────────────────────┼──»\n",
            "                                                                          │  »\n",
            "──────────────────────────────────────────────────────────────────────────┼──»\n",
            "                                                                          │  »\n",
            "──────────────────────────────────────────────────────────────────────────┼──»\n",
            "                                                                          │  »\n",
            "──────────────────────────────────────────────────────────────────────────┼──»\n",
            "                                                                          │  »\n",
            "──────────────────────────────────────────────────────────────────────────┼──»\n",
            "                                                                          │  »\n",
            "──●──────────────────●────────────────────────────────────────────────────┼──»\n",
            "╭─┴─╮╭────────────╮╭─┴─╮                                                  │  »\n",
            "┤ x ├┤ rz(0.4362) ├┤ x ├──●──────────────────●────────────────────────────┼──»\n",
            "╰───╯╰────────────╯╰───╯╭─┴─╮╭────────────╮╭─┴─╮                          │  »\n",
            "────────────────────────┤ x ├┤ rz(0.4362) ├┤ x ├──●──────────────────●────┼──»\n",
            "                        ╰───╯╰────────────╯╰───╯╭─┴─╮╭────────────╮╭─┴─╮  │  »\n",
            "────────────────────────────────────────────────┤ x ├┤ rz(0.4362) ├┤ x ├──●──»\n",
            "                                                ╰───╯╰────────────╯╰───╯     »\n",
            "\n",
            "################################################################################\n",
            "\n",
            "╭────────────╮╭───╮╭────────────╮                                             »\n",
            "┤ rz(0.4362) ├┤ x ├┤ rx(0.5094) ├──●───────────────────●──────────────────────»\n",
            "╰────────────╯╰─┬─╯├────────────┤╭─┴─╮╭─────────────╮╭─┴─╮                    »\n",
            "────────────────┼──┤ rx(0.5094) ├┤ x ├┤ rz(-0.4123) ├┤ x ├──●─────────────────»\n",
            "                │  ├────────────┤╰───╯╰─────────────╯╰───╯╭─┴─╮╭─────────────╮»\n",
            "────────────────┼──┤ rx(0.5094) ├─────────────────────────┤ x ├┤ rz(-0.4123) ├»\n",
            "                │  ├────────────┤                         ╰───╯╰─────────────╯»\n",
            "────────────────┼──┤ rx(0.5094) ├─────────────────────────────────────────────»\n",
            "                │  ├────────────┤                                             »\n",
            "────────────────┼──┤ rx(0.5094) ├─────────────────────────────────────────────»\n",
            "                │  ├────────────┤                                             »\n",
            "────────────────┼──┤ rx(0.5094) ├─────────────────────────────────────────────»\n",
            "                │  ├────────────┤                                             »\n",
            "────────────────┼──┤ rx(0.5094) ├─────────────────────────────────────────────»\n",
            "                │  ├────────────┤                                             »\n",
            "────────────────┼──┤ rx(0.5094) ├─────────────────────────────────────────────»\n",
            "                │  ├────────────┤                                             »\n",
            "────────────────┼──┤ rx(0.5094) ├─────────────────────────────────────────────»\n",
            "                │  ├────────────┤                                             »\n",
            "────────────────●──┤ rx(0.5094) ├─────────────────────────────────────────────»\n",
            "                   ╰────────────╯                                             »\n",
            "\n",
            "################################################################################\n",
            "\n",
            "                                                                           »\n",
            "───────────────────────────────────────────────────────────────────────────»\n",
            "                                                                           »\n",
            "──●────────────────────────────────────────────────────────────────────────»\n",
            "╭─┴─╮                                                                      »\n",
            "┤ x ├──●───────────────────●───────────────────────────────────────────────»\n",
            "╰───╯╭─┴─╮╭─────────────╮╭─┴─╮                                             »\n",
            "─────┤ x ├┤ rz(-0.4123) ├┤ x ├──●───────────────────●──────────────────────»\n",
            "     ╰───╯╰─────────────╯╰───╯╭─┴─╮╭─────────────╮╭─┴─╮                    »\n",
            "──────────────────────────────┤ x ├┤ rz(-0.4123) ├┤ x ├──●─────────────────»\n",
            "                              ╰───╯╰─────────────╯╰───╯╭─┴─╮╭─────────────╮»\n",
            "───────────────────────────────────────────────────────┤ x ├┤ rz(-0.4123) ├»\n",
            "                                                       ╰───╯╰─────────────╯»\n",
            "───────────────────────────────────────────────────────────────────────────»\n",
            "                                                                           »\n",
            "───────────────────────────────────────────────────────────────────────────»\n",
            "                                                                           »\n",
            "───────────────────────────────────────────────────────────────────────────»\n",
            "                                                                           »\n",
            "───────────────────────────────────────────────────────────────────────────»\n",
            "                                                                           »\n",
            "\n",
            "################################################################################\n",
            "\n",
            "                                                                           »\n",
            "───────────────────────────────────────────────────────────────────────────»\n",
            "                                                                           »\n",
            "───────────────────────────────────────────────────────────────────────────»\n",
            "                                                                           »\n",
            "───────────────────────────────────────────────────────────────────────────»\n",
            "                                                                           »\n",
            "───────────────────────────────────────────────────────────────────────────»\n",
            "                                                                           »\n",
            "──●────────────────────────────────────────────────────────────────────────»\n",
            "╭─┴─╮                                                                      »\n",
            "┤ x ├──●───────────────────●───────────────────────────────────────────────»\n",
            "╰───╯╭─┴─╮╭─────────────╮╭─┴─╮                                             »\n",
            "─────┤ x ├┤ rz(-0.4123) ├┤ x ├──●───────────────────●──────────────────────»\n",
            "     ╰───╯╰─────────────╯╰───╯╭─┴─╮╭─────────────╮╭─┴─╮                    »\n",
            "──────────────────────────────┤ x ├┤ rz(-0.4123) ├┤ x ├──●─────────────────»\n",
            "                              ╰───╯╰─────────────╯╰───╯╭─┴─╮╭─────────────╮»\n",
            "───────────────────────────────────────────────────────┤ x ├┤ rz(-0.4123) ├»\n",
            "                                                       ╰───╯╰─────────────╯»\n",
            "───────────────────────────────────────────────────────────────────────────»\n",
            "                                                                           »\n",
            "\n",
            "################################################################################\n",
            "\n",
            "                              ╭───╮╭─────────────╮╭───╮╭────────────╮\n",
            "──────────────────────────────┤ x ├┤ rz(-0.4123) ├┤ x ├┤ rx(0.7316) ├\n",
            "                              ╰─┬─╯╰─────────────╯╰─┬─╯├────────────┤\n",
            "────────────────────────────────┼───────────────────┼──┤ rx(0.7316) ├\n",
            "                                │                   │  ├────────────┤\n",
            "────────────────────────────────┼───────────────────┼──┤ rx(0.7316) ├\n",
            "                                │                   │  ├────────────┤\n",
            "────────────────────────────────┼───────────────────┼──┤ rx(0.7316) ├\n",
            "                                │                   │  ├────────────┤\n",
            "────────────────────────────────┼───────────────────┼──┤ rx(0.7316) ├\n",
            "                                │                   │  ├────────────┤\n",
            "────────────────────────────────┼───────────────────┼──┤ rx(0.7316) ├\n",
            "                                │                   │  ├────────────┤\n",
            "────────────────────────────────┼───────────────────┼──┤ rx(0.7316) ├\n",
            "                                │                   │  ├────────────┤\n",
            "──●─────────────────────────────┼───────────────────┼──┤ rx(0.7316) ├\n",
            "╭─┴─╮                           │                   │  ├────────────┤\n",
            "┤ x ├──●───────────────────●────┼───────────────────┼──┤ rx(0.7316) ├\n",
            "╰───╯╭─┴─╮╭─────────────╮╭─┴─╮  │                   │  ├────────────┤\n",
            "─────┤ x ├┤ rz(-0.4123) ├┤ x ├──●───────────────────●──┤ rx(0.7316) ├\n",
            "     ╰───╯╰─────────────╯╰───╯                         ╰────────────╯\n",
            "\n"
          ]
        }
      ],
      "source": [
        "import cudaq\n",
        "from cudaq import spin\n",
        "\n",
        "from typing import List\n",
        "\n",
        "import numpy as np\n",
        "\n",
        "\n",
        "\n",
        "# The problem Hamiltonian\n",
        "hamiltonian = 0    # Initialize the hamiltonian object\n",
        "for (i, j) in edges:\n",
        "    hamiltonian += 0.5 * spin.z(i) * spin.z(j)\n",
        "\n",
        "\n",
        "# Problem parameters.\n",
        "qubit_count = num_nodes\n",
        "layer_count: int = 2\n",
        "parameter_count: int = 2 * layer_count\n",
        "\n",
        "\n",
        "@cudaq.kernel\n",
        "def kernel_qaoa(qubit_count: int, layer_count: int, thetas: List[float]):\n",
        "    \"\"\"QAOA ansatz for Max-Cut\"\"\"\n",
        "    qvector = cudaq.qvector(qubit_count)\n",
        "\n",
        "    # Create superposition\n",
        "    h(qvector)\n",
        "\n",
        "    # Loop over the layers\n",
        "    for layer in range(layer_count):\n",
        "        # Loop over the qubits\n",
        "        # Problem unitary\n",
        "        for qubit in range(qubit_count):\n",
        "            x.ctrl(qvector[qubit], qvector[(qubit + 1) % qubit_count])\n",
        "            rz(2.0 * thetas[layer], qvector[(qubit + 1) % qubit_count])\n",
        "            x.ctrl(qvector[qubit], qvector[(qubit + 1) % qubit_count])\n",
        "\n",
        "        # Mixer unitary\n",
        "        for qubit in range(qubit_count):\n",
        "            rx(2.0 * thetas[layer + layer_count], qvector[qubit])\n",
        "\n",
        "\n",
        "# Specify the optimizer and its initial parameters. Make it repeatable.\n",
        "cudaq.set_random_seed(13)\n",
        "optimizer = cudaq.optimizers.COBYLA()\n",
        "np.random.seed(13)\n",
        "optimizer.initial_parameters = np.random.uniform(-np.pi / 8.0, np.pi / 8.0, parameter_count)\n",
        "print(\"Initial parameters = \", optimizer.initial_parameters)\n",
        "print(cudaq.draw(kernel_qaoa, qubit_count, layer_count, optimizer.initial_parameters))"
      ]
    },
    {
      "cell_type": "code",
      "execution_count": null,
      "metadata": {
        "colab": {
          "base_uri": "https://localhost:8080/"
        },
        "id": "9rz2j3Q00VyT",
        "outputId": "91c5ac2a-f9b5-4441-b60c-6126653fe73b"
      },
      "outputs": [
        {
          "output_type": "stream",
          "name": "stdout",
          "text": [
            "Execution time = 4.524 (s)\n",
            "Optimal value =  -0.8334639233087202\n",
            "Optimal parameters =  [2.4441432374826286, -0.6456565620029694, -0.14621208106008962, -0.3386795792490146]\n",
            "{ 1011111111:4 1101111111:3 1001111111:41 0001111111:34 1010111111:41 0100111111:26 1111011111:6 0111011111:6 1011011111:12 0001011111:8 1010011111:24 0010011111:16 1100011111:32 0100011111:9 1101101111:19 0001101111:101 0110101111:91 1100101111:29 1000101111:6 0111001111:74 0101001111:86 1001001111:14 0001001111:105 1110001111:34 0110001111:92 1010001111:5 0100001111:31 1000001111:16 0111110111:5 1011110111:22 0101110111:153 1001110111:55 0001110111:215 1110110111:19 1010110111:72 0100110111:402 1000110111:76 1011010111:80 1001010111:115 1010010111:47 0010010111:461 1100010111:8 1000010111:24 0001100111:493 1110100111:33 0110100111:448 1101000111:7 1001000111:128 0001000111:185 1011000111:86 0110000111:118 1111111011:6 0111111011:21 0011111011:1 1110111011:7 0010111011:383 0100111011:472 0111011011:381 1011011011:412 0101011011:690 1001011011:443 0001011011:454 0110011011:1006 1000011011:100 1100001111:5 0000011011:20 1111101011:41 0011101011:520 0101101011:764 0001101011:598 0110101011:768 1010101011:270 1100101011:96 1000101011:248 0101001011:685 1001001011:454 1110000111:7 0001001011:464 1110001011:16 1000001011:10 1011101111:5 0000001011:23 1111110011:36 1011110011:75 0011110011:200 1101110011:71 0001110011:517 0110110011:988 0100110011:1187 1000110011:544 1111010011:32 0111010011:358 1011010011:457 1101010011:97 1001010011:611 0110010011:894 1010010011:479 1010011011:380 1000010011:87 0111100011:93 1011100011:177 1101100011:80 1100001011:29 0101100011:613 0001100011:466 0110100011:423 0010100011:504 1100100011:123 1100110011:187 1000100011:174 1110110011:1 0000100011:60 1011000011:98 0001010011:523 1101000011:29 0101000011:99 1001000011:80 0001000011:73 0110000011:23 1010000011:14 1100000011:4 0100000011:25 1111111101:7 0111111101:43 1011111101:13 0011111101:25 0001111101:4 0101110011:539 1110111101:11 1010111101:71 1100111101:76 0100111101:92 1000111101:93 0000111101:25 1111011101:6 0111011101:170 1011011101:388 0011011101:353 0001011101:141 0110011101:536 1100000111:11 1010011101:440 0010011101:452 1000011101:103 1111101101:27 0011101101:453 1101101101:396 1110101111:30 1001101101:1051 0001101101:448 0110101101:833 1010101101:751 1010100111:107 0010101101:737 1100101101:470 0100101101:780 0000101101:57 1111001101:1 0011001101:1160 1101001101:407 0001001101:372 1110001101:94 0110001101:598 1010001101:455 1100001101:108 0100001101:109 0000001101:25 1111110101:24 0011110101:102 1101110101:171 0101110101:286 1001110101:543 0001110101:251 1010100011:243 1010110101:847 1100110101:538 0100110101:793 1111101111:3 1000110101:570 0111010101:326 1101111101:3 1001010101:775 0001010101:312 1110010101:89 0110010101:786 1010010101:734 0010010101:754 1100010101:248 1000010101:80 1111100101:26 0111100101:79 0110010111:387 1011101011:159 1011100101:454 0011100101:568 1101100101:355 0101100101:747 0010100111:546 0110111101:67 1001100101:1146 0101100111:515 0001100101:529 1110100101:57 0110100101:757 0010100101:753 1101001111:34 1100100101:447 0111000101:233 1011000101:426 1101000101:119 0010110101:753 0101000101:275 0001000101:179 1010000101:52 0010000101:65 1100000101:1 0100000101:1 0001111011:85 1000000101:28 1111111001:40 0011111001:21 0111101101:80 1101111001:59 0101111001:83 1011010101:765 0001111001:85 0110111001:489 1010111001:523 0000111001:87 0111011001:376 1101011001:533 1001011001:1229 0110011001:1160 1100111001:426 1100011001:540 0111000011:113 0100011001:532 1000011001:227 0000101111:25 1111101001:27 0111101001:63 0000111011:88 0000011101:6 0011101001:446 1001101001:1110 0100101111:63 0001101001:423 1111011001:1 1110101001:102 0110101001:812 0010101001:690 1100101001:606 0000110111:134 0000101001:69 1111001001:19 0111001001:435 0100011101:250 1011001001:918 0011001001:1062 0100101011:741 0101001001:715 1010100101:732 1001001001:1033 0001001001:402 0111100111:64 0110001001:474 1010001001:363 0110111111:19 0010001001:395 0011100111:484 0100001001:65 0110001011:457 1000001001:2 1011110001:92 0001110001:181 0010001111:118 0111010111:194 1110110001:97 1110011111:31 0010110001:460 1111010001:7 1001000010:81 1100000010:25 0000000010:5 0110000100:67 1001100011:552 1111111100:32 1100001100:217 1011101000:126 1100111100:211 0000001000:5 0001001000:20 0110111011:391 1111001011:21 0100110110:977 1000111100:108 0001010010:72 0101011100:249 0010001011:393 0010001110:201 1100100111:17 1100010001:195 1110011100:483 0101010110:729 0100000010:23 0100001100:78 0011000100:77 1001011000:454 1111000101:5 0100011100:191 0000011100:21 1110111111:4 1010110100:780 0011101100:119 0010000011:1 1100110001:525 0010101100:88 0101010100:300 1000110110:437 0010001100:76 0100101100:441 0101110100:140 1110011001:202 1110000001:6 0110010010:1046 0101111111:31 0111101110:63 1011100010:251 1111100111:45 0010010010:361 0101001100:475 1110010010:449 1001001100:1037 1101001001:399 0000001010:30 1011011010:762 0111110110:1 0000000011:41 0110001100:481 1000111011:178 0000110110:8 0000110011:211 0111111100:41 1110011110:86 1000001100:2 0000001100:46 0011011001:913 0101000010:72 1011101001:380 1001100010:512 1011110100:63 1101000100:371 1100011000:512 0011110100:29 1111001111:39 0100101000:50 1110100011:8 0000100110:2 0010001101:451 1000010001:50 1111101100:1 1001111011:62 1001110100:404 0100010011:386 0001110100:3 0110110100:432 1000000100:22 0000101011:98 1000111001:551 1001110110:452 0001011001:393 0010110100:54 1100110100:1073 0101000110:574 1000110100:470 0001011110:31 1111010100:98 1001100111:208 0101111110:17 0011010100:85 0101010101:507 0000000001:8 1101010100:719 0101001000:72 0111101011:59 0110011110:213 1010010100:844 1100010100:530 1010110011:533 0011000011:206 0100010100:174 1110100010:130 0010010011:1068 0010111010:145 1011001101:1045 1100111110:2 1011001010:812 0001000010:17 1100111111:43 1001111000:103 1011001110:494 1110100100:467 0011100100:81 0110100100:475 1111100100:17 1010110010:765 1111011100:74 0010100100:81 1111010000:27 1101010000:88 0000111111:8 0000100100:22 1101110100:369 1001000101:375 1010110001:603 1101100100:967 0111011100:191 1110001001:118 1101001100:1112 0001001010:79 1111111111:15 1100100100:1055 0011011000:12 0101000100:171 0001000100:2 1110111100:58 0101010011:750 1000101001:506 0000111000:25 0001111100:15 1101000010:51 0100000111:7 1111011110:9 1110000100:84 1100100001:88 0101011101:309 1011101100:374 0000010111:7 0111010100:282 1010001100:509 0010000100:12 0010000010:6 0011110000:8 0001110000:33 1101100111:1 1101101000:436 0110100000:22 0111110100:8 1011110000:27 0000010011:3 1000011010:92 1101101100:1014 0111100110:219 0100110100:367 0100100000:27 1101000000:30 0111010000:9 1000110001:473 0010110000:37 0101111011:63 0011010101:828 1010001000:165 0011110110:91 1101011101:158 1001011100:474 1110000000:34 0011100110:511 1000011000:62 1101110001:218 0111000100:195 1100111000:554 0001011000:28 0000110000:53 1011100100:430 0011010000:21 0011001110:523 1011010100:749 0111001110:514 0011010011:1126 0000101100:25 0010101111:82 0110010100:481 0011110111:71 0100100011:415 0100100100:371 0011000000:37 1011110101:79 0110100001:53 1001010000:57 0001111010:39 0010110111:456 0001101100:22 0101110000:4 0001000000:4 1101001110:435 0100010001:176 1101011100:527 1000100100:374 1110111010:160 0010010000:29 0011001100:214 0010010100:63 1001011010:766 1110110100:481 0000010000:3 1101001011:59 1111000000:18 1110010100:551 1011000100:470 1010110000:114 0100010101:304 0010000000:8 0010111100:22 0010100010:166 0111001000:82 1010101100:771 1011111000:8 1010010010:750 0011101010:241 1000000000:1 1110111001:68 0101100100:352 0010011100:85 1011111011:4 0110000000:39 0100000000:6 0011011100:100 1010010000:75 0100110000:1 0110111110:2 0000111110:11 1111010111:38 0000100000:6 1100000000:35 0111001010:581 0111100000:10 0111001100:540 0001010000:38 1010011001:1111 0001100000:40 0110101010:738 1010000000:32 1101100110:1074 0000100001:14 0100101001:816 0110011000:202 0101101100:445 0000000101:33 0010001000:4 0110101000:86 1100101100:1162 1111101000:8 1101101011:68 1001000000:19 0100100111:457 0010100000:31 0101000000:34 1010011010:780 0111101100:84 0000110101:89 0110000001:22 1110110010:354 0101100001:107 0100001000:16 1110010110:469 0111100100:113 1100100000:3 0000011000:38 1001110001:512 1001001110:448 0111001011:479 0101100000:29 0011100011:555 1100011100:518 1011000000:30 0000101000:38 0000101110:4 1101110111:3 0100010111:132 1110100000:9 1000011111:15 1100010010:491 0011100000:33 1110010000:89 0111110000:10 0011000101:516 1000100000:6 1011001000:382 1000100001:80 1001101011:507 1010000001:19 1010011000:569 1001100110:1195 1111110000:13 0111000000:36 1001001000:372 1000001000:7 0100001010:56 0000110001:89 1010011100:617 1011010000:58 0001100100:1 1011100111:65 1000000010:40 0101111010:65 1000101100:389 1111100001:10 0011100010:190 1100010000:69 1100010011:127 1000101000:183 0010110011:1217 1111111010:34 1101010110:732 0011001011:1127 1110101100:528 0010101010:307 1000010100:73 1100110000:217 1111010110:81 1000110000:64 0111011000:116 1100101000:549 1111001110:65 1001000100:380 1110110101:70 1101110000:98 1110000011:13 0101011110:109 1010101000:272 0000001111:8 1000100111:113 0000011010:30 0001101000:34 1101010001:248 0101001101:730 0000110100:19 1001101000:378 1101111011:16 0101010010:733 1111000100:93 0011101000:7 1011100000:7 0111101000:41 1110011000:535 1010101110:285 0100000100:6 1111001100:203 0100011000:55 1111111000:35 1100110110:956 1011011000:455 1110011101:66 1000111000:193 1010001011:134 0111010110:552 1000001101:20 0100111000:98 1001110011:464 1001100000:1 1001011110:73 0101101001:724 0010111000:10 0100001011:61 1011011100:458 1110001100:512 1010011110:84 0101111100:2 0111110010:15 1010111000:247 1101100010:422 1110000010:4 0110101100:542 1110010111:28 1111000011:7 0101100010:461 0110111000:109 1110001000:195 0001111000:7 1101111000:68 1010010001:455 0011101110:173 0011111000:21 0111111000:9 0101010111:286 1001111100:17 0011000010:50 1010100010:260 0010011110:119 0111000010:89 0110001000:64 0011001000:3 1111000010:32 1010001010:271 1011000010:114 0110001110:499 0001001110:96 0110101110:526 0011101111:65 1000101101:428 0000100010:1 1010111100:100 1001111010:85 1000100010:183 1101011000:594 0100100010:403 0000100111:91 1100100010:445 1010000100:72 0011010110:613 1111001010:96 0110100110:1230 0110100010:382 1001111001:214 0001100010:74 1011011001:956 0111100010:125 1111100010:8 1110111000:189 1011100001:115 1110101110:156 0000010010:20 1011010001:417 1001010010:763 1011001100:1142 1101010010:757 1011010010:780 0111010010:423 1111010010:60 1100011011:109 0000110010:4 1001001101:934 1111110100:29 0100110010:1053 1100111011:54 1100110010:1129 0010110010:373 0100111001:577 1000010110:43 0110110010:912 1010100100:767 0001110010:98 1010100110:765 1001110000:101 1001110010:559 0011110001:116 0001011100:6 0101110010:465 1101110010:456 0011110010:121 0110110101:709 0101101010:760 0000000000:19 1011110010:83 1111110010:27 1011001011:370 1100001010:97 1010111011:157 0010001010:160 1000000011:31 0010011001:1021 0110001010:567 0000000100:6 1110001010:223 1001001010:743 0101001010:795 1101001010:790 0010011011:942 0110111100:81 0011001010:544 0101101111:74 1111110111:4 1000101010:251 1111011000:89 1011000001:9 0010101011:782 1100101010:794 1111001000:124 0011010001:407 1111100011:33 1010101010:466 1110101010:310 0110011100:506 1011101010:301 1001101100:956 1010010110:771 0001101010:108 0001010111:246 1001101010:747 0100010010:373 1101101010:746 0111101010:82 0100011010:419 1110000101:20 1001100100:1039 1100011010:575 0111001101:535 1001010100:762 1001100001:205 0110011010:1148 0111110001:11 1110011010:524 0001011010:57 0110000101:108 1100100110:1011 1000100101:471 0101011010:717 0000111100:9 0100001110:80 1101011010:827 1110001110:194 1101101001:436 1100001001:78 1011111100:28 0011011010:453 1111011010:73 0010010110:467 0101101000:72 0000111010:3 0111000111:201 0101101101:759 0110110110:1068 1000111010:276 1100001000:63 0100111010:455 1010111010:268 0110111010:379 0010111111:20 1101111010:65 0011111010:7 0111111010:23 0000000111:30 0000000110:32 1001011111:19 1000000110:31 0010111101:47 1100000110:20 1111100000:13 0010000110:52 0101110001:230 0011010010:441 1010000110:85 0011000111:548 0110000110:236 1101001000:427 1110000110:102 1100011101:196 0001000110:65 1111101110:2 1101000110:461 0111111111:2 1011000110:571 0111111001:26 0111000110:528 1111000110:81 0100100110:1053 1000011100:91 1111100110:2 0010100110:519 0010000001:27 1110100110:403 1000110010:501 0001100110:221 0101100110:1186 1011100110:523 0000010110:32 0000010100:35 1001101110:403 0101001110:576 0011011011:1094 0100100101:723 1000010000:19 0100010110:378 1100010110:463 0110010110:1165 0001010110:86 1001010110:767 0111011110:78 1010101001:756 1011010110:761 0010110110:451 0110110000:20 1100011110:94 1010000111:36 0011000110:463 0001110110:124 0101110110:382 0011111111:20 1101110110:379 0000001001:17 1110101000:239 1011110110:70 0110110111:425 0011111100:15 1111110110:13 1110010011:19 0000001110:33 0111010001:132 0100010000:6 1000001110:8 1001000110:472 1100001110:109 1101011111:39 1000100110:366 1010001110:259 1001111101:1 0010111001:425 0101010001:290 1000101110:135 0100101110:412 1100101110:381 0001101110:112 0000011111:10 1010100001:92 0010101110:278 1110010001:102 0101101110:446 1110101101:73 0101011000:116 0100000001:32 1101101110:409 1101010101:305 1000010010:74 1011101110:163 1111011011:30 1011101101:411 0101111000:30 0000011110:15 1000011110:24 0111101111:13 1111110001:31 0100011110:116 0010000111:85 1101011110:91 0011010111:568 0011011110:79 0011001111:213 1101100000:25 1011011110:75 1000111110:5 1101000001:9 1100111010:558 0100111110:16 0010111110:5 0100111100:105 1110111110:8 0001111110:7 1001111110:35 1101111110:21 1010110110:763 0011111110:39 0100011011:449 1011111110:29 1001011101:376 0111111110:35 1110110000:112 0100101010:782 1111111110:4 1000000111:10 1101011011:74 1111000001:18 1000000001:41 1100000001:27 0001000001:9 0101000111:249 0010011000:1 0010011010:387 0011000001:1 1110110110:349 0010100001:77 1000111111:35 0011011111:1 0100100001:58 1110100001:18 1001101111:1 0001100001:73 0000100101:64 1101100001:121 0111011010:444 0011100001:99 0110110001:461 0111100001:36 0000010001:4 0101011001:719 0010010001:371 1111000111:36 0100110001:552 0110010001:385 0111000001:4 0001010001:153 1001010001:537 }\n",
            "\n",
            "The optimal bitstring with max. number of shots = 0110100110\n"
          ]
        }
      ],
      "source": [
        "import time\n",
        "\n",
        "\n",
        "# Define the simulation target:\n",
        "cudaq.set_target(\"nvidia\")  # \"nvidia\" for GPU, \"qpp-cpu\" for CPU\n",
        "\n",
        "\n",
        "# Define the objective, return `<state(params) | H | state(params)>`\n",
        "def objective(parameters):\n",
        "    return cudaq.observe(kernel_qaoa, hamiltonian, qubit_count, layer_count,\n",
        "                         parameters).expectation()\n",
        "\n",
        "\n",
        "# Optimize!\n",
        "t0 = time.time()\n",
        "optimal_expectation, optimal_parameters = optimizer.optimize(\n",
        "    dimensions=parameter_count, function=objective)\n",
        "print(\"Execution time =\", round(time.time()-t0, 3), \"(s)\")\n",
        "\n",
        "# Print the optimized value and its parameters\n",
        "print(\"Optimal value = \", optimal_expectation)\n",
        "print(\"Optimal parameters = \", optimal_parameters)\n",
        "\n",
        "# Sample the circuit using the optimized parameters\n",
        "counts = cudaq.sample(kernel_qaoa, qubit_count, layer_count, optimal_parameters, shots_count=2**18)\n",
        "print(counts)\n",
        "\n",
        "max = 0\n",
        "for bitstring in counts:\n",
        "    if counts[bitstring] > max:\n",
        "        max = counts[bitstring]\n",
        "        bitstring_max = bitstring\n",
        "print(\"The optimal bitstring with max. number of shots =\", bitstring_max)"
      ]
    }
  ],
  "metadata": {
    "accelerator": "GPU",
    "colab": {
      "gpuType": "T4",
      "provenance": [],
      "include_colab_link": true
    },
    "kernelspec": {
      "display_name": "Python 3",
      "name": "python3"
    },
    "language_info": {
      "name": "python"
    }
  },
  "nbformat": 4,
  "nbformat_minor": 0
}