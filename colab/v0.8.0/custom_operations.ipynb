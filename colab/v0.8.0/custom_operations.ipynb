{
 "cells": [
  {
   "cell_type": "code",
   "execution_count": null,
   "id": "ce4f40bc-2934-4e39-aecc-103efc38821d",
   "metadata": {},
   "outputs": [],
   "source": [
    "#The following commands are used to set up the environment in Colab\n",
    "!apt-get -y install cuda-nvtx-11-8 cuda-libraries-11-8\n",
    "%pip install cuda-quantum==0.8.0"
   ]
  },
  {
   "cell_type": "code",
   "execution_count": 1,
   "id": "57d5de8d-7205-4bfc-8d6f-0680b044fc4e",
   "metadata": {},
   "outputs": [],
   "source": [
    "import numpy as np\n",
    "import cudaq\n",
    "\n",
    "\"\"\"\n",
    "Showcase user-level APIs of how to \n",
    "(1) define a custom operation using unitary, \n",
    "(2) how to use it in kernel, \n",
    "(3) express controlled custom operation\n",
    "\"\"\"\n",
    "\n",
    "cudaq.set_target('qpp-cpu')"
   ]
  },
  {
   "cell_type": "code",
   "execution_count": 2,
   "id": "49a776e3-37d9-4bc5-9b65-65e8f986649b",
   "metadata": {},
   "outputs": [],
   "source": [
    "cudaq.register_operation(\"custom_h\", 1./np.sqrt(2.) * np.array([1, 1, 1, -1]))\n",
    "cudaq.register_operation(\"custom_x\", np.array([0, 1, 1, 0]))\n",
    "\n",
    "@cudaq.kernel\n",
    "def bell():\n",
    "    qubits = cudaq.qvector(2)\n",
    "    custom_h(qubits[0])\n",
    "    custom_x.ctrl(qubits[0], qubits[1])"
   ]
  },
  {
   "cell_type": "code",
   "execution_count": 3,
   "id": "8bccd59f-0d1e-4e8a-a701-341734aa4d53",
   "metadata": {},
   "outputs": [
    {
     "name": "stdout",
     "output_type": "stream",
     "text": [
      "[0.70710678+0.j 0.        +0.j 0.        +0.j 0.70710678+0.j]\n"
     ]
    }
   ],
   "source": [
    "states = np.array(cudaq.get_state(bell))\n",
    "print(states)"
   ]
  },
  {
   "cell_type": "code",
   "execution_count": 4,
   "id": "a94c30ce-e54f-46ec-b979-843de5d288d2",
   "metadata": {},
   "outputs": [],
   "source": [
    "cudaq.register_operation(\"custom_cnot\", np.array([1, 0, 0, 0, 0, 1, 0, 0, 0, 0, 0, 1, 0, 0, 1, 0]))\n",
    "\n",
    "@cudaq.kernel\n",
    "def bell_pair():\n",
    "    qubits = cudaq.qvector(2)\n",
    "    h(qubits[0])\n",
    "    custom_cnot(qubits[0], qubits[1])"
   ]
  },
  {
   "cell_type": "code",
   "execution_count": 5,
   "id": "cc66c214-5f65-4e9b-bd8f-421e4bfd59f4",
   "metadata": {},
   "outputs": [
    {
     "name": "stdout",
     "output_type": "stream",
     "text": [
      "[0.70710678+0.j 0.        +0.j 0.        +0.j 0.70710678+0.j]\n"
     ]
    }
   ],
   "source": [
    "states = np.array(cudaq.get_state(bell_pair))\n",
    "print(states)"
   ]
  },
  {
   "cell_type": "code",
   "execution_count": 6,
   "id": "7501a0f5-2bdf-4d51-bef4-b7fabeaa3dbd",
   "metadata": {},
   "outputs": [],
   "source": [
    "cudaq.register_operation(\"custom_cz\", np.array([1, 0, 0, 0, 0, 1, 0, 0, 0, 0, 1, 0, 0, 0, 0, -1]))\n",
    "\n",
    "@cudaq.kernel\n",
    "def ctrl_z_kernel():\n",
    "    qubits = cudaq.qvector(5)\n",
    "    controls = cudaq.qvector(2)\n",
    "    custom_cz(qubits[1], qubits[0])\n",
    "    x(qubits[2])\n",
    "    custom_cz(qubits[3], qubits[2])\n",
    "    x(controls)"
   ]
  },
  {
   "cell_type": "code",
   "execution_count": 7,
   "id": "9733829b-7877-4502-aa19-eb3cb7d8c748",
   "metadata": {},
   "outputs": [
    {
     "name": "stdout",
     "output_type": "stream",
     "text": [
      "[0.+0.j 0.+0.j 0.+0.j 0.+0.j 0.+0.j 0.+0.j 0.+0.j 0.+0.j 0.+0.j 0.+0.j\n",
      " 0.+0.j 0.+0.j 0.+0.j 0.+0.j 0.+0.j 0.+0.j 0.+0.j 0.+0.j 0.+0.j 0.+0.j\n",
      " 0.+0.j 0.+0.j 0.+0.j 0.+0.j 0.+0.j 0.+0.j 0.+0.j 0.+0.j 0.+0.j 0.+0.j\n",
      " 0.+0.j 0.+0.j 0.+0.j 0.+0.j 0.+0.j 0.+0.j 0.+0.j 0.+0.j 0.+0.j 0.+0.j\n",
      " 0.+0.j 0.+0.j 0.+0.j 0.+0.j 0.+0.j 0.+0.j 0.+0.j 0.+0.j 0.+0.j 0.+0.j\n",
      " 0.+0.j 0.+0.j 0.+0.j 0.+0.j 0.+0.j 0.+0.j 0.+0.j 0.+0.j 0.+0.j 0.+0.j\n",
      " 0.+0.j 0.+0.j 0.+0.j 0.+0.j 0.+0.j 0.+0.j 0.+0.j 0.+0.j 0.+0.j 0.+0.j\n",
      " 0.+0.j 0.+0.j 0.+0.j 0.+0.j 0.+0.j 0.+0.j 0.+0.j 0.+0.j 0.+0.j 0.+0.j\n",
      " 0.+0.j 0.+0.j 0.+0.j 0.+0.j 0.+0.j 0.+0.j 0.+0.j 0.+0.j 0.+0.j 0.+0.j\n",
      " 0.+0.j 0.+0.j 0.+0.j 0.+0.j 0.+0.j 0.+0.j 0.+0.j 0.+0.j 0.+0.j 0.+0.j\n",
      " 1.+0.j 0.+0.j 0.+0.j 0.+0.j 0.+0.j 0.+0.j 0.+0.j 0.+0.j 0.+0.j 0.+0.j\n",
      " 0.+0.j 0.+0.j 0.+0.j 0.+0.j 0.+0.j 0.+0.j 0.+0.j 0.+0.j 0.+0.j 0.+0.j\n",
      " 0.+0.j 0.+0.j 0.+0.j 0.+0.j 0.+0.j 0.+0.j 0.+0.j 0.+0.j]\n"
     ]
    }
   ],
   "source": [
    "states = np.array(cudaq.get_state(ctrl_z_kernel))\n",
    "print(states)"
   ]
  }
 ],
 "metadata": {
  "kernelspec": {
   "display_name": "Python 3 (ipykernel)",
   "language": "python",
   "name": "python3"
  },
  "language_info": {
   "codemirror_mode": {
    "name": "ipython",
    "version": 3
   },
   "file_extension": ".py",
   "mimetype": "text/x-python",
   "name": "python",
   "nbconvert_exporter": "python",
   "pygments_lexer": "ipython3",
   "version": "3.10.12"
  }
 },
 "nbformat": 4,
 "nbformat_minor": 5
}
