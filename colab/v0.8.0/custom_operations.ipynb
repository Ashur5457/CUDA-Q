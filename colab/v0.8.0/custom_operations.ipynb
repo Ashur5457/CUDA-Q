{
  "cells": [
    {
      "cell_type": "markdown",
      "source": [
        "<a href=\"https://colab.research.google.com/github/Squirtle007/CUDA_Quantum/blob/main/colab/v0.8.0/custom_operations.ipynb\" target=\"_parent\"><img src=\"https://colab.research.google.com/assets/colab-badge.svg\" alt=\"Open In Colab\"/></a>"
      ],
      "metadata": {
        "id": "QgbrAkefW3f5"
      },
      "id": "QgbrAkefW3f5"
    },
    {
      "cell_type": "code",
      "execution_count": 1,
      "id": "ce4f40bc-2934-4e39-aecc-103efc38821d",
      "metadata": {
        "colab": {
          "base_uri": "https://localhost:8080/"
        },
        "id": "ce4f40bc-2934-4e39-aecc-103efc38821d",
        "outputId": "645358ae-6655-494b-84c3-f3036c72cc10"
      },
      "outputs": [
        {
          "output_type": "stream",
          "name": "stdout",
          "text": [
            "Collecting cuda-quantum==0.8.0\n",
            "  Downloading cuda_quantum-0.8.0-cp310-cp310-manylinux_2_28_x86_64.whl.metadata (7.6 kB)\n",
            "Collecting astpretty~=3.0 (from cuda-quantum==0.8.0)\n",
            "  Downloading astpretty-3.0.0-py2.py3-none-any.whl.metadata (5.5 kB)\n",
            "Collecting cuquantum-cu11~=24.03 (from cuda-quantum==0.8.0)\n",
            "  Downloading cuquantum_cu11-24.8.0-py3-none-manylinux2014_x86_64.whl.metadata (2.7 kB)\n",
            "Collecting graphlib-backport>=1.0 (from cuda-quantum==0.8.0)\n",
            "  Downloading graphlib_backport-1.1.0-py3-none-any.whl.metadata (4.4 kB)\n",
            "Requirement already satisfied: numpy>=1.24 in /usr/local/lib/python3.10/dist-packages (from cuda-quantum==0.8.0) (1.26.4)\n",
            "Requirement already satisfied: requests>=2.31 in /usr/local/lib/python3.10/dist-packages (from cuda-quantum==0.8.0) (2.32.3)\n",
            "Collecting nvidia-cublas-cu11==11.11.3.6 (from cuda-quantum==0.8.0)\n",
            "  Downloading nvidia_cublas_cu11-11.11.3.6-py3-none-manylinux2014_x86_64.whl.metadata (1.5 kB)\n",
            "Collecting nvidia-cuda-runtime-cu11==11.8.89 (from cuda-quantum==0.8.0)\n",
            "  Downloading nvidia_cuda_runtime_cu11-11.8.89-py3-none-manylinux2014_x86_64.whl.metadata (1.5 kB)\n",
            "Collecting nvidia-cusolver-cu11==11.4.1.48 (from cuda-quantum==0.8.0)\n",
            "  Downloading nvidia_cusolver_cu11-11.4.1.48-py3-none-manylinux2014_x86_64.whl.metadata (1.6 kB)\n",
            "Collecting custatevec-cu11==1.6.0.post1 (from cuquantum-cu11~=24.03->cuda-quantum==0.8.0)\n",
            "  Downloading custatevec_cu11-1.6.0.post1-py3-none-manylinux2014_x86_64.whl.metadata (2.1 kB)\n",
            "Collecting cutensornet-cu11==2.5.0 (from cuquantum-cu11~=24.03->cuda-quantum==0.8.0)\n",
            "  Downloading cutensornet_cu11-2.5.0-py3-none-manylinux2014_x86_64.whl.metadata (2.0 kB)\n",
            "Collecting cutensor-cu11<3,>=2.0.1 (from cutensornet-cu11==2.5.0->cuquantum-cu11~=24.03->cuda-quantum==0.8.0)\n",
            "  Downloading cutensor_cu11-2.0.2-py3-none-manylinux2014_x86_64.whl.metadata (2.1 kB)\n",
            "Requirement already satisfied: charset-normalizer<4,>=2 in /usr/local/lib/python3.10/dist-packages (from requests>=2.31->cuda-quantum==0.8.0) (3.3.2)\n",
            "Requirement already satisfied: idna<4,>=2.5 in /usr/local/lib/python3.10/dist-packages (from requests>=2.31->cuda-quantum==0.8.0) (3.10)\n",
            "Requirement already satisfied: urllib3<3,>=1.21.1 in /usr/local/lib/python3.10/dist-packages (from requests>=2.31->cuda-quantum==0.8.0) (2.2.3)\n",
            "Requirement already satisfied: certifi>=2017.4.17 in /usr/local/lib/python3.10/dist-packages (from requests>=2.31->cuda-quantum==0.8.0) (2024.8.30)\n",
            "Downloading cuda_quantum-0.8.0-cp310-cp310-manylinux_2_28_x86_64.whl (118.7 MB)\n",
            "\u001b[2K   \u001b[90m━━━━━━━━━━━━━━━━━━━━━━━━━━━━━━━━━━━━━━━━\u001b[0m \u001b[32m118.7/118.7 MB\u001b[0m \u001b[31m5.1 MB/s\u001b[0m eta \u001b[36m0:00:00\u001b[0m\n",
            "\u001b[?25hDownloading nvidia_cublas_cu11-11.11.3.6-py3-none-manylinux2014_x86_64.whl (417.9 MB)\n",
            "\u001b[2K   \u001b[90m━━━━━━━━━━━━━━━━━━━━━━━━━━━━━━━━━━━━━━━━\u001b[0m \u001b[32m417.9/417.9 MB\u001b[0m \u001b[31m3.6 MB/s\u001b[0m eta \u001b[36m0:00:00\u001b[0m\n",
            "\u001b[?25hDownloading nvidia_cuda_runtime_cu11-11.8.89-py3-none-manylinux2014_x86_64.whl (875 kB)\n",
            "\u001b[2K   \u001b[90m━━━━━━━━━━━━━━━━━━━━━━━━━━━━━━━━━━━━━━━━\u001b[0m \u001b[32m875.6/875.6 kB\u001b[0m \u001b[31m24.5 MB/s\u001b[0m eta \u001b[36m0:00:00\u001b[0m\n",
            "\u001b[?25hDownloading nvidia_cusolver_cu11-11.4.1.48-py3-none-manylinux2014_x86_64.whl (128.2 MB)\n",
            "\u001b[2K   \u001b[90m━━━━━━━━━━━━━━━━━━━━━━━━━━━━━━━━━━━━━━━━\u001b[0m \u001b[32m128.2/128.2 MB\u001b[0m \u001b[31m6.7 MB/s\u001b[0m eta \u001b[36m0:00:00\u001b[0m\n",
            "\u001b[?25hDownloading astpretty-3.0.0-py2.py3-none-any.whl (4.9 kB)\n",
            "Downloading cuquantum_cu11-24.8.0-py3-none-manylinux2014_x86_64.whl (7.0 kB)\n",
            "Downloading custatevec_cu11-1.6.0.post1-py3-none-manylinux2014_x86_64.whl (38.6 MB)\n",
            "\u001b[2K   \u001b[90m━━━━━━━━━━━━━━━━━━━━━━━━━━━━━━━━━━━━━━━━\u001b[0m \u001b[32m38.6/38.6 MB\u001b[0m \u001b[31m20.4 MB/s\u001b[0m eta \u001b[36m0:00:00\u001b[0m\n",
            "\u001b[?25hDownloading cutensornet_cu11-2.5.0-py3-none-manylinux2014_x86_64.whl (2.2 MB)\n",
            "\u001b[2K   \u001b[90m━━━━━━━━━━━━━━━━━━━━━━━━━━━━━━━━━━━━━━━━\u001b[0m \u001b[32m2.2/2.2 MB\u001b[0m \u001b[31m44.8 MB/s\u001b[0m eta \u001b[36m0:00:00\u001b[0m\n",
            "\u001b[?25hDownloading graphlib_backport-1.1.0-py3-none-any.whl (7.1 kB)\n",
            "Downloading cutensor_cu11-2.0.2-py3-none-manylinux2014_x86_64.whl (148.8 MB)\n",
            "\u001b[2K   \u001b[90m━━━━━━━━━━━━━━━━━━━━━━━━━━━━━━━━━━━━━━━━\u001b[0m \u001b[32m148.8/148.8 MB\u001b[0m \u001b[31m5.6 MB/s\u001b[0m eta \u001b[36m0:00:00\u001b[0m\n",
            "\u001b[?25hInstalling collected packages: cutensor-cu11, custatevec-cu11, nvidia-cuda-runtime-cu11, nvidia-cublas-cu11, graphlib-backport, cutensornet-cu11, astpretty, nvidia-cusolver-cu11, cuquantum-cu11, cuda-quantum\n",
            "Successfully installed astpretty-3.0.0 cuda-quantum-0.8.0 cuquantum-cu11-24.8.0 custatevec-cu11-1.6.0.post1 cutensor-cu11-2.0.2 cutensornet-cu11-2.5.0 graphlib-backport-1.1.0 nvidia-cublas-cu11-11.11.3.6 nvidia-cuda-runtime-cu11-11.8.89 nvidia-cusolver-cu11-11.4.1.48\n"
          ]
        }
      ],
      "source": [
        "#The following commands are used to set up the environment in Colab\n",
        "%pip install cuda-quantum==0.8.0"
      ]
    },
    {
      "cell_type": "code",
      "execution_count": 2,
      "id": "57d5de8d-7205-4bfc-8d6f-0680b044fc4e",
      "metadata": {
        "id": "57d5de8d-7205-4bfc-8d6f-0680b044fc4e"
      },
      "outputs": [],
      "source": [
        "import numpy as np\n",
        "import cudaq\n",
        "\n",
        "\"\"\"\n",
        "Showcase user-level APIs of how to\n",
        "(1) define a custom operation using unitary,\n",
        "(2) how to use it in kernel,\n",
        "(3) express controlled custom operation\n",
        "\"\"\"\n",
        "\n",
        "cudaq.set_target('qpp-cpu')"
      ]
    },
    {
      "cell_type": "code",
      "execution_count": 3,
      "id": "49a776e3-37d9-4bc5-9b65-65e8f986649b",
      "metadata": {
        "id": "49a776e3-37d9-4bc5-9b65-65e8f986649b"
      },
      "outputs": [],
      "source": [
        "cudaq.register_operation(\"custom_h\", 1./np.sqrt(2.) * np.array([1, 1, 1, -1]))\n",
        "cudaq.register_operation(\"custom_x\", np.array([0, 1, 1, 0]))\n",
        "\n",
        "@cudaq.kernel\n",
        "def bell():\n",
        "    qubits = cudaq.qvector(2)\n",
        "    custom_h(qubits[0])\n",
        "    custom_x.ctrl(qubits[0], qubits[1])"
      ]
    },
    {
      "cell_type": "code",
      "execution_count": 4,
      "id": "8bccd59f-0d1e-4e8a-a701-341734aa4d53",
      "metadata": {
        "colab": {
          "base_uri": "https://localhost:8080/"
        },
        "id": "8bccd59f-0d1e-4e8a-a701-341734aa4d53",
        "outputId": "431f3988-538c-4963-b5fa-396496a791d9"
      },
      "outputs": [
        {
          "output_type": "stream",
          "name": "stdout",
          "text": [
            "[0.70710678+0.j 0.        +0.j 0.        +0.j 0.70710678+0.j]\n"
          ]
        }
      ],
      "source": [
        "states = np.array(cudaq.get_state(bell))\n",
        "print(states)"
      ]
    },
    {
      "cell_type": "code",
      "execution_count": 5,
      "id": "a94c30ce-e54f-46ec-b979-843de5d288d2",
      "metadata": {
        "id": "a94c30ce-e54f-46ec-b979-843de5d288d2"
      },
      "outputs": [],
      "source": [
        "cudaq.register_operation(\"custom_cnot\", np.array([1, 0, 0, 0, 0, 1, 0, 0, 0, 0, 0, 1, 0, 0, 1, 0]))\n",
        "\n",
        "@cudaq.kernel\n",
        "def bell_pair():\n",
        "    qubits = cudaq.qvector(2)\n",
        "    h(qubits[0])\n",
        "    custom_cnot(qubits[0], qubits[1])"
      ]
    },
    {
      "cell_type": "code",
      "execution_count": 6,
      "id": "cc66c214-5f65-4e9b-bd8f-421e4bfd59f4",
      "metadata": {
        "colab": {
          "base_uri": "https://localhost:8080/"
        },
        "id": "cc66c214-5f65-4e9b-bd8f-421e4bfd59f4",
        "outputId": "928c2cbd-8989-41f5-9714-3d5adf7f1595"
      },
      "outputs": [
        {
          "output_type": "stream",
          "name": "stdout",
          "text": [
            "[0.70710678+0.j 0.        +0.j 0.        +0.j 0.70710678+0.j]\n"
          ]
        }
      ],
      "source": [
        "states = np.array(cudaq.get_state(bell_pair))\n",
        "print(states)"
      ]
    },
    {
      "cell_type": "code",
      "execution_count": 7,
      "id": "7501a0f5-2bdf-4d51-bef4-b7fabeaa3dbd",
      "metadata": {
        "id": "7501a0f5-2bdf-4d51-bef4-b7fabeaa3dbd"
      },
      "outputs": [],
      "source": [
        "cudaq.register_operation(\"custom_cz\", np.array([1, 0, 0, 0, 0, 1, 0, 0, 0, 0, 1, 0, 0, 0, 0, -1]))\n",
        "\n",
        "@cudaq.kernel\n",
        "def ctrl_z_kernel():\n",
        "    qubits = cudaq.qvector(5)\n",
        "    controls = cudaq.qvector(2)\n",
        "    custom_cz(qubits[1], qubits[0])\n",
        "    x(qubits[2])\n",
        "    custom_cz(qubits[3], qubits[2])\n",
        "    x(controls)"
      ]
    },
    {
      "cell_type": "code",
      "execution_count": 8,
      "id": "9733829b-7877-4502-aa19-eb3cb7d8c748",
      "metadata": {
        "colab": {
          "base_uri": "https://localhost:8080/"
        },
        "id": "9733829b-7877-4502-aa19-eb3cb7d8c748",
        "outputId": "114ef648-5f29-4e1a-8cf6-1b52c6bbe5bf"
      },
      "outputs": [
        {
          "output_type": "stream",
          "name": "stdout",
          "text": [
            "[0.+0.j 0.+0.j 0.+0.j 0.+0.j 0.+0.j 0.+0.j 0.+0.j 0.+0.j 0.+0.j 0.+0.j\n",
            " 0.+0.j 0.+0.j 0.+0.j 0.+0.j 0.+0.j 0.+0.j 0.+0.j 0.+0.j 0.+0.j 0.+0.j\n",
            " 0.+0.j 0.+0.j 0.+0.j 0.+0.j 0.+0.j 0.+0.j 0.+0.j 0.+0.j 0.+0.j 0.+0.j\n",
            " 0.+0.j 0.+0.j 0.+0.j 0.+0.j 0.+0.j 0.+0.j 0.+0.j 0.+0.j 0.+0.j 0.+0.j\n",
            " 0.+0.j 0.+0.j 0.+0.j 0.+0.j 0.+0.j 0.+0.j 0.+0.j 0.+0.j 0.+0.j 0.+0.j\n",
            " 0.+0.j 0.+0.j 0.+0.j 0.+0.j 0.+0.j 0.+0.j 0.+0.j 0.+0.j 0.+0.j 0.+0.j\n",
            " 0.+0.j 0.+0.j 0.+0.j 0.+0.j 0.+0.j 0.+0.j 0.+0.j 0.+0.j 0.+0.j 0.+0.j\n",
            " 0.+0.j 0.+0.j 0.+0.j 0.+0.j 0.+0.j 0.+0.j 0.+0.j 0.+0.j 0.+0.j 0.+0.j\n",
            " 0.+0.j 0.+0.j 0.+0.j 0.+0.j 0.+0.j 0.+0.j 0.+0.j 0.+0.j 0.+0.j 0.+0.j\n",
            " 0.+0.j 0.+0.j 0.+0.j 0.+0.j 0.+0.j 0.+0.j 0.+0.j 0.+0.j 0.+0.j 0.+0.j\n",
            " 1.+0.j 0.+0.j 0.+0.j 0.+0.j 0.+0.j 0.+0.j 0.+0.j 0.+0.j 0.+0.j 0.+0.j\n",
            " 0.+0.j 0.+0.j 0.+0.j 0.+0.j 0.+0.j 0.+0.j 0.+0.j 0.+0.j 0.+0.j 0.+0.j\n",
            " 0.+0.j 0.+0.j 0.+0.j 0.+0.j 0.+0.j 0.+0.j 0.+0.j 0.+0.j]\n"
          ]
        }
      ],
      "source": [
        "states = np.array(cudaq.get_state(ctrl_z_kernel))\n",
        "print(states)"
      ]
    }
  ],
  "metadata": {
    "kernelspec": {
      "display_name": "Python 3 (ipykernel)",
      "language": "python",
      "name": "python3"
    },
    "language_info": {
      "codemirror_mode": {
        "name": "ipython",
        "version": 3
      },
      "file_extension": ".py",
      "mimetype": "text/x-python",
      "name": "python",
      "nbconvert_exporter": "python",
      "pygments_lexer": "ipython3",
      "version": "3.10.12"
    },
    "colab": {
      "provenance": []
    }
  },
  "nbformat": 4,
  "nbformat_minor": 5
}