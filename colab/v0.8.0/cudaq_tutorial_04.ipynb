{
  "cells": [
    {
      "cell_type": "markdown",
      "metadata": {
        "id": "JG7qPmKUJZUt"
      },
      "source": [
        "<a href=\"https://colab.research.google.com/github/Squirtle007/CUDA_Quantum/blob/main/colab/v0.8.0/cudaq_tutorial_04.ipynb\" target=\"_parent\"><img src=\"https://colab.research.google.com/assets/colab-badge.svg\" alt=\"Open In Colab\"/></a>"
      ],
      "id": "JG7qPmKUJZUt"
    },
    {
      "cell_type": "markdown",
      "id": "h-JpJL2Rz0r5",
      "metadata": {
        "id": "h-JpJL2Rz0r5"
      },
      "source": [
        "**Set up CUDA-Q Environment**"
      ]
    },
    {
      "cell_type": "code",
      "execution_count": 1,
      "id": "eUd27wqCsof5",
      "metadata": {
        "colab": {
          "base_uri": "https://localhost:8080/"
        },
        "id": "eUd27wqCsof5",
        "outputId": "19aed0b2-276a-4256-da14-2d5d695e4cbd"
      },
      "outputs": [
        {
          "output_type": "stream",
          "name": "stdout",
          "text": [
            "Collecting cuda-quantum==0.8.0\n",
            "  Downloading cuda_quantum-0.8.0-cp310-cp310-manylinux_2_28_x86_64.whl.metadata (7.6 kB)\n",
            "Collecting astpretty~=3.0 (from cuda-quantum==0.8.0)\n",
            "  Downloading astpretty-3.0.0-py2.py3-none-any.whl.metadata (5.5 kB)\n",
            "Collecting cuquantum-cu11~=24.03 (from cuda-quantum==0.8.0)\n",
            "  Downloading cuquantum_cu11-24.8.0-py3-none-manylinux2014_x86_64.whl.metadata (2.7 kB)\n",
            "Collecting graphlib-backport>=1.0 (from cuda-quantum==0.8.0)\n",
            "  Downloading graphlib_backport-1.1.0-py3-none-any.whl.metadata (4.4 kB)\n",
            "Requirement already satisfied: numpy>=1.24 in /usr/local/lib/python3.10/dist-packages (from cuda-quantum==0.8.0) (1.26.4)\n",
            "Requirement already satisfied: requests>=2.31 in /usr/local/lib/python3.10/dist-packages (from cuda-quantum==0.8.0) (2.32.3)\n",
            "Collecting nvidia-cublas-cu11==11.11.3.6 (from cuda-quantum==0.8.0)\n",
            "  Downloading nvidia_cublas_cu11-11.11.3.6-py3-none-manylinux2014_x86_64.whl.metadata (1.5 kB)\n",
            "Collecting nvidia-cuda-runtime-cu11==11.8.89 (from cuda-quantum==0.8.0)\n",
            "  Downloading nvidia_cuda_runtime_cu11-11.8.89-py3-none-manylinux2014_x86_64.whl.metadata (1.5 kB)\n",
            "Collecting nvidia-cusolver-cu11==11.4.1.48 (from cuda-quantum==0.8.0)\n",
            "  Downloading nvidia_cusolver_cu11-11.4.1.48-py3-none-manylinux2014_x86_64.whl.metadata (1.6 kB)\n",
            "Collecting custatevec-cu11==1.6.0.post1 (from cuquantum-cu11~=24.03->cuda-quantum==0.8.0)\n",
            "  Downloading custatevec_cu11-1.6.0.post1-py3-none-manylinux2014_x86_64.whl.metadata (2.1 kB)\n",
            "Collecting cutensornet-cu11==2.5.0 (from cuquantum-cu11~=24.03->cuda-quantum==0.8.0)\n",
            "  Downloading cutensornet_cu11-2.5.0-py3-none-manylinux2014_x86_64.whl.metadata (2.0 kB)\n",
            "Collecting cutensor-cu11<3,>=2.0.1 (from cutensornet-cu11==2.5.0->cuquantum-cu11~=24.03->cuda-quantum==0.8.0)\n",
            "  Downloading cutensor_cu11-2.0.2-py3-none-manylinux2014_x86_64.whl.metadata (2.1 kB)\n",
            "Requirement already satisfied: charset-normalizer<4,>=2 in /usr/local/lib/python3.10/dist-packages (from requests>=2.31->cuda-quantum==0.8.0) (3.3.2)\n",
            "Requirement already satisfied: idna<4,>=2.5 in /usr/local/lib/python3.10/dist-packages (from requests>=2.31->cuda-quantum==0.8.0) (3.10)\n",
            "Requirement already satisfied: urllib3<3,>=1.21.1 in /usr/local/lib/python3.10/dist-packages (from requests>=2.31->cuda-quantum==0.8.0) (2.2.3)\n",
            "Requirement already satisfied: certifi>=2017.4.17 in /usr/local/lib/python3.10/dist-packages (from requests>=2.31->cuda-quantum==0.8.0) (2024.8.30)\n",
            "Downloading cuda_quantum-0.8.0-cp310-cp310-manylinux_2_28_x86_64.whl (118.7 MB)\n",
            "\u001b[2K   \u001b[90m━━━━━━━━━━━━━━━━━━━━━━━━━━━━━━━━━━━━━━━━\u001b[0m \u001b[32m118.7/118.7 MB\u001b[0m \u001b[31m7.1 MB/s\u001b[0m eta \u001b[36m0:00:00\u001b[0m\n",
            "\u001b[?25hDownloading nvidia_cublas_cu11-11.11.3.6-py3-none-manylinux2014_x86_64.whl (417.9 MB)\n",
            "\u001b[2K   \u001b[90m━━━━━━━━━━━━━━━━━━━━━━━━━━━━━━━━━━━━━━━━\u001b[0m \u001b[32m417.9/417.9 MB\u001b[0m \u001b[31m4.4 MB/s\u001b[0m eta \u001b[36m0:00:00\u001b[0m\n",
            "\u001b[?25hDownloading nvidia_cuda_runtime_cu11-11.8.89-py3-none-manylinux2014_x86_64.whl (875 kB)\n",
            "\u001b[2K   \u001b[90m━━━━━━━━━━━━━━━━━━━━━━━━━━━━━━━━━━━━━━━━\u001b[0m \u001b[32m875.6/875.6 kB\u001b[0m \u001b[31m22.1 MB/s\u001b[0m eta \u001b[36m0:00:00\u001b[0m\n",
            "\u001b[?25hDownloading nvidia_cusolver_cu11-11.4.1.48-py3-none-manylinux2014_x86_64.whl (128.2 MB)\n",
            "\u001b[2K   \u001b[90m━━━━━━━━━━━━━━━━━━━━━━━━━━━━━━━━━━━━━━━━\u001b[0m \u001b[32m128.2/128.2 MB\u001b[0m \u001b[31m7.4 MB/s\u001b[0m eta \u001b[36m0:00:00\u001b[0m\n",
            "\u001b[?25hDownloading astpretty-3.0.0-py2.py3-none-any.whl (4.9 kB)\n",
            "Downloading cuquantum_cu11-24.8.0-py3-none-manylinux2014_x86_64.whl (7.0 kB)\n",
            "Downloading custatevec_cu11-1.6.0.post1-py3-none-manylinux2014_x86_64.whl (38.6 MB)\n",
            "\u001b[2K   \u001b[90m━━━━━━━━━━━━━━━━━━━━━━━━━━━━━━━━━━━━━━━━\u001b[0m \u001b[32m38.6/38.6 MB\u001b[0m \u001b[31m17.8 MB/s\u001b[0m eta \u001b[36m0:00:00\u001b[0m\n",
            "\u001b[?25hDownloading cutensornet_cu11-2.5.0-py3-none-manylinux2014_x86_64.whl (2.2 MB)\n",
            "\u001b[2K   \u001b[90m━━━━━━━━━━━━━━━━━━━━━━━━━━━━━━━━━━━━━━━━\u001b[0m \u001b[32m2.2/2.2 MB\u001b[0m \u001b[31m49.4 MB/s\u001b[0m eta \u001b[36m0:00:00\u001b[0m\n",
            "\u001b[?25hDownloading graphlib_backport-1.1.0-py3-none-any.whl (7.1 kB)\n",
            "Downloading cutensor_cu11-2.0.2-py3-none-manylinux2014_x86_64.whl (148.8 MB)\n",
            "\u001b[2K   \u001b[90m━━━━━━━━━━━━━━━━━━━━━━━━━━━━━━━━━━━━━━━━\u001b[0m \u001b[32m148.8/148.8 MB\u001b[0m \u001b[31m6.6 MB/s\u001b[0m eta \u001b[36m0:00:00\u001b[0m\n",
            "\u001b[?25hInstalling collected packages: cutensor-cu11, custatevec-cu11, nvidia-cuda-runtime-cu11, nvidia-cublas-cu11, graphlib-backport, cutensornet-cu11, astpretty, nvidia-cusolver-cu11, cuquantum-cu11, cuda-quantum\n",
            "Successfully installed astpretty-3.0.0 cuda-quantum-0.8.0 cuquantum-cu11-24.8.0 custatevec-cu11-1.6.0.post1 cutensor-cu11-2.0.2 cutensornet-cu11-2.5.0 graphlib-backport-1.1.0 nvidia-cublas-cu11-11.11.3.6 nvidia-cuda-runtime-cu11-11.8.89 nvidia-cusolver-cu11-11.4.1.48\n"
          ]
        }
      ],
      "source": [
        "#The following commands are used to set up the environment in Colab\n",
        "%pip install cuda-quantum==0.8.0"
      ]
    },
    {
      "cell_type": "markdown",
      "id": "Q2bpQmaZ0Ifo",
      "metadata": {
        "id": "Q2bpQmaZ0Ifo"
      },
      "source": [
        "# cuQuantum-accelerated Backends\n",
        "\n",
        "- **nvidia**: The **`nvidia`** target provides a state vector simulator accelerated with the **`cuStateVec`** library\n",
        "- **tensornet**: The **`tensornet`** target provides a tensor-network simulator accelerated with the **`cuTensorNet`** library\n",
        "\n",
        "\n",
        "CUDA-Q support cuQuantum-accelerated simulation backends including cuStateVec and cuTensorNet. Click [here](https://developer.nvidia.com/cuquantum-sdk) to learn about cuQuantum."
      ]
    },
    {
      "cell_type": "code",
      "execution_count": 3,
      "id": "b36aa076-47ee-4c38-bea8-9e88ca777b64",
      "metadata": {
        "id": "b36aa076-47ee-4c38-bea8-9e88ca777b64"
      },
      "outputs": [],
      "source": [
        "import cudaq\n",
        "import time\n",
        "\n",
        "num_qubits = 28\n",
        "\n",
        "# Define a quantum kernel function for generating a GHZ state.\n",
        "@cudaq.kernel\n",
        "def kernel(num_qubits: int):\n",
        "    qubits = cudaq.qvector(num_qubits)\n",
        "    h(qubits[0])\n",
        "    for q in range(num_qubits-1):\n",
        "        x.ctrl(qubits[q], qubits[q+1])"
      ]
    },
    {
      "cell_type": "code",
      "execution_count": 5,
      "id": "ba0b1f91-a7da-47b4-8289-e7e66a8e240e",
      "metadata": {
        "colab": {
          "base_uri": "https://localhost:8080/"
        },
        "id": "ba0b1f91-a7da-47b4-8289-e7e66a8e240e",
        "outputId": "89931288-d104-4669-b9ae-9d9413155443"
      },
      "outputs": [
        {
          "output_type": "stream",
          "name": "stdout",
          "text": [
            "Execution time: 0.18911218643188477 (sec)\n",
            "0.5\n"
          ]
        }
      ],
      "source": [
        "# Define the simulation target with \"nvidia\" backend.\n",
        "cudaq.set_target(\"nvidia\")\n",
        "\n",
        "t0 = time.time()\n",
        "state = cudaq.get_state(kernel, num_qubits)\n",
        "print(\"Execution time:\", time.time()-t0, \"(sec)\")\n",
        "print(round(abs(state[0])**2, 2))"
      ]
    },
    {
      "cell_type": "code",
      "execution_count": 8,
      "id": "423ac37c-8847-480a-b653-8cfc3efe06d3",
      "metadata": {
        "colab": {
          "base_uri": "https://localhost:8080/"
        },
        "id": "423ac37c-8847-480a-b653-8cfc3efe06d3",
        "outputId": "64bead57-4c30-4364-cc02-f1f80d62c849"
      },
      "outputs": [
        {
          "output_type": "stream",
          "name": "stdout",
          "text": [
            "Execution time: 0.003308534622192383 (sec)\n",
            "0.5\n"
          ]
        }
      ],
      "source": [
        "# Define the simulation target with \"tensornet\" backend.\n",
        "cudaq.set_target(\"tensornet\")\n",
        "\n",
        "t0 = time.time()\n",
        "state = cudaq.get_state(kernel, num_qubits)\n",
        "print(\"Execution time:\", time.time()-t0, \"(sec)\")\n",
        "print(round(abs(state[0])**2, 2))"
      ]
    },
    {
      "cell_type": "markdown",
      "id": "B-eEL992y313",
      "metadata": {
        "id": "B-eEL992y313"
      },
      "source": [
        "Note that the speedup achieved by the tensor-network method depends on circuit depth, topology, etc."
      ]
    }
  ],
  "metadata": {
    "accelerator": "GPU",
    "colab": {
      "gpuType": "T4",
      "provenance": []
    },
    "kernelspec": {
      "display_name": "Python 3",
      "name": "python3"
    },
    "language_info": {
      "codemirror_mode": {
        "name": "ipython",
        "version": 3
      },
      "file_extension": ".py",
      "mimetype": "text/x-python",
      "name": "python",
      "nbconvert_exporter": "python",
      "pygments_lexer": "ipython3",
      "version": "3.10.12"
    }
  },
  "nbformat": 4,
  "nbformat_minor": 5
}