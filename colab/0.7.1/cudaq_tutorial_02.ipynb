{
  "cells": [
    {
      "cell_type": "markdown",
      "metadata": {
        "id": "L0-Y7Pt1JYWF"
      },
      "source": [
        "<a href=\"https://colab.research.google.com/github/Squirtle007/CUDA_Quantum/blob/main/colab/v0.7.1/cudaq_tutorial_02.ipynb\" target=\"_parent\"><img src=\"https://colab.research.google.com/assets/colab-badge.svg\" alt=\"Open In Colab\"/></a>"
      ]
    },
    {
      "cell_type": "markdown",
      "metadata": {
        "id": "Ar02CoRdfQau"
      },
      "source": [
        "**Set up CUDA-Q Environment**"
      ]
    },
    {
      "cell_type": "code",
      "execution_count": 5,
      "metadata": {
        "colab": {
          "base_uri": "https://localhost:8080/"
        },
        "id": "2JHNaUJjgL2Y",
        "outputId": "05a60927-a2e6-4c66-f845-005e3c6c1726"
      },
      "outputs": [
        {
          "output_type": "stream",
          "name": "stdout",
          "text": [
            "Reading package lists... Done\n",
            "Building dependency tree... Done\n",
            "Reading state information... Done\n",
            "cuda-libraries-11-8 is already the newest version (11.8.0-1).\n",
            "cuda-nvtx-11-8 is already the newest version (11.8.86-1).\n",
            "0 upgraded, 0 newly installed, 0 to remove and 45 not upgraded.\n",
            "Collecting cuda-quantum==0.7.1\n",
            "  Using cached cuda_quantum-0.7.1-cp310-cp310-manylinux_2_28_x86_64.whl (105.8 MB)\n",
            "Collecting astpretty~=3.0 (from cuda-quantum==0.7.1)\n",
            "  Using cached astpretty-3.0.0-py2.py3-none-any.whl (4.9 kB)\n",
            "Collecting cuquantum-cu11~=23.10 (from cuda-quantum==0.7.1)\n",
            "  Using cached cuquantum_cu11-23.10.0-py3-none-manylinux2014_x86_64.whl (7.0 kB)\n",
            "Collecting graphlib-backport>=1.0 (from cuda-quantum==0.7.1)\n",
            "  Using cached graphlib_backport-1.1.0-py3-none-any.whl (7.1 kB)\n",
            "Requirement already satisfied: numpy>=1.24 in /usr/local/lib/python3.10/dist-packages (from cuda-quantum==0.7.1) (1.25.2)\n",
            "Collecting custatevec-cu11==1.5.0 (from cuquantum-cu11~=23.10->cuda-quantum==0.7.1)\n",
            "  Using cached custatevec_cu11-1.5.0-py3-none-manylinux2014_x86_64.whl (38.9 MB)\n",
            "Collecting cutensornet-cu11==2.3.0 (from cuquantum-cu11~=23.10->cuda-quantum==0.7.1)\n",
            "  Using cached cutensornet_cu11-2.3.0-py3-none-manylinux2014_x86_64.whl (2.2 MB)\n",
            "Collecting cutensor-cu11<2,>=1.6.1 (from cutensornet-cu11==2.3.0->cuquantum-cu11~=23.10->cuda-quantum==0.7.1)\n",
            "  Downloading cutensor_cu11-1.7.0-py3-none-manylinux2014_x86_64.whl (142.1 MB)\n",
            "\u001b[2K     \u001b[90m━━━━━━━━━━━━━━━━━━━━━━━━━━━━━━━━━━━━━━━━\u001b[0m \u001b[32m142.1/142.1 MB\u001b[0m \u001b[31m7.9 MB/s\u001b[0m eta \u001b[36m0:00:00\u001b[0m\n",
            "\u001b[?25hInstalling collected packages: cutensor-cu11, custatevec-cu11, graphlib-backport, cutensornet-cu11, astpretty, cuquantum-cu11, cuda-quantum\n",
            "Successfully installed astpretty-3.0.0 cuda-quantum-0.7.1 cuquantum-cu11-23.10.0 custatevec-cu11-1.5.0 cutensor-cu11-1.7.0 cutensornet-cu11-2.3.0 graphlib-backport-1.1.0\n"
          ]
        }
      ],
      "source": [
        "#The following commands are used to set up the environment in Colab\n",
        "!apt-get -y install cuda-nvtx-11-8 cuda-libraries-11-8\n",
        "%pip install cuda-quantum==0.7.1"
      ]
    },
    {
      "cell_type": "markdown",
      "metadata": {
        "id": "KPxYBbDIexMs"
      },
      "source": [
        "# Cost Minimization\n",
        "\n",
        "Below we start with a basic example of a hybrid variational algorithm which involves flipping the Bloch vector of a qubit from the $\\ket{0}$ to the $\\ket{1}$ state. First we import the relevant packages and set our backend to simulate our workflow on NVIDIA GPUs."
      ]
    },
    {
      "cell_type": "code",
      "execution_count": 6,
      "metadata": {
        "id": "pW2noQygfPTk"
      },
      "outputs": [],
      "source": [
        "import cudaq\n",
        "from typing import List\n",
        "\n",
        "cudaq.set_target(\"nvidia\")"
      ]
    },
    {
      "cell_type": "code",
      "execution_count": 7,
      "metadata": {
        "colab": {
          "base_uri": "https://localhost:8080/"
        },
        "id": "X7nPDpcZfWml",
        "outputId": "40286673-9fb7-44fe-f4e0-55cef30b2b66"
      },
      "outputs": [
        {
          "output_type": "stream",
          "name": "stdout",
          "text": [
            "     ╭───────╮╭───────╮\n",
            "q0 : ┤ rx(0) ├┤ ry(0) ├\n",
            "     ╰───────╯╰───────╯\n",
            "\n"
          ]
        }
      ],
      "source": [
        "# Initialize a kernel/ ansatz and variational parameters.\n",
        "@cudaq.kernel\n",
        "def kernel(angles: List[float]):\n",
        "    # Allocate a qubit that is initialised to the |0> state.\n",
        "    qubit = cudaq.qubit()\n",
        "    # Define gates and the qubits they act upon.\n",
        "    rx(angles[0], qubit)\n",
        "    ry(angles[1], qubit)\n",
        "\n",
        "\n",
        "# Our hamiltonian will be the Z expectation value of our qubit.\n",
        "hamiltonian = cudaq.spin.z(0)\n",
        "\n",
        "# Initial gate parameters which intialize the qubit in the zero state\n",
        "initial_parameters = [0, 0]\n",
        "\n",
        "print(cudaq.draw(kernel, initial_parameters))"
      ]
    },
    {
      "cell_type": "markdown",
      "metadata": {
        "id": "aJtH-1E2fYe0"
      },
      "source": [
        "We build our cost function such that its minimal value corresponds to the qubit being in the $\\ket{1}$ state. The observe call below allows us to simulate our statevector $\\ket{\\psi}$, and calculate $\\bra{\\psi}Z\\ket{\\psi}$.\n"
      ]
    },
    {
      "cell_type": "code",
      "execution_count": 8,
      "metadata": {
        "id": "hU23Fu_GfaC7"
      },
      "outputs": [],
      "source": [
        "cost_values = []\n",
        "\n",
        "\n",
        "def cost(parameters):\n",
        "    \"\"\"Returns the expectation value as our cost.\"\"\"\n",
        "    expectation_value = cudaq.observe(kernel, hamiltonian,\n",
        "                                      parameters).expectation()\n",
        "    cost_values.append(expectation_value)\n",
        "    return expectation_value"
      ]
    },
    {
      "cell_type": "code",
      "source": [
        "# We see that the initial value of our cost function is one, demonstrating that our qubit is in the zero state\n",
        "initial_cost_value = cost(initial_parameters)\n",
        "print(initial_cost_value)"
      ],
      "metadata": {
        "id": "gzAj_XfDa869",
        "outputId": "ddbe0152-a67a-4ed3-a059-e2966ee623bc",
        "colab": {
          "base_uri": "https://localhost:8080/"
        }
      },
      "execution_count": 9,
      "outputs": [
        {
          "output_type": "stream",
          "name": "stdout",
          "text": [
            "1.0\n"
          ]
        }
      ]
    },
    {
      "cell_type": "markdown",
      "source": [
        "Below we use our built-in optimization suite to minimize the cost function. We will be using the gradient-free COBYLA alogrithm."
      ],
      "metadata": {
        "id": "W-LtHvZva_hP"
      }
    },
    {
      "cell_type": "code",
      "execution_count": 10,
      "metadata": {
        "id": "Abq7lKT4fbNN"
      },
      "outputs": [],
      "source": [
        "# Define a CUDA-Q optimizer.\n",
        "optimizer = cudaq.optimizers.COBYLA()\n",
        "optimizer.initial_parameters = initial_parameters\n",
        "\n",
        "result = optimizer.optimize(dimensions=2, function=cost)"
      ]
    },
    {
      "cell_type": "code",
      "execution_count": 11,
      "metadata": {
        "colab": {
          "base_uri": "https://localhost:8080/",
          "height": 466
        },
        "id": "kkalE-exffTQ",
        "outputId": "6b8ae962-a431-443c-c93e-13e29939de20"
      },
      "outputs": [
        {
          "output_type": "execute_result",
          "data": {
            "text/plain": [
              "Text(0, 0.5, 'Cost Value')"
            ]
          },
          "metadata": {},
          "execution_count": 11
        },
        {
          "output_type": "display_data",
          "data": {
            "text/plain": [
              "<Figure size 640x480 with 1 Axes>"
            ],
            "image/png": "[encoded data removed]"
          },
          "metadata": {}
        }
      ],
      "source": [
        "# Plotting how the value of the cost function decreases during the minimization procedure.\n",
        "import matplotlib.pyplot as plt\n",
        "\n",
        "x_values = list(range(len(cost_values)))\n",
        "y_values = cost_values\n",
        "\n",
        "plt.plot(x_values, y_values)\n",
        "\n",
        "plt.xlabel(\"Epochs\")\n",
        "plt.ylabel(\"Cost Value\")"
      ]
    },
    {
      "cell_type": "markdown",
      "metadata": {
        "id": "JhJr5cq7fips"
      },
      "source": [
        "We see that the final value or our cost function, $\\bra{\\psi}Z\\ket{\\psi} = -1$ demonstrating that the qubit is in the $\\ket{1}$ state."
      ]
    },
    {
      "cell_type": "markdown",
      "metadata": {
        "id": "2K6qB3wVfpCb"
      },
      "source": [
        "# Variational Quantum Eigensolver"
      ]
    },
    {
      "cell_type": "markdown",
      "metadata": {
        "id": "TAm6R8avfsh8"
      },
      "source": [
        "A common application of the Variational Quantum Eigensolver (VQE) algorithm is to compute the ground state energy of a molecular system. The code below demonstrates how to perform classical preprocessing for a $H_2$ molecule (i.e. obtain the integrals from a Hartree-Fock computation to build the molecular Hamiltonian), prepare the initial Hartree-Fock state on the quantum register, add the parameterized UCCSD ansatz to the kernel, and select the COBYLA optimizer.  We are then ready to call `cudaq:vqe` to estimate the minimum energy of the system."
      ]
    },
    {
      "cell_type": "code",
      "execution_count": 12,
      "metadata": {
        "colab": {
          "base_uri": "https://localhost:8080/"
        },
        "id": "WeVYDfw-fvuG",
        "outputId": "9dfa5372-ddbd-4cc5-ac6b-9f71247b86f7"
      },
      "outputs": [
        {
          "output_type": "stream",
          "name": "stdout",
          "text": [
            "Collecting openfermionpyscf==0.5\n",
            "  Downloading openfermionpyscf-0.5-py3-none-any.whl (16 kB)\n",
            "Collecting openfermion>=0.5 (from openfermionpyscf==0.5)\n",
            "  Downloading openfermion-1.6.1-py3-none-any.whl (1.2 MB)\n",
            "\u001b[2K     \u001b[90m━━━━━━━━━━━━━━━━━━━━━━━━━━━━━━━━━━━━━━━━\u001b[0m \u001b[32m1.2/1.2 MB\u001b[0m \u001b[31m4.0 MB/s\u001b[0m eta \u001b[36m0:00:00\u001b[0m\n",
            "\u001b[?25hCollecting pyscf (from openfermionpyscf==0.5)\n",
            "  Downloading pyscf-2.6.2-py3-none-manylinux_2_17_x86_64.manylinux2014_x86_64.whl (48.6 MB)\n",
            "\u001b[2K     \u001b[90m━━━━━━━━━━━━━━━━━━━━━━━━━━━━━━━━━━━━━━━━\u001b[0m \u001b[32m48.6/48.6 MB\u001b[0m \u001b[31m13.3 MB/s\u001b[0m eta \u001b[36m0:00:00\u001b[0m\n",
            "\u001b[?25hRequirement already satisfied: pytest in /usr/local/lib/python3.10/dist-packages (from openfermionpyscf==0.5) (7.4.4)\n",
            "Collecting cirq-core~=1.0 (from openfermion>=0.5->openfermionpyscf==0.5)\n",
            "  Downloading cirq_core-1.4.1-py3-none-any.whl (1.9 MB)\n",
            "\u001b[2K     \u001b[90m━━━━━━━━━━━━━━━━━━━━━━━━━━━━━━━━━━━━━━━━\u001b[0m \u001b[32m1.9/1.9 MB\u001b[0m \u001b[31m86.3 MB/s\u001b[0m eta \u001b[36m0:00:00\u001b[0m\n",
            "\u001b[?25hCollecting deprecation (from openfermion>=0.5->openfermionpyscf==0.5)\n",
            "  Downloading deprecation-2.1.0-py2.py3-none-any.whl (11 kB)\n",
            "Requirement already satisfied: h5py>=2.8 in /usr/local/lib/python3.10/dist-packages (from openfermion>=0.5->openfermionpyscf==0.5) (3.9.0)\n",
            "Requirement already satisfied: networkx in /usr/local/lib/python3.10/dist-packages (from openfermion>=0.5->openfermionpyscf==0.5) (3.3)\n",
            "Requirement already satisfied: numpy>=1.11.0 in /usr/local/lib/python3.10/dist-packages (from openfermion>=0.5->openfermionpyscf==0.5) (1.25.2)\n",
            "Collecting pubchempy (from openfermion>=0.5->openfermionpyscf==0.5)\n",
            "  Downloading PubChemPy-1.0.4.tar.gz (29 kB)\n",
            "  Preparing metadata (setup.py) ... \u001b[?25l\u001b[?25hdone\n",
            "Requirement already satisfied: requests>=2.18 in /usr/local/lib/python3.10/dist-packages (from openfermion>=0.5->openfermionpyscf==0.5) (2.31.0)\n",
            "Requirement already satisfied: scipy>=1.1.0 in /usr/local/lib/python3.10/dist-packages (from openfermion>=0.5->openfermionpyscf==0.5) (1.11.4)\n",
            "Requirement already satisfied: sympy in /usr/local/lib/python3.10/dist-packages (from openfermion>=0.5->openfermionpyscf==0.5) (1.12.1)\n",
            "Requirement already satisfied: setuptools in /usr/local/lib/python3.10/dist-packages (from pyscf->openfermionpyscf==0.5) (67.7.2)\n",
            "Requirement already satisfied: iniconfig in /usr/local/lib/python3.10/dist-packages (from pytest->openfermionpyscf==0.5) (2.0.0)\n",
            "Requirement already satisfied: packaging in /usr/local/lib/python3.10/dist-packages (from pytest->openfermionpyscf==0.5) (24.1)\n",
            "Requirement already satisfied: pluggy<2.0,>=0.12 in /usr/local/lib/python3.10/dist-packages (from pytest->openfermionpyscf==0.5) (1.5.0)\n",
            "Requirement already satisfied: exceptiongroup>=1.0.0rc8 in /usr/local/lib/python3.10/dist-packages (from pytest->openfermionpyscf==0.5) (1.2.1)\n",
            "Requirement already satisfied: tomli>=1.0.0 in /usr/local/lib/python3.10/dist-packages (from pytest->openfermionpyscf==0.5) (2.0.1)\n",
            "Requirement already satisfied: attrs>=21.3.0 in /usr/local/lib/python3.10/dist-packages (from cirq-core~=1.0->openfermion>=0.5->openfermionpyscf==0.5) (23.2.0)\n",
            "Collecting duet>=0.2.8 (from cirq-core~=1.0->openfermion>=0.5->openfermionpyscf==0.5)\n",
            "  Downloading duet-0.2.9-py3-none-any.whl (29 kB)\n",
            "Requirement already satisfied: matplotlib~=3.0 in /usr/local/lib/python3.10/dist-packages (from cirq-core~=1.0->openfermion>=0.5->openfermionpyscf==0.5) (3.7.1)\n",
            "Requirement already satisfied: pandas in /usr/local/lib/python3.10/dist-packages (from cirq-core~=1.0->openfermion>=0.5->openfermionpyscf==0.5) (2.0.3)\n",
            "Requirement already satisfied: sortedcontainers~=2.0 in /usr/local/lib/python3.10/dist-packages (from cirq-core~=1.0->openfermion>=0.5->openfermionpyscf==0.5) (2.4.0)\n",
            "Requirement already satisfied: typing-extensions>=4.2 in /usr/local/lib/python3.10/dist-packages (from cirq-core~=1.0->openfermion>=0.5->openfermionpyscf==0.5) (4.12.2)\n",
            "Requirement already satisfied: tqdm in /usr/local/lib/python3.10/dist-packages (from cirq-core~=1.0->openfermion>=0.5->openfermionpyscf==0.5) (4.66.4)\n",
            "Requirement already satisfied: charset-normalizer<4,>=2 in /usr/local/lib/python3.10/dist-packages (from requests>=2.18->openfermion>=0.5->openfermionpyscf==0.5) (3.3.2)\n",
            "Requirement already satisfied: idna<4,>=2.5 in /usr/local/lib/python3.10/dist-packages (from requests>=2.18->openfermion>=0.5->openfermionpyscf==0.5) (3.7)\n",
            "Requirement already satisfied: urllib3<3,>=1.21.1 in /usr/local/lib/python3.10/dist-packages (from requests>=2.18->openfermion>=0.5->openfermionpyscf==0.5) (2.0.7)\n",
            "Requirement already satisfied: certifi>=2017.4.17 in /usr/local/lib/python3.10/dist-packages (from requests>=2.18->openfermion>=0.5->openfermionpyscf==0.5) (2024.6.2)\n",
            "Requirement already satisfied: mpmath<1.4.0,>=1.1.0 in /usr/local/lib/python3.10/dist-packages (from sympy->openfermion>=0.5->openfermionpyscf==0.5) (1.3.0)\n",
            "Requirement already satisfied: contourpy>=1.0.1 in /usr/local/lib/python3.10/dist-packages (from matplotlib~=3.0->cirq-core~=1.0->openfermion>=0.5->openfermionpyscf==0.5) (1.2.1)\n",
            "Requirement already satisfied: cycler>=0.10 in /usr/local/lib/python3.10/dist-packages (from matplotlib~=3.0->cirq-core~=1.0->openfermion>=0.5->openfermionpyscf==0.5) (0.12.1)\n",
            "Requirement already satisfied: fonttools>=4.22.0 in /usr/local/lib/python3.10/dist-packages (from matplotlib~=3.0->cirq-core~=1.0->openfermion>=0.5->openfermionpyscf==0.5) (4.53.0)\n",
            "Requirement already satisfied: kiwisolver>=1.0.1 in /usr/local/lib/python3.10/dist-packages (from matplotlib~=3.0->cirq-core~=1.0->openfermion>=0.5->openfermionpyscf==0.5) (1.4.5)\n",
            "Requirement already satisfied: pillow>=6.2.0 in /usr/local/lib/python3.10/dist-packages (from matplotlib~=3.0->cirq-core~=1.0->openfermion>=0.5->openfermionpyscf==0.5) (9.4.0)\n",
            "Requirement already satisfied: pyparsing>=2.3.1 in /usr/local/lib/python3.10/dist-packages (from matplotlib~=3.0->cirq-core~=1.0->openfermion>=0.5->openfermionpyscf==0.5) (3.1.2)\n",
            "Requirement already satisfied: python-dateutil>=2.7 in /usr/local/lib/python3.10/dist-packages (from matplotlib~=3.0->cirq-core~=1.0->openfermion>=0.5->openfermionpyscf==0.5) (2.8.2)\n",
            "Requirement already satisfied: pytz>=2020.1 in /usr/local/lib/python3.10/dist-packages (from pandas->cirq-core~=1.0->openfermion>=0.5->openfermionpyscf==0.5) (2023.4)\n",
            "Requirement already satisfied: tzdata>=2022.1 in /usr/local/lib/python3.10/dist-packages (from pandas->cirq-core~=1.0->openfermion>=0.5->openfermionpyscf==0.5) (2024.1)\n",
            "Requirement already satisfied: six>=1.5 in /usr/local/lib/python3.10/dist-packages (from python-dateutil>=2.7->matplotlib~=3.0->cirq-core~=1.0->openfermion>=0.5->openfermionpyscf==0.5) (1.16.0)\n",
            "Building wheels for collected packages: pubchempy\n",
            "  Building wheel for pubchempy (setup.py) ... \u001b[?25l\u001b[?25hdone\n",
            "  Created wheel for pubchempy: filename=PubChemPy-1.0.4-py3-none-any.whl size=13820 sha256=f759e654347185ab204d9d7fae6dd716fe0ebcbd51058d1342c132ea41feb2c3\n",
            "  Stored in directory: /root/.cache/pip/wheels/90/7c/45/18a0671e3c3316966ef7ed9ad2b3f3300a7e41d3421a44e799\n",
            "Successfully built pubchempy\n",
            "Installing collected packages: pubchempy, duet, deprecation, pyscf, cirq-core, openfermion, openfermionpyscf\n",
            "Successfully installed cirq-core-1.4.1 deprecation-2.1.0 duet-0.2.9 openfermion-1.6.1 openfermionpyscf-0.5 pubchempy-1.0.4 pyscf-2.6.2\n"
          ]
        }
      ],
      "source": [
        "!pip install openfermionpyscf==0.5"
      ]
    },
    {
      "cell_type": "code",
      "execution_count": 13,
      "metadata": {
        "id": "VyzGtQ0rf1Na"
      },
      "outputs": [],
      "source": [
        "import cudaq\n",
        "import matplotlib.pyplot as plt\n",
        "from scipy.optimize import minimize\n",
        "import numpy as np\n",
        "\n",
        "# Single precision\n",
        "cudaq.set_target(\"nvidia\")\n",
        "# Double precision\n",
        "#cudaq.set_target(\"nvidia-fp64\")"
      ]
    },
    {
      "cell_type": "markdown",
      "metadata": {
        "id": "44EV0RgEf4im"
      },
      "source": [
        "The problem of interest here is a chain of hydrogen atoms seperated along the z-axis at a fixed interval called the bond distance.\n",
        "\n",
        "The interatomic electrostatic forces due to the electrons and protons and the shielding by the neutrons creates a chemical system whose energy can be minimised to find a stable configuration.\n",
        "\n",
        "Let us first begin by defining the molecule and other metadata about the problem.\n"
      ]
    },
    {
      "cell_type": "code",
      "execution_count": 14,
      "metadata": {
        "id": "O2EVWbe3f6BU"
      },
      "outputs": [],
      "source": [
        "# Number of hydrogen atoms.\n",
        "hydrogen_count = 2\n",
        "\n",
        "# Distance between the atoms in Angstroms.\n",
        "bond_distance = 0.7474\n",
        "\n",
        "# Define a linear chain of Hydrogen atoms\n",
        "geometry = [('H', (0, 0, i * bond_distance)) for i in range(hydrogen_count)]\n",
        "\n",
        "molecule, data = cudaq.chemistry.create_molecular_hamiltonian(\n",
        "    geometry, 'sto-3g', 1, 0)\n",
        "\n",
        "electron_count = data.n_electrons\n",
        "qubit_count = 2 * data.n_orbitals"
      ]
    },
    {
      "cell_type": "markdown",
      "metadata": {
        "id": "Mj7OEl0Jf8dZ"
      },
      "source": [
        "We now generate a Unitary Coupled-Cluster Singles and Doubles (UCCSD) ansatz from the template provided by CUDA-Q.  "
      ]
    },
    {
      "cell_type": "code",
      "execution_count": 15,
      "metadata": {
        "id": "ktLZOQAwf8AV"
      },
      "outputs": [],
      "source": [
        "@cudaq.kernel\n",
        "def kernel(thetas: list[float]):\n",
        "\n",
        "    qubits = cudaq.qvector(qubit_count)\n",
        "\n",
        "    for i in range(electron_count):\n",
        "        x(qubits[i])\n",
        "\n",
        "    cudaq.kernels.uccsd(qubits, thetas, electron_count, qubit_count)\n",
        "\n",
        "\n",
        "parameter_count = cudaq.kernels.uccsd_num_parameters(electron_count,\n",
        "                                                     qubit_count)"
      ]
    },
    {
      "cell_type": "markdown",
      "metadata": {
        "id": "A4KB7xkSf901"
      },
      "source": [
        "### Using CUDA-Q Optimizers\n",
        "\n",
        "We use the builtin optimizers within CUDA-Q for the minimization procedure."
      ]
    },
    {
      "cell_type": "code",
      "execution_count": 16,
      "metadata": {
        "colab": {
          "base_uri": "https://localhost:8080/"
        },
        "id": "rD7X_gpef4Hx",
        "outputId": "9d7852d6-680e-486a-ac1f-8558c3bf5ee2"
      },
      "outputs": [
        {
          "output_type": "stream",
          "name": "stdout",
          "text": [
            "-1.1371744305855906\n"
          ]
        }
      ],
      "source": [
        "optimizer = cudaq.optimizers.COBYLA()\n",
        "\n",
        "energy, parameters = cudaq.vqe(kernel,\n",
        "                               molecule,\n",
        "                               optimizer,\n",
        "                               parameter_count=parameter_count)\n",
        "\n",
        "print(energy)"
      ]
    },
    {
      "cell_type": "markdown",
      "metadata": {
        "id": "BxJJQCscgAos"
      },
      "source": [
        "### Integration with Third-Party Optimizers\n",
        "\n",
        "We can also integrate popular libraries like scipy with CUDA-Q."
      ]
    },
    {
      "cell_type": "code",
      "execution_count": 17,
      "metadata": {
        "colab": {
          "base_uri": "https://localhost:8080/",
          "height": 472
        },
        "id": "S0w72GoCgAuU",
        "outputId": "88c10ad4-b657-476c-cea8-14e75bf7c7fb"
      },
      "outputs": [
        {
          "output_type": "display_data",
          "data": {
            "text/plain": [
              "<Figure size 640x480 with 1 Axes>"
            ],
            "image/png": "[encoded data removed]"
          },
          "metadata": {}
        }
      ],
      "source": [
        "# Define a function to minimize\n",
        "def cost(theta):\n",
        "\n",
        "    exp_val = cudaq.observe(kernel, molecule, theta).expectation()\n",
        "\n",
        "    return exp_val\n",
        "\n",
        "\n",
        "exp_vals = []\n",
        "\n",
        "\n",
        "def callback(xk):\n",
        "    exp_vals.append(cost(xk))\n",
        "\n",
        "\n",
        "# Initial variational parameters.\n",
        "np.random.seed(42)\n",
        "x0 = np.random.normal(0, np.pi, parameter_count)\n",
        "\n",
        "# Use the scipy optimizer to minimize the function of interest\n",
        "result = minimize(cost,\n",
        "                  x0,\n",
        "                  method='COBYLA',\n",
        "                  callback=callback,\n",
        "                  options={'maxiter': 40})\n",
        "\n",
        "plt.plot(exp_vals)\n",
        "plt.xlabel('Epochs')\n",
        "plt.ylabel('Energy')\n",
        "plt.title('VQE')\n",
        "plt.show()"
      ]
    },
    {
      "cell_type": "markdown",
      "metadata": {
        "id": "EG9o6ioOiJ0M"
      },
      "source": [
        "We see that the final value or our cost function, $\\bra{\\psi}Z\\ket{\\psi} = -1$ demonstrating that the qubit is in the $\\ket{1}$ state."
      ]
    },
    {
      "cell_type": "markdown",
      "metadata": {
        "id": "90-M1O-E0Lvv"
      },
      "source": [
        "# Quantum Approximate Optimization Algorithm"
      ]
    },
    {
      "cell_type": "markdown",
      "metadata": {
        "id": "U96uliXS0RGq"
      },
      "source": [
        "Here we build up a kernel for QAOA with `p` layers, with each layer containing the alternating set of unitaries corresponding to the problem and the mixer Hamiltonians. The algorithm leverages the VQE algorithm to compute the Max-Cut of a 3-regular (each node connects with 3 edges) graph generated below."
      ]
    },
    {
      "cell_type": "code",
      "execution_count": 18,
      "metadata": {
        "colab": {
          "base_uri": "https://localhost:8080/",
          "height": 516
        },
        "id": "fuwuHDd60QcY",
        "outputId": "6f599ce3-91de-4d9f-ce25-f01e13699684"
      },
      "outputs": [
        {
          "output_type": "display_data",
          "data": {
            "text/plain": [
              "<Figure size 640x480 with 1 Axes>"
            ],
            "image/png": "[encoded data removed]"
          },
          "metadata": {}
        }
      ],
      "source": [
        "import networkx as nx\n",
        "import random\n",
        "\n",
        "num_nodes = 10\n",
        "\n",
        "random.seed(13)\n",
        "edges = nx.random_regular_graph(3, num_nodes).edges()\n",
        "G = nx.Graph()\n",
        "G.add_edges_from(edges)\n",
        "nx.draw(G, with_labels=True, alpha=0.8, node_size=500, node_color='#76B900')"
      ]
    },
    {
      "cell_type": "code",
      "execution_count": 19,
      "metadata": {
        "colab": {
          "base_uri": "https://localhost:8080/"
        },
        "id": "3fpifp_U0UKK",
        "outputId": "e00eab1b-9549-410e-dff2-e5e765eaacd8"
      },
      "outputs": [
        {
          "output_type": "stream",
          "name": "stdout",
          "text": [
            "Initial parameters =  [0.21810696323572243, -0.20613464375211488, 0.2546877639814583, 0.3657985647468064]\n",
            "     ╭───╮                                                                   »\n",
            "q0 : ┤ h ├──●──────────────────●─────────────────────────────────────────────»\n",
            "     ├───┤╭─┴─╮╭────────────╮╭─┴─╮                                           »\n",
            "q1 : ┤ h ├┤ x ├┤ rz(0.4362) ├┤ x ├──●──────────────────●─────────────────────»\n",
            "     ├───┤╰───╯╰────────────╯╰───╯╭─┴─╮╭────────────╮╭─┴─╮                   »\n",
            "q2 : ┤ h ├────────────────────────┤ x ├┤ rz(0.4362) ├┤ x ├──●────────────────»\n",
            "     ├───┤                        ╰───╯╰────────────╯╰───╯╭─┴─╮╭────────────╮»\n",
            "q3 : ┤ h ├────────────────────────────────────────────────┤ x ├┤ rz(0.4362) ├»\n",
            "     ├───┤                                                ╰───╯╰────────────╯»\n",
            "q4 : ┤ h ├───────────────────────────────────────────────────────────────────»\n",
            "     ├───┤                                                                   »\n",
            "q5 : ┤ h ├───────────────────────────────────────────────────────────────────»\n",
            "     ├───┤                                                                   »\n",
            "q6 : ┤ h ├───────────────────────────────────────────────────────────────────»\n",
            "     ├───┤                                                                   »\n",
            "q7 : ┤ h ├───────────────────────────────────────────────────────────────────»\n",
            "     ├───┤                                                                   »\n",
            "q8 : ┤ h ├───────────────────────────────────────────────────────────────────»\n",
            "     ├───┤                                                                   »\n",
            "q9 : ┤ h ├───────────────────────────────────────────────────────────────────»\n",
            "     ╰───╯                                                                   »\n",
            "\n",
            "################################################################################\n",
            "\n",
            "                                                                             »\n",
            "─────────────────────────────────────────────────────────────────────────────»\n",
            "                                                                             »\n",
            "─────────────────────────────────────────────────────────────────────────────»\n",
            "                                                                             »\n",
            "──●──────────────────────────────────────────────────────────────────────────»\n",
            "╭─┴─╮                                                                        »\n",
            "┤ x ├──●──────────────────●──────────────────────────────────────────────────»\n",
            "╰───╯╭─┴─╮╭────────────╮╭─┴─╮                                                »\n",
            "─────┤ x ├┤ rz(0.4362) ├┤ x ├──●──────────────────●──────────────────────────»\n",
            "     ╰───╯╰────────────╯╰───╯╭─┴─╮╭────────────╮╭─┴─╮                        »\n",
            "─────────────────────────────┤ x ├┤ rz(0.4362) ├┤ x ├──●──────────────────●──»\n",
            "                             ╰───╯╰────────────╯╰───╯╭─┴─╮╭────────────╮╭─┴─╮»\n",
            "─────────────────────────────────────────────────────┤ x ├┤ rz(0.4362) ├┤ x ├»\n",
            "                                                     ╰───╯╰────────────╯╰───╯»\n",
            "─────────────────────────────────────────────────────────────────────────────»\n",
            "                                                                             »\n",
            "─────────────────────────────────────────────────────────────────────────────»\n",
            "                                                                             »\n",
            "─────────────────────────────────────────────────────────────────────────────»\n",
            "                                                                             »\n",
            "\n",
            "################################################################################\n",
            "\n",
            "                                                                        ╭───╮»\n",
            "────────────────────────────────────────────────────────────────────────┤ x ├»\n",
            "                                                                        ╰─┬─╯»\n",
            "──────────────────────────────────────────────────────────────────────────┼──»\n",
            "                                                                          │  »\n",
            "──────────────────────────────────────────────────────────────────────────┼──»\n",
            "                                                                          │  »\n",
            "──────────────────────────────────────────────────────────────────────────┼──»\n",
            "                                                                          │  »\n",
            "──────────────────────────────────────────────────────────────────────────┼──»\n",
            "                                                                          │  »\n",
            "──────────────────────────────────────────────────────────────────────────┼──»\n",
            "                                                                          │  »\n",
            "──●──────────────────●────────────────────────────────────────────────────┼──»\n",
            "╭─┴─╮╭────────────╮╭─┴─╮                                                  │  »\n",
            "┤ x ├┤ rz(0.4362) ├┤ x ├──●──────────────────●────────────────────────────┼──»\n",
            "╰───╯╰────────────╯╰───╯╭─┴─╮╭────────────╮╭─┴─╮                          │  »\n",
            "────────────────────────┤ x ├┤ rz(0.4362) ├┤ x ├──●──────────────────●────┼──»\n",
            "                        ╰───╯╰────────────╯╰───╯╭─┴─╮╭────────────╮╭─┴─╮  │  »\n",
            "────────────────────────────────────────────────┤ x ├┤ rz(0.4362) ├┤ x ├──●──»\n",
            "                                                ╰───╯╰────────────╯╰───╯     »\n",
            "\n",
            "################################################################################\n",
            "\n",
            "╭────────────╮╭───╮╭────────────╮                                             »\n",
            "┤ rz(0.4362) ├┤ x ├┤ rx(0.5094) ├──●───────────────────●──────────────────────»\n",
            "╰────────────╯╰─┬─╯├────────────┤╭─┴─╮╭─────────────╮╭─┴─╮                    »\n",
            "────────────────┼──┤ rx(0.5094) ├┤ x ├┤ rz(-0.4123) ├┤ x ├──●─────────────────»\n",
            "                │  ├────────────┤╰───╯╰─────────────╯╰───╯╭─┴─╮╭─────────────╮»\n",
            "────────────────┼──┤ rx(0.5094) ├─────────────────────────┤ x ├┤ rz(-0.4123) ├»\n",
            "                │  ├────────────┤                         ╰───╯╰─────────────╯»\n",
            "────────────────┼──┤ rx(0.5094) ├─────────────────────────────────────────────»\n",
            "                │  ├────────────┤                                             »\n",
            "────────────────┼──┤ rx(0.5094) ├─────────────────────────────────────────────»\n",
            "                │  ├────────────┤                                             »\n",
            "────────────────┼──┤ rx(0.5094) ├─────────────────────────────────────────────»\n",
            "                │  ├────────────┤                                             »\n",
            "────────────────┼──┤ rx(0.5094) ├─────────────────────────────────────────────»\n",
            "                │  ├────────────┤                                             »\n",
            "────────────────┼──┤ rx(0.5094) ├─────────────────────────────────────────────»\n",
            "                │  ├────────────┤                                             »\n",
            "────────────────┼──┤ rx(0.5094) ├─────────────────────────────────────────────»\n",
            "                │  ├────────────┤                                             »\n",
            "────────────────●──┤ rx(0.5094) ├─────────────────────────────────────────────»\n",
            "                   ╰────────────╯                                             »\n",
            "\n",
            "################################################################################\n",
            "\n",
            "                                                                           »\n",
            "───────────────────────────────────────────────────────────────────────────»\n",
            "                                                                           »\n",
            "──●────────────────────────────────────────────────────────────────────────»\n",
            "╭─┴─╮                                                                      »\n",
            "┤ x ├──●───────────────────●───────────────────────────────────────────────»\n",
            "╰───╯╭─┴─╮╭─────────────╮╭─┴─╮                                             »\n",
            "─────┤ x ├┤ rz(-0.4123) ├┤ x ├──●───────────────────●──────────────────────»\n",
            "     ╰───╯╰─────────────╯╰───╯╭─┴─╮╭─────────────╮╭─┴─╮                    »\n",
            "──────────────────────────────┤ x ├┤ rz(-0.4123) ├┤ x ├──●─────────────────»\n",
            "                              ╰───╯╰─────────────╯╰───╯╭─┴─╮╭─────────────╮»\n",
            "───────────────────────────────────────────────────────┤ x ├┤ rz(-0.4123) ├»\n",
            "                                                       ╰───╯╰─────────────╯»\n",
            "───────────────────────────────────────────────────────────────────────────»\n",
            "                                                                           »\n",
            "───────────────────────────────────────────────────────────────────────────»\n",
            "                                                                           »\n",
            "───────────────────────────────────────────────────────────────────────────»\n",
            "                                                                           »\n",
            "───────────────────────────────────────────────────────────────────────────»\n",
            "                                                                           »\n",
            "\n",
            "################################################################################\n",
            "\n",
            "                                                                           »\n",
            "───────────────────────────────────────────────────────────────────────────»\n",
            "                                                                           »\n",
            "───────────────────────────────────────────────────────────────────────────»\n",
            "                                                                           »\n",
            "───────────────────────────────────────────────────────────────────────────»\n",
            "                                                                           »\n",
            "───────────────────────────────────────────────────────────────────────────»\n",
            "                                                                           »\n",
            "──●────────────────────────────────────────────────────────────────────────»\n",
            "╭─┴─╮                                                                      »\n",
            "┤ x ├──●───────────────────●───────────────────────────────────────────────»\n",
            "╰───╯╭─┴─╮╭─────────────╮╭─┴─╮                                             »\n",
            "─────┤ x ├┤ rz(-0.4123) ├┤ x ├──●───────────────────●──────────────────────»\n",
            "     ╰───╯╰─────────────╯╰───╯╭─┴─╮╭─────────────╮╭─┴─╮                    »\n",
            "──────────────────────────────┤ x ├┤ rz(-0.4123) ├┤ x ├──●─────────────────»\n",
            "                              ╰───╯╰─────────────╯╰───╯╭─┴─╮╭─────────────╮»\n",
            "───────────────────────────────────────────────────────┤ x ├┤ rz(-0.4123) ├»\n",
            "                                                       ╰───╯╰─────────────╯»\n",
            "───────────────────────────────────────────────────────────────────────────»\n",
            "                                                                           »\n",
            "\n",
            "################################################################################\n",
            "\n",
            "                              ╭───╮╭─────────────╮╭───╮╭────────────╮\n",
            "──────────────────────────────┤ x ├┤ rz(-0.4123) ├┤ x ├┤ rx(0.7316) ├\n",
            "                              ╰─┬─╯╰─────────────╯╰─┬─╯├────────────┤\n",
            "────────────────────────────────┼───────────────────┼──┤ rx(0.7316) ├\n",
            "                                │                   │  ├────────────┤\n",
            "────────────────────────────────┼───────────────────┼──┤ rx(0.7316) ├\n",
            "                                │                   │  ├────────────┤\n",
            "────────────────────────────────┼───────────────────┼──┤ rx(0.7316) ├\n",
            "                                │                   │  ├────────────┤\n",
            "────────────────────────────────┼───────────────────┼──┤ rx(0.7316) ├\n",
            "                                │                   │  ├────────────┤\n",
            "────────────────────────────────┼───────────────────┼──┤ rx(0.7316) ├\n",
            "                                │                   │  ├────────────┤\n",
            "────────────────────────────────┼───────────────────┼──┤ rx(0.7316) ├\n",
            "                                │                   │  ├────────────┤\n",
            "──●─────────────────────────────┼───────────────────┼──┤ rx(0.7316) ├\n",
            "╭─┴─╮                           │                   │  ├────────────┤\n",
            "┤ x ├──●───────────────────●────┼───────────────────┼──┤ rx(0.7316) ├\n",
            "╰───╯╭─┴─╮╭─────────────╮╭─┴─╮  │                   │  ├────────────┤\n",
            "─────┤ x ├┤ rz(-0.4123) ├┤ x ├──●───────────────────●──┤ rx(0.7316) ├\n",
            "     ╰───╯╰─────────────╯╰───╯                         ╰────────────╯\n",
            "\n"
          ]
        }
      ],
      "source": [
        "import cudaq\n",
        "from cudaq import spin\n",
        "\n",
        "from typing import List\n",
        "\n",
        "import numpy as np\n",
        "\n",
        "\n",
        "\n",
        "# The problem Hamiltonian\n",
        "hamiltonian = 0    # Initialize the hamiltonian object\n",
        "for (i, j) in edges:\n",
        "    hamiltonian += 0.5 * spin.z(i) * spin.z(j)\n",
        "\n",
        "\n",
        "# Problem parameters.\n",
        "qubit_count = num_nodes\n",
        "layer_count: int = 2\n",
        "parameter_count: int = 2 * layer_count\n",
        "\n",
        "\n",
        "@cudaq.kernel\n",
        "def kernel_qaoa(qubit_count: int, layer_count: int, thetas: List[float]):\n",
        "    \"\"\"QAOA ansatz for Max-Cut\"\"\"\n",
        "    qvector = cudaq.qvector(qubit_count)\n",
        "\n",
        "    # Create superposition\n",
        "    h(qvector)\n",
        "\n",
        "    # Loop over the layers\n",
        "    for layer in range(layer_count):\n",
        "        # Loop over the qubits\n",
        "        # Problem unitary\n",
        "        for qubit in range(qubit_count):\n",
        "            x.ctrl(qvector[qubit], qvector[(qubit + 1) % qubit_count])\n",
        "            rz(2.0 * thetas[layer], qvector[(qubit + 1) % qubit_count])\n",
        "            x.ctrl(qvector[qubit], qvector[(qubit + 1) % qubit_count])\n",
        "\n",
        "        # Mixer unitary\n",
        "        for qubit in range(qubit_count):\n",
        "            rx(2.0 * thetas[layer + layer_count], qvector[qubit])\n",
        "\n",
        "\n",
        "# Specify the optimizer and its initial parameters. Make it repeatable.\n",
        "cudaq.set_random_seed(13)\n",
        "optimizer = cudaq.optimizers.COBYLA()\n",
        "np.random.seed(13)\n",
        "optimizer.initial_parameters = np.random.uniform(-np.pi / 8.0, np.pi / 8.0, parameter_count)\n",
        "print(\"Initial parameters = \", optimizer.initial_parameters)\n",
        "print(cudaq.draw(kernel_qaoa, qubit_count, layer_count, optimizer.initial_parameters))"
      ]
    },
    {
      "cell_type": "code",
      "execution_count": 20,
      "metadata": {
        "colab": {
          "base_uri": "https://localhost:8080/"
        },
        "id": "9rz2j3Q00VyT",
        "outputId": "1526f2ec-74a0-498b-cca2-9ab886cbf7fd"
      },
      "outputs": [
        {
          "output_type": "stream",
          "name": "stdout",
          "text": [
            "Execution time = 3.886 (s)\n",
            "Optimal value =  -0.8374488230641077\n",
            "Optimal parameters =  [1.189884569413169, -0.1470675639251054, -0.5718126258283648, 0.7597861749552218]\n",
            "{ 1011111111:4 1101111111:2 1001111111:46 0001111111:30 1010111111:34 0100111111:30 1111011111:5 0111011111:10 1011011111:32 0001011111:8 1010011111:27 0010011111:12 1100011111:25 0100011111:6 1101101111:31 0001101111:93 0110101111:79 1100101111:31 1000101111:5 0111001111:69 1011001111:2 0101001111:81 1001001111:11 0001001111:102 1110001111:35 0110001111:78 0100001111:27 1000001111:12 0111110111:7 1011110111:23 0101110111:145 1001110111:51 0001110111:209 1110110111:33 1010110111:66 0100110111:420 1000110111:70 1011010111:65 1001010111:82 1010010111:65 0010010111:481 1100010111:3 1000010111:36 0001100111:488 1110100111:22 0110100111:479 1101000111:4 1001000111:115 0001000111:175 1011000111:91 0110000111:114 1111111011:1 0111111011:27 1110111011:9 0010111011:403 0100111011:469 0111011011:319 1011011011:371 0101011011:657 1001011011:448 0001011011:473 0110011011:978 1100011011:103 1000011011:100 1100001111:9 0000011011:10 1111101011:38 0011101011:510 0101101011:753 0001101011:590 1110101011:1 0110101011:742 1010101011:265 1100101011:105 1000101011:282 0101001011:701 1001001011:480 1110000111:4 0001001011:457 1110001011:7 0110001011:504 1000001011:6 1011101111:3 0000001011:29 1111110011:35 1011110011:72 0011110011:194 1101110011:70 0001110011:515 0110110011:956 0100110011:1231 1000110011:520 1111010011:25 0111010011:384 1011010011:473 1101010011:105 1001010011:602 0110010011:917 1010010011:513 1010011011:407 1000010011:88 0111100011:69 1011100011:182 1101100011:95 1100001011:29 0101100011:629 0001100011:474 1110100011:7 0110100011:450 0010100011:528 1100100011:80 1100110011:182 1000100011:179 0000100011:60 1011000011:112 0001010011:538 1101000011:24 0101000011:108 1001000011:85 0001000011:70 0110000011:8 1010000011:8 1100000011:4 0100000011:23 1111111101:6 0111111101:40 1011111101:31 0011111101:30 0001111101:4 0101110011:546 1110111101:11 1010111101:55 1100111101:53 0100111101:105 1000111101:88 0000111101:32 1111011101:3 0111011101:183 1011011101:306 0011011101:365 0001011101:169 0110011101:549 1100000111:7 1010011101:469 0010011101:467 1000011101:124 1111101101:24 0011101101:472 1101101101:338 1110101111:45 1001101101:1020 0001101101:477 0110101101:810 1010101101:711 1010100111:100 0010101101:744 1100101101:462 0100101101:792 0000101101:69 1011001101:1006 0011001101:1193 1101001101:411 0001001101:388 1110001101:77 0110001101:622 1010001101:483 1100001101:115 0100001101:96 0000001101:31 1111110101:39 0011110101:102 1101110101:162 0101110101:275 1001110101:560 0001110101:259 1010100011:251 1010110101:815 1100110101:534 0100110101:780 1111101111:4 1000110101:581 0111010101:317 1101111101:6 1001010101:750 0001010101:298 1110010101:111 0110010101:746 1010010101:743 0010010101:712 1100010101:268 1000010101:86 1111100101:23 0111100101:101 0110010111:396 1011101011:152 1011100101:437 0011100101:566 1101100101:397 0101100101:725 0010100111:567 0110111101:68 1001100101:1159 0101100111:520 0001100101:548 1110100101:65 0110100101:750 0010100101:728 1101001111:32 1100100101:474 0111110011:1 0111000101:235 1011000101:459 1101000101:150 0010110101:760 0101000101:256 0001000101:171 1010000101:86 0010000101:65 1100000101:3 0100000101:1 0001111011:82 1000000101:18 1111111001:34 1011111001:1 0011111001:12 0111101101:62 1101111001:63 0101111001:90 1011010101:708 0001111001:93 0110111001:477 1010111001:552 0000111001:79 0111011001:390 1101011001:529 1001011001:1270 0110011001:1186 1100111001:443 1100011001:551 0111000011:92 0100011001:541 1000011001:214 0000101111:27 1111101001:32 0111101001:68 0000111011:93 0000011101:8 0011101001:465 1001101001:1121 0100101111:63 0001101001:449 1110101001:119 0110101001:769 0010101001:666 1100101001:622 0000110111:119 0000101001:65 1111001001:12 0111001001:447 0100011101:264 1011001001:970 0011001001:1014 0100101011:719 0101001001:676 1010100101:751 1001001001:996 0001001001:355 0111100111:68 0110001001:487 1010001001:372 0110111111:38 0010001001:342 0011100111:499 0100001001:53 1011110001:81 0001110001:194 0010001111:117 0111010111:182 1110110001:83 1110011111:42 0010110001:460 1001000010:54 1100000010:25 0000000010:4 0110000100:60 1001100011:548 1111111100:54 1100001100:211 1011101000:167 1100111100:216 0000001000:3 0001001000:30 0110111011:340 1111001011:31 0100110110:968 1000111100:85 0001010010:66 0101011100:231 0010001011:400 0010001110:197 1100100111:9 1100010001:194 1110011100:499 0101010110:712 0100000010:35 0100001100:75 0011000100:65 1001011000:497 1111000101:6 0100011100:191 0000011100:32 1110111111:3 1010110100:755 0011101100:90 0010110111:461 0001101100:13 1100110001:527 0010101100:103 0101010100:303 1000110110:480 0010001100:74 0101110100:159 1110011001:201 1110000001:4 0110010010:1017 0101111111:42 0111101110:65 1011100010:280 1111100111:43 0010010010:314 0101001100:487 1110010010:486 1001001100:992 1101001001:417 0000001010:41 1011011010:717 0100101100:444 0001001100:1 1110011101:52 1000111000:199 1010001011:155 0111010110:568 0000000011:33 0110001100:489 1000111011:177 0000110110:8 0000110011:220 0111111100:31 1110011110:82 1000001100:1 0000001100:51 0011011001:942 0101000010:61 1011101001:393 1001100010:521 1011110100:75 1101000100:383 1100011000:519 0011110100:28 1111001111:42 0100101000:53 0010001101:462 1000010001:64 0100010011:402 0001110100:2 0110110100:484 1000000100:31 0000101011:101 1000111001:553 1001110110:464 0001011001:401 0010110100:76 1100110100:1090 0101000110:590 1000110100:466 0001011110:29 1111010100:114 1001100111:211 0101111110:36 0011010100:90 0101010101:440 0000000001:10 1101010100:693 0101001000:60 0111101011:55 0110011110:215 1001111011:64 1001110100:434 1010111000:262 1101100010:476 1010010100:812 1100010100:531 1010110011:547 0011000011:205 0100010100:173 1110100010:156 0010010011:1044 0010111010:154 0001000010:13 1100111111:45 1001111000:98 1011001110:505 1110100100:516 1111100100:12 1010110010:733 1111011100:69 0010100100:49 1111010000:32 1101010000:92 0000111111:4 0000100100:35 1101110100:384 1001000101:384 1010110001:616 1101100100:971 0111011100:196 1110001001:111 1101001100:1148 0001001010:64 1111111111:17 1100100100:1053 0011011000:10 0101000100:166 0001000100:5 1110111100:58 0101010011:726 1000101001:511 0000111000:41 0001111100:15 1101000010:78 0100000111:7 1111011110:9 1110000100:70 1100100001:82 0010000010:5 0011110000:6 0001110000:38 1101101000:469 0110100000:31 0111110100:4 1011110000:31 1000011010:92 1101101100:993 0111100110:221 0100110100:405 0100100000:27 1101000000:27 0111010000:5 0101111011:63 0011010101:808 1010001000:154 0011110110:92 1101011101:178 1001011100:517 1110000000:31 1101110001:208 0111000100:190 1100111000:548 0001011000:29 0000110000:37 1011100100:456 0011010000:31 0011001110:521 1011010100:779 0111001110:526 0011010011:1158 0000101100:25 0010101111:90 0110010100:518 0011110111:58 0100100011:438 0100100100:301 0111110101:1 0011000000:52 1011110101:65 0110100001:56 1001010000:51 0001111010:29 0101110000:8 0001000000:2 1101001110:448 0100010001:162 1101011100:542 1000100100:329 1110111010:157 0010010000:31 0011001100:209 0010010100:61 1001011010:758 1110110100:485 0000010000:5 1101001011:58 1111000000:8 1110010100:538 1011000100:479 1010110000:105 0100010101:306 0010000000:7 0010111100:20 0010100010:162 0111001000:80 1010101100:727 1011111000:4 1010010010:712 0011101010:269 1000000000:1 1110111001:49 0101100100:376 0010011100:101 1011111011:5 0110000000:46 0100000000:8 0011011100:126 1010010000:67 0100110000:1 0110111110:1 0000111110:8 1111010111:50 0000100000:4 0101011101:287 1011101100:387 1000011000:60 0011100110:496 0000010111:3 0111010100:252 1010001100:516 0010000100:12 1100000000:41 0111001010:602 0111100000:7 0111001100:549 0001010000:32 1010011001:1157 0001100000:46 0110101010:708 0100101001:798 0110011000:215 0101101100:470 0000000101:39 0010001000:5 0110101000:84 1100101100:1194 1111101000:3 1101101011:68 1001000000:30 0100100111:479 0010100000:35 0101000000:39 1010011010:775 0111101100:88 0000110101:102 0110000001:28 1110110010:371 0101100001:113 0100001000:16 1110010110:475 0111100100:103 1100100000:1 0000011000:40 1001110001:501 1001001110:491 0110100100:454 0011100100:80 1011001010:787 1010001111:5 1010100000:1 0111001011:460 0101100000:33 0011100011:547 1100011100:521 1011000000:33 1111101010:1 0000101000:45 0000101110:9 1101110111:4 0100010111:156 1110100000:8 1000011111:7 1100010010:462 1111010001:7 0011100000:35 1110010000:87 0111110000:11 0011000101:528 1000100000:7 1011001000:405 1000100001:78 1001101011:519 1010000001:21 1010011000:567 1001100110:1228 1111110000:7 0111000000:45 1001001000:325 1000001000:8 0100001010:69 0000110001:82 1010011100:606 1011010000:73 0001100100:1 1011100111:56 1000000010:40 0101111010:64 1000101100:400 1111100001:7 0011100010:178 1100010000:73 1100010011:106 1000101000:176 0010110011:1246 1111111010:43 1101010110:696 0011001011:1164 1110101100:528 0010101010:301 1000010100:60 1100110000:215 1111010110:62 1000110000:79 0111011000:103 1100101000:550 1111001110:57 1001000100:340 1110110101:67 1101110000:93 1110000011:14 0101011110:114 1010101000:273 0000001111:7 1000100111:113 0000011010:30 0001101000:26 1101010001:290 0101001101:710 0000110100:27 1001101000:395 1101111011:16 0101010010:683 1111000100:95 0011101000:4 1011100000:6 0111101000:29 1110011000:521 1010101110:266 0100000100:6 1111001100:193 0100011000:59 1010000000:39 1101100110:1038 0111111000:6 0011111000:10 0011101110:174 0000100001:10 1100110110:951 1011011000:481 1000001101:3 0100111000:87 1001110011:479 1001011110:84 0100001011:73 1011011100:443 1110001100:520 1010011110:86 0101111100:6 0111110010:7 1110000010:5 0110101100:580 1110010111:35 1111000011:3 0101100010:459 0110111000:101 1110001000:193 0001111000:5 1101111000:96 1010010001:448 1111111000:30 0101010111:299 1001111100:6 0101101001:757 0010111000:8 1100000100:1 0010011011:924 0110111100:89 0011001010:557 0011000010:63 1010100010:244 0010011110:112 0111000010:86 0110001000:61 1111000010:35 1010001010:286 1011000010:98 0110001110:503 0001001110:84 0110101110:536 0011101111:64 1000101101:458 0000100010:2 1010111100:91 1001111010:106 1000100010:178 1101011000:606 0100100010:359 0000100111:88 1100100010:443 1010000100:67 0011010110:620 1111001010:87 0110100110:1253 0110100010:396 1001111001:211 0001100010:55 1011011001:915 0111100010:117 1111100010:8 1110111000:183 1011100001:118 1110101110:152 0000010010:25 1011010001:456 1001010010:736 1011001100:1180 1101010010:761 1011010010:787 0111010010:456 1111010010:77 1001001101:954 1111110100:32 0100110010:1013 1100111011:45 1100110010:1170 0010110010:384 0100111001:593 1000010110:70 0110110010:933 1010100100:742 0001110010:82 1010100110:749 1001110000:85 1001110010:593 0011110001:114 0001011100:6 0101110010:482 1101110010:475 0011110010:96 0110110101:677 0101101010:770 0000000000:19 1011110010:85 1111110010:17 1011001011:408 1100001010:104 1010111011:147 0010001010:123 1000000011:23 0010011001:976 0110001010:559 0000000100:5 1110001010:264 1001001010:694 0101001010:770 1101001010:794 0101101111:61 1111110111:11 1000101010:254 1111011000:74 1011000001:5 0010101011:753 1100101010:775 1111001000:110 0011010001:390 1111100011:36 1010101010:420 1110101010:290 0110011100:507 1011101010:286 1001101100:974 1010010110:781 0001101010:101 0001010111:274 1001101010:752 0100010010:342 1101101010:671 0111101010:102 0100011010:427 1110000101:27 1001100100:1004 1100011010:592 0101000111:281 0010011010:388 0111001101:553 1001010100:712 1001100001:199 0110011010:1168 0111110001:4 1110011010:530 0001011010:80 0110000101:86 1100100110:1034 1000100101:479 0101011010:710 0000111100:4 0100001110:73 1101011010:806 1110001110:191 1101101001:444 1100001001:84 1011111100:32 0011011010:488 1111011010:59 0010010110:454 0101101000:75 0000111010:5 0111000111:186 0101101101:711 0110110110:1028 1000111010:278 1100001000:59 0100111010:494 1010111010:266 0110111010:390 0010111111:31 1101111010:64 0011111010:5 0111111010:23 0000000111:26 0000000110:36 1001011111:21 1000000110:30 0010111101:74 1100000110:6 1111100000:10 0010000110:61 0101110001:250 0011010010:449 1010000110:84 0011000111:538 0110000110:204 1101001000:430 1110000110:122 1100011101:193 0001000110:60 1111101110:6 1101000110:499 1011000110:587 0111111001:26 0111000110:525 1111000110:83 0100100110:1011 1000011100:79 1111100110:1 0010100110:530 0010000001:33 1110100110:418 1000110010:513 0001100110:218 0101100110:1225 1011100110:541 0000010110:20 0000010100:44 1001101110:411 0101001110:581 0011011011:1052 0100100101:674 1000010000:16 0100010110:378 1100010110:522 0110010110:1185 0001010110:100 1001010110:752 0111011110:74 1010101001:735 1011010110:744 0010110110:459 0110110000:7 1100011110:89 1010000111:34 0011000110:463 0001110110:124 0101110110:389 0011111111:22 1101110110:329 0000001001:34 1110101000:252 1011110110:63 0110110111:371 0011111100:3 1111110110:29 1110010011:11 0000001110:29 0111010001:154 0100010000:6 1000001110:3 1001000110:470 1100001110:105 1101011111:31 1000100110:381 1010001110:266 0010111001:445 0101010001:267 1000101110:147 0100101110:464 1100101110:375 0001101110:106 0000011111:12 1010100001:92 0010101110:294 1110010001:107 0101101110:466 1110101101:68 0101011000:96 0100000001:33 1101101110:349 1101010101:305 1000010010:65 1011101110:153 1111011011:46 1011101101:351 0101111000:17 0000011110:5 1000011110:36 0111101111:17 1111110001:28 0100011110:108 0010000111:81 1101011110:82 0011010111:585 0011011110:73 0011001111:216 1101100000:8 1011011110:66 1000111110:6 1101000001:4 1100111010:576 0100111110:4 0010111110:5 0100111100:114 1110111110:5 0001111110:6 1001111110:28 1101111110:21 1010110110:727 0011111110:38 0100011011:499 0001010100:1 1011111110:36 1001011101:379 0111111110:41 1110110000:107 0100101010:727 1111111110:4 1000000111:7 1101011011:71 1111000001:14 1000000001:45 1100000001:31 0001000001:1 1110110110:300 0010100001:77 1000111111:25 0100100001:49 1110100001:25 0001100001:63 0000100101:63 1101100001:122 0111011010:456 0011100001:88 0110110001:501 0111100001:24 0000010001:8 0101011001:699 0010010001:328 1111000111:41 0100110001:566 0110010001:391 0111000001:9 0001010001:150 1001010001:542 0010110000:43 1000110001:488 }\n",
            "\n",
            "The optimal bitstring with max. number of shots = 1001011001\n"
          ]
        }
      ],
      "source": [
        "import time\n",
        "\n",
        "\n",
        "# Define the simulation target:\n",
        "cudaq.set_target(\"nvidia\")  # \"nvidia\" for GPU, \"qpp-cpu\" for CPU\n",
        "\n",
        "\n",
        "# Define the objective, return `<state(params) | H | state(params)>`\n",
        "def objective(parameters):\n",
        "    return cudaq.observe(kernel_qaoa, hamiltonian, qubit_count, layer_count,\n",
        "                         parameters).expectation()\n",
        "\n",
        "\n",
        "# Optimize!\n",
        "t0 = time.time()\n",
        "optimal_expectation, optimal_parameters = optimizer.optimize(\n",
        "    dimensions=parameter_count, function=objective)\n",
        "print(\"Execution time =\", round(time.time()-t0, 3), \"(s)\")\n",
        "\n",
        "# Print the optimized value and its parameters\n",
        "print(\"Optimal value = \", optimal_expectation)\n",
        "print(\"Optimal parameters = \", optimal_parameters)\n",
        "\n",
        "# Sample the circuit using the optimized parameters\n",
        "counts = cudaq.sample(kernel_qaoa, qubit_count, layer_count, optimal_parameters, shots_count=2**18)\n",
        "print(counts)\n",
        "\n",
        "max = 0\n",
        "for bitstring in counts:\n",
        "    if counts[bitstring] > max:\n",
        "        max = counts[bitstring]\n",
        "        bitstring_max = bitstring\n",
        "print(\"The optimal bitstring with max. number of shots =\", bitstring_max)"
      ]
    }
  ],
  "metadata": {
    "accelerator": "GPU",
    "colab": {
      "gpuType": "T4",
      "provenance": []
    },
    "kernelspec": {
      "display_name": "Python 3",
      "name": "python3"
    },
    "language_info": {
      "name": "python"
    }
  },
  "nbformat": 4,
  "nbformat_minor": 0
}