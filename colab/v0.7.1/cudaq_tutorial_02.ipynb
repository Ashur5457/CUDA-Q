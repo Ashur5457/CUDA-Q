{
  "cells": [
    {
      "cell_type": "markdown",
      "metadata": {},
      "source": [
        "<a href=\"https://colab.research.google.com/github/Squirtle007/CUDA_Quantum/blob/main/colab/v0.7.1/cudaq_tutorial_02.ipynb\" target=\"_parent\"><img src=\"https://colab.research.google.com/assets/colab-badge.svg\" alt=\"Open In Colab\"/></a>"
      ]
    },
    {
      "cell_type": "markdown",
      "metadata": {
        "id": "Ar02CoRdfQau"
      },
      "source": [
        "**Set up CUDA-Q Environment**"
      ]
    },
    {
      "cell_type": "code",
      "execution_count": 1,
      "metadata": {
        "colab": {
          "base_uri": "https://localhost:8080/"
        },
        "id": "2JHNaUJjgL2Y",
        "outputId": "46ebee31-8bc7-4164-a7a3-73cf114af182"
      },
      "outputs": [
        {
          "name": "stdout",
          "output_type": "stream",
          "text": [
            "Reading package lists... Done\n",
            "Building dependency tree... Done\n",
            "Reading state information... Done\n",
            "The following additional packages will be installed:\n",
            "  cuda-cudart-11-8 cuda-nvrtc-11-8 cuda-toolkit-11-8-config-common cuda-toolkit-11-config-common\n",
            "  libcublas-11-8 libcufft-11-8 libcufile-11-8 libcurand-11-8 libcusolver-11-8 libcusparse-11-8\n",
            "  libnpp-11-8 libnvjpeg-11-8\n",
            "The following NEW packages will be installed:\n",
            "  cuda-cudart-11-8 cuda-libraries-11-8 cuda-nvrtc-11-8 cuda-nvtx-11-8\n",
            "  cuda-toolkit-11-8-config-common cuda-toolkit-11-config-common libcublas-11-8 libcufft-11-8\n",
            "  libcufile-11-8 libcurand-11-8 libcusolver-11-8 libcusparse-11-8 libnpp-11-8 libnvjpeg-11-8\n",
            "0 upgraded, 14 newly installed, 0 to remove and 45 not upgraded.\n",
            "Need to get 674 MB of archives.\n",
            "After this operation, 2,145 MB of additional disk space will be used.\n",
            "Get:1 https://developer.download.nvidia.com/compute/cuda/repos/ubuntu2204/x86_64  cuda-toolkit-11-config-common 11.8.89-1 [16.4 kB]\n",
            "Get:2 https://developer.download.nvidia.com/compute/cuda/repos/ubuntu2204/x86_64  cuda-toolkit-11-8-config-common 11.8.89-1 [16.3 kB]\n",
            "Get:3 https://developer.download.nvidia.com/compute/cuda/repos/ubuntu2204/x86_64  cuda-cudart-11-8 11.8.89-1 [165 kB]\n",
            "Get:4 https://developer.download.nvidia.com/compute/cuda/repos/ubuntu2204/x86_64  cuda-nvrtc-11-8 11.8.89-1 [16.4 MB]\n",
            "Get:5 https://developer.download.nvidia.com/compute/cuda/repos/ubuntu2204/x86_64  libcublas-11-8 11.11.3.6-1 [248 MB]\n",
            "Get:6 https://developer.download.nvidia.com/compute/cuda/repos/ubuntu2204/x86_64  libcufft-11-8 10.9.0.58-1 [94.2 MB]\n",
            "Get:7 https://developer.download.nvidia.com/compute/cuda/repos/ubuntu2204/x86_64  libcufile-11-8 1.4.0.31-1 [474 kB]\n",
            "Get:8 https://developer.download.nvidia.com/compute/cuda/repos/ubuntu2204/x86_64  libcurand-11-8 10.3.0.86-1 [42.2 MB]\n",
            "Get:9 https://developer.download.nvidia.com/compute/cuda/repos/ubuntu2204/x86_64  libcusolver-11-8 11.4.1.48-1 [52.3 MB]\n",
            "Get:10 https://developer.download.nvidia.com/compute/cuda/repos/ubuntu2204/x86_64  libcusparse-11-8 11.7.5.86-1 [116 MB]\n",
            "Get:11 https://developer.download.nvidia.com/compute/cuda/repos/ubuntu2204/x86_64  libnpp-11-8 11.8.0.86-1 [102 MB]\n",
            "Get:12 https://developer.download.nvidia.com/compute/cuda/repos/ubuntu2204/x86_64  libnvjpeg-11-8 11.9.0.86-1 [1,865 kB]\n",
            "Get:13 https://developer.download.nvidia.com/compute/cuda/repos/ubuntu2204/x86_64  cuda-libraries-11-8 11.8.0-1 [2,518 B]\n",
            "Get:14 https://developer.download.nvidia.com/compute/cuda/repos/ubuntu2204/x86_64  cuda-nvtx-11-8 11.8.86-1 [51.3 kB]\n",
            "Fetched 674 MB in 19s (35.0 MB/s)\n",
            "Selecting previously unselected package cuda-toolkit-11-config-common.\n",
            "(Reading database ... 121925 files and directories currently installed.)\n",
            "Preparing to unpack .../00-cuda-toolkit-11-config-common_11.8.89-1_all.deb ...\n",
            "Unpacking cuda-toolkit-11-config-common (11.8.89-1) ...\n",
            "Selecting previously unselected package cuda-toolkit-11-8-config-common.\n",
            "Preparing to unpack .../01-cuda-toolkit-11-8-config-common_11.8.89-1_all.deb ...\n",
            "Unpacking cuda-toolkit-11-8-config-common (11.8.89-1) ...\n",
            "Selecting previously unselected package cuda-cudart-11-8.\n",
            "Preparing to unpack .../02-cuda-cudart-11-8_11.8.89-1_amd64.deb ...\n",
            "Unpacking cuda-cudart-11-8 (11.8.89-1) ...\n",
            "Selecting previously unselected package cuda-nvrtc-11-8.\n",
            "Preparing to unpack .../03-cuda-nvrtc-11-8_11.8.89-1_amd64.deb ...\n",
            "Unpacking cuda-nvrtc-11-8 (11.8.89-1) ...\n",
            "Selecting previously unselected package libcublas-11-8.\n",
            "Preparing to unpack .../04-libcublas-11-8_11.11.3.6-1_amd64.deb ...\n",
            "Unpacking libcublas-11-8 (11.11.3.6-1) ...\n",
            "Selecting previously unselected package libcufft-11-8.\n",
            "Preparing to unpack .../05-libcufft-11-8_10.9.0.58-1_amd64.deb ...\n",
            "Unpacking libcufft-11-8 (10.9.0.58-1) ...\n",
            "Selecting previously unselected package libcufile-11-8.\n",
            "Preparing to unpack .../06-libcufile-11-8_1.4.0.31-1_amd64.deb ...\n",
            "Unpacking libcufile-11-8 (1.4.0.31-1) ...\n",
            "Selecting previously unselected package libcurand-11-8.\n",
            "Preparing to unpack .../07-libcurand-11-8_10.3.0.86-1_amd64.deb ...\n",
            "Unpacking libcurand-11-8 (10.3.0.86-1) ...\n",
            "Selecting previously unselected package libcusolver-11-8.\n",
            "Preparing to unpack .../08-libcusolver-11-8_11.4.1.48-1_amd64.deb ...\n",
            "Unpacking libcusolver-11-8 (11.4.1.48-1) ...\n",
            "Selecting previously unselected package libcusparse-11-8.\n",
            "Preparing to unpack .../09-libcusparse-11-8_11.7.5.86-1_amd64.deb ...\n",
            "Unpacking libcusparse-11-8 (11.7.5.86-1) ...\n",
            "Selecting previously unselected package libnpp-11-8.\n",
            "Preparing to unpack .../10-libnpp-11-8_11.8.0.86-1_amd64.deb ...\n",
            "Unpacking libnpp-11-8 (11.8.0.86-1) ...\n",
            "Selecting previously unselected package libnvjpeg-11-8.\n",
            "Preparing to unpack .../11-libnvjpeg-11-8_11.9.0.86-1_amd64.deb ...\n",
            "Unpacking libnvjpeg-11-8 (11.9.0.86-1) ...\n",
            "Selecting previously unselected package cuda-libraries-11-8.\n",
            "Preparing to unpack .../12-cuda-libraries-11-8_11.8.0-1_amd64.deb ...\n",
            "Unpacking cuda-libraries-11-8 (11.8.0-1) ...\n",
            "Selecting previously unselected package cuda-nvtx-11-8.\n",
            "Preparing to unpack .../13-cuda-nvtx-11-8_11.8.86-1_amd64.deb ...\n",
            "Unpacking cuda-nvtx-11-8 (11.8.86-1) ...\n",
            "Setting up cuda-toolkit-11-config-common (11.8.89-1) ...\n",
            "Setting up cuda-nvrtc-11-8 (11.8.89-1) ...\n",
            "Setting up cuda-nvtx-11-8 (11.8.86-1) ...\n",
            "Setting up cuda-toolkit-11-8-config-common (11.8.89-1) ...\n",
            "Setting alternatives\n",
            "update-alternatives: using /usr/local/cuda-11.8 to provide /usr/local/cuda-11 (cuda-11) in auto mode\n",
            "Setting up libcusolver-11-8 (11.4.1.48-1) ...\n",
            "Setting up cuda-cudart-11-8 (11.8.89-1) ...\n",
            "Setting up libnvjpeg-11-8 (11.9.0.86-1) ...\n",
            "Setting up libcusparse-11-8 (11.7.5.86-1) ...\n",
            "Setting up libcufft-11-8 (10.9.0.58-1) ...\n",
            "Setting up libnpp-11-8 (11.8.0.86-1) ...\n",
            "Setting up libcurand-11-8 (10.3.0.86-1) ...\n",
            "Setting up libcufile-11-8 (1.4.0.31-1) ...\n",
            "Setting alternatives\n",
            "Setting up libcublas-11-8 (11.11.3.6-1) ...\n",
            "Setting up cuda-libraries-11-8 (11.8.0-1) ...\n",
            "Processing triggers for libc-bin (2.35-0ubuntu3.4) ...\n",
            "/sbin/ldconfig.real: /usr/local/lib/libtbbbind_2_5.so.3 is not a symbolic link\n",
            "\n",
            "/sbin/ldconfig.real: /usr/local/lib/libtbbmalloc.so.2 is not a symbolic link\n",
            "\n",
            "/sbin/ldconfig.real: /usr/local/lib/libtbbmalloc_proxy.so.2 is not a symbolic link\n",
            "\n",
            "/sbin/ldconfig.real: /usr/local/lib/libtbbbind_2_0.so.3 is not a symbolic link\n",
            "\n",
            "/sbin/ldconfig.real: /usr/local/lib/libtbb.so.12 is not a symbolic link\n",
            "\n",
            "/sbin/ldconfig.real: /usr/local/lib/libtbbbind.so.3 is not a symbolic link\n",
            "\n",
            "Collecting cuda-quantum==0.7.1\n",
            "  Downloading cuda_quantum-0.7.1-cp310-cp310-manylinux_2_28_x86_64.whl (105.8 MB)\n",
            "\u001b[2K     \u001b[90m━━━━━━━━━━━━━━━━━━━━━━━━━━━━━━━━━━━━━━━━\u001b[0m \u001b[32m105.8/105.8 MB\u001b[0m \u001b[31m9.1 MB/s\u001b[0m eta \u001b[36m0:00:00\u001b[0m\n",
            "\u001b[?25hCollecting astpretty~=3.0 (from cuda-quantum==0.7.1)\n",
            "  Downloading astpretty-3.0.0-py2.py3-none-any.whl (4.9 kB)\n",
            "Collecting cuquantum-cu11~=23.10 (from cuda-quantum==0.7.1)\n",
            "  Downloading cuquantum_cu11-23.10.0-py3-none-manylinux2014_x86_64.whl (7.0 kB)\n",
            "Collecting graphlib-backport>=1.0 (from cuda-quantum==0.7.1)\n",
            "  Downloading graphlib_backport-1.1.0-py3-none-any.whl (7.1 kB)\n",
            "Requirement already satisfied: numpy>=1.24 in /usr/local/lib/python3.10/dist-packages (from cuda-quantum==0.7.1) (1.25.2)\n",
            "Collecting custatevec-cu11==1.5.0 (from cuquantum-cu11~=23.10->cuda-quantum==0.7.1)\n",
            "  Downloading custatevec_cu11-1.5.0-py3-none-manylinux2014_x86_64.whl (38.9 MB)\n",
            "\u001b[2K     \u001b[90m━━━━━━━━━━━━━━━━━━━━━━━━━━━━━━━━━━━━━━━━\u001b[0m \u001b[32m38.9/38.9 MB\u001b[0m \u001b[31m15.1 MB/s\u001b[0m eta \u001b[36m0:00:00\u001b[0m\n",
            "\u001b[?25hCollecting cutensornet-cu11==2.3.0 (from cuquantum-cu11~=23.10->cuda-quantum==0.7.1)\n",
            "  Downloading cutensornet_cu11-2.3.0-py3-none-manylinux2014_x86_64.whl (2.2 MB)\n",
            "\u001b[2K     \u001b[90m━━━━━━━━━━━━━━━━━━━━━━━━━━━━━━━━━━━━━━━━\u001b[0m \u001b[32m2.2/2.2 MB\u001b[0m \u001b[31m46.8 MB/s\u001b[0m eta \u001b[36m0:00:00\u001b[0m\n",
            "\u001b[?25hCollecting cutensor-cu11<2,>=1.6.1 (from cutensornet-cu11==2.3.0->cuquantum-cu11~=23.10->cuda-quantum==0.7.1)\n",
            "  Downloading cutensor_cu11-1.7.0-py3-none-manylinux2014_x86_64.whl (142.1 MB)\n",
            "\u001b[2K     \u001b[90m━━━━━━━━━━━━━━━━━━━━━━━━━━━━━━━━━━━━━━━━\u001b[0m \u001b[32m142.1/142.1 MB\u001b[0m \u001b[31m6.1 MB/s\u001b[0m eta \u001b[36m0:00:00\u001b[0m\n",
            "\u001b[?25hInstalling collected packages: cutensor-cu11, custatevec-cu11, graphlib-backport, cutensornet-cu11, astpretty, cuquantum-cu11, cuda-quantum\n",
            "Successfully installed astpretty-3.0.0 cuda-quantum-0.7.1 cuquantum-cu11-23.10.0 custatevec-cu11-1.5.0 cutensor-cu11-1.7.0 cutensornet-cu11-2.3.0 graphlib-backport-1.1.0\n"
          ]
        }
      ],
      "source": [
        "#The following commands are used to set up the environment in Colab\n",
        "!apt-get -y install cuda-nvtx-11-8 cuda-libraries-11-8\n",
        "%pip install cuda-quantum==0.7.1"
      ]
    },
    {
      "cell_type": "markdown",
      "metadata": {
        "id": "KPxYBbDIexMs"
      },
      "source": [
        "# Cost Minimization\n",
        "\n",
        "Below we start with a basic example of a hybrid variational algorithm which involves flipping the Bloch vector of a qubit from the $\\ket{0}$ to the $\\ket{1}$ state. First we import the relevant packages and set our backend to simulate our workflow on NVIDIA GPUs."
      ]
    },
    {
      "cell_type": "code",
      "execution_count": 1,
      "metadata": {
        "id": "pW2noQygfPTk"
      },
      "outputs": [],
      "source": [
        "import cudaq\n",
        "from typing import List\n",
        "\n",
        "cudaq.set_target(\"nvidia\")"
      ]
    },
    {
      "cell_type": "code",
      "execution_count": 2,
      "metadata": {
        "colab": {
          "base_uri": "https://localhost:8080/"
        },
        "id": "X7nPDpcZfWml",
        "outputId": "246e5bf7-2772-4e58-8c8d-a7dfc1a8fdcc"
      },
      "outputs": [
        {
          "name": "stdout",
          "output_type": "stream",
          "text": [
            "     ╭───────╮╭───────╮\n",
            "q0 : ┤ rx(0) ├┤ ry(0) ├\n",
            "     ╰───────╯╰───────╯\n",
            "\n"
          ]
        }
      ],
      "source": [
        "# Initialize a kernel/ ansatz and variational parameters.\n",
        "@cudaq.kernel\n",
        "def kernel(angles: List[float]):\n",
        "    # Allocate a qubit that is initialised to the |0> state.\n",
        "    qubit = cudaq.qubit()\n",
        "    # Define gates and the qubits they act upon.\n",
        "    rx(angles[0], qubit)\n",
        "    ry(angles[1], qubit)\n",
        "\n",
        "\n",
        "# Our hamiltonian will be the Z expectation value of our qubit.\n",
        "hamiltonian = cudaq.spin.z(0)\n",
        "\n",
        "# Initial gate parameters which intialize the qubit in the zero state\n",
        "initial_parameters = [0, 0]\n",
        "\n",
        "print(cudaq.draw(kernel, initial_parameters))"
      ]
    },
    {
      "cell_type": "markdown",
      "metadata": {
        "id": "aJtH-1E2fYe0"
      },
      "source": [
        "We build our cost function such that its minimal value corresponds to the qubit being in the $\\ket{1}$ state. The observe call below allows us to simulate our statevector $\\ket{\\psi}$, and calculate $\\bra{\\psi}Z\\ket{\\psi}$.\n"
      ]
    },
    {
      "cell_type": "code",
      "execution_count": 3,
      "metadata": {
        "id": "hU23Fu_GfaC7"
      },
      "outputs": [],
      "source": [
        "cost_values = []\n",
        "\n",
        "\n",
        "def cost(parameters):\n",
        "    \"\"\"Returns the expectation value as our cost.\"\"\"\n",
        "    expectation_value = cudaq.observe(kernel, hamiltonian,\n",
        "                                      parameters).expectation()\n",
        "    cost_values.append(expectation_value)\n",
        "    return expectation_value"
      ]
    },
    {
      "cell_type": "markdown",
      "metadata": {
        "id": "5H_6LpxMfcA9"
      },
      "source": [
        "# We see that the initial value of our cost function is one, demonstrating that our qubit is in the zero state\n",
        "initial_cost_value = cost(initial_parameters)\n",
        "print(initial_cost_value)"
      ]
    },
    {
      "cell_type": "code",
      "execution_count": 4,
      "metadata": {
        "id": "Abq7lKT4fbNN"
      },
      "outputs": [],
      "source": [
        "# Define a CUDA-Q optimizer.\n",
        "optimizer = cudaq.optimizers.COBYLA()\n",
        "optimizer.initial_parameters = initial_parameters\n",
        "\n",
        "result = optimizer.optimize(dimensions=2, function=cost)"
      ]
    },
    {
      "cell_type": "code",
      "execution_count": 5,
      "metadata": {
        "colab": {
          "base_uri": "https://localhost:8080/",
          "height": 466
        },
        "id": "kkalE-exffTQ",
        "outputId": "b06dc444-70c5-498f-b70b-7b9ac2f79c7d"
      },
      "outputs": [
        {
          "data": {
            "text/plain": [
              "Text(0, 0.5, 'Cost Value')"
            ]
          },
          "execution_count": 5,
          "metadata": {},
          "output_type": "execute_result"
        },
        {
          "data": {
            "image/png": "[encoded data removed]",
            "text/plain": [
              "<Figure size 640x480 with 1 Axes>"
            ]
          },
          "metadata": {},
          "output_type": "display_data"
        }
      ],
      "source": [
        "# Plotting how the value of the cost function decreases during the minimization procedure.\n",
        "import matplotlib.pyplot as plt\n",
        "\n",
        "x_values = list(range(len(cost_values)))\n",
        "y_values = cost_values\n",
        "\n",
        "plt.plot(x_values, y_values)\n",
        "\n",
        "plt.xlabel(\"Epochs\")\n",
        "plt.ylabel(\"Cost Value\")"
      ]
    },
    {
      "cell_type": "markdown",
      "metadata": {
        "id": "JhJr5cq7fips"
      },
      "source": [
        "We see that the final value or our cost function, $\\bra{\\psi}Z\\ket{\\psi} = -1$ demonstrating that the qubit is in the $\\ket{1}$ state."
      ]
    },
    {
      "cell_type": "markdown",
      "metadata": {
        "id": "2K6qB3wVfpCb"
      },
      "source": [
        "# Variational Quantum Eigensolver"
      ]
    },
    {
      "cell_type": "markdown",
      "metadata": {
        "id": "TAm6R8avfsh8"
      },
      "source": [
        "A common application of the Variational Quantum Eigensolver (VQE) algorithm is to compute the ground state energy of a molecular system. The code below demonstrates how to perform classical preprocessing for a $H_2$ molecule (i.e. obtain the integrals from a Hartree-Fock computation to build the molecular Hamiltonian), prepare the initial Hartree-Fock state on the quantum register, add the parameterized UCCSD ansatz to the kernel, and select the COBYLA optimizer.  We are then ready to call `cudaq:vqe` to estimate the minimum energy of the system."
      ]
    },
    {
      "cell_type": "code",
      "execution_count": 6,
      "metadata": {
        "colab": {
          "base_uri": "https://localhost:8080/"
        },
        "id": "WeVYDfw-fvuG",
        "outputId": "ebc2a2b8-a433-4070-e8f3-88952970b350"
      },
      "outputs": [
        {
          "name": "stdout",
          "output_type": "stream",
          "text": [
            "Requirement already satisfied: openfermionpyscf==0.5 in /usr/local/lib/python3.10/dist-packages (0.5)\n",
            "Requirement already satisfied: openfermion>=0.5 in /usr/local/lib/python3.10/dist-packages (from openfermionpyscf==0.5) (1.6.1)\n",
            "Requirement already satisfied: pyscf in /usr/local/lib/python3.10/dist-packages (from openfermionpyscf==0.5) (2.6.2)\n",
            "Requirement already satisfied: pytest in /usr/local/lib/python3.10/dist-packages (from openfermionpyscf==0.5) (7.4.4)\n",
            "Requirement already satisfied: cirq-core~=1.0 in /usr/local/lib/python3.10/dist-packages (from openfermion>=0.5->openfermionpyscf==0.5) (1.4.1)\n",
            "Requirement already satisfied: deprecation in /usr/local/lib/python3.10/dist-packages (from openfermion>=0.5->openfermionpyscf==0.5) (2.1.0)\n",
            "Requirement already satisfied: h5py>=2.8 in /usr/local/lib/python3.10/dist-packages (from openfermion>=0.5->openfermionpyscf==0.5) (3.9.0)\n",
            "Requirement already satisfied: networkx in /usr/local/lib/python3.10/dist-packages (from openfermion>=0.5->openfermionpyscf==0.5) (3.3)\n",
            "Requirement already satisfied: numpy>=1.11.0 in /usr/local/lib/python3.10/dist-packages (from openfermion>=0.5->openfermionpyscf==0.5) (1.25.2)\n",
            "Requirement already satisfied: pubchempy in /usr/local/lib/python3.10/dist-packages (from openfermion>=0.5->openfermionpyscf==0.5) (1.0.4)\n",
            "Requirement already satisfied: requests>=2.18 in /usr/local/lib/python3.10/dist-packages (from openfermion>=0.5->openfermionpyscf==0.5) (2.31.0)\n",
            "Requirement already satisfied: scipy>=1.1.0 in /usr/local/lib/python3.10/dist-packages (from openfermion>=0.5->openfermionpyscf==0.5) (1.11.4)\n",
            "Requirement already satisfied: sympy in /usr/local/lib/python3.10/dist-packages (from openfermion>=0.5->openfermionpyscf==0.5) (1.12.1)\n",
            "Requirement already satisfied: setuptools in /usr/local/lib/python3.10/dist-packages (from pyscf->openfermionpyscf==0.5) (67.7.2)\n",
            "Requirement already satisfied: iniconfig in /usr/local/lib/python3.10/dist-packages (from pytest->openfermionpyscf==0.5) (2.0.0)\n",
            "Requirement already satisfied: packaging in /usr/local/lib/python3.10/dist-packages (from pytest->openfermionpyscf==0.5) (24.1)\n",
            "Requirement already satisfied: pluggy<2.0,>=0.12 in /usr/local/lib/python3.10/dist-packages (from pytest->openfermionpyscf==0.5) (1.5.0)\n",
            "Requirement already satisfied: exceptiongroup>=1.0.0rc8 in /usr/local/lib/python3.10/dist-packages (from pytest->openfermionpyscf==0.5) (1.2.1)\n",
            "Requirement already satisfied: tomli>=1.0.0 in /usr/local/lib/python3.10/dist-packages (from pytest->openfermionpyscf==0.5) (2.0.1)\n",
            "Requirement already satisfied: attrs>=21.3.0 in /usr/local/lib/python3.10/dist-packages (from cirq-core~=1.0->openfermion>=0.5->openfermionpyscf==0.5) (23.2.0)\n",
            "Requirement already satisfied: duet>=0.2.8 in /usr/local/lib/python3.10/dist-packages (from cirq-core~=1.0->openfermion>=0.5->openfermionpyscf==0.5) (0.2.9)\n",
            "Requirement already satisfied: matplotlib~=3.0 in /usr/local/lib/python3.10/dist-packages (from cirq-core~=1.0->openfermion>=0.5->openfermionpyscf==0.5) (3.7.1)\n",
            "Requirement already satisfied: pandas in /usr/local/lib/python3.10/dist-packages (from cirq-core~=1.0->openfermion>=0.5->openfermionpyscf==0.5) (2.0.3)\n",
            "Requirement already satisfied: sortedcontainers~=2.0 in /usr/local/lib/python3.10/dist-packages (from cirq-core~=1.0->openfermion>=0.5->openfermionpyscf==0.5) (2.4.0)\n",
            "Requirement already satisfied: typing-extensions>=4.2 in /usr/local/lib/python3.10/dist-packages (from cirq-core~=1.0->openfermion>=0.5->openfermionpyscf==0.5) (4.12.2)\n",
            "Requirement already satisfied: tqdm in /usr/local/lib/python3.10/dist-packages (from cirq-core~=1.0->openfermion>=0.5->openfermionpyscf==0.5) (4.66.4)\n",
            "Requirement already satisfied: charset-normalizer<4,>=2 in /usr/local/lib/python3.10/dist-packages (from requests>=2.18->openfermion>=0.5->openfermionpyscf==0.5) (3.3.2)\n",
            "Requirement already satisfied: idna<4,>=2.5 in /usr/local/lib/python3.10/dist-packages (from requests>=2.18->openfermion>=0.5->openfermionpyscf==0.5) (3.7)\n",
            "Requirement already satisfied: urllib3<3,>=1.21.1 in /usr/local/lib/python3.10/dist-packages (from requests>=2.18->openfermion>=0.5->openfermionpyscf==0.5) (2.0.7)\n",
            "Requirement already satisfied: certifi>=2017.4.17 in /usr/local/lib/python3.10/dist-packages (from requests>=2.18->openfermion>=0.5->openfermionpyscf==0.5) (2024.6.2)\n",
            "Requirement already satisfied: mpmath<1.4.0,>=1.1.0 in /usr/local/lib/python3.10/dist-packages (from sympy->openfermion>=0.5->openfermionpyscf==0.5) (1.3.0)\n",
            "Requirement already satisfied: contourpy>=1.0.1 in /usr/local/lib/python3.10/dist-packages (from matplotlib~=3.0->cirq-core~=1.0->openfermion>=0.5->openfermionpyscf==0.5) (1.2.1)\n",
            "Requirement already satisfied: cycler>=0.10 in /usr/local/lib/python3.10/dist-packages (from matplotlib~=3.0->cirq-core~=1.0->openfermion>=0.5->openfermionpyscf==0.5) (0.12.1)\n",
            "Requirement already satisfied: fonttools>=4.22.0 in /usr/local/lib/python3.10/dist-packages (from matplotlib~=3.0->cirq-core~=1.0->openfermion>=0.5->openfermionpyscf==0.5) (4.53.0)\n",
            "Requirement already satisfied: kiwisolver>=1.0.1 in /usr/local/lib/python3.10/dist-packages (from matplotlib~=3.0->cirq-core~=1.0->openfermion>=0.5->openfermionpyscf==0.5) (1.4.5)\n",
            "Requirement already satisfied: pillow>=6.2.0 in /usr/local/lib/python3.10/dist-packages (from matplotlib~=3.0->cirq-core~=1.0->openfermion>=0.5->openfermionpyscf==0.5) (9.4.0)\n",
            "Requirement already satisfied: pyparsing>=2.3.1 in /usr/local/lib/python3.10/dist-packages (from matplotlib~=3.0->cirq-core~=1.0->openfermion>=0.5->openfermionpyscf==0.5) (3.1.2)\n",
            "Requirement already satisfied: python-dateutil>=2.7 in /usr/local/lib/python3.10/dist-packages (from matplotlib~=3.0->cirq-core~=1.0->openfermion>=0.5->openfermionpyscf==0.5) (2.8.2)\n",
            "Requirement already satisfied: pytz>=2020.1 in /usr/local/lib/python3.10/dist-packages (from pandas->cirq-core~=1.0->openfermion>=0.5->openfermionpyscf==0.5) (2023.4)\n",
            "Requirement already satisfied: tzdata>=2022.1 in /usr/local/lib/python3.10/dist-packages (from pandas->cirq-core~=1.0->openfermion>=0.5->openfermionpyscf==0.5) (2024.1)\n",
            "Requirement already satisfied: six>=1.5 in /usr/local/lib/python3.10/dist-packages (from python-dateutil>=2.7->matplotlib~=3.0->cirq-core~=1.0->openfermion>=0.5->openfermionpyscf==0.5) (1.16.0)\n"
          ]
        }
      ],
      "source": [
        "!pip install openfermionpyscf==0.5"
      ]
    },
    {
      "cell_type": "code",
      "execution_count": 7,
      "metadata": {
        "id": "VyzGtQ0rf1Na"
      },
      "outputs": [],
      "source": [
        "import cudaq\n",
        "import matplotlib.pyplot as plt\n",
        "from scipy.optimize import minimize\n",
        "import numpy as np\n",
        "\n",
        "# Single precision\n",
        "cudaq.set_target(\"nvidia\")\n",
        "# Double precision\n",
        "#cudaq.set_target(\"nvidia-fp64\")"
      ]
    },
    {
      "cell_type": "markdown",
      "metadata": {
        "id": "44EV0RgEf4im"
      },
      "source": [
        "The problem of interest here is a chain of hydrogen atoms seperated along the z-axis at a fixed interval called the bond distance.\n",
        "\n",
        "The interatomic electrostatic forces due to the electrons and protons and the shielding by the neutrons creates a chemical system whose energy can be minimised to find a stable configuration.\n",
        "\n",
        "Let us first begin by defining the molecule and other metadata about the problem.\n"
      ]
    },
    {
      "cell_type": "code",
      "execution_count": 8,
      "metadata": {
        "id": "O2EVWbe3f6BU"
      },
      "outputs": [],
      "source": [
        "# Number of hydrogen atoms.\n",
        "hydrogen_count = 2\n",
        "\n",
        "# Distance between the atoms in Angstroms.\n",
        "bond_distance = 0.7474\n",
        "\n",
        "# Define a linear chain of Hydrogen atoms\n",
        "geometry = [('H', (0, 0, i * bond_distance)) for i in range(hydrogen_count)]\n",
        "\n",
        "molecule, data = cudaq.chemistry.create_molecular_hamiltonian(\n",
        "    geometry, 'sto-3g', 1, 0)\n",
        "\n",
        "electron_count = data.n_electrons\n",
        "qubit_count = 2 * data.n_orbitals"
      ]
    },
    {
      "cell_type": "markdown",
      "metadata": {
        "id": "Mj7OEl0Jf8dZ"
      },
      "source": [
        "We now generate a Unitary Coupled-Cluster Singles and Doubles (UCCSD) ansatz from the template provided by CUDA-Q.  "
      ]
    },
    {
      "cell_type": "code",
      "execution_count": 9,
      "metadata": {
        "id": "ktLZOQAwf8AV"
      },
      "outputs": [],
      "source": [
        "@cudaq.kernel\n",
        "def kernel(thetas: list[float]):\n",
        "\n",
        "    qubits = cudaq.qvector(qubit_count)\n",
        "\n",
        "    for i in range(electron_count):\n",
        "        x(qubits[i])\n",
        "\n",
        "    cudaq.kernels.uccsd(qubits, thetas, electron_count, qubit_count)\n",
        "\n",
        "\n",
        "parameter_count = cudaq.kernels.uccsd_num_parameters(electron_count,\n",
        "                                                     qubit_count)"
      ]
    },
    {
      "cell_type": "markdown",
      "metadata": {
        "id": "A4KB7xkSf901"
      },
      "source": [
        "### Using CUDA-Q Optimizers\n",
        "\n",
        "We use the builtin optimizers within CUDA-Q for the minimization procedure."
      ]
    },
    {
      "cell_type": "code",
      "execution_count": 10,
      "metadata": {
        "colab": {
          "base_uri": "https://localhost:8080/"
        },
        "id": "rD7X_gpef4Hx",
        "outputId": "37df1d3a-1067-490b-9fb2-3de66431abc7"
      },
      "outputs": [
        {
          "name": "stdout",
          "output_type": "stream",
          "text": [
            "-1.1371744305855906\n"
          ]
        }
      ],
      "source": [
        "optimizer = cudaq.optimizers.COBYLA()\n",
        "\n",
        "energy, parameters = cudaq.vqe(kernel,\n",
        "                               molecule,\n",
        "                               optimizer,\n",
        "                               parameter_count=parameter_count)\n",
        "\n",
        "print(energy)"
      ]
    },
    {
      "cell_type": "markdown",
      "metadata": {
        "id": "BxJJQCscgAos"
      },
      "source": [
        "### Integration with Third-Party Optimizers\n",
        "\n",
        "We can also integrate popular libraries like scipy with CUDA-Q."
      ]
    },
    {
      "cell_type": "code",
      "execution_count": 11,
      "metadata": {
        "colab": {
          "base_uri": "https://localhost:8080/",
          "height": 472
        },
        "id": "S0w72GoCgAuU",
        "outputId": "b138f193-0e51-4110-bdd0-8df51ea9b4b9"
      },
      "outputs": [
        {
          "data": {
            "image/png": "[encoded data removed]",
            "text/plain": [
              "<Figure size 640x480 with 1 Axes>"
            ]
          },
          "metadata": {},
          "output_type": "display_data"
        }
      ],
      "source": [
        "# Define a function to minimize\n",
        "def cost(theta):\n",
        "\n",
        "    exp_val = cudaq.observe(kernel, molecule, theta).expectation()\n",
        "\n",
        "    return exp_val\n",
        "\n",
        "\n",
        "exp_vals = []\n",
        "\n",
        "\n",
        "def callback(xk):\n",
        "    exp_vals.append(cost(xk))\n",
        "\n",
        "\n",
        "# Initial variational parameters.\n",
        "np.random.seed(42)\n",
        "x0 = np.random.normal(0, np.pi, parameter_count)\n",
        "\n",
        "# Use the scipy optimizer to minimize the function of interest\n",
        "result = minimize(cost,\n",
        "                  x0,\n",
        "                  method='COBYLA',\n",
        "                  callback=callback,\n",
        "                  options={'maxiter': 40})\n",
        "\n",
        "plt.plot(exp_vals)\n",
        "plt.xlabel('Epochs')\n",
        "plt.ylabel('Energy')\n",
        "plt.title('VQE')\n",
        "plt.show()"
      ]
    },
    {
      "cell_type": "markdown",
      "metadata": {
        "id": "EG9o6ioOiJ0M"
      },
      "source": [
        "We see that the final value or our cost function, $\\bra{\\psi}Z\\ket{\\psi} = -1$ demonstrating that the qubit is in the $\\ket{1}$ state."
      ]
    },
    {
      "cell_type": "markdown",
      "metadata": {
        "id": "90-M1O-E0Lvv"
      },
      "source": [
        "# Quantum Approximate Optimization Algorithm"
      ]
    },
    {
      "cell_type": "markdown",
      "metadata": {
        "id": "U96uliXS0RGq"
      },
      "source": [
        "Here we build up a kernel for QAOA with `p` layers, with each layer containing the alternating set of unitaries corresponding to the problem and the mixer Hamiltonians. The algorithm leverages the VQE algorithm to compute the Max-Cut of a 3-regular (each node connects with 3 edges) graph generated below."
      ]
    },
    {
      "cell_type": "code",
      "execution_count": 12,
      "metadata": {
        "colab": {
          "base_uri": "https://localhost:8080/",
          "height": 516
        },
        "id": "fuwuHDd60QcY",
        "outputId": "8386d082-5de9-45f0-c4d7-d77b0cd6842e"
      },
      "outputs": [
        {
          "data": {
            "image/png": "[encoded data removed]",
            "text/plain": [
              "<Figure size 640x480 with 1 Axes>"
            ]
          },
          "metadata": {},
          "output_type": "display_data"
        }
      ],
      "source": [
        "import networkx as nx\n",
        "import random\n",
        "\n",
        "num_nodes = 10\n",
        "\n",
        "random.seed(13)\n",
        "edges = nx.random_regular_graph(3, num_nodes).edges()\n",
        "G = nx.Graph()\n",
        "G.add_edges_from(edges)\n",
        "nx.draw(G, with_labels=True, alpha=0.8, node_size=500, node_color='#76B900')"
      ]
    },
    {
      "cell_type": "code",
      "execution_count": 13,
      "metadata": {
        "colab": {
          "base_uri": "https://localhost:8080/"
        },
        "id": "3fpifp_U0UKK",
        "outputId": "81e672fc-aea0-4793-9e11-2fa41446dcb8"
      },
      "outputs": [
        {
          "name": "stdout",
          "output_type": "stream",
          "text": [
            "Initial parameters =  [0.21810696323572243, -0.20613464375211488, 0.2546877639814583, 0.3657985647468064]\n",
            "     ╭───╮                                                                   »\n",
            "q0 : ┤ h ├──●──────────────────●─────────────────────────────────────────────»\n",
            "     ├───┤╭─┴─╮╭────────────╮╭─┴─╮                                           »\n",
            "q1 : ┤ h ├┤ x ├┤ rz(0.4362) ├┤ x ├──●──────────────────●─────────────────────»\n",
            "     ├───┤╰───╯╰────────────╯╰───╯╭─┴─╮╭────────────╮╭─┴─╮                   »\n",
            "q2 : ┤ h ├────────────────────────┤ x ├┤ rz(0.4362) ├┤ x ├──●────────────────»\n",
            "     ├───┤                        ╰───╯╰────────────╯╰───╯╭─┴─╮╭────────────╮»\n",
            "q3 : ┤ h ├────────────────────────────────────────────────┤ x ├┤ rz(0.4362) ├»\n",
            "     ├───┤                                                ╰───╯╰────────────╯»\n",
            "q4 : ┤ h ├───────────────────────────────────────────────────────────────────»\n",
            "     ├───┤                                                                   »\n",
            "q5 : ┤ h ├───────────────────────────────────────────────────────────────────»\n",
            "     ├───┤                                                                   »\n",
            "q6 : ┤ h ├───────────────────────────────────────────────────────────────────»\n",
            "     ├───┤                                                                   »\n",
            "q7 : ┤ h ├───────────────────────────────────────────────────────────────────»\n",
            "     ├───┤                                                                   »\n",
            "q8 : ┤ h ├───────────────────────────────────────────────────────────────────»\n",
            "     ├───┤                                                                   »\n",
            "q9 : ┤ h ├───────────────────────────────────────────────────────────────────»\n",
            "     ╰───╯                                                                   »\n",
            "\n",
            "################################################################################\n",
            "\n",
            "                                                                             »\n",
            "─────────────────────────────────────────────────────────────────────────────»\n",
            "                                                                             »\n",
            "─────────────────────────────────────────────────────────────────────────────»\n",
            "                                                                             »\n",
            "──●──────────────────────────────────────────────────────────────────────────»\n",
            "╭─┴─╮                                                                        »\n",
            "┤ x ├──●──────────────────●──────────────────────────────────────────────────»\n",
            "╰───╯╭─┴─╮╭────────────╮╭─┴─╮                                                »\n",
            "─────┤ x ├┤ rz(0.4362) ├┤ x ├──●──────────────────●──────────────────────────»\n",
            "     ╰───╯╰────────────╯╰───╯╭─┴─╮╭────────────╮╭─┴─╮                        »\n",
            "─────────────────────────────┤ x ├┤ rz(0.4362) ├┤ x ├──●──────────────────●──»\n",
            "                             ╰───╯╰────────────╯╰───╯╭─┴─╮╭────────────╮╭─┴─╮»\n",
            "─────────────────────────────────────────────────────┤ x ├┤ rz(0.4362) ├┤ x ├»\n",
            "                                                     ╰───╯╰────────────╯╰───╯»\n",
            "─────────────────────────────────────────────────────────────────────────────»\n",
            "                                                                             »\n",
            "─────────────────────────────────────────────────────────────────────────────»\n",
            "                                                                             »\n",
            "─────────────────────────────────────────────────────────────────────────────»\n",
            "                                                                             »\n",
            "\n",
            "################################################################################\n",
            "\n",
            "                                                                        ╭───╮»\n",
            "────────────────────────────────────────────────────────────────────────┤ x ├»\n",
            "                                                                        ╰─┬─╯»\n",
            "──────────────────────────────────────────────────────────────────────────┼──»\n",
            "                                                                          │  »\n",
            "──────────────────────────────────────────────────────────────────────────┼──»\n",
            "                                                                          │  »\n",
            "──────────────────────────────────────────────────────────────────────────┼──»\n",
            "                                                                          │  »\n",
            "──────────────────────────────────────────────────────────────────────────┼──»\n",
            "                                                                          │  »\n",
            "──────────────────────────────────────────────────────────────────────────┼──»\n",
            "                                                                          │  »\n",
            "──●──────────────────●────────────────────────────────────────────────────┼──»\n",
            "╭─┴─╮╭────────────╮╭─┴─╮                                                  │  »\n",
            "┤ x ├┤ rz(0.4362) ├┤ x ├──●──────────────────●────────────────────────────┼──»\n",
            "╰───╯╰────────────╯╰───╯╭─┴─╮╭────────────╮╭─┴─╮                          │  »\n",
            "────────────────────────┤ x ├┤ rz(0.4362) ├┤ x ├──●──────────────────●────┼──»\n",
            "                        ╰───╯╰────────────╯╰───╯╭─┴─╮╭────────────╮╭─┴─╮  │  »\n",
            "────────────────────────────────────────────────┤ x ├┤ rz(0.4362) ├┤ x ├──●──»\n",
            "                                                ╰───╯╰────────────╯╰───╯     »\n",
            "\n",
            "################################################################################\n",
            "\n",
            "╭────────────╮╭───╮╭────────────╮                                             »\n",
            "┤ rz(0.4362) ├┤ x ├┤ rx(0.5094) ├──●───────────────────●──────────────────────»\n",
            "╰────────────╯╰─┬─╯├────────────┤╭─┴─╮╭─────────────╮╭─┴─╮                    »\n",
            "────────────────┼──┤ rx(0.5094) ├┤ x ├┤ rz(-0.4123) ├┤ x ├──●─────────────────»\n",
            "                │  ├────────────┤╰───╯╰─────────────╯╰───╯╭─┴─╮╭─────────────╮»\n",
            "────────────────┼──┤ rx(0.5094) ├─────────────────────────┤ x ├┤ rz(-0.4123) ├»\n",
            "                │  ├────────────┤                         ╰───╯╰─────────────╯»\n",
            "────────────────┼──┤ rx(0.5094) ├─────────────────────────────────────────────»\n",
            "                │  ├────────────┤                                             »\n",
            "────────────────┼──┤ rx(0.5094) ├─────────────────────────────────────────────»\n",
            "                │  ├────────────┤                                             »\n",
            "────────────────┼──┤ rx(0.5094) ├─────────────────────────────────────────────»\n",
            "                │  ├────────────┤                                             »\n",
            "────────────────┼──┤ rx(0.5094) ├─────────────────────────────────────────────»\n",
            "                │  ├────────────┤                                             »\n",
            "────────────────┼──┤ rx(0.5094) ├─────────────────────────────────────────────»\n",
            "                │  ├────────────┤                                             »\n",
            "────────────────┼──┤ rx(0.5094) ├─────────────────────────────────────────────»\n",
            "                │  ├────────────┤                                             »\n",
            "────────────────●──┤ rx(0.5094) ├─────────────────────────────────────────────»\n",
            "                   ╰────────────╯                                             »\n",
            "\n",
            "################################################################################\n",
            "\n",
            "                                                                           »\n",
            "───────────────────────────────────────────────────────────────────────────»\n",
            "                                                                           »\n",
            "──●────────────────────────────────────────────────────────────────────────»\n",
            "╭─┴─╮                                                                      »\n",
            "┤ x ├──●───────────────────●───────────────────────────────────────────────»\n",
            "╰───╯╭─┴─╮╭─────────────╮╭─┴─╮                                             »\n",
            "─────┤ x ├┤ rz(-0.4123) ├┤ x ├──●───────────────────●──────────────────────»\n",
            "     ╰───╯╰─────────────╯╰───╯╭─┴─╮╭─────────────╮╭─┴─╮                    »\n",
            "──────────────────────────────┤ x ├┤ rz(-0.4123) ├┤ x ├──●─────────────────»\n",
            "                              ╰───╯╰─────────────╯╰───╯╭─┴─╮╭─────────────╮»\n",
            "───────────────────────────────────────────────────────┤ x ├┤ rz(-0.4123) ├»\n",
            "                                                       ╰───╯╰─────────────╯»\n",
            "───────────────────────────────────────────────────────────────────────────»\n",
            "                                                                           »\n",
            "───────────────────────────────────────────────────────────────────────────»\n",
            "                                                                           »\n",
            "───────────────────────────────────────────────────────────────────────────»\n",
            "                                                                           »\n",
            "───────────────────────────────────────────────────────────────────────────»\n",
            "                                                                           »\n",
            "\n",
            "################################################################################\n",
            "\n",
            "                                                                           »\n",
            "───────────────────────────────────────────────────────────────────────────»\n",
            "                                                                           »\n",
            "───────────────────────────────────────────────────────────────────────────»\n",
            "                                                                           »\n",
            "───────────────────────────────────────────────────────────────────────────»\n",
            "                                                                           »\n",
            "───────────────────────────────────────────────────────────────────────────»\n",
            "                                                                           »\n",
            "──●────────────────────────────────────────────────────────────────────────»\n",
            "╭─┴─╮                                                                      »\n",
            "┤ x ├──●───────────────────●───────────────────────────────────────────────»\n",
            "╰───╯╭─┴─╮╭─────────────╮╭─┴─╮                                             »\n",
            "─────┤ x ├┤ rz(-0.4123) ├┤ x ├──●───────────────────●──────────────────────»\n",
            "     ╰───╯╰─────────────╯╰───╯╭─┴─╮╭─────────────╮╭─┴─╮                    »\n",
            "──────────────────────────────┤ x ├┤ rz(-0.4123) ├┤ x ├──●─────────────────»\n",
            "                              ╰───╯╰─────────────╯╰───╯╭─┴─╮╭─────────────╮»\n",
            "───────────────────────────────────────────────────────┤ x ├┤ rz(-0.4123) ├»\n",
            "                                                       ╰───╯╰─────────────╯»\n",
            "───────────────────────────────────────────────────────────────────────────»\n",
            "                                                                           »\n",
            "\n",
            "################################################################################\n",
            "\n",
            "                              ╭───╮╭─────────────╮╭───╮╭────────────╮\n",
            "──────────────────────────────┤ x ├┤ rz(-0.4123) ├┤ x ├┤ rx(0.7316) ├\n",
            "                              ╰─┬─╯╰─────────────╯╰─┬─╯├────────────┤\n",
            "────────────────────────────────┼───────────────────┼──┤ rx(0.7316) ├\n",
            "                                │                   │  ├────────────┤\n",
            "────────────────────────────────┼───────────────────┼──┤ rx(0.7316) ├\n",
            "                                │                   │  ├────────────┤\n",
            "────────────────────────────────┼───────────────────┼──┤ rx(0.7316) ├\n",
            "                                │                   │  ├────────────┤\n",
            "────────────────────────────────┼───────────────────┼──┤ rx(0.7316) ├\n",
            "                                │                   │  ├────────────┤\n",
            "────────────────────────────────┼───────────────────┼──┤ rx(0.7316) ├\n",
            "                                │                   │  ├────────────┤\n",
            "────────────────────────────────┼───────────────────┼──┤ rx(0.7316) ├\n",
            "                                │                   │  ├────────────┤\n",
            "──●─────────────────────────────┼───────────────────┼──┤ rx(0.7316) ├\n",
            "╭─┴─╮                           │                   │  ├────────────┤\n",
            "┤ x ├──●───────────────────●────┼───────────────────┼──┤ rx(0.7316) ├\n",
            "╰───╯╭─┴─╮╭─────────────╮╭─┴─╮  │                   │  ├────────────┤\n",
            "─────┤ x ├┤ rz(-0.4123) ├┤ x ├──●───────────────────●──┤ rx(0.7316) ├\n",
            "     ╰───╯╰─────────────╯╰───╯                         ╰────────────╯\n",
            "\n"
          ]
        }
      ],
      "source": [
        "import cudaq\n",
        "from cudaq import spin\n",
        "\n",
        "from typing import List\n",
        "\n",
        "import numpy as np\n",
        "\n",
        "\n",
        "\n",
        "# The problem Hamiltonian\n",
        "hamiltonian = 0*spin.z(0)    # Initialize the hamiltonian object\n",
        "for (i, j) in edges:\n",
        "    hamiltonian += 0.5 * spin.z(i) * spin.z(j)\n",
        "\n",
        "\n",
        "# Problem parameters.\n",
        "qubit_count = num_nodes\n",
        "layer_count: int = 2\n",
        "parameter_count: int = 2 * layer_count\n",
        "\n",
        "\n",
        "@cudaq.kernel\n",
        "def kernel_qaoa(qubit_count: int, layer_count: int, thetas: List[float]):\n",
        "    \"\"\"QAOA ansatz for Max-Cut\"\"\"\n",
        "    qvector = cudaq.qvector(qubit_count)\n",
        "\n",
        "    # Create superposition\n",
        "    h(qvector)\n",
        "\n",
        "    # Loop over the layers\n",
        "    for layer in range(layer_count):\n",
        "        # Loop over the qubits\n",
        "        # Problem unitary\n",
        "        for qubit in range(qubit_count):\n",
        "            x.ctrl(qvector[qubit], qvector[(qubit + 1) % qubit_count])\n",
        "            rz(2.0 * thetas[layer], qvector[(qubit + 1) % qubit_count])\n",
        "            x.ctrl(qvector[qubit], qvector[(qubit + 1) % qubit_count])\n",
        "\n",
        "        # Mixer unitary\n",
        "        for qubit in range(qubit_count):\n",
        "            rx(2.0 * thetas[layer + layer_count], qvector[qubit])\n",
        "\n",
        "\n",
        "# Specify the optimizer and its initial parameters. Make it repeatable.\n",
        "cudaq.set_random_seed(13)\n",
        "optimizer = cudaq.optimizers.COBYLA()\n",
        "np.random.seed(13)\n",
        "optimizer.initial_parameters = np.random.uniform(-np.pi / 8.0, np.pi / 8.0, parameter_count)\n",
        "print(\"Initial parameters = \", optimizer.initial_parameters)\n",
        "print(cudaq.draw(kernel_qaoa, qubit_count, layer_count, optimizer.initial_parameters))"
      ]
    },
    {
      "cell_type": "code",
      "execution_count": 20,
      "metadata": {
        "colab": {
          "base_uri": "https://localhost:8080/"
        },
        "id": "9rz2j3Q00VyT",
        "outputId": "9c52443f-02df-46e5-b5b9-4d81379c2560"
      },
      "outputs": [
        {
          "name": "stdout",
          "output_type": "stream",
          "text": [
            "Execution time = 1.96 (s)\n",
            "Optimal value =  -0.8374488230641077\n",
            "Optimal parameters =  [1.189884569413169, -0.1470675639251054, -0.5718126258283648, 0.7597861749552218]\n",
            "{ 1011111111:6 1101111111:5 1001111111:50 0001111111:31 1010111111:42 0100111111:25 1111011111:6 0111011111:9 1011011111:23 0001011111:8 1010011111:32 0010011111:7 1100011111:39 0100011111:4 1101101111:28 0001101111:75 0110101111:60 1100101111:33 1000101111:4 0111001111:67 0101001111:85 1001001111:4 0001001111:103 1110001111:40 0110001111:90 0100001111:24 1000001111:11 0111110111:7 1011110111:17 0101110111:148 1001110111:65 0001110111:197 1110110111:31 1010110111:70 0100110111:370 1000110111:77 1011010111:61 1001010111:94 1010010111:58 0010010111:526 1100010111:4 1000010111:28 0001100111:521 1110100111:21 0110100111:469 1101000111:10 1001000111:110 0001000111:217 1011000111:86 0110000111:105 1111111011:6 0111111011:35 1110111011:7 0010111011:380 0100111011:456 0111011011:325 1011011011:317 0101011011:653 1001011011:483 0001011011:465 0110011011:987 1100011011:84 1000011011:115 1111101011:44 0011101011:522 0101101011:802 0001101011:593 1110101011:1 0110101011:708 1010101011:281 1100101011:81 1000101011:261 0101001011:777 1110000111:3 0001001011:439 1110001011:6 0110001011:446 1000001011:8 1011101111:8 0000001011:30 1111110011:42 1011110011:60 0011110011:214 1101110011:70 0001110011:509 0110110011:981 0100110011:1241 1000110011:523 1111010011:34 0111010011:427 1011010011:480 1101010011:94 1001010011:634 0110010011:977 1010010011:472 1010011011:420 1000010011:84 0111100011:86 1011100011:193 1101100011:78 1100001011:29 0101100011:603 0001100011:482 1110100011:5 0110100011:485 0010100011:557 1100100011:100 1100110011:206 1000100011:179 1110110011:1 0000100011:42 1011000011:104 0001010011:540 1101000011:29 0101000011:107 1001000011:82 0001000011:67 0110000011:8 1010000011:5 1100000011:7 0100000011:25 1111111101:12 0111111101:51 1011111101:32 0011111101:32 0001111101:1 0101110011:531 1110111101:21 1010111101:66 1100111101:58 0100111101:87 1000111101:75 0000111101:21 1111011101:8 0111011101:171 1011011101:356 0011011101:436 0001011101:149 0110011101:586 1100000111:12 1010011101:420 0010011101:445 1000011101:110 1111101101:31 0011101101:469 1101101101:320 1110101111:42 1001101101:1015 0001101101:459 0110101101:795 1010101101:728 1010100111:92 0010101101:749 1100101101:484 0100101101:770 0000101101:64 1011001101:987 0011001101:1213 1101001101:449 0001001101:410 1110001101:83 0110001101:567 1010001101:433 1100001101:111 0100001101:88 0000001101:26 1111110101:35 0011110101:102 1101110101:149 0101110101:288 1001110101:559 0001110101:267 1010100011:234 1010110101:782 1100110101:555 0100110101:697 1111101111:5 1000110101:632 1111010101:1 0111010101:290 1101111101:4 1001010101:730 0001010101:294 1110010101:90 0110010101:708 1010010101:743 0010010101:656 1100010101:261 1000010101:90 1111100101:32 0111100101:90 0110010111:413 1011101011:159 1011100101:462 0011100101:611 1101100101:418 0101100101:767 0010100111:575 0110111101:71 1001100101:1154 0101100111:532 0001100101:554 1110100101:75 0110100101:785 0010100101:789 1101001111:36 1100100101:445 0111000101:228 1011000101:466 1101000101:152 0010110101:749 0101000101:299 0001000101:181 1010000101:61 0010000101:69 1100000101:1 0001111011:81 1000000101:17 1111111001:34 0011111001:4 0111101101:54 1101111001:52 0101111001:99 1011010101:690 0001111001:102 0110111001:483 1010111001:508 0000111001:98 0111011001:390 1101011001:511 1001011001:1230 0110011001:1198 1100111001:454 1100011001:525 0111000011:99 0100011001:524 1000011001:229 0000101111:24 1111101001:33 0111101001:58 0000111011:128 0000011101:5 0011101001:495 1001101001:1191 0100101111:64 0001101001:474 1111011001:1 1110101001:86 0110101001:750 0010101001:705 1100101001:578 0000110111:107 0000101001:64 1111001001:8 0111001001:448 0100011101:252 1011001001:969 0011001001:980 0100101011:729 0101001001:714 1010100101:739 1001001001:957 0001001001:334 0111100111:57 0110001001:468 1010001001:377 0110111111:34 0010001001:336 0011100111:466 0100001001:72 1011110001:76 1000100010:157 0011101111:66 1000101101:488 0000100010:3 1101000010:73 0100000111:13 1111011110:14 1001000010:52 1100000010:35 0110000100:66 1001100011:542 1111111100:31 1100001100:220 0000110011:207 0111111100:31 1110011110:79 1011101000:146 1001111010:97 1010111100:85 1100111100:228 0000001000:8 0001001000:23 0110111011:360 1111001011:22 0100110110:963 1000111100:114 0001010010:51 0101011100:230 0010001011:408 0010001110:203 1100100111:8 1100010001:199 1110011100:483 0101010110:737 0100000010:22 0100001100:53 0011000100:68 1001011000:460 1111000101:7 0100011100:203 1000011100:68 0000011100:29 1110111111:3 1010110100:772 0011101100:88 0010110111:433 0001101100:9 0101010100:292 1000110110:480 0010001100:63 0100101100:477 0101110100:176 1110011001:217 1110000001:9 1110011011:1 0110010010:1033 0101111111:33 0111101110:49 1011100010:282 1111100111:41 0010010010:332 0101001100:542 1110010010:484 1001001100:967 1101001001:486 0000001010:40 1011011010:633 0000000011:37 0110001100:529 1000111011:198 0000110110:6 0000001100:44 0011011001:997 0101000010:56 1011101001:423 1001100010:573 1011110100:74 1101000100:384 1100011000:506 1010001010:270 0001001110:77 0110101110:525 0011110100:31 1111001111:37 0100101000:66 0010001101:523 1000010001:78 1001111011:52 1001110100:488 0100010011:399 0001110100:6 0101010011:726 1000101001:544 0001111100:8 0000111000:38 1110011111:38 0010110001:479 0110110100:475 1000000100:22 0000101011:93 1000111001:547 1001110110:447 0001011001:399 0010110100:71 1100110100:1169 0101000110:519 1000110100:412 0001011110:36 1111010100:102 1001100111:219 0101111110:27 0011010100:100 0101010101:485 0000000001:12 1101010100:699 0101001000:60 0111101011:57 0110011110:191 1010010100:815 1100010100:514 1010110011:500 0011000011:213 0100010100:198 1110100010:151 0010010011:1000 0010111010:138 1100100001:68 1110000100:92 1011001010:695 0001000010:14 1100111111:43 1001111000:96 1011001110:549 1110100100:483 0011100100:85 0110100100:483 1111100100:11 1010110010:771 1111011100:72 0010100100:76 1111010000:25 1101010000:91 0000111111:7 0000100100:37 1101110100:383 1010001111:4 1000001010:1 0111011100:198 1110001001:102 1101001100:1256 0001001010:55 1111111111:15 1100100100:994 0011011000:8 0101000100:150 0111110000:14 1001101011:520 1010000001:31 1010011000:549 0010000010:8 0011110000:8 0001110000:38 1101100111:1 1101101000:500 0110100000:37 0111110100:5 1011110000:23 1000011010:92 1101101100:1003 0111100110:211 0100110100:400 0100100000:28 1101000000:29 0111010000:3 0101111011:45 0011010101:739 1010001000:147 0011110110:88 1101011101:151 1001011100:461 0010001111:117 0111010111:159 1110110001:80 1110000000:36 1101110001:193 0111000100:173 1100111000:551 0001011000:26 0000110000:42 1011100100:513 1111000010:38 0110001000:59 0011010000:25 0011000101:538 1000100001:77 1000100000:8 1011001000:397 0011001110:490 1011010100:762 0111001110:489 0011010011:1195 0000101100:26 0010101111:96 0110010100:513 0011110111:78 0100100011:479 0100100100:337 0011000000:43 1011110101:62 0110100001:68 1001010000:64 0001111010:22 0101110000:7 0001000000:3 1101001110:488 0100010001:147 0011000010:52 1101011100:538 1000100100:337 1110111010:188 0010010000:33 0011001100:200 0010010100:73 1001011010:748 1110110100:413 0000010000:3 1101001011:74 1111000000:5 1110010100:588 1011000100:430 1010110000:89 0100010101:287 0010000000:11 0010111100:35 0010100010:171 0111001000:94 1010101100:723 1011111000:8 1010010010:698 0100000000:5 0011011100:119 1010010000:68 0000111110:9 1111010111:43 0000100000:6 0101011101:309 1011101100:393 1000011000:68 0011100110:513 0000010111:8 0111010100:275 1001000101:366 1101100100:919 1010110001:618 1010001100:502 0010000100:11 1100000000:45 0111001100:538 0001010000:46 1010011001:1234 0001100000:48 0110101010:755 0100101001:815 0110011000:202 0101101100:455 0000000101:45 0010001000:4 0110101000:97 1001100110:1212 1111110000:7 1001001000:347 0111000000:31 1100101100:1244 1111101000:5 1101101011:75 1001000000:43 0111000010:87 0010011110:102 0100100111:492 0010100000:47 0101000000:47 1010011010:713 0111101100:81 0000110101:100 0110000001:37 1110110010:386 0101100001:96 0100001000:15 1110010110:473 0111100100:98 0000101000:49 0000101110:4 1101110111:3 0100010111:139 1110100000:7 1000011111:4 1100010010:476 1111010001:1 0111001011:442 0101100000:33 0011100011:505 1100011100:535 1011000000:40 0011100000:34 1110010000:76 0011101010:259 1000000000:3 1110111001:61 0101100100:390 0111001010:611 0111100000:8 0010011100:79 1011111011:8 0110000000:40 1000001000:6 0100001010:68 0000110001:66 1010011100:607 1011010000:59 1011100111:53 1000000010:44 0101111010:70 1000101100:387 1111100001:13 0011100010:158 1100010000:52 1100010011:109 1000101000:151 0010110011:1232 1111111010:46 1101010110:735 0000000010:4 1001000001:1 0011001011:1191 1110101100:595 0010101010:283 1000010100:52 1100110000:212 1111010110:78 1000110000:70 0111011000:86 1100101000:538 1111001110:58 1001000100:380 1110110101:62 1101110000:114 1110000011:12 0101011110:89 1010101000:309 0000001111:7 1000100111:101 0000011010:17 0001101000:34 1101010001:260 0101001101:737 0000110100:23 1001101000:369 1101111011:15 0101010010:669 1111000100:119 0011101000:4 1011100000:3 0111101000:35 1110011000:513 1010101110:275 0100000100:14 0000011000:43 1001110001:526 1001001110:437 1111001100:212 0100011000:56 1010000000:38 1101100110:996 0000100001:12 1100110110:1034 1011011000:462 1110011101:60 1000111000:196 1010001011:164 0111010110:543 1000001101:8 0100111000:89 1001110011:487 1001011110:62 0101101110:509 0101101001:782 0010111000:6 0100001011:71 1011011100:479 1110001100:531 1010011110:76 0101111100:9 0111110010:7 1010111000:265 1101100010:477 1110000010:6 0110101100:600 1110010111:27 1111000011:6 0101100010:481 0110111000:98 0001000100:12 0110001110:499 1011000010:100 1010100010:312 1110001000:210 0001111000:3 1101111000:87 1010010001:473 0011111000:16 0011101110:169 0111111000:9 1111111000:37 0101010111:288 1001111100:6 1110111100:66 1101011000:599 0100100010:343 0000100111:91 1100100010:368 1010000100:61 0011010110:593 1111001010:108 0110100110:1154 0110100010:400 1001111001:213 0001100010:62 1011011001:1048 0111100010:116 1111100010:5 1110111000:201 1011100001:123 1110101110:162 0000010010:40 1011010001:417 1001010010:787 1011001100:1157 1101010010:809 1011010010:766 0111010010:441 1111010010:64 1001001101:983 1111110100:28 1101111100:1 0100110010:978 1100111011:61 1100110010:1184 0010110010:392 0100111001:591 1000010110:68 0110110010:953 1010100100:672 0001110010:69 1010100110:736 1001110000:79 1001110010:577 0011110001:107 0001011100:6 0101110010:495 1101110010:460 0011110010:101 0110110101:701 0101101010:779 0000000000:19 1011110010:95 1111110010:28 1011001011:376 1100001010:100 1010111011:159 0010001010:150 1000000011:32 0010011001:1009 0110001010:538 0000000100:5 1110001010:248 1001001010:686 0101001010:791 1101001010:718 0010011011:1007 0110111100:87 0011001010:536 1100001111:4 0000011011:5 0000101010:1 0100010000:8 1000001110:4 0101101111:71 1111110111:8 1000101010:290 1111011000:67 1011000001:4 0010101011:754 1100101010:766 1111001000:117 0011010001:386 1111100011:31 1010101010:443 1110101010:313 0110011100:548 1011101010:294 1001101100:946 1010010110:793 0001101010:93 0001010111:262 1001101010:736 0100010010:318 1101101010:704 0111101010:85 0100011010:446 1110000101:22 1001100100:976 1100011010:653 0101000111:248 0010011010:396 0111001101:545 1001010100:665 1001100001:223 0110011010:1192 0111110001:5 1110011010:557 0001011010:50 0110000101:100 1100100110:959 1000100101:459 0101011010:733 0000111100:6 0100001110:68 1101011010:745 1110001110:191 1101101001:443 1100001001:74 1011111100:32 0011011010:490 1111011010:60 0010010110:444 0101101000:72 0000111010:9 0111000111:176 0101101101:710 0110110110:1024 1000111010:251 1100001000:68 0100111010:458 1010111010:314 0110111010:397 0010111111:29 1101111010:56 0011111010:3 0111111010:31 0000000111:41 0000000110:34 1001011111:28 1000000110:33 1001001011:465 0100000110:1 0010111101:70 1100000110:9 1111100000:8 0010000110:67 0101110001:237 0011010010:476 1010000110:108 0011000111:535 0110000110:225 1101001000:473 1110000110:109 1100011101:196 0001000110:65 1111101110:5 1101000110:498 0111111111:6 1011000110:570 0111111001:31 0111000110:550 1111000110:71 0100100110:963 0010100110:542 0010000001:39 1110100110:413 0010101100:79 1100110001:522 1000110010:568 0001100110:204 0101100110:1184 1011100110:497 0000010110:30 0000010100:46 1001101110:371 0101001110:632 0011011011:954 0100100101:690 1000010000:13 0100010110:356 1100010110:485 0110010110:1170 0001010110:94 1001010110:797 0111011110:74 1010101001:772 1011010110:804 0010110110:420 0110110000:2 1100011110:84 1010000111:26 0011000110:475 0001110110:123 0101110110:395 0011111111:42 1101110110:331 0000001001:36 1110101000:294 1011110110:63 0110110111:354 0011111100:9 1111110110:38 1110010011:8 0000001110:33 0111010001:155 1001000110:479 1100001110:121 1101011111:50 1000100110:378 1010001110:259 0010111001:457 0101010001:248 1000101110:164 0100101110:457 1100101110:387 0001101110:89 0000011111:12 1101010111:1 1010100001:87 0010101110:252 1110010001:100 1110101101:58 0101011000:100 0100000001:42 1101101110:334 1101010101:279 1000010010:86 1011101110:140 1111011011:32 1011101101:350 0101111000:25 0000011110:8 1000011110:24 0111101111:18 1111110001:37 0100011110:93 0010000111:82 1101011110:59 0011010111:522 0011011110:84 0011001111:197 1101100000:10 1011011110:65 1000111110:4 1101000001:6 1100111010:549 0100111110:6 0010111110:8 0100111100:111 1110111110:6 0001111110:6 1001111110:31 1101111110:33 1010110110:722 0011111110:39 0100011011:439 1011111110:36 1001011101:367 0111111110:47 1110110000:107 0100101010:714 1111111110:4 1000000111:5 1101011011:57 1111000001:11 1000000001:32 1100000001:32 0001000001:3 1110110110:351 0010100001:73 1000111111:36 0100100001:41 1110100001:25 1001101111:1 0001100001:49 0000100101:63 1101100001:111 0111011010:458 0011100001:75 0000010001:2 0101011001:748 0010010001:324 1111000111:34 0100110001:534 0110010001:380 0111000001:6 0001010001:176 1001010001:498 0010110000:23 1000110001:506 0111100001:27 0110110001:472 0001110001:169 }\n",
            "\n",
            "The optimal bitstring with max. number of shots = 1101001100\n"
          ]
        }
      ],
      "source": [
        "import time\n",
        "\n",
        "\n",
        "# Define the simulation target:\n",
        "cudaq.set_target(\"nvidia\")  # \"nvidia\" for GPU, \"qpp-cpu\" for CPU\n",
        "\n",
        "\n",
        "# Define the objective, return `<state(params) | H | state(params)>`\n",
        "def objective(parameters):\n",
        "    return cudaq.observe(kernel_qaoa, hamiltonian, qubit_count, layer_count,\n",
        "                         parameters).expectation()\n",
        "\n",
        "\n",
        "# Optimize!\n",
        "t0 = time.time()\n",
        "optimal_expectation, optimal_parameters = optimizer.optimize(\n",
        "    dimensions=parameter_count, function=objective)\n",
        "print(\"Execution time =\", round(time.time()-t0, 3), \"(s)\")\n",
        "\n",
        "# Print the optimized value and its parameters\n",
        "print(\"Optimal value = \", optimal_expectation)\n",
        "print(\"Optimal parameters = \", optimal_parameters)\n",
        "\n",
        "# Sample the circuit using the optimized parameters\n",
        "counts = cudaq.sample(kernel_qaoa, qubit_count, layer_count, optimal_parameters, shots_count=2**18)\n",
        "print(counts)\n",
        "\n",
        "max = 0\n",
        "for bitstring in counts:\n",
        "    if counts[bitstring] > max:\n",
        "        max = counts[bitstring]\n",
        "        bitstring_max = bitstring\n",
        "print(\"The optimal bitstring with max. number of shots =\", bitstring_max)"
      ]
    }
  ],
  "metadata": {
    "accelerator": "GPU",
    "colab": {
      "gpuType": "T4",
      "provenance": []
    },
    "kernelspec": {
      "display_name": "Python 3",
      "name": "python3"
    },
    "language_info": {
      "name": "python"
    }
  },
  "nbformat": 4,
  "nbformat_minor": 0
}
