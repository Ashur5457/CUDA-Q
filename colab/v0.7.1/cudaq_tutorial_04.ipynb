{
  "cells": [
    {
      "cell_type": "markdown",
      "metadata": {},
      "source": [
        "<a href=\"https://colab.research.google.com/github/Squirtle007/CUDA_Quantum/blob/main/colab/v0.7.1/cudaq_tutorial_04.ipynb\" target=\"_parent\"><img src=\"https://colab.research.google.com/assets/colab-badge.svg\" alt=\"Open In Colab\"/></a>"
      ]
    },
    {
      "cell_type": "markdown",
      "id": "h-JpJL2Rz0r5",
      "metadata": {
        "id": "h-JpJL2Rz0r5"
      },
      "source": [
        "**Set up CUDA-Q Environment**"
      ]
    },
    {
      "cell_type": "code",
      "execution_count": null,
      "id": "eUd27wqCsof5",
      "metadata": {
        "colab": {
          "base_uri": "https://localhost:8080/"
        },
        "id": "eUd27wqCsof5",
        "outputId": "895cf268-87ec-434f-8691-e3897457b8ed"
      },
      "outputs": [
        {
          "name": "stdout",
          "output_type": "stream",
          "text": [
            "Reading package lists... Done\n",
            "Building dependency tree... Done\n",
            "Reading state information... Done\n",
            "cuda-libraries-11-8 is already the newest version (11.8.0-1).\n",
            "cuda-nvtx-11-8 is already the newest version (11.8.86-1).\n",
            "0 upgraded, 0 newly installed, 0 to remove and 45 not upgraded.\n",
            "Requirement already satisfied: cuda-quantum==0.7.1 in /usr/local/lib/python3.10/dist-packages (0.7.1)\n",
            "Requirement already satisfied: astpretty~=3.0 in /usr/local/lib/python3.10/dist-packages (from cuda-quantum==0.7.1) (3.0.0)\n",
            "Requirement already satisfied: cuquantum-cu11~=23.10 in /usr/local/lib/python3.10/dist-packages (from cuda-quantum==0.7.1) (23.10.0)\n",
            "Requirement already satisfied: graphlib-backport>=1.0 in /usr/local/lib/python3.10/dist-packages (from cuda-quantum==0.7.1) (1.1.0)\n",
            "Requirement already satisfied: numpy>=1.24 in /usr/local/lib/python3.10/dist-packages (from cuda-quantum==0.7.1) (1.25.2)\n",
            "Requirement already satisfied: custatevec-cu11==1.5.0 in /usr/local/lib/python3.10/dist-packages (from cuquantum-cu11~=23.10->cuda-quantum==0.7.1) (1.5.0)\n",
            "Requirement already satisfied: cutensornet-cu11==2.3.0 in /usr/local/lib/python3.10/dist-packages (from cuquantum-cu11~=23.10->cuda-quantum==0.7.1) (2.3.0)\n",
            "Requirement already satisfied: cutensor-cu11<2,>=1.6.1 in /usr/local/lib/python3.10/dist-packages (from cutensornet-cu11==2.3.0->cuquantum-cu11~=23.10->cuda-quantum==0.7.1) (1.7.0)\n"
          ]
        }
      ],
      "source": [
        "#The following commands are used to set up the environment in Colab\n",
        "!apt-get -y install cuda-nvtx-11-8 cuda-libraries-11-8\n",
        "%pip install cuda-quantum==0.7.1"
      ]
    },
    {
      "cell_type": "markdown",
      "id": "Q2bpQmaZ0Ifo",
      "metadata": {
        "id": "Q2bpQmaZ0Ifo"
      },
      "source": [
        "# cuQuantum-accelerated Backends\n",
        "\n",
        "- **nvidia**: The **`nvidia`** target provides a state vector simulator accelerated with the **`cuStateVec`** library\n",
        "- **tensornet**: The **`tensornet`** target provides a tensor-network simulator accelerated with the **`cuTensorNet`** library\n",
        "\n",
        "\n",
        "CUDA-Q support cuQuantum-accelerated simulation backends including cuStateVec and cuTensorNet. Click [here](https://developer.nvidia.com/cuquantum-sdk) to learn about cuQuantum."
      ]
    },
    {
      "cell_type": "code",
      "execution_count": null,
      "id": "b36aa076-47ee-4c38-bea8-9e88ca777b64",
      "metadata": {
        "id": "b36aa076-47ee-4c38-bea8-9e88ca777b64"
      },
      "outputs": [],
      "source": [
        "import cudaq\n",
        "import time\n",
        "\n",
        "num_qubits = 25\n",
        "\n",
        "# Define a quantum kernel function for generating a GHZ state.\n",
        "@cudaq.kernel\n",
        "def kernel(num_qubits: int):\n",
        "    qubits = cudaq.qvector(num_qubits)\n",
        "    h(qubits[0])\n",
        "    for q in range(num_qubits-1):\n",
        "        x.ctrl(qubits[q], qubits[q+1])"
      ]
    },
    {
      "cell_type": "code",
      "execution_count": null,
      "id": "ba0b1f91-a7da-47b4-8289-e7e66a8e240e",
      "metadata": {
        "colab": {
          "base_uri": "https://localhost:8080/"
        },
        "id": "ba0b1f91-a7da-47b4-8289-e7e66a8e240e",
        "outputId": "36ca32cc-dbff-4239-8305-85808f3aa9a9"
      },
      "outputs": [
        {
          "name": "stdout",
          "output_type": "stream",
          "text": [
            "Execution time: 2.432504415512085 (sec)\n",
            "0.4999999828857291\n"
          ]
        }
      ],
      "source": [
        "# Define the simulation target with \"nvidia\" backend.\n",
        "cudaq.set_target(\"nvidia\")\n",
        "\n",
        "t0 = time.time()\n",
        "state = cudaq.get_state(kernel, num_qubits)\n",
        "print(\"Execution time:\", time.time()-t0, \"(sec)\")\n",
        "print(abs(state[0])**2)"
      ]
    },
    {
      "cell_type": "code",
      "execution_count": null,
      "id": "423ac37c-8847-480a-b653-8cfc3efe06d3",
      "metadata": {
        "colab": {
          "base_uri": "https://localhost:8080/"
        },
        "id": "423ac37c-8847-480a-b653-8cfc3efe06d3",
        "outputId": "7c0ccef6-0bbf-4a06-9ffb-2fb5d51de0f2"
      },
      "outputs": [
        {
          "name": "stdout",
          "output_type": "stream",
          "text": [
            "Execution time: 1.5180318355560303 (sec)\n",
            "0.4999999999999999\n"
          ]
        }
      ],
      "source": [
        "# Define the simulation target with \"tensornet\" backend.\n",
        "cudaq.set_target(\"tensornet\")\n",
        "\n",
        "t0 = time.time()\n",
        "state = cudaq.get_state(kernel, num_qubits)\n",
        "print(\"Execution time:\", time.time()-t0, \"(sec)\")\n",
        "print(abs(state[0])**2)"
      ]
    },
    {
      "cell_type": "markdown",
      "id": "B-eEL992y313",
      "metadata": {
        "id": "B-eEL992y313"
      },
      "source": [
        "Note that the speedup achieved by the tensor-network method depends on circuit depth, topology, etc."
      ]
    }
  ],
  "metadata": {
    "accelerator": "GPU",
    "colab": {
      "gpuType": "T4",
      "provenance": []
    },
    "kernelspec": {
      "display_name": "Python 3",
      "name": "python3"
    },
    "language_info": {
      "codemirror_mode": {
        "name": "ipython",
        "version": 3
      },
      "file_extension": ".py",
      "mimetype": "text/x-python",
      "name": "python",
      "nbconvert_exporter": "python",
      "pygments_lexer": "ipython3",
      "version": "3.10.12"
    }
  },
  "nbformat": 4,
  "nbformat_minor": 5
}
