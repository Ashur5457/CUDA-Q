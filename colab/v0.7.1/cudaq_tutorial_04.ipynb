{
  "cells": [
    {
      "cell_type": "markdown",
      "metadata": {
        "id": "JG7qPmKUJZUt"
      },
      "source": [
        "<a href=\"https://colab.research.google.com/github/Squirtle007/CUDA_Quantum/blob/main/colab/v0.7.1/cudaq_tutorial_04.ipynb\" target=\"_parent\"><img src=\"https://colab.research.google.com/assets/colab-badge.svg\" alt=\"Open In Colab\"/></a>"
      ],
      "id": "JG7qPmKUJZUt"
    },
    {
      "cell_type": "markdown",
      "id": "h-JpJL2Rz0r5",
      "metadata": {
        "id": "h-JpJL2Rz0r5"
      },
      "source": [
        "**Set up CUDA-Q Environment**"
      ]
    },
    {
      "cell_type": "code",
      "execution_count": 1,
      "id": "eUd27wqCsof5",
      "metadata": {
        "colab": {
          "base_uri": "https://localhost:8080/"
        },
        "id": "eUd27wqCsof5",
        "outputId": "6f76e69b-6564-4f24-c1a2-5a63a686ff65"
      },
      "outputs": [
        {
          "output_type": "stream",
          "name": "stdout",
          "text": [
            "Reading package lists... Done\n",
            "Building dependency tree... Done\n",
            "Reading state information... Done\n",
            "The following additional packages will be installed:\n",
            "  cuda-cudart-11-8 cuda-nvrtc-11-8 cuda-toolkit-11-8-config-common cuda-toolkit-11-config-common\n",
            "  libcublas-11-8 libcufft-11-8 libcufile-11-8 libcurand-11-8 libcusolver-11-8 libcusparse-11-8\n",
            "  libnpp-11-8 libnvjpeg-11-8\n",
            "The following NEW packages will be installed:\n",
            "  cuda-cudart-11-8 cuda-libraries-11-8 cuda-nvrtc-11-8 cuda-nvtx-11-8\n",
            "  cuda-toolkit-11-8-config-common cuda-toolkit-11-config-common libcublas-11-8 libcufft-11-8\n",
            "  libcufile-11-8 libcurand-11-8 libcusolver-11-8 libcusparse-11-8 libnpp-11-8 libnvjpeg-11-8\n",
            "0 upgraded, 14 newly installed, 0 to remove and 45 not upgraded.\n",
            "Need to get 674 MB of archives.\n",
            "After this operation, 2,145 MB of additional disk space will be used.\n",
            "Get:1 https://developer.download.nvidia.com/compute/cuda/repos/ubuntu2204/x86_64  cuda-toolkit-11-config-common 11.8.89-1 [16.4 kB]\n",
            "Get:2 https://developer.download.nvidia.com/compute/cuda/repos/ubuntu2204/x86_64  cuda-toolkit-11-8-config-common 11.8.89-1 [16.3 kB]\n",
            "Get:3 https://developer.download.nvidia.com/compute/cuda/repos/ubuntu2204/x86_64  cuda-cudart-11-8 11.8.89-1 [165 kB]\n",
            "Get:4 https://developer.download.nvidia.com/compute/cuda/repos/ubuntu2204/x86_64  cuda-nvrtc-11-8 11.8.89-1 [16.4 MB]\n",
            "Get:5 https://developer.download.nvidia.com/compute/cuda/repos/ubuntu2204/x86_64  libcublas-11-8 11.11.3.6-1 [248 MB]\n",
            "Get:6 https://developer.download.nvidia.com/compute/cuda/repos/ubuntu2204/x86_64  libcufft-11-8 10.9.0.58-1 [94.2 MB]\n",
            "Get:7 https://developer.download.nvidia.com/compute/cuda/repos/ubuntu2204/x86_64  libcufile-11-8 1.4.0.31-1 [474 kB]\n",
            "Get:8 https://developer.download.nvidia.com/compute/cuda/repos/ubuntu2204/x86_64  libcurand-11-8 10.3.0.86-1 [42.2 MB]\n",
            "Get:9 https://developer.download.nvidia.com/compute/cuda/repos/ubuntu2204/x86_64  libcusolver-11-8 11.4.1.48-1 [52.3 MB]\n",
            "Get:10 https://developer.download.nvidia.com/compute/cuda/repos/ubuntu2204/x86_64  libcusparse-11-8 11.7.5.86-1 [116 MB]\n",
            "Get:11 https://developer.download.nvidia.com/compute/cuda/repos/ubuntu2204/x86_64  libnpp-11-8 11.8.0.86-1 [102 MB]\n",
            "Get:12 https://developer.download.nvidia.com/compute/cuda/repos/ubuntu2204/x86_64  libnvjpeg-11-8 11.9.0.86-1 [1,865 kB]\n",
            "Get:13 https://developer.download.nvidia.com/compute/cuda/repos/ubuntu2204/x86_64  cuda-libraries-11-8 11.8.0-1 [2,518 B]\n",
            "Get:14 https://developer.download.nvidia.com/compute/cuda/repos/ubuntu2204/x86_64  cuda-nvtx-11-8 11.8.86-1 [51.3 kB]\n",
            "Fetched 674 MB in 11s (59.3 MB/s)\n",
            "Selecting previously unselected package cuda-toolkit-11-config-common.\n",
            "(Reading database ... 121925 files and directories currently installed.)\n",
            "Preparing to unpack .../00-cuda-toolkit-11-config-common_11.8.89-1_all.deb ...\n",
            "Unpacking cuda-toolkit-11-config-common (11.8.89-1) ...\n",
            "Selecting previously unselected package cuda-toolkit-11-8-config-common.\n",
            "Preparing to unpack .../01-cuda-toolkit-11-8-config-common_11.8.89-1_all.deb ...\n",
            "Unpacking cuda-toolkit-11-8-config-common (11.8.89-1) ...\n",
            "Selecting previously unselected package cuda-cudart-11-8.\n",
            "Preparing to unpack .../02-cuda-cudart-11-8_11.8.89-1_amd64.deb ...\n",
            "Unpacking cuda-cudart-11-8 (11.8.89-1) ...\n",
            "Selecting previously unselected package cuda-nvrtc-11-8.\n",
            "Preparing to unpack .../03-cuda-nvrtc-11-8_11.8.89-1_amd64.deb ...\n",
            "Unpacking cuda-nvrtc-11-8 (11.8.89-1) ...\n",
            "Selecting previously unselected package libcublas-11-8.\n",
            "Preparing to unpack .../04-libcublas-11-8_11.11.3.6-1_amd64.deb ...\n",
            "Unpacking libcublas-11-8 (11.11.3.6-1) ...\n",
            "Selecting previously unselected package libcufft-11-8.\n",
            "Preparing to unpack .../05-libcufft-11-8_10.9.0.58-1_amd64.deb ...\n",
            "Unpacking libcufft-11-8 (10.9.0.58-1) ...\n",
            "Selecting previously unselected package libcufile-11-8.\n",
            "Preparing to unpack .../06-libcufile-11-8_1.4.0.31-1_amd64.deb ...\n",
            "Unpacking libcufile-11-8 (1.4.0.31-1) ...\n",
            "Selecting previously unselected package libcurand-11-8.\n",
            "Preparing to unpack .../07-libcurand-11-8_10.3.0.86-1_amd64.deb ...\n",
            "Unpacking libcurand-11-8 (10.3.0.86-1) ...\n",
            "Selecting previously unselected package libcusolver-11-8.\n",
            "Preparing to unpack .../08-libcusolver-11-8_11.4.1.48-1_amd64.deb ...\n",
            "Unpacking libcusolver-11-8 (11.4.1.48-1) ...\n",
            "Selecting previously unselected package libcusparse-11-8.\n",
            "Preparing to unpack .../09-libcusparse-11-8_11.7.5.86-1_amd64.deb ...\n",
            "Unpacking libcusparse-11-8 (11.7.5.86-1) ...\n",
            "Selecting previously unselected package libnpp-11-8.\n",
            "Preparing to unpack .../10-libnpp-11-8_11.8.0.86-1_amd64.deb ...\n",
            "Unpacking libnpp-11-8 (11.8.0.86-1) ...\n",
            "Selecting previously unselected package libnvjpeg-11-8.\n",
            "Preparing to unpack .../11-libnvjpeg-11-8_11.9.0.86-1_amd64.deb ...\n",
            "Unpacking libnvjpeg-11-8 (11.9.0.86-1) ...\n",
            "Selecting previously unselected package cuda-libraries-11-8.\n",
            "Preparing to unpack .../12-cuda-libraries-11-8_11.8.0-1_amd64.deb ...\n",
            "Unpacking cuda-libraries-11-8 (11.8.0-1) ...\n",
            "Selecting previously unselected package cuda-nvtx-11-8.\n",
            "Preparing to unpack .../13-cuda-nvtx-11-8_11.8.86-1_amd64.deb ...\n",
            "Unpacking cuda-nvtx-11-8 (11.8.86-1) ...\n",
            "Setting up cuda-toolkit-11-config-common (11.8.89-1) ...\n",
            "Setting up cuda-nvrtc-11-8 (11.8.89-1) ...\n",
            "Setting up cuda-nvtx-11-8 (11.8.86-1) ...\n",
            "Setting up cuda-toolkit-11-8-config-common (11.8.89-1) ...\n",
            "Setting alternatives\n",
            "update-alternatives: using /usr/local/cuda-11.8 to provide /usr/local/cuda-11 (cuda-11) in auto mode\n",
            "Setting up libcusolver-11-8 (11.4.1.48-1) ...\n",
            "Setting up cuda-cudart-11-8 (11.8.89-1) ...\n",
            "Setting up libnvjpeg-11-8 (11.9.0.86-1) ...\n",
            "Setting up libcusparse-11-8 (11.7.5.86-1) ...\n",
            "Setting up libcufft-11-8 (10.9.0.58-1) ...\n",
            "Setting up libnpp-11-8 (11.8.0.86-1) ...\n",
            "Setting up libcurand-11-8 (10.3.0.86-1) ...\n",
            "Setting up libcufile-11-8 (1.4.0.31-1) ...\n",
            "Setting alternatives\n",
            "Setting up libcublas-11-8 (11.11.3.6-1) ...\n",
            "Setting up cuda-libraries-11-8 (11.8.0-1) ...\n",
            "Processing triggers for libc-bin (2.35-0ubuntu3.4) ...\n",
            "/sbin/ldconfig.real: /usr/local/lib/libtbb.so.12 is not a symbolic link\n",
            "\n",
            "/sbin/ldconfig.real: /usr/local/lib/libtbbmalloc_proxy.so.2 is not a symbolic link\n",
            "\n",
            "/sbin/ldconfig.real: /usr/local/lib/libtbbbind_2_5.so.3 is not a symbolic link\n",
            "\n",
            "/sbin/ldconfig.real: /usr/local/lib/libtbbbind_2_0.so.3 is not a symbolic link\n",
            "\n",
            "/sbin/ldconfig.real: /usr/local/lib/libtbbbind.so.3 is not a symbolic link\n",
            "\n",
            "/sbin/ldconfig.real: /usr/local/lib/libtbbmalloc.so.2 is not a symbolic link\n",
            "\n",
            "Collecting cuda-quantum==0.7.1\n",
            "  Downloading cuda_quantum-0.7.1-cp310-cp310-manylinux_2_28_x86_64.whl (105.8 MB)\n",
            "\u001b[2K     \u001b[90m━━━━━━━━━━━━━━━━━━━━━━━━━━━━━━━━━━━━━━━━\u001b[0m \u001b[32m105.8/105.8 MB\u001b[0m \u001b[31m8.7 MB/s\u001b[0m eta \u001b[36m0:00:00\u001b[0m\n",
            "\u001b[?25hCollecting astpretty~=3.0 (from cuda-quantum==0.7.1)\n",
            "  Downloading astpretty-3.0.0-py2.py3-none-any.whl (4.9 kB)\n",
            "Collecting cuquantum-cu11~=23.10 (from cuda-quantum==0.7.1)\n",
            "  Downloading cuquantum_cu11-23.10.0-py3-none-manylinux2014_x86_64.whl (7.0 kB)\n",
            "Collecting graphlib-backport>=1.0 (from cuda-quantum==0.7.1)\n",
            "  Downloading graphlib_backport-1.1.0-py3-none-any.whl (7.1 kB)\n",
            "Requirement already satisfied: numpy>=1.24 in /usr/local/lib/python3.10/dist-packages (from cuda-quantum==0.7.1) (1.25.2)\n",
            "Collecting custatevec-cu11==1.5.0 (from cuquantum-cu11~=23.10->cuda-quantum==0.7.1)\n",
            "  Downloading custatevec_cu11-1.5.0-py3-none-manylinux2014_x86_64.whl (38.9 MB)\n",
            "\u001b[2K     \u001b[90m━━━━━━━━━━━━━━━━━━━━━━━━━━━━━━━━━━━━━━━━\u001b[0m \u001b[32m38.9/38.9 MB\u001b[0m \u001b[31m39.1 MB/s\u001b[0m eta \u001b[36m0:00:00\u001b[0m\n",
            "\u001b[?25hCollecting cutensornet-cu11==2.3.0 (from cuquantum-cu11~=23.10->cuda-quantum==0.7.1)\n",
            "  Downloading cutensornet_cu11-2.3.0-py3-none-manylinux2014_x86_64.whl (2.2 MB)\n",
            "\u001b[2K     \u001b[90m━━━━━━━━━━━━━━━━━━━━━━━━━━━━━━━━━━━━━━━━\u001b[0m \u001b[32m2.2/2.2 MB\u001b[0m \u001b[31m85.2 MB/s\u001b[0m eta \u001b[36m0:00:00\u001b[0m\n",
            "\u001b[?25hCollecting cutensor-cu11<2,>=1.6.1 (from cutensornet-cu11==2.3.0->cuquantum-cu11~=23.10->cuda-quantum==0.7.1)\n",
            "  Downloading cutensor_cu11-1.7.0-py3-none-manylinux2014_x86_64.whl (142.1 MB)\n",
            "\u001b[2K     \u001b[90m━━━━━━━━━━━━━━━━━━━━━━━━━━━━━━━━━━━━━━━━\u001b[0m \u001b[32m142.1/142.1 MB\u001b[0m \u001b[31m7.2 MB/s\u001b[0m eta \u001b[36m0:00:00\u001b[0m\n",
            "\u001b[?25hInstalling collected packages: cutensor-cu11, custatevec-cu11, graphlib-backport, cutensornet-cu11, astpretty, cuquantum-cu11, cuda-quantum\n",
            "Successfully installed astpretty-3.0.0 cuda-quantum-0.7.1 cuquantum-cu11-23.10.0 custatevec-cu11-1.5.0 cutensor-cu11-1.7.0 cutensornet-cu11-2.3.0 graphlib-backport-1.1.0\n"
          ]
        }
      ],
      "source": [
        "#The following commands are used to set up the environment in Colab\n",
        "!apt-get -y install cuda-nvtx-11-8 cuda-libraries-11-8\n",
        "%pip install cuda-quantum==0.7.1"
      ]
    },
    {
      "cell_type": "markdown",
      "id": "Q2bpQmaZ0Ifo",
      "metadata": {
        "id": "Q2bpQmaZ0Ifo"
      },
      "source": [
        "# cuQuantum-accelerated Backends\n",
        "\n",
        "- **nvidia**: The **`nvidia`** target provides a state vector simulator accelerated with the **`cuStateVec`** library\n",
        "- **tensornet**: The **`tensornet`** target provides a tensor-network simulator accelerated with the **`cuTensorNet`** library\n",
        "\n",
        "\n",
        "CUDA-Q support cuQuantum-accelerated simulation backends including cuStateVec and cuTensorNet. Click [here](https://developer.nvidia.com/cuquantum-sdk) to learn about cuQuantum."
      ]
    },
    {
      "cell_type": "code",
      "execution_count": 18,
      "id": "b36aa076-47ee-4c38-bea8-9e88ca777b64",
      "metadata": {
        "id": "b36aa076-47ee-4c38-bea8-9e88ca777b64"
      },
      "outputs": [],
      "source": [
        "import cudaq\n",
        "import time\n",
        "\n",
        "num_qubits = 25\n",
        "\n",
        "# Define a quantum kernel function for generating a GHZ state.\n",
        "@cudaq.kernel\n",
        "def kernel(num_qubits: int):\n",
        "    qubits = cudaq.qvector(num_qubits)\n",
        "    h(qubits[0])\n",
        "    for q in range(num_qubits-1):\n",
        "        x.ctrl(qubits[q], qubits[q+1])"
      ]
    },
    {
      "cell_type": "code",
      "execution_count": 20,
      "id": "ba0b1f91-a7da-47b4-8289-e7e66a8e240e",
      "metadata": {
        "colab": {
          "base_uri": "https://localhost:8080/"
        },
        "id": "ba0b1f91-a7da-47b4-8289-e7e66a8e240e",
        "outputId": "e8b51115-5cda-4662-aea2-fc13e10c1bc6"
      },
      "outputs": [
        {
          "output_type": "stream",
          "name": "stdout",
          "text": [
            "Execution time: 2.009408712387085 (sec)\n",
            "0.5\n"
          ]
        }
      ],
      "source": [
        "# Define the simulation target with \"nvidia\" backend.\n",
        "cudaq.set_target(\"nvidia\")\n",
        "\n",
        "t0 = time.time()\n",
        "state = cudaq.get_state(kernel, num_qubits)\n",
        "print(\"Execution time:\", time.time()-t0, \"(sec)\")\n",
        "print(round(abs(state[0])**2, 2))"
      ]
    },
    {
      "cell_type": "code",
      "execution_count": 13,
      "id": "423ac37c-8847-480a-b653-8cfc3efe06d3",
      "metadata": {
        "colab": {
          "base_uri": "https://localhost:8080/"
        },
        "id": "423ac37c-8847-480a-b653-8cfc3efe06d3",
        "outputId": "8b1f0cbb-d3e7-42e7-b1e1-aea31d6b867d"
      },
      "outputs": [
        {
          "output_type": "stream",
          "name": "stdout",
          "text": [
            "Execution time: 1.5516397953033447 (sec)\n",
            "0.5\n"
          ]
        }
      ],
      "source": [
        "# Define the simulation target with \"tensornet\" backend.\n",
        "cudaq.set_target(\"tensornet\")\n",
        "\n",
        "t0 = time.time()\n",
        "state = cudaq.get_state(kernel, num_qubits)\n",
        "print(\"Execution time:\", time.time()-t0, \"(sec)\")\n",
        "print(round(abs(state[0])**2, 2))"
      ]
    },
    {
      "cell_type": "markdown",
      "id": "B-eEL992y313",
      "metadata": {
        "id": "B-eEL992y313"
      },
      "source": [
        "Note that the speedup achieved by the tensor-network method depends on circuit depth, topology, etc."
      ]
    }
  ],
  "metadata": {
    "accelerator": "GPU",
    "colab": {
      "gpuType": "T4",
      "provenance": []
    },
    "kernelspec": {
      "display_name": "Python 3",
      "name": "python3"
    },
    "language_info": {
      "codemirror_mode": {
        "name": "ipython",
        "version": 3
      },
      "file_extension": ".py",
      "mimetype": "text/x-python",
      "name": "python",
      "nbconvert_exporter": "python",
      "pygments_lexer": "ipython3",
      "version": "3.10.12"
    }
  },
  "nbformat": 4,
  "nbformat_minor": 5
}