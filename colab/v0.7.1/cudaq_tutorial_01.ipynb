{
  "cells": [
    {
      "cell_type": "markdown",
      "metadata": {
        "id": "KG_mfMGO4Et_"
      },
      "source": [
        "<a href=\"https://colab.research.google.com/github/Squirtle007/CUDA_Quantum/blob/main/colab/v0.7.1/cudaq_tutorial_01.ipynb\" target=\"_parent\"><img src=\"https://colab.research.google.com/assets/colab-badge.svg\" alt=\"Open In Colab\"/></a>"
      ]
    },
    {
      "cell_type": "markdown",
      "metadata": {
        "id": "nviq34EqVB9t"
      },
      "source": [
        "**Set up CUDA-Q Environment**"
      ]
    },
    {
      "cell_type": "code",
      "execution_count": 1,
      "metadata": {
        "colab": {
          "base_uri": "https://localhost:8080/"
        },
        "id": "qssbbdb0U-6s",
        "outputId": "c194e31d-b830-4ac1-e7de-287c957dff68"
      },
      "outputs": [
        {
          "output_type": "stream",
          "name": "stdout",
          "text": [
            "Reading package lists... Done\n",
            "Building dependency tree... Done\n",
            "Reading state information... Done\n",
            "The following additional packages will be installed:\n",
            "  cuda-cudart-11-8 cuda-nvrtc-11-8 cuda-toolkit-11-8-config-common cuda-toolkit-11-config-common\n",
            "  libcublas-11-8 libcufft-11-8 libcufile-11-8 libcurand-11-8 libcusolver-11-8 libcusparse-11-8\n",
            "  libnpp-11-8 libnvjpeg-11-8\n",
            "The following NEW packages will be installed:\n",
            "  cuda-cudart-11-8 cuda-libraries-11-8 cuda-nvrtc-11-8 cuda-nvtx-11-8\n",
            "  cuda-toolkit-11-8-config-common cuda-toolkit-11-config-common libcublas-11-8 libcufft-11-8\n",
            "  libcufile-11-8 libcurand-11-8 libcusolver-11-8 libcusparse-11-8 libnpp-11-8 libnvjpeg-11-8\n",
            "0 upgraded, 14 newly installed, 0 to remove and 45 not upgraded.\n",
            "Need to get 674 MB of archives.\n",
            "After this operation, 2,145 MB of additional disk space will be used.\n",
            "Get:1 https://developer.download.nvidia.com/compute/cuda/repos/ubuntu2204/x86_64  cuda-toolkit-11-config-common 11.8.89-1 [16.4 kB]\n",
            "Get:2 https://developer.download.nvidia.com/compute/cuda/repos/ubuntu2204/x86_64  cuda-toolkit-11-8-config-common 11.8.89-1 [16.3 kB]\n",
            "Get:3 https://developer.download.nvidia.com/compute/cuda/repos/ubuntu2204/x86_64  cuda-cudart-11-8 11.8.89-1 [165 kB]\n",
            "Get:4 https://developer.download.nvidia.com/compute/cuda/repos/ubuntu2204/x86_64  cuda-nvrtc-11-8 11.8.89-1 [16.4 MB]\n",
            "Get:5 https://developer.download.nvidia.com/compute/cuda/repos/ubuntu2204/x86_64  libcublas-11-8 11.11.3.6-1 [248 MB]\n",
            "Get:6 https://developer.download.nvidia.com/compute/cuda/repos/ubuntu2204/x86_64  libcufft-11-8 10.9.0.58-1 [94.2 MB]\n",
            "Get:7 https://developer.download.nvidia.com/compute/cuda/repos/ubuntu2204/x86_64  libcufile-11-8 1.4.0.31-1 [474 kB]\n",
            "Get:8 https://developer.download.nvidia.com/compute/cuda/repos/ubuntu2204/x86_64  libcurand-11-8 10.3.0.86-1 [42.2 MB]\n",
            "Get:9 https://developer.download.nvidia.com/compute/cuda/repos/ubuntu2204/x86_64  libcusolver-11-8 11.4.1.48-1 [52.3 MB]\n",
            "Get:10 https://developer.download.nvidia.com/compute/cuda/repos/ubuntu2204/x86_64  libcusparse-11-8 11.7.5.86-1 [116 MB]\n",
            "Get:11 https://developer.download.nvidia.com/compute/cuda/repos/ubuntu2204/x86_64  libnpp-11-8 11.8.0.86-1 [102 MB]\n",
            "Get:12 https://developer.download.nvidia.com/compute/cuda/repos/ubuntu2204/x86_64  libnvjpeg-11-8 11.9.0.86-1 [1,865 kB]\n",
            "Get:13 https://developer.download.nvidia.com/compute/cuda/repos/ubuntu2204/x86_64  cuda-libraries-11-8 11.8.0-1 [2,518 B]\n",
            "Get:14 https://developer.download.nvidia.com/compute/cuda/repos/ubuntu2204/x86_64  cuda-nvtx-11-8 11.8.86-1 [51.3 kB]\n",
            "Fetched 674 MB in 17s (38.8 MB/s)\n",
            "Selecting previously unselected package cuda-toolkit-11-config-common.\n",
            "(Reading database ... 121925 files and directories currently installed.)\n",
            "Preparing to unpack .../00-cuda-toolkit-11-config-common_11.8.89-1_all.deb ...\n",
            "Unpacking cuda-toolkit-11-config-common (11.8.89-1) ...\n",
            "Selecting previously unselected package cuda-toolkit-11-8-config-common.\n",
            "Preparing to unpack .../01-cuda-toolkit-11-8-config-common_11.8.89-1_all.deb ...\n",
            "Unpacking cuda-toolkit-11-8-config-common (11.8.89-1) ...\n",
            "Selecting previously unselected package cuda-cudart-11-8.\n",
            "Preparing to unpack .../02-cuda-cudart-11-8_11.8.89-1_amd64.deb ...\n",
            "Unpacking cuda-cudart-11-8 (11.8.89-1) ...\n",
            "Selecting previously unselected package cuda-nvrtc-11-8.\n",
            "Preparing to unpack .../03-cuda-nvrtc-11-8_11.8.89-1_amd64.deb ...\n",
            "Unpacking cuda-nvrtc-11-8 (11.8.89-1) ...\n",
            "Selecting previously unselected package libcublas-11-8.\n",
            "Preparing to unpack .../04-libcublas-11-8_11.11.3.6-1_amd64.deb ...\n",
            "Unpacking libcublas-11-8 (11.11.3.6-1) ...\n",
            "Selecting previously unselected package libcufft-11-8.\n",
            "Preparing to unpack .../05-libcufft-11-8_10.9.0.58-1_amd64.deb ...\n",
            "Unpacking libcufft-11-8 (10.9.0.58-1) ...\n",
            "Selecting previously unselected package libcufile-11-8.\n",
            "Preparing to unpack .../06-libcufile-11-8_1.4.0.31-1_amd64.deb ...\n",
            "Unpacking libcufile-11-8 (1.4.0.31-1) ...\n",
            "Selecting previously unselected package libcurand-11-8.\n",
            "Preparing to unpack .../07-libcurand-11-8_10.3.0.86-1_amd64.deb ...\n",
            "Unpacking libcurand-11-8 (10.3.0.86-1) ...\n",
            "Selecting previously unselected package libcusolver-11-8.\n",
            "Preparing to unpack .../08-libcusolver-11-8_11.4.1.48-1_amd64.deb ...\n",
            "Unpacking libcusolver-11-8 (11.4.1.48-1) ...\n",
            "Selecting previously unselected package libcusparse-11-8.\n",
            "Preparing to unpack .../09-libcusparse-11-8_11.7.5.86-1_amd64.deb ...\n",
            "Unpacking libcusparse-11-8 (11.7.5.86-1) ...\n",
            "Selecting previously unselected package libnpp-11-8.\n",
            "Preparing to unpack .../10-libnpp-11-8_11.8.0.86-1_amd64.deb ...\n",
            "Unpacking libnpp-11-8 (11.8.0.86-1) ...\n",
            "Selecting previously unselected package libnvjpeg-11-8.\n",
            "Preparing to unpack .../11-libnvjpeg-11-8_11.9.0.86-1_amd64.deb ...\n",
            "Unpacking libnvjpeg-11-8 (11.9.0.86-1) ...\n",
            "Selecting previously unselected package cuda-libraries-11-8.\n",
            "Preparing to unpack .../12-cuda-libraries-11-8_11.8.0-1_amd64.deb ...\n",
            "Unpacking cuda-libraries-11-8 (11.8.0-1) ...\n",
            "Selecting previously unselected package cuda-nvtx-11-8.\n",
            "Preparing to unpack .../13-cuda-nvtx-11-8_11.8.86-1_amd64.deb ...\n",
            "Unpacking cuda-nvtx-11-8 (11.8.86-1) ...\n",
            "Setting up cuda-toolkit-11-config-common (11.8.89-1) ...\n",
            "Setting up cuda-nvrtc-11-8 (11.8.89-1) ...\n",
            "Setting up cuda-nvtx-11-8 (11.8.86-1) ...\n",
            "Setting up cuda-toolkit-11-8-config-common (11.8.89-1) ...\n",
            "Setting alternatives\n",
            "update-alternatives: using /usr/local/cuda-11.8 to provide /usr/local/cuda-11 (cuda-11) in auto mode\n",
            "Setting up libcusolver-11-8 (11.4.1.48-1) ...\n",
            "Setting up cuda-cudart-11-8 (11.8.89-1) ...\n",
            "Setting up libnvjpeg-11-8 (11.9.0.86-1) ...\n",
            "Setting up libcusparse-11-8 (11.7.5.86-1) ...\n",
            "Setting up libcufft-11-8 (10.9.0.58-1) ...\n",
            "Setting up libnpp-11-8 (11.8.0.86-1) ...\n",
            "Setting up libcurand-11-8 (10.3.0.86-1) ...\n",
            "Setting up libcufile-11-8 (1.4.0.31-1) ...\n",
            "Setting alternatives\n",
            "Setting up libcublas-11-8 (11.11.3.6-1) ...\n",
            "Setting up cuda-libraries-11-8 (11.8.0-1) ...\n",
            "Processing triggers for libc-bin (2.35-0ubuntu3.4) ...\n",
            "/sbin/ldconfig.real: /usr/local/lib/libtbb.so.12 is not a symbolic link\n",
            "\n",
            "/sbin/ldconfig.real: /usr/local/lib/libtbbbind_2_5.so.3 is not a symbolic link\n",
            "\n",
            "/sbin/ldconfig.real: /usr/local/lib/libtbbbind_2_0.so.3 is not a symbolic link\n",
            "\n",
            "/sbin/ldconfig.real: /usr/local/lib/libtbbmalloc.so.2 is not a symbolic link\n",
            "\n",
            "/sbin/ldconfig.real: /usr/local/lib/libtbbmalloc_proxy.so.2 is not a symbolic link\n",
            "\n",
            "/sbin/ldconfig.real: /usr/local/lib/libtbbbind.so.3 is not a symbolic link\n",
            "\n",
            "Collecting cuda-quantum==0.7.1\n",
            "  Downloading cuda_quantum-0.7.1-cp310-cp310-manylinux_2_28_x86_64.whl (105.8 MB)\n",
            "\u001b[2K     \u001b[90m━━━━━━━━━━━━━━━━━━━━━━━━━━━━━━━━━━━━━━━━\u001b[0m \u001b[32m105.8/105.8 MB\u001b[0m \u001b[31m7.3 MB/s\u001b[0m eta \u001b[36m0:00:00\u001b[0m\n",
            "\u001b[?25hCollecting astpretty~=3.0 (from cuda-quantum==0.7.1)\n",
            "  Downloading astpretty-3.0.0-py2.py3-none-any.whl (4.9 kB)\n",
            "Collecting cuquantum-cu11~=23.10 (from cuda-quantum==0.7.1)\n",
            "  Downloading cuquantum_cu11-23.10.0-py3-none-manylinux2014_x86_64.whl (7.0 kB)\n",
            "Collecting graphlib-backport>=1.0 (from cuda-quantum==0.7.1)\n",
            "  Downloading graphlib_backport-1.1.0-py3-none-any.whl (7.1 kB)\n",
            "Requirement already satisfied: numpy>=1.24 in /usr/local/lib/python3.10/dist-packages (from cuda-quantum==0.7.1) (1.25.2)\n",
            "Collecting custatevec-cu11==1.5.0 (from cuquantum-cu11~=23.10->cuda-quantum==0.7.1)\n",
            "  Downloading custatevec_cu11-1.5.0-py3-none-manylinux2014_x86_64.whl (38.9 MB)\n",
            "\u001b[2K     \u001b[90m━━━━━━━━━━━━━━━━━━━━━━━━━━━━━━━━━━━━━━━━\u001b[0m \u001b[32m38.9/38.9 MB\u001b[0m \u001b[31m25.0 MB/s\u001b[0m eta \u001b[36m0:00:00\u001b[0m\n",
            "\u001b[?25hCollecting cutensornet-cu11==2.3.0 (from cuquantum-cu11~=23.10->cuda-quantum==0.7.1)\n",
            "  Downloading cutensornet_cu11-2.3.0-py3-none-manylinux2014_x86_64.whl (2.2 MB)\n",
            "\u001b[2K     \u001b[90m━━━━━━━━━━━━━━━━━━━━━━━━━━━━━━━━━━━━━━━━\u001b[0m \u001b[32m2.2/2.2 MB\u001b[0m \u001b[31m46.5 MB/s\u001b[0m eta \u001b[36m0:00:00\u001b[0m\n",
            "\u001b[?25hCollecting cutensor-cu11<2,>=1.6.1 (from cutensornet-cu11==2.3.0->cuquantum-cu11~=23.10->cuda-quantum==0.7.1)\n",
            "  Downloading cutensor_cu11-1.7.0-py3-none-manylinux2014_x86_64.whl (142.1 MB)\n",
            "\u001b[2K     \u001b[90m━━━━━━━━━━━━━━━━━━━━━━━━━━━━━━━━━━━━━━━━\u001b[0m \u001b[32m142.1/142.1 MB\u001b[0m \u001b[31m4.9 MB/s\u001b[0m eta \u001b[36m0:00:00\u001b[0m\n",
            "\u001b[?25hInstalling collected packages: cutensor-cu11, custatevec-cu11, graphlib-backport, cutensornet-cu11, astpretty, cuquantum-cu11, cuda-quantum\n",
            "Successfully installed astpretty-3.0.0 cuda-quantum-0.7.1 cuquantum-cu11-23.10.0 custatevec-cu11-1.5.0 cutensor-cu11-1.7.0 cutensornet-cu11-2.3.0 graphlib-backport-1.1.0\n"
          ]
        }
      ],
      "source": [
        "#The following commands are used to set up the environment in Colab\n",
        "!apt-get -y install cuda-nvtx-11-8 cuda-libraries-11-8\n",
        "%pip install cuda-quantum==0.7.1"
      ]
    },
    {
      "cell_type": "markdown",
      "metadata": {
        "id": "2JDpazJUJ9Lo"
      },
      "source": [
        "# Quantum Bits\n",
        "\n",
        "## Qubit\n",
        "\n",
        "The fundamental unit of classical information storage, processing and transmission is the bit. Analogously, we define its quantum counterpart, a quantum bit or simply the qubit. Below we define a qubit in CUDA-Q."
      ]
    },
    {
      "cell_type": "code",
      "execution_count": 1,
      "metadata": {
        "id": "IRb-qAMlJ-Y-"
      },
      "outputs": [],
      "source": [
        "import cudaq\n",
        "\n",
        "# Build a cudaq kernel.\n",
        "\n",
        "\n",
        "@cudaq.kernel\n",
        "def kernel():\n",
        "    # Allocate a single qubit to the kernel.\n",
        "    qubit = cudaq.qubit()"
      ]
    },
    {
      "cell_type": "markdown",
      "metadata": {
        "id": "j6TbhBkqJ_9C"
      },
      "source": [
        "Classcial bits are transistor elements whose states can be altered to perform computations. Similarly qubits too have physical relizations within superconducting materials, ion-traps and photonic systems. We shall not concern ourselves with specific qubit architectures but rather think of them as systems which obey the laws of quantum mechanics and the mathematical language physicists have developed to describe the theory: linear algebra.\n",
        "\n",
        "Information storage scales linearly if bits have a single state. Access to multiple states, namely a 0 and a 1 allows for information encoding to scale logarithmically. Similarly we define a qubit to have the states $\\ket{0}$ and $\\ket{1}$ in Dirac notation where:\n",
        "\n",
        "$$\\ket{0} = \\begin{bmatrix} 1 \\\\ 0 \\\\ \\end{bmatrix}$$\n",
        "$$\\ket{1} = \\begin{bmatrix} 0 \\\\ 1 \\\\ \\end{bmatrix}$$\n",
        "\n",
        "## Pauli X gate\n",
        "\n",
        "We can manipulate the state of the qubit via quantum gates. The pauli X gate allows us to flip the state of the qubit:\n",
        "\n",
        "$$ X \\ket{0} = \\ket{1} $$\n",
        "\n",
        "$$ \\begin{bmatrix} 0 & 1 \\\\ 1 & 0 \\end{bmatrix} \\begin{bmatrix} 1 \\\\ 0 \\\\ \\end{bmatrix} = \\begin{bmatrix} 0 \\\\ 1 \\\\ \\end{bmatrix} $$"
      ]
    },
    {
      "cell_type": "code",
      "execution_count": 2,
      "metadata": {
        "colab": {
          "base_uri": "https://localhost:8080/"
        },
        "id": "Aum3-BUMKBv3",
        "outputId": "120d7ebd-93f9-4083-d3d6-5eb829ecadc2"
      },
      "outputs": [
        {
          "output_type": "stream",
          "name": "stdout",
          "text": [
            "{ 1:1000 }\n",
            "\n"
          ]
        }
      ],
      "source": [
        "@cudaq.kernel\n",
        "def kernel():\n",
        "    # A single qubit initialised to the ground/ zero state.\n",
        "    qubit = cudaq.qubit()\n",
        "\n",
        "    # Apply the pauli x gate to the qubit.\n",
        "    x(qubit)\n",
        "\n",
        "    # Measurement operator.\n",
        "    mz(qubit)\n",
        "\n",
        "\n",
        "# Sample the qubit for 1000 shots to gather statsitics.\n",
        "result = cudaq.sample(kernel, shots_count=1000)\n",
        "\n",
        "print(result)"
      ]
    },
    {
      "cell_type": "markdown",
      "metadata": {
        "id": "ZKrFyuXaKDGQ"
      },
      "source": [
        "## Superpositions & Measurements\n",
        "\n",
        "We have explored the 2 states accessible to us via a qubit. In fact, quantum theory allows one to explore linear combinations of states namely superpositions:\n",
        "\n",
        "$$  \\ket{\\psi} = \\alpha\\ket{0} + \\beta\\ket{1} $$\n",
        "\n",
        "where $\\alpha$ and $\\beta$ $\\in \\mathbb{C}$. It is important to note that this is still the state of one qubit even though $\\ket{\\psi}$ has 2 kets.\n",
        "\n",
        "Quantum theory is probabilistic and hence requires statistical inference to derive observations. Prior to measurement, the state of a qubit is all possible combinations of $\\alpha$ and $\\beta$ and upon measurement, wavefunction collapse yields either a classical 0 or 1.\n",
        "\n",
        "The mathematical theory devised to explain quantum phenomena tells us that the probability of observing the qubit in the state $\\ket{0}$/ $\\ket{1}$ yielding a classical 0/ 1 is $\\lvert \\alpha \\rvert ^2$ / $\\lvert \\beta \\rvert ^2$. The theory has been verified experimentally countless times and we shall verify it once more below.\n",
        "\n",
        "The hadamard gate allows us to put the qubit in an equal superposition state:\n",
        "\n",
        "$$ H \\ket{0} =  \\tfrac{1}{\\sqrt{2}} \\ket{0} + \\tfrac{1}{\\sqrt{2}} \\ket{1}  \\equiv \\ket{+}$$\n",
        "\n",
        "$$\\tfrac{1}{\\sqrt{2}}\\begin{bmatrix} 1 & 1 \\\\ 1 & -1 \\end{bmatrix} \\begin{bmatrix} 1 \\\\ 0 \\\\ \\end{bmatrix} = \\tfrac{1}{\\sqrt{2}} \\begin{bmatrix} 1 \\\\ 0 \\\\ \\end{bmatrix} + \\tfrac{1}{\\sqrt{2}} \\begin{bmatrix} 0 \\\\ 1 \\\\ \\end{bmatrix}. $$\n",
        "\n",
        "The probability of finding the qubit in the 0 / 1 state is hence $\\lvert \\tfrac{1}{\\sqrt{2}} \\rvert ^2 = \\tfrac{1}{2}$. Lets verify this with some code:"
      ]
    },
    {
      "cell_type": "code",
      "execution_count": 3,
      "metadata": {
        "colab": {
          "base_uri": "https://localhost:8080/"
        },
        "id": "gE4AwOGxKFZs",
        "outputId": "8aac43e6-f1ff-4702-9eee-508653008c79"
      },
      "outputs": [
        {
          "output_type": "stream",
          "name": "stdout",
          "text": [
            "{ 0:460 1:540 }\n",
            "\n"
          ]
        }
      ],
      "source": [
        "@cudaq.kernel\n",
        "def kernel():\n",
        "    # A single qubit initialised to the ground/ zero state.\n",
        "    qubit = cudaq.qubit()\n",
        "\n",
        "    # Apply hadamard gate to single qubit to put it in equal superposition.\n",
        "    h(qubit)\n",
        "\n",
        "    # Measurement operator.\n",
        "    mz(qubit)\n",
        "\n",
        "\n",
        "result = cudaq.sample(kernel, shots_count=1000)\n",
        "\n",
        "print(result)"
      ]
    },
    {
      "cell_type": "markdown",
      "metadata": {
        "id": "3QIlzBxEKEYo"
      },
      "source": [
        "Quantum theory is statistical and statistical accuracy increases with sampling. Above we see how with a 1000 shots, the result 0 / 1 is yielded roughly 50% of the times as predicted by the postulate stated above thus proving the theory.\n",
        "\n",
        "For completeness:\n",
        "\n",
        "$$ H \\ket{1} =  \\tfrac{1}{\\sqrt{2}} \\ket{0} - \\tfrac{1}{\\sqrt{2}} \\ket{1}  \\equiv \\ket{-}$$\n"
      ]
    },
    {
      "cell_type": "markdown",
      "metadata": {
        "id": "EmxJg7dUKKbX"
      },
      "source": [
        "## Qubit visualizations\n",
        "\n",
        "\n",
        "What are the possible states our qubit can be in and how can we build up a visual cue to help us make sense of quantum states and their evolution?\n",
        "\n",
        "We know our qubit can have 2 distinct states: $\\ket{0}$ and $\\ket{1}$. Maybe we need a 1 dimensional line whose verticies can represent each of the aforementioned states.\n",
        "\n",
        "We also know that qubits' can be in an equal superposition states: $\\ket{+}$ and $\\ket{-}$. This now forces us to extend our 1-D line to a 2-D cartesian coordinate system.\n",
        "\n",
        "Later, we will learn the existence of states that can be represented with $\\ket{+i}$ and $\\ket{-i}$, this calls for a 3-D extension.\n",
        "\n",
        "It turns out that a sphere is able to depict all the possible states of a single qubit as shown in figure below:"
      ]
    },
    {
      "cell_type": "markdown",
      "metadata": {
        "id": "jtPmXa6aNA4R"
      },
      "source": [
        "![image.png](data:image/png;base64,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)"
      ]
    },
    {
      "cell_type": "markdown",
      "metadata": {
        "id": "_oxnpgvIKMuG"
      },
      "source": [
        "## Gate linearity\n",
        "\n",
        "Lets manipulate a single qubit:\n",
        "\n",
        "\n",
        "1. $$  X  \\ket{0} = \\ket{1}  $$\n",
        "\n",
        "2. $$  X  \\ket{1} = \\ket{0}  $$\n",
        "\n",
        "And more generally, for a qubit in a superposition state, quantum gates act linearly:\n",
        "\n",
        " $$   X (\\alpha\\ket{0} + \\beta\\ket{1}) = \\alpha\\ket{1} + \\beta\\ket{0} $$\n",
        "\n",
        "It is important to note that states such as $\\alpha\\ket{0} + \\beta\\ket{1}$ reference a single qubit in a superposition state. Although we have two kets, they both represent a superposition state of one qubit. We shall explore multiple qubits and their notation in the next chapter.\n",
        "\n"
      ]
    },
    {
      "cell_type": "markdown",
      "metadata": {
        "id": "GD6YUyGtKPDX"
      },
      "source": [
        "## Gate unitarity\n",
        "\n",
        "As we evolve quantum states via quantum gates, the normalization condition requires that the sum of modulus squared of amplitudes must equal 1 at all times:\n",
        "\n",
        "$$  \\ket{\\psi} = \\alpha\\ket{0} + \\beta\\ket{1},          |\\alpha|^2 + |\\beta|^2 = 1. $$\n",
        "\n",
        "\n",
        "\n",
        "This is to adhere to the conservation of probabilities which translates to a constraint on types of quantum gates we can define.\n",
        "\n",
        "For a general quantum state $\\ket{\\psi}$, upholding the normalisation condition requires quantum gates to be unitary, that is $U^{\\dagger}U = U^{*^{T}}U = \\mathbb{I}$.\n",
        "\n"
      ]
    },
    {
      "cell_type": "markdown",
      "metadata": {
        "id": "K1mDXbStKQ5R"
      },
      "source": [
        "## Single qubit gates\n",
        "\n",
        "Below we summarise a few single qubit gates and their effects on quantum states:\n",
        "\n",
        "\n",
        "$$ X \\equiv \\begin{bmatrix} 0 & 1 \\\\ 1 & 0 \\end{bmatrix}, \\hspace{1cm} X(\\alpha\\ket{0} + \\beta\\ket{1}) = \\alpha\\ket{1} + \\beta\\ket{0} \\hspace{1cm}  $$\n",
        "\n",
        "$$ Z \\equiv \\begin{bmatrix} 1 & 0 \\\\ 0 & -1 \\end{bmatrix}, \\hspace{1cm} Z(\\alpha\\ket{0} + \\beta\\ket{1}) = \\alpha\\ket{0} - \\beta\\ket{1}  $$\n",
        "\n",
        "$$ H \\equiv \\tfrac{1}{\\sqrt{2}}\\begin{bmatrix} 1 & 1 \\\\ 1 & -1 \\end{bmatrix}, \\hspace{1cm} H(\\alpha\\ket{0} + \\beta\\ket{1}) = \\alpha\\tfrac{\\ket{0}+\\ket{1}}{\\sqrt{2}} + \\beta\\tfrac{\\ket{0}-\\ket{1}}{\\sqrt{2}}  $$\n",
        "\n",
        "\n",
        "\n"
      ]
    },
    {
      "cell_type": "markdown",
      "metadata": {
        "id": "2xOflROlULH8"
      },
      "source": [
        "# Multiple Qubits\n",
        "\n",
        "If we have 2 classical bits, the possible states we could encode information in would be 00, 01, 10 and 11. Correspondingly, multiple qubits can be combined and the possible combinations of their states used to process information.\n",
        "\n",
        "A two qubit system has 4 computational basis states: $\\ket{00}, \\ket{01}, \\ket{10}, \\ket{11}$.\n",
        "\n",
        "Classically, we cannot encode information within states such as 00 + 11 but quantum mechanics allows us to write linear superpositions\n",
        "\n",
        "$$  \\ket{\\psi} = \\alpha_{00}\\ket{00} + \\alpha_{01}\\ket{01} + \\alpha_{10}\\ket{10} + \\alpha_{11}\\ket{11}$$\n",
        "\n",
        "where the probability of measuring $x = 00, 01, 10, 11$ occurs with probability $\\lvert \\alpha_{x} \\rvert ^2$ with the normalization condition that $\\sum_{x \\in \\{ 0,1 \\}^2} \\lvert  \\alpha_{x} \\rvert ^2  = 1$\n",
        "\n",
        "More generally, the quantum state of a $n$ qubit system is written as a sum of $2^n$ possible basis states where the coefficients track the probability of the system collapsing into that state if a measurement is applied.\n",
        "\n",
        "For $n = 500$, $2^n \\approx 10^{150}$ which is greater than the number of atoms in the universe. Storing the complex numbers associated with $2^{500}$ amplitudes would not be feasible using bits and classical computations but nature seems to only require 500 qubits to do so. The art of quantum computation is thus to build quantum systems that we can manipulate with fine precision such that evolving a large statevector can be offloaded onto a quantum computer.\n",
        "\n"
      ]
    },
    {
      "cell_type": "markdown",
      "metadata": {
        "id": "3eNvBWo6UOhQ"
      },
      "source": [
        "## Some notation conventions\n",
        "\n",
        "Qubit counting starts from 0 and the 0<sup>th</sup> qubit is represented on the left most side in Dirac notation. For e.g. in $\\ket{01}$ the 0<sup>th</sup> qubit is in state $\\ket{0}$ and the first in state $\\ket{1}$.\n",
        "\n",
        "\n",
        "\n",
        "For brevity, we denote gate application with subscripts to reference the qubit it acts on. For e.g. $X_{0}\\ket{00} = \\ket{10}$ refers to $X_{0}$ acting on the 0<sup>th</sup> qubit flipping it to the state 1 as shown. Below we see how this is done in CUDA-Q."
      ]
    },
    {
      "cell_type": "code",
      "execution_count": 4,
      "metadata": {
        "colab": {
          "base_uri": "https://localhost:8080/"
        },
        "id": "4WDl9en1UQbo",
        "outputId": "922515a8-a3e7-4956-d3d2-a38a408cfa38"
      },
      "outputs": [
        {
          "output_type": "stream",
          "name": "stdout",
          "text": [
            "     ╭───╮\n",
            "q0 : ┤ x ├\n",
            "     ╰───╯\n",
            "\n",
            "{ 10:1000 }\n",
            "\n"
          ]
        }
      ],
      "source": [
        "import cudaq\n",
        "\n",
        "\n",
        "@cudaq.kernel\n",
        "def kernel():\n",
        "    # 2 qubits both initialised to the ground/ zero state.\n",
        "    qvector = cudaq.qvector(2)\n",
        "\n",
        "    # Application of a flip gate to see ordering notation.\n",
        "    x(qvector[0])\n",
        "\n",
        "    mz(qvector[0])\n",
        "    mz(qvector[1])\n",
        "\n",
        "\n",
        "print(cudaq.draw(kernel))\n",
        "\n",
        "result = cudaq.sample(kernel)\n",
        "print(result)"
      ]
    },
    {
      "cell_type": "markdown",
      "metadata": {
        "id": "j_JmZ_xeUSdD"
      },
      "source": [
        "## Controlled-NOT gate\n",
        "\n",
        "Analogous to classical computing, we now introduce multi-qubit gates to quantum computing.\n",
        "\n",
        "The controlled-NOT or CNOT gate acts on 2 qubits: the control qubit and the target qubit. Its effect is to flip the target if the control is in the excited $\\ket{1}$ state.\n",
        "\n",
        "We use the notation CNOT<sub>01</sub>$\\ket{10} = \\ket{11}$ to describe its effects. The subscripts denote that the 0<sup>th</sup> qubit is the control qubit and the 1<sup>st</sup> qubit is the target qubit."
      ]
    },
    {
      "cell_type": "code",
      "execution_count": 5,
      "metadata": {
        "colab": {
          "base_uri": "https://localhost:8080/"
        },
        "id": "nJ7-eapLUS6_",
        "outputId": "e3530ed2-164a-4b57-b84c-550dac2eac57"
      },
      "outputs": [
        {
          "output_type": "stream",
          "name": "stdout",
          "text": [
            "{ 11:1000 }\n",
            "\n"
          ]
        }
      ],
      "source": [
        "@cudaq.kernel\n",
        "def kernel():\n",
        "    # 2 qubits both initialised to the ground/ zero state.\n",
        "    qvector = cudaq.qvector(2)\n",
        "\n",
        "    x(qvector[0])\n",
        "\n",
        "    # Controlled-not gate operation.\n",
        "    x.ctrl(qvector[0], qvector[1])\n",
        "\n",
        "    mz(qvector[0])\n",
        "    mz(qvector[1])\n",
        "\n",
        "\n",
        "result = cudaq.sample(kernel)\n",
        "print(result)"
      ]
    },
    {
      "cell_type": "markdown",
      "metadata": {
        "id": "UAJPTSjEUUFZ"
      },
      "source": [
        "In summary, the CNOT gate in matrix notation is represented as:\n",
        "\n",
        "\n",
        "\n",
        "$$ CNOT \\equiv \\begin{bmatrix} 1 & 0 & 0 & 0 \\\\ 0 & 1 & 0 & 0 \\\\ 0 & 0 & 0 & 1 \\\\ 0 & 0 & 1 & 0 \\end{bmatrix} $$\n",
        "\n",
        "To conserve probabilites and preserve the normalization condition, quantum gates must obey unitarity and one can check that $CNOT^\\dagger CNOT = \\mathbb{I}$\n",
        "\n",
        "and its effect on the computational basis states is:\n",
        "\n",
        "$$ CNOT_{01}\\ket{00} = \\ket{00} $$\n",
        "$$ CNOT_{01}\\ket{01} = \\ket{01} $$\n",
        "$$ CNOT_{01}\\ket{10} = \\ket{11} $$\n",
        "$$ CNOT_{01}\\ket{11} = \\ket{10} $$\n",
        "\n"
      ]
    },
    {
      "cell_type": "markdown",
      "metadata": {
        "id": "sCPPLPNMUg_O"
      },
      "source": [
        "# Executing Quantum Circuits\n",
        "\n",
        "In CUDA-Q, quantum circuits are stored as quantum kernels. For estimating the probability distribution of a measured quantum state in a circuit, we use the `sample` function call, and for computing the expectation value of a quantum state with a given observable, we use the `observe` function call.\n",
        "\n",
        "## Sample\n",
        "\n",
        "Quantum states collapse upon measurement and hence need to be sampled many times to gather statistics. The CUDA-Q `sample` call enables this:\n",
        "\n"
      ]
    },
    {
      "cell_type": "code",
      "execution_count": 6,
      "metadata": {
        "colab": {
          "base_uri": "https://localhost:8080/"
        },
        "id": "rYopQCyDUpAu",
        "outputId": "e0b867db-136d-43d8-da5d-3f957cb1caf9"
      },
      "outputs": [
        {
          "output_type": "stream",
          "name": "stdout",
          "text": [
            "     ╭───╮     \n",
            "q0 : ┤ h ├──●──\n",
            "     ╰───╯╭─┴─╮\n",
            "q1 : ─────┤ x ├\n",
            "          ╰───╯\n",
            "\n",
            "{ 00:498 11:502 }\n",
            "\n"
          ]
        }
      ],
      "source": [
        "import cudaq\n",
        "\n",
        "qubit_count = 2\n",
        "\n",
        "# Define the simulation target.\n",
        "cudaq.set_target(\"qpp-cpu\")\n",
        "\n",
        "# Define a quantum kernel function.\n",
        "\n",
        "\n",
        "@cudaq.kernel\n",
        "def kernel(qubit_count: int):\n",
        "    qvector = cudaq.qvector(qubit_count)\n",
        "\n",
        "    # 2-qubit GHZ state.\n",
        "    h(qvector[0])\n",
        "    for i in range(1, qubit_count):\n",
        "        x.ctrl(qvector[0], qvector[i])\n",
        "\n",
        "    # If we dont specify measurements, all qubits are measured in\n",
        "    # the Z-basis by default.\n",
        "    mz(qvector)\n",
        "\n",
        "\n",
        "print(cudaq.draw(kernel, qubit_count))\n",
        "\n",
        "result = cudaq.sample(kernel, qubit_count, shots_count=1000)\n",
        "\n",
        "print(result)"
      ]
    },
    {
      "cell_type": "markdown",
      "metadata": {
        "id": "EVJDcAe8Ur6O"
      },
      "source": [
        "\n",
        "## Observe\n",
        "\n",
        "The `observe` function allows us to gather qubit statistics and calculate expectation values. We must supply a spin operator in the form of a Hamiltonian from which we would like to calculate $\\bra{\\psi}H\\ket{\\psi}$."
      ]
    },
    {
      "cell_type": "code",
      "execution_count": 7,
      "metadata": {
        "colab": {
          "base_uri": "https://localhost:8080/"
        },
        "id": "dYrsCLj-UuqX",
        "outputId": "6c21b371-0f6a-4a78-960e-74d410a1f443"
      },
      "outputs": [
        {
          "output_type": "stream",
          "name": "stdout",
          "text": [
            "<H> = 0.0\n"
          ]
        }
      ],
      "source": [
        "import cudaq\n",
        "from cudaq import spin\n",
        "\n",
        "qubit_count = 2\n",
        "\n",
        "# Define the simulation target.\n",
        "cudaq.set_target(\"qpp-cpu\")\n",
        "\n",
        "# Define a quantum kernel function.\n",
        "\n",
        "\n",
        "@cudaq.kernel\n",
        "def kernel(qubit_count: int):\n",
        "    qvector = cudaq.qvector(qubit_count)\n",
        "\n",
        "    # 2-qubit GHZ state.\n",
        "    h(qvector[0])\n",
        "    for i in range(1, qubit_count):\n",
        "        x.ctrl(qvector[0], qvector[i])\n",
        "\n",
        "\n",
        "# Define a Hamiltonian in terms of Pauli Spin operators.\n",
        "hamiltonian = spin.z(0) + spin.y(1) + spin.x(0) * spin.z(0)\n",
        "\n",
        "# Compute the expectation value given the state prepared by the kernel.\n",
        "result = cudaq.observe(kernel, hamiltonian, qubit_count).expectation()\n",
        "\n",
        "print('<H> =', result)"
      ]
    },
    {
      "cell_type": "markdown",
      "metadata": {
        "id": "CjPE2h7O99Ou"
      },
      "source": [
        "## Noisy Simulation\n",
        "\n",
        "Quantum noise can be characterized into coherent and incoherent sources of errors that arise during a computation. Coherent noise is commonly due to systematic errors originating from device miscalibrations, for example, gates implementing a rotation $\\theta + \\epsilon$ instead of $\\theta$.\n",
        "\n",
        "Incoherent noise has its origins in quantum states being entangled with the environment due to decoherence. This leads to mixed states which are probability distributions over pure states and are described by employing the density matrix formalism.\n",
        "\n",
        "We can model incoherent noise via quantum channels which are linear, completely positive, and trace preserving maps. These maps are called Kraus operators, $\\{ K_i \\}$, which satisfy the condition $\\sum_{i} K_i^\\dagger K_i = \\mathbb{I}$.\n",
        "\n",
        "The bit-flip channel flips the qubit with probability $p$ and leaves it unchanged with probability $1-p$. This can be represented by employing Kraus operators:\n",
        "\n",
        "$$K_0 = \\sqrt{1-p} \\begin{pmatrix}\n",
        "    1 & 0 \\\\\n",
        "    0 & 1\n",
        "\\end{pmatrix}$$\n",
        "\n",
        "$$K_1 = \\sqrt{p} \\begin{pmatrix}\n",
        "  0 & 1 \\\\\n",
        "  1 & 0\n",
        "\\end{pmatrix}$$\n",
        "\n",
        "Let's implement the **bit-flip** channel as well as **depolarization** channel using CUDA-Q:"
      ]
    },
    {
      "cell_type": "code",
      "execution_count": 8,
      "metadata": {
        "id": "wNCEYvU0-A_j"
      },
      "outputs": [],
      "source": [
        "import cudaq\n",
        "from cudaq import spin\n",
        "\n",
        "import numpy as np\n",
        "\n",
        "# To model quantum noise, we need to utilize the density matrix simulator target.\n",
        "cudaq.set_target(\"density-matrix-cpu\")"
      ]
    },
    {
      "cell_type": "code",
      "execution_count": 9,
      "metadata": {
        "colab": {
          "base_uri": "https://localhost:8080/"
        },
        "id": "b7bRStj_-Dk5",
        "outputId": "9d300aa4-3788-474d-ccaf-d54939204376"
      },
      "outputs": [
        {
          "output_type": "stream",
          "name": "stdout",
          "text": [
            "     ╭───╮\n",
            "q0 : ┤ x ├\n",
            "     ├───┤\n",
            "q1 : ┤ x ├\n",
            "     ╰───╯\n",
            "\n"
          ]
        }
      ],
      "source": [
        "# Let's define a simple kernel that we will add noise to.\n",
        "qubit_count = 2\n",
        "\n",
        "\n",
        "@cudaq.kernel\n",
        "def kernel(qubit_count: int):\n",
        "    qvector = cudaq.qvector(qubit_count)\n",
        "    x(qvector)\n",
        "\n",
        "\n",
        "print(cudaq.draw(kernel, qubit_count))"
      ]
    },
    {
      "cell_type": "code",
      "execution_count": 10,
      "metadata": {
        "id": "WgphqD2c-Fel",
        "colab": {
          "base_uri": "https://localhost:8080/"
        },
        "outputId": "241398e9-1e9a-48a5-ee05-8cc6d374fa83"
      },
      "outputs": [
        {
          "output_type": "stream",
          "name": "stdout",
          "text": [
            "{ 11:1000 }\n",
            "\n"
          ]
        }
      ],
      "source": [
        "# In the ideal noiseless case, we get |11> 100% of the time.\n",
        "\n",
        "ideal_counts = cudaq.sample(kernel, qubit_count, shots_count=1000)\n",
        "print(ideal_counts)  #ideal_counts.dump()"
      ]
    },
    {
      "cell_type": "code",
      "execution_count": 11,
      "metadata": {
        "id": "gpS-FzFO-KzU",
        "colab": {
          "base_uri": "https://localhost:8080/"
        },
        "outputId": "be1959fa-6eed-46e1-f9cc-be0d15cd9993"
      },
      "outputs": [
        {
          "output_type": "stream",
          "name": "stdout",
          "text": [
            "{ 11:865 10:72 01:56 00:7 }\n",
            "\n"
          ]
        }
      ],
      "source": [
        "# First, we will define an out of the box noise channel. In this case,\n",
        "# we choose depolarization noise. This depolarization will result in\n",
        "# the qubit state decaying into a mix of the basis states, |0> and |1>,\n",
        "# with our provided probability.\n",
        "error_probability = 0.1\n",
        "depolarization_channel = cudaq.DepolarizationChannel(error_probability)\n",
        "\n",
        "# We can also define our own, custom noise channels through\n",
        "# Kraus operators. Here we will define two operators representing\n",
        "# bit flip errors.\n",
        "\n",
        "# Define the Kraus Error Operator as a complex ndarray.\n",
        "kraus_0 = np.sqrt(1 - error_probability) * np.array([[1.0, 0.0], [0.0, 1.0]],\n",
        "                                                    dtype=np.complex128)\n",
        "kraus_1 = np.sqrt(error_probability) * np.array([[0.0, 1.0], [1.0, 0.0]],\n",
        "                                                dtype=np.complex128)\n",
        "\n",
        "# Add the Kraus Operator to create a quantum channel.\n",
        "bitflip_channel = cudaq.KrausChannel([kraus_0, kraus_1])\n",
        "\n",
        "# Add the two channels to our Noise Model.\n",
        "noise_model = cudaq.NoiseModel()\n",
        "\n",
        "# Apply the depolarization channel to any X-gate on the 0th qubit.\n",
        "noise_model.add_channel(\"x\", [0], depolarization_channel)\n",
        "# Apply the bitflip channel to any X-gate on the 1st qubit.\n",
        "noise_model.add_channel(\"x\", [1], bitflip_channel)\n",
        "\n",
        "# Due to the impact of noise, our measurements will no longer be uniformly\n",
        "# in the |11> state.\n",
        "noisy_counts = cudaq.sample(kernel,\n",
        "                            qubit_count,\n",
        "                            noise_model=noise_model,\n",
        "                            shots_count=1000)\n",
        "\n",
        "print(noisy_counts)  #noisy_counts.dump()"
      ]
    },
    {
      "cell_type": "code",
      "execution_count": 12,
      "metadata": {
        "colab": {
          "base_uri": "https://localhost:8080/"
        },
        "id": "jXsWZ4UL-Mu3",
        "outputId": "4fc5fb5d-e087-46ff-ca3a-3f79e323e1a6"
      },
      "outputs": [
        {
          "output_type": "execute_result",
          "data": {
            "text/plain": [
              "-0.8666666666666666"
            ]
          },
          "metadata": {},
          "execution_count": 12
        }
      ],
      "source": [
        "# We can also use noise models with the observe function\n",
        "\n",
        "hamiltonian = spin.z(0)\n",
        "\n",
        "noisy_result = cudaq.observe(kernel,\n",
        "                             hamiltonian,\n",
        "                             qubit_count,\n",
        "                             noise_model=noise_model)\n",
        "\n",
        "noisy_result.expectation()"
      ]
    },
    {
      "cell_type": "markdown",
      "source": [
        "Then implement the **phase-flip** channel using CUDA-Q:"
      ],
      "metadata": {
        "id": "y6s9bmHx7WlJ"
      }
    },
    {
      "cell_type": "code",
      "source": [
        "import cudaq\n",
        "\n",
        "# Set the target to our density matrix simulator.\n",
        "cudaq.set_target('density-matrix-cpu')\n",
        "\n",
        "# CUDA-Q supports several different models of noise. In this\n",
        "# case, we will examine the modeling of decoherence of the qubit phase.\n",
        "# This will occur from \"phase flip\" errors, wherein the qubit has a\n",
        "# user-specified probability of undergoing a Z-180 rotation.\n",
        "\n",
        "# We will begin by defining an empty noise model that we will add\n",
        "# our phase flip channel to.\n",
        "noise = cudaq.NoiseModel()\n",
        "\n",
        "# We define a phase-flip channel setting to `1.0` the probability of the qubit\n",
        "# undergoing a phase rotation of 180 degrees (π).\n",
        "phase_flip = cudaq.PhaseFlipChannel(1.0)\n",
        "# We will apply this channel to any Z gate on the qubit.\n",
        "# In other words, after each Z gate on qubit 0, there will be a\n",
        "# probability of `1.0` that the qubit undergoes an extra\n",
        "# Z rotation.\n",
        "noise.add_channel('z', [0], phase_flip)\n",
        "\n",
        "\n",
        "@cudaq.kernel\n",
        "def kernel():\n",
        "    # Single qubit initialized to the |0> state.\n",
        "    qubit = cudaq.qubit()\n",
        "    # Place qubit in superposition state.\n",
        "    h(qubit)\n",
        "    # Rotate the phase around Z by 180 degrees (π).\n",
        "    z(qubit)\n",
        "    # Apply another Hadamard and measure.\n",
        "    h(qubit)\n",
        "    mz(qubit)\n",
        "\n",
        "\n",
        "print(cudaq.draw(kernel))"
      ],
      "metadata": {
        "colab": {
          "base_uri": "https://localhost:8080/"
        },
        "id": "U4jSqpoN5nZg",
        "outputId": "1517a941-b1f8-41f9-e8c7-3598bbd27da3"
      },
      "execution_count": 13,
      "outputs": [
        {
          "output_type": "stream",
          "name": "stdout",
          "text": [
            "     ╭───╮╭───╮╭───╮\n",
            "q0 : ┤ h ├┤ z ├┤ h ├\n",
            "     ╰───╯╰───╯╰───╯\n",
            "\n"
          ]
        }
      ]
    },
    {
      "cell_type": "code",
      "source": [
        "# Without noise, we'd expect the qubit to end in the |1>\n",
        "# state due to the phase rotation between the two Hadamard\n",
        "# gates.\n",
        "noiseless_result = cudaq.sample(kernel)\n",
        "print(noiseless_result)"
      ],
      "metadata": {
        "colab": {
          "base_uri": "https://localhost:8080/"
        },
        "id": "q3YGVBma7h92",
        "outputId": "e24f7b91-cb6a-4402-9fa7-b94a0cc0ba25"
      },
      "execution_count": 14,
      "outputs": [
        {
          "output_type": "stream",
          "name": "stdout",
          "text": [
            "{ 1:1000 }\n",
            "\n"
          ]
        }
      ]
    },
    {
      "cell_type": "code",
      "source": [
        "# With noise, our Z-gate will effectively cancel out due\n",
        "# to the presence of a phase flip error on the gate with a\n",
        "# probability of `1.0`. This will put us back in the |0> state.\n",
        "noisy_result = cudaq.sample(kernel, noise_model=noise)\n",
        "print(noisy_result)"
      ],
      "metadata": {
        "colab": {
          "base_uri": "https://localhost:8080/"
        },
        "id": "1A_GnH__7jYN",
        "outputId": "31c41a96-3340-4e19-9f4a-31f7cbd7cab5"
      },
      "execution_count": 15,
      "outputs": [
        {
          "output_type": "stream",
          "name": "stdout",
          "text": [
            "{ 0:1000 }\n",
            "\n"
          ]
        }
      ]
    }
  ],
  "metadata": {
    "colab": {
      "provenance": []
    },
    "kernelspec": {
      "display_name": "Python 3",
      "name": "python3"
    },
    "language_info": {
      "name": "python"
    }
  },
  "nbformat": 4,
  "nbformat_minor": 0
}