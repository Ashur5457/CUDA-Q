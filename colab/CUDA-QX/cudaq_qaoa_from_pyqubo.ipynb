{
  "cells": [
    {
      "cell_type": "markdown",
      "metadata": {
        "id": "view-in-github",
        "colab_type": "text"
      },
      "source": [
        "<a href=\"https://colab.research.google.com/github/Squirtle007/CUDA-Q/blob/main/colab/CUDA-QX/cudaq_qaoa_from_pyqubo.ipynb\" target=\"_parent\"><img src=\"https://colab.research.google.com/assets/colab-badge.svg\" alt=\"Open In Colab\"/></a>"
      ]
    },
    {
      "cell_type": "code",
      "execution_count": 47,
      "id": "lU8Imd2Gb4w4",
      "metadata": {
        "id": "lU8Imd2Gb4w4"
      },
      "outputs": [],
      "source": [
        "!pip install cudaq-solvers==0.2.0 pyqubo==1.5.0 -q"
      ]
    },
    {
      "cell_type": "markdown",
      "id": "vl-2amHIREsx",
      "metadata": {
        "id": "vl-2amHIREsx"
      },
      "source": [
        "##**CUDA-Q solvers for QAOA**\n",
        "\n",
        "The **Quantum Approximate Optimization Algorithm (QAOA)** is a variational quantum algorithm designed to solve combinatorial optimization problems. It operates by alternating between two quantum operators:  \n",
        "1. **Cost Hamiltonian** – Encodes the problem constraints.  \n",
        "2. **Mixer Hamiltonian** – Introduces transitions between states.  \n",
        "\n",
        "By optimizing parameters in these operations, QAOA aims to find high-quality approximate solutions to problems like **Max-Cut** and **QUBO** (quadratic unconstrained binary optimization) on near-term quantum devices. To learn more details, [here](https://github.com/NVIDIA/cuda-q-academic/blob/main/qaoa-for-max-cut/01_Max-Cut-with-QAOA.ipynb) is a well-structured tutorial.\n",
        "\n",
        "---\n",
        "Let's explore the Max-Cut problem, with its Hamiltonian expressed using Pauli operators as follows:\n",
        "\n",
        "$$\n",
        "H = 1/2\\sum_{(i, j) \\in E} w_{ij}(I-Z_i Z_j)\n",
        "$$  \n",
        "\n",
        "where:\n",
        "- $Z_i$ represents the Pauli-Z operator for qubit (node) $i$.\n",
        "- Each edge $(i, j)$ contributes a term $w_{ij}(I-Z_i Z_j)/2$,  \n",
        "- If nodes $i$ and $j$ are assigned to different groups, they contribute a cut of weight $w_{ij}$; otherwise, the contribution is $0$.\n",
        "\n",
        "First, we define the binary variables and objective based on the graph structure using PyQUBO:"
      ]
    },
    {
      "cell_type": "code",
      "execution_count": 48,
      "id": "ed5b672a-2332-4c9b-aad2-e6c7a840e6ed",
      "metadata": {
        "colab": {
          "base_uri": "https://localhost:8080/",
          "height": 516
        },
        "id": "ed5b672a-2332-4c9b-aad2-e6c7a840e6ed",
        "outputId": "792b308e-fb60-4654-ae02-807a2b42dafe"
      },
      "outputs": [
        {
          "output_type": "display_data",
          "data": {
            "text/plain": [
              "<Figure size 640x480 with 1 Axes>"
            ],
            "image/png": "[encoded data removed]"
          },
          "metadata": {}
        }
      ],
      "source": [
        "import networkx as nx\n",
        "\n",
        "\n",
        "# Create weighted graph\n",
        "G = nx.Graph()\n",
        "G.add_weighted_edges_from([(0, 1, 1.5), (1, 2, 2.0), (1, 4, 1.0), (2, 3, 1.0), (3, 4, 1.0), (4, 0, 1.0)])\n",
        "nx.draw(G, with_labels=True, alpha=0.8, node_size=500, node_color='#76B900')"
      ]
    },
    {
      "cell_type": "code",
      "execution_count": 49,
      "id": "fs3KsmtWyQn5",
      "metadata": {
        "id": "fs3KsmtWyQn5"
      },
      "outputs": [],
      "source": [
        "from pyqubo import Binary\n",
        "\n",
        "\n",
        "\"\"\"Modify this code block to address other combinatorial optimization problems formulated using PyQUBO\"\"\"\n",
        "\n",
        "# Define binary variables (0, 1) for each node\n",
        "x = {i: Binary(f\"x_{i}\") for i in G.nodes}\n",
        "\n",
        "# Objective: maximize the sum over cut edges (multiplied by -1 for minimization):\n",
        "Objective = sum((-1)*G[i][j]['weight']*(x[i] + x[j] - 2 * x[i] * x[j]) for i, j in G.edges)\n",
        "\n",
        "# Compile model\n",
        "model = Objective.compile()"
      ]
    },
    {
      "cell_type": "markdown",
      "id": "8IdY7ZjUSRhj",
      "metadata": {
        "id": "8IdY7ZjUSRhj"
      },
      "source": [
        "Note that the QUBO formulation from PyQUBO is based on the 0 and 1 basis. Here, we aim to transform it into the -1 and 1 basis and construct the Hamiltonian with Ising formulation, making it compatible for use with CUDA-Q:"
      ]
    },
    {
      "cell_type": "code",
      "execution_count": 50,
      "id": "wHSUboJCdIbv",
      "metadata": {
        "colab": {
          "base_uri": "https://localhost:8080/"
        },
        "id": "wHSUboJCdIbv",
        "outputId": "158b1078-2729-4802-c8b8-e455f821c3ff"
      },
      "outputs": [
        {
          "output_type": "stream",
          "name": "stdout",
          "text": [
            "Number of qubits: 5\n",
            "Flattened coefficient matrix: [0.   0.75 0.   0.   0.5  0.75 0.   1.   0.   0.5  0.   1.   0.   0.5\n",
            " 0.   0.   0.   0.5  0.   0.5  0.5  0.5  0.   0.5  0.  ]\n",
            "Hamiltonian: [0.5+0j] ZIIIZ\n",
            "[0.75+0j] ZZIII\n",
            "[1+0j] IZZII\n",
            "[0.5+0j] IIIZZ\n",
            "[0.5+0j] IIZZI\n",
            "[0.5+0j] IZIIZ\n",
            "[-3.75+0j] IIIII\n",
            "\n"
          ]
        }
      ],
      "source": [
        "import cudaq\n",
        "from cudaq import spin\n",
        "import numpy as np\n",
        "from typing import List\n",
        "\n",
        "\n",
        "def to_cudaq(model):\n",
        "    \"\"\"\n",
        "    Convert a binary optimization model to QAOA inputs compatible with CUDA-Q.\n",
        "\n",
        "    This function extracts the linear and quadratic coefficients from the model's\n",
        "    Ising formulation, maps variables to qubit indices, and constructs:\n",
        "      - Number of qubits\n",
        "      - Flattened coefficient matrix representing both linear (Z) and quadratic (ZZ) terms\n",
        "      - CUDA-Q Hamiltonian composed of corresponding Pauli Z operators\n",
        "    \"\"\"\n",
        "\n",
        "    num_qubits = len(model.variables)\n",
        "    h, J, offset = model.to_ising()\n",
        "\n",
        "    # Map variables to qubit indices\n",
        "    vars_set = set(h) | {v for pair in J for v in pair}\n",
        "    var_to_index = {var: idx for idx, var in enumerate(sorted(vars_set))}\n",
        "\n",
        "    # Initialization\n",
        "    coeff_matrix = np.zeros((num_qubits, num_qubits), dtype=float)\n",
        "    H = 0\n",
        "\n",
        "    # Fill in linear terms (diagonal)\n",
        "    for var, weight in h.items():\n",
        "        idx = var_to_index[var]\n",
        "        coeff_matrix[idx, idx] = float(weight)\n",
        "        H += weight * spin.z(idx)\n",
        "\n",
        "    # Fill in quadratic terms (off-diagonal)\n",
        "    for (v1, v2), weight in J.items():\n",
        "        i, j = var_to_index[v1], var_to_index[v2]\n",
        "        coeff_matrix[i, j] = float(weight)\n",
        "        coeff_matrix[j, i] = float(weight)  # symmetric\n",
        "        H += weight * spin.z(i) * spin.z(j)\n",
        "\n",
        "    H += offset\n",
        "    flattened_coeff = coeff_matrix.flatten()\n",
        "\n",
        "    return num_qubits, flattened_coeff, H\n",
        "\n",
        "\n",
        "num_qubits, flattened_coeff, H = to_cudaq(model)\n",
        "print(\"Number of qubits:\", num_qubits)\n",
        "print(\"Flattened coefficient matrix:\", flattened_coeff)\n",
        "print(\"Hamiltonian:\", H)"
      ]
    },
    {
      "cell_type": "markdown",
      "id": "JcpeXZqrU5O_",
      "metadata": {
        "id": "JcpeXZqrU5O_"
      },
      "source": [
        "The `to_cudaq` function allows for the conversion of any variables and objectives pre-defined by `pyqubo` into CUDA-Q compatible primitives. You can utilize this transformation for other problems you wish to solve."
      ]
    },
    {
      "cell_type": "markdown",
      "source": [
        "##**Solve QAOA by [cudaq-solvers.vqe](https://nvidia.github.io/cudaqx/api/solvers/python_api.html#cudaq_solvers.vqe)**"
      ],
      "metadata": {
        "id": "XqHgJK46CzCX"
      },
      "id": "XqHgJK46CzCX"
    },
    {
      "cell_type": "code",
      "execution_count": 51,
      "id": "QVJo_-TGGrMf",
      "metadata": {
        "colab": {
          "base_uri": "https://localhost:8080/"
        },
        "id": "QVJo_-TGGrMf",
        "outputId": "d7407a84-3665-4d26-9d9c-0b3073319b12"
      },
      "outputs": [
        {
          "output_type": "stream",
          "name": "stdout",
          "text": [
            "Initial parameters =  [-0.09853596  0.35399019  0.18220762  0.07748619]\n",
            "     ╭───╮                                                   ╭────────────╮»\n",
            "q0 : ┤ h ├──●───────────────────●────●────────────────────●──┤ rx(0.3644) ├»\n",
            "     ├───┤╭─┴─╮╭─────────────╮╭─┴─╮  │                    │  ╰────────────╯»\n",
            "q1 : ┤ h ├┤ x ├┤ rz(-0.1478) ├┤ x ├──┼────────────────────┼────────●───────»\n",
            "     ├───┤╰───╯╰─────────────╯╰───╯  │                    │      ╭─┴─╮     »\n",
            "q2 : ┤ h ├───────────────────────────┼────────────────────┼──────┤ x ├─────»\n",
            "     ├───┤                           │                    │      ╰───╯     »\n",
            "q3 : ┤ h ├───────────────────────────┼────────────────────┼────────────────»\n",
            "     ├───┤                         ╭─┴─╮╭──────────────╮╭─┴─╮              »\n",
            "q4 : ┤ h ├─────────────────────────┤ x ├┤ rz(-0.09854) ├┤ x ├──────────────»\n",
            "     ╰───╯                         ╰───╯╰──────────────╯╰───╯              »\n",
            "\n",
            "################################################################################\n",
            "\n",
            "                                                                            »\n",
            "───────────────────────────────────────────────────────────────────●────────»\n",
            "                                              ╭────────────╮     ╭─┴─╮      »\n",
            "─────────────────●────●────────────────────●──┤ rx(0.3644) ├─────┤ x ├──────»\n",
            "╭─────────────╮╭─┴─╮  │                    │  ╰────────────╯     ╰───╯      »\n",
            "┤ rz(-0.1971) ├┤ x ├──┼────────────────────┼────────●───────────────────────»\n",
            "╰─────────────╯╰───╯  │                    │      ╭─┴─╮     ╭──────────────╮»\n",
            "──────────────────────┼────────────────────┼──────┤ x ├─────┤ rz(-0.09854) ├»\n",
            "                    ╭─┴─╮╭──────────────╮╭─┴─╮    ╰───╯     ╰──────────────╯»\n",
            "────────────────────┤ x ├┤ rz(-0.09854) ├┤ x ├──────────────────────────────»\n",
            "                    ╰───╯╰──────────────╯╰───╯                              »\n",
            "\n",
            "################################################################################\n",
            "\n",
            "                                                                   »\n",
            "───────────────────●────────────────────────────────────────────●──»\n",
            "╭───────────╮    ╭─┴─╮                                          │  »\n",
            "┤ rz(0.531) ├────┤ x ├──────────────────────────────────────────┼──»\n",
            "╰───────────╯╭───┴───┴────╮                                     │  »\n",
            "──────●──────┤ rx(0.3644) ├─────────────────────────────────────┼──»\n",
            "    ╭─┴─╮    ╰────────────╯                     ╭────────────╮  │  »\n",
            "────┤ x ├──────────●─────────────────────────●──┤ rx(0.3644) ├──┼──»\n",
            "    ╰───╯        ╭─┴─╮     ╭──────────────╮╭─┴─╮├────────────┤╭─┴─╮»\n",
            "─────────────────┤ x ├─────┤ rz(-0.09854) ├┤ x ├┤ rx(0.3644) ├┤ x ├»\n",
            "                 ╰───╯     ╰──────────────╯╰───╯╰────────────╯╰───╯»\n",
            "\n",
            "################################################################################\n",
            "\n",
            "                  ╭───────────╮                                         »\n",
            "───────────────●──┤ rx(0.155) ├─────────────────────────────────────────»\n",
            "               │  ╰───────────╯                                         »\n",
            "───────────────┼────────●─────────────────────●────●─────────────────●──»\n",
            "               │      ╭─┴─╮    ╭───────────╮╭─┴─╮  │                 │  »\n",
            "───────────────┼──────┤ x ├────┤ rz(0.708) ├┤ x ├──┼─────────────────┼──»\n",
            "               │      ╰───╯    ╰───────────╯╰───╯  │                 │  »\n",
            "───────────────┼───────────────────────────────────┼─────────────────┼──»\n",
            "╭───────────╮╭─┴─╮                               ╭─┴─╮╭───────────╮╭─┴─╮»\n",
            "┤ rz(0.354) ├┤ x ├───────────────────────────────┤ x ├┤ rz(0.354) ├┤ x ├»\n",
            "╰───────────╯╰───╯                               ╰───╯╰───────────╯╰───╯»\n",
            "\n",
            "################################################################################\n",
            "\n",
            "                                                                           \n",
            "───────────────────────────────────────────────────────────────────────────\n",
            "╭───────────╮                                                              \n",
            "┤ rx(0.155) ├──────────────────────────────────────────────────────────────\n",
            "╰───────────╯                  ╭───────────╮                               \n",
            "──────●─────────────────────●──┤ rx(0.155) ├───────────────────────────────\n",
            "    ╭─┴─╮    ╭───────────╮╭─┴─╮╰───────────╯                  ╭───────────╮\n",
            "────┤ x ├────┤ rz(0.354) ├┤ x ├──────●─────────────────────●──┤ rx(0.155) ├\n",
            "    ╰───╯    ╰───────────╯╰───╯    ╭─┴─╮    ╭───────────╮╭─┴─╮├───────────┤\n",
            "───────────────────────────────────┤ x ├────┤ rz(0.354) ├┤ x ├┤ rx(0.155) ├\n",
            "                                   ╰───╯    ╰───────────╯╰───╯╰───────────╯\n",
            "\n"
          ]
        }
      ],
      "source": [
        "from scipy.optimize import minimize\n",
        "import numpy as np\n",
        "\n",
        "\n",
        "# Parameters of QAOA\n",
        "num_layers = 2\n",
        "num_params = 2 * num_layers\n",
        "\n",
        "@cudaq.kernel\n",
        "def kernel_qaoa(thetas: List[float]):\n",
        "    \"\"\"\n",
        "    QAOA ansatz using a flattened coefficient matrix for linear and quadratic terms.\n",
        "    \"\"\"\n",
        "    qubits = cudaq.qvector(num_qubits)\n",
        "    h(qubits)\n",
        "\n",
        "    for layer in range(num_layers):\n",
        "        gamma = thetas[layer]\n",
        "        beta = thetas[layer + num_layers]\n",
        "\n",
        "        # Apply problem unitary\n",
        "        for idx, coeff in enumerate(flattened_coeff):\n",
        "            if coeff != 0:\n",
        "                i = idx // num_qubits  # Row index\n",
        "                j = idx % num_qubits   # Column index\n",
        "\n",
        "                if i == j:\n",
        "                    # Linear term (diagonal)\n",
        "                    rz(2.0 * coeff * gamma, qubits[i])\n",
        "                elif i < j:\n",
        "                    # Quadratic term (off-diagonal)\n",
        "                    x.ctrl(qubits[i], qubits[j])\n",
        "                    rz(2.0 * coeff * gamma, qubits[j])\n",
        "                    x.ctrl(qubits[i], qubits[j])\n",
        "\n",
        "        # Apply mixer unitary\n",
        "        for i in range(num_qubits):\n",
        "            rx(2.0 * beta, qubits[i])\n",
        "\n",
        "\n",
        "\n",
        "# Specify the initial parameters and visualize the kernel\n",
        "np.random.seed(42)\n",
        "initial_parameters = np.random.uniform(-np.pi / 8.0, np.pi / 8.0, num_params)\n",
        "print(\"Initial parameters = \", initial_parameters)\n",
        "print(cudaq.draw(kernel_qaoa, initial_parameters))"
      ]
    },
    {
      "cell_type": "code",
      "execution_count": 52,
      "id": "bghGdZ_W5QT2",
      "metadata": {
        "colab": {
          "base_uri": "https://localhost:8080/"
        },
        "id": "bghGdZ_W5QT2",
        "outputId": "671c2049-9bbc-49ee-aaa5-eb8a983a0554"
      },
      "outputs": [
        {
          "output_type": "stream",
          "name": "stdout",
          "text": [
            "Final expectation value  = -5.421885121359695\n"
          ]
        }
      ],
      "source": [
        "import cudaq_solvers as solvers\n",
        "from scipy.optimize import minimize\n",
        "\n",
        "\n",
        "# Optimize through cudaq-solver\n",
        "#cudaq.set_target('nvidia')  # Simulation on GPU backend\n",
        "expectation, optimized_parameters, _ = solvers.vqe(kernel_qaoa,\n",
        "                                              H,\n",
        "                                              initial_parameters,\n",
        "                                              optimizer=minimize,\n",
        "                                              method='L-BFGS-B',\n",
        "                                              jac='3-point',\n",
        "                                              tol=1e-5,\n",
        "                                              options={'disp': True})\n",
        "\n",
        "print('Final expectation value  =', expectation)"
      ]
    },
    {
      "cell_type": "code",
      "execution_count": 53,
      "id": "lst2wWgV0Wlt",
      "metadata": {
        "colab": {
          "base_uri": "https://localhost:8080/"
        },
        "id": "lst2wWgV0Wlt",
        "outputId": "06f2956e-d69c-45e7-ff0d-6b0de7462486"
      },
      "outputs": [
        {
          "output_type": "stream",
          "name": "stdout",
          "text": [
            "The best result {\"Binary('x_0')\": 0, \"Binary('x_1')\": 1, \"Binary('x_2')\": 0, \"Binary('x_3')\": 1, \"Binary('x_4')\": 0}\n"
          ]
        }
      ],
      "source": [
        "def to_variables(kernel_qaoa, optimized_parameters, method=\"statevector\"):\n",
        "    \"\"\"\n",
        "    Return the result in the format of the predefined binary variables.\n",
        "    \"\"\"\n",
        "\n",
        "    if method == \"sampling\":\n",
        "        # Sample the circuit and find the most probable bitstring\n",
        "        counts = cudaq.sample(kernel_qaoa, optimized_parameters, shots_count=8192)\n",
        "        most_probable_bits = counts.most_probable()\n",
        "\n",
        "    if method == \"statevector\":\n",
        "        # Compute the state vector and extract the most probable bitstring\n",
        "        states = cudaq.get_state(kernel_qaoa, optimized_parameters)\n",
        "        bits = [f\"{format(i, f'0{states.num_qubits()}b')}\" for i in range(2**states.num_qubits())]\n",
        "        probs = np.abs(states.amplitudes([f\"{b}\" for b in bits]))**2\n",
        "        most_probable_bits = bits[np.argmax(probs)]\n",
        "\n",
        "    best_result = {str(x[i]): int(bit) for i, bit in enumerate(most_probable_bits)}\n",
        "\n",
        "    return best_result\n",
        "\n",
        "\n",
        "best_result = to_variables(kernel_qaoa, optimized_parameters, method=\"statevector\")\n",
        "print(\"The best result\", best_result)"
      ]
    },
    {
      "cell_type": "markdown",
      "source": [
        "##**Solve QAOA by cudaq-solvers.qaoa**\n",
        "Use a simpler and more intuitive approach with the built-in `cudaq-solvers.qaoa` API."
      ],
      "metadata": {
        "id": "2xu6AC1QDPjn"
      },
      "id": "2xu6AC1QDPjn"
    },
    {
      "cell_type": "code",
      "execution_count": 56,
      "id": "03e30c57-3367-49a8-b0f3-b2481d79edd6",
      "metadata": {
        "colab": {
          "base_uri": "https://localhost:8080/"
        },
        "id": "03e30c57-3367-49a8-b0f3-b2481d79edd6",
        "outputId": "3f75a362-7d6e-4d14-b7d1-6e5a1b19d6ad"
      },
      "outputs": [
        {
          "output_type": "stream",
          "name": "stdout",
          "text": [
            "Optimal energy:  -6.499955311261236\n",
            "Sampled states:  { 01010:526 10101:474 }\n",
            "\n",
            "Optimal Configuration:  01010\n"
          ]
        }
      ],
      "source": [
        "import cudaq_solvers as solvers\n",
        "\n",
        "\n",
        "# Get the number of parameters we'll need\n",
        "num_layers = 2\n",
        "parameter_count = solvers.get_num_qaoa_parameters(H,\n",
        "                                                  num_layers,\n",
        "                                                  full_parameterization=True)\n",
        "\n",
        "# Create the initial parameters to begin optimization\n",
        "initial_parameters = np.random.uniform(-np.pi / 8, np.pi / 8, parameter_count)\n",
        "\n",
        "# Run QAOA, specify full parameterization using an optimization parameter for\n",
        "# every term in the problem Hamiltonian and the mixer hamiltonian.\n",
        "opt_value, opt_params, opt_config = solvers.qaoa(H,\n",
        "                                                 num_layers,\n",
        "                                                 initial_parameters,\n",
        "                                                 full_parameterization=True)\n",
        "\n",
        "# Print the results\n",
        "print('Optimal energy: ', opt_value)\n",
        "print('Sampled states: ', opt_config)\n",
        "print('Optimal Configuration: ', opt_config.most_probable())"
      ]
    },
    {
      "cell_type": "markdown",
      "source": [
        "##3. **Comparison with Simulated Annealing solver from `neal`**"
      ],
      "metadata": {
        "id": "Vmd7-watshhA"
      },
      "id": "Vmd7-watshhA"
    },
    {
      "cell_type": "code",
      "source": [
        "import neal\n",
        "\n",
        "# Convert the pre-defined model to QUBO\n",
        "qubo, offset = model.to_qubo()\n",
        "\n",
        "# Solve with simulated annealing\n",
        "sampler = neal.SimulatedAnnealingSampler()\n",
        "sampleset = sampler.sample_qubo(qubo, num_reads=100)\n",
        "\n",
        "# Decode solution\n",
        "decoded_samples = model.decode_sampleset(sampleset)\n",
        "best = min(decoded_samples, key=lambda s: s.energy)\n",
        "\n",
        "# Print result\n",
        "print(\"Best solution:\", best.sample)\n",
        "print(\"Energy (including offset):\", best.energy)"
      ],
      "metadata": {
        "colab": {
          "base_uri": "https://localhost:8080/"
        },
        "id": "bhSl9Pyjsgj2",
        "outputId": "5905afe2-d225-4a2b-e971-1f22c86e1d22"
      },
      "id": "bhSl9Pyjsgj2",
      "execution_count": 55,
      "outputs": [
        {
          "output_type": "stream",
          "name": "stdout",
          "text": [
            "Best solution: {'x_4': 0, 'x_3': 1, 'x_2': 0, 'x_1': 1, 'x_0': 0}\n",
            "Energy (including offset): -6.5\n"
          ]
        }
      ]
    }
  ],
  "metadata": {
    "colab": {
      "provenance": [],
      "include_colab_link": true
    },
    "kernelspec": {
      "display_name": "Python 3 (ipykernel)",
      "language": "python",
      "name": "python3"
    },
    "language_info": {
      "codemirror_mode": {
        "name": "ipython",
        "version": 3
      },
      "file_extension": ".py",
      "mimetype": "text/x-python",
      "name": "python",
      "nbconvert_exporter": "python",
      "pygments_lexer": "ipython3",
      "version": "3.10.12"
    }
  },
  "nbformat": 4,
  "nbformat_minor": 5
}