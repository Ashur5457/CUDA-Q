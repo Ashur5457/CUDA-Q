{
  "nbformat": 4,
  "nbformat_minor": 0,
  "metadata": {
    "colab": {
      "provenance": [],
      "gpuType": "A100",
      "authorship_tag": "ABX9TyPe78YuqI+A+1FEpdAXVTt2",
      "include_colab_link": true
    },
    "kernelspec": {
      "name": "python3",
      "display_name": "Python 3"
    },
    "language_info": {
      "name": "python"
    },
    "accelerator": "GPU"
  },
  "cells": [
    {
      "cell_type": "markdown",
      "metadata": {
        "id": "view-in-github",
        "colab_type": "text"
      },
      "source": [
        "<a href=\"https://colab.research.google.com/github/Squirtle007/CUDA-Q/blob/main/colab/CUDA-QX/cudaq_solver.ipynb\" target=\"_parent\"><img src=\"https://colab.research.google.com/assets/colab-badge.svg\" alt=\"Open In Colab\"/></a>"
      ]
    },
    {
      "cell_type": "code",
      "source": [
        "!pip install cudaq-solvers"
      ],
      "metadata": {
        "colab": {
          "base_uri": "https://localhost:8080/"
        },
        "id": "i3mIY7L3niNS",
        "outputId": "cbcfd289-6e2e-4f8d-9215-db24db0ca04e"
      },
      "execution_count": 1,
      "outputs": [
        {
          "output_type": "stream",
          "name": "stdout",
          "text": [
            "Collecting cudaq-solvers\n",
            "  Downloading cudaq_solvers-0.1.0-cp310-cp310-manylinux_2_27_x86_64.manylinux_2_28_x86_64.whl.metadata (2.6 kB)\n",
            "Collecting cuda-quantum-cu12~=0.9.0 (from cudaq-solvers)\n",
            "  Downloading cuda_quantum_cu12-0.9.0.tar.gz (3.8 kB)\n",
            "  Installing build dependencies ... \u001b[?25l\u001b[?25hdone\n",
            "  Getting requirements to build wheel ... \u001b[?25l\u001b[?25hdone\n",
            "  Preparing metadata (pyproject.toml) ... \u001b[?25l\u001b[?25hdone\n",
            "Collecting fastapi (from cudaq-solvers)\n",
            "  Downloading fastapi-0.115.5-py3-none-any.whl.metadata (27 kB)\n",
            "Requirement already satisfied: networkx in /usr/local/lib/python3.10/dist-packages (from cudaq-solvers) (3.4.2)\n",
            "Collecting pyscf (from cudaq-solvers)\n",
            "  Downloading pyscf-2.7.0-py3-none-manylinux_2_17_x86_64.manylinux2014_x86_64.whl.metadata (6.2 kB)\n",
            "Requirement already satisfied: scipy in /usr/local/lib/python3.10/dist-packages (from cudaq-solvers) (1.13.1)\n",
            "Collecting uvicorn (from cudaq-solvers)\n",
            "  Downloading uvicorn-0.32.1-py3-none-any.whl.metadata (6.6 kB)\n",
            "Collecting astpretty~=3.0 (from cuda-quantum-cu12~=0.9.0->cudaq-solvers)\n",
            "  Downloading astpretty-3.0.0-py2.py3-none-any.whl.metadata (5.5 kB)\n",
            "Collecting cuquantum-python-cu12>=24.11 (from cuda-quantum-cu12~=0.9.0->cudaq-solvers)\n",
            "  Downloading cuquantum_python_cu12-24.11.0-cp310-cp310-manylinux2014_x86_64.whl.metadata (7.4 kB)\n",
            "Requirement already satisfied: numpy>=1.24 in /usr/local/lib/python3.10/dist-packages (from cuda-quantum-cu12~=0.9.0->cudaq-solvers) (1.26.4)\n",
            "Requirement already satisfied: requests>=2.31 in /usr/local/lib/python3.10/dist-packages (from cuda-quantum-cu12~=0.9.0->cudaq-solvers) (2.32.3)\n",
            "Requirement already satisfied: nvidia-cublas-cu12~=12.0 in /usr/local/lib/python3.10/dist-packages (from cuda-quantum-cu12~=0.9.0->cudaq-solvers) (12.6.3.3)\n",
            "Requirement already satisfied: nvidia-cuda-runtime-cu12~=12.0 in /usr/local/lib/python3.10/dist-packages (from cuda-quantum-cu12~=0.9.0->cudaq-solvers) (12.6.77)\n",
            "Requirement already satisfied: nvidia-cusolver-cu12~=11.4 in /usr/local/lib/python3.10/dist-packages (from cuda-quantum-cu12~=0.9.0->cudaq-solvers) (11.7.1.2)\n",
            "Collecting starlette<0.42.0,>=0.40.0 (from fastapi->cudaq-solvers)\n",
            "  Downloading starlette-0.41.3-py3-none-any.whl.metadata (6.0 kB)\n",
            "Requirement already satisfied: pydantic!=1.8,!=1.8.1,!=2.0.0,!=2.0.1,!=2.1.0,<3.0.0,>=1.7.4 in /usr/local/lib/python3.10/dist-packages (from fastapi->cudaq-solvers) (2.9.2)\n",
            "Requirement already satisfied: typing-extensions>=4.8.0 in /usr/local/lib/python3.10/dist-packages (from fastapi->cudaq-solvers) (4.12.2)\n",
            "Requirement already satisfied: h5py>=2.7 in /usr/local/lib/python3.10/dist-packages (from pyscf->cudaq-solvers) (3.12.1)\n",
            "Requirement already satisfied: setuptools in /usr/local/lib/python3.10/dist-packages (from pyscf->cudaq-solvers) (75.1.0)\n",
            "Requirement already satisfied: click>=7.0 in /usr/local/lib/python3.10/dist-packages (from uvicorn->cudaq-solvers) (8.1.7)\n",
            "Requirement already satisfied: h11>=0.8 in /usr/local/lib/python3.10/dist-packages (from uvicorn->cudaq-solvers) (0.14.0)\n",
            "Collecting custatevec-cu12~=1.7 (from cuquantum-python-cu12>=24.11->cuda-quantum-cu12~=0.9.0->cudaq-solvers)\n",
            "  Downloading custatevec_cu12-1.7.0-py3-none-manylinux2014_x86_64.whl.metadata (2.2 kB)\n",
            "Collecting cutensornet-cu12~=2.6 (from cuquantum-python-cu12>=24.11->cuda-quantum-cu12~=0.9.0->cudaq-solvers)\n",
            "  Downloading cutensornet_cu12-2.6.0-py3-none-manylinux2014_x86_64.whl.metadata (2.2 kB)\n",
            "Collecting cudensitymat-cu12~=0.0.5 (from cuquantum-python-cu12>=24.11->cuda-quantum-cu12~=0.9.0->cudaq-solvers)\n",
            "  Downloading cudensitymat_cu12-0.0.5-py3-none-manylinux2014_x86_64.whl.metadata (2.3 kB)\n",
            "Collecting cupy-cuda12x>=13.0 (from cuquantum-python-cu12>=24.11->cuda-quantum-cu12~=0.9.0->cudaq-solvers)\n",
            "  Downloading cupy_cuda12x-13.3.0-cp310-cp310-manylinux2014_x86_64.whl.metadata (2.7 kB)\n",
            "Requirement already satisfied: nvidia-nvjitlink-cu12 in /usr/local/lib/python3.10/dist-packages (from nvidia-cusolver-cu12~=11.4->cuda-quantum-cu12~=0.9.0->cudaq-solvers) (12.6.77)\n",
            "Requirement already satisfied: nvidia-cusparse-cu12 in /usr/local/lib/python3.10/dist-packages (from nvidia-cusolver-cu12~=11.4->cuda-quantum-cu12~=0.9.0->cudaq-solvers) (12.5.4.2)\n",
            "Requirement already satisfied: annotated-types>=0.6.0 in /usr/local/lib/python3.10/dist-packages (from pydantic!=1.8,!=1.8.1,!=2.0.0,!=2.0.1,!=2.1.0,<3.0.0,>=1.7.4->fastapi->cudaq-solvers) (0.7.0)\n",
            "Requirement already satisfied: pydantic-core==2.23.4 in /usr/local/lib/python3.10/dist-packages (from pydantic!=1.8,!=1.8.1,!=2.0.0,!=2.0.1,!=2.1.0,<3.0.0,>=1.7.4->fastapi->cudaq-solvers) (2.23.4)\n",
            "Requirement already satisfied: charset-normalizer<4,>=2 in /usr/local/lib/python3.10/dist-packages (from requests>=2.31->cuda-quantum-cu12~=0.9.0->cudaq-solvers) (3.4.0)\n",
            "Requirement already satisfied: idna<4,>=2.5 in /usr/local/lib/python3.10/dist-packages (from requests>=2.31->cuda-quantum-cu12~=0.9.0->cudaq-solvers) (3.10)\n",
            "Requirement already satisfied: urllib3<3,>=1.21.1 in /usr/local/lib/python3.10/dist-packages (from requests>=2.31->cuda-quantum-cu12~=0.9.0->cudaq-solvers) (2.2.3)\n",
            "Requirement already satisfied: certifi>=2017.4.17 in /usr/local/lib/python3.10/dist-packages (from requests>=2.31->cuda-quantum-cu12~=0.9.0->cudaq-solvers) (2024.8.30)\n",
            "Requirement already satisfied: anyio<5,>=3.4.0 in /usr/local/lib/python3.10/dist-packages (from starlette<0.42.0,>=0.40.0->fastapi->cudaq-solvers) (3.7.1)\n",
            "Requirement already satisfied: sniffio>=1.1 in /usr/local/lib/python3.10/dist-packages (from anyio<5,>=3.4.0->starlette<0.42.0,>=0.40.0->fastapi->cudaq-solvers) (1.3.1)\n",
            "Requirement already satisfied: exceptiongroup in /usr/local/lib/python3.10/dist-packages (from anyio<5,>=3.4.0->starlette<0.42.0,>=0.40.0->fastapi->cudaq-solvers) (1.2.2)\n",
            "Collecting cutensor-cu12<3,>=2.0.2 (from cudensitymat-cu12~=0.0.5->cuquantum-python-cu12>=24.11->cuda-quantum-cu12~=0.9.0->cudaq-solvers)\n",
            "  Downloading cutensor_cu12-2.0.2-py3-none-manylinux2014_x86_64.whl.metadata (2.1 kB)\n",
            "Requirement already satisfied: fastrlock>=0.5 in /usr/local/lib/python3.10/dist-packages (from cupy-cuda12x>=13.0->cuquantum-python-cu12>=24.11->cuda-quantum-cu12~=0.9.0->cudaq-solvers) (0.8.2)\n",
            "Downloading cudaq_solvers-0.1.0-cp310-cp310-manylinux_2_27_x86_64.manylinux_2_28_x86_64.whl (1.3 MB)\n",
            "\u001b[2K   \u001b[90m━━━━━━━━━━━━━━━━━━━━━━━━━━━━━━━━━━━━━━━━\u001b[0m \u001b[32m1.3/1.3 MB\u001b[0m \u001b[31m20.7 MB/s\u001b[0m eta \u001b[36m0:00:00\u001b[0m\n",
            "\u001b[?25hDownloading fastapi-0.115.5-py3-none-any.whl (94 kB)\n",
            "\u001b[2K   \u001b[90m━━━━━━━━━━━━━━━━━━━━━━━━━━━━━━━━━━━━━━━━\u001b[0m \u001b[32m94.9/94.9 kB\u001b[0m \u001b[31m8.0 MB/s\u001b[0m eta \u001b[36m0:00:00\u001b[0m\n",
            "\u001b[?25hDownloading pyscf-2.7.0-py3-none-manylinux_2_17_x86_64.manylinux2014_x86_64.whl (48.7 MB)\n",
            "\u001b[2K   \u001b[90m━━━━━━━━━━━━━━━━━━━━━━━━━━━━━━━━━━━━━━━━\u001b[0m \u001b[32m48.7/48.7 MB\u001b[0m \u001b[31m40.1 MB/s\u001b[0m eta \u001b[36m0:00:00\u001b[0m\n",
            "\u001b[?25hDownloading uvicorn-0.32.1-py3-none-any.whl (63 kB)\n",
            "\u001b[2K   \u001b[90m━━━━━━━━━━━━━━━━━━━━━━━━━━━━━━━━━━━━━━━━\u001b[0m \u001b[32m63.8/63.8 kB\u001b[0m \u001b[31m4.0 MB/s\u001b[0m eta \u001b[36m0:00:00\u001b[0m\n",
            "\u001b[?25hDownloading astpretty-3.0.0-py2.py3-none-any.whl (4.9 kB)\n",
            "Downloading cuquantum_python_cu12-24.11.0-cp310-cp310-manylinux2014_x86_64.whl (5.2 MB)\n",
            "\u001b[2K   \u001b[90m━━━━━━━━━━━━━━━━━━━━━━━━━━━━━━━━━━━━━━━━\u001b[0m \u001b[32m5.2/5.2 MB\u001b[0m \u001b[31m98.1 MB/s\u001b[0m eta \u001b[36m0:00:00\u001b[0m\n",
            "\u001b[?25hDownloading starlette-0.41.3-py3-none-any.whl (73 kB)\n",
            "\u001b[2K   \u001b[90m━━━━━━━━━━━━━━━━━━━━━━━━━━━━━━━━━━━━━━━━\u001b[0m \u001b[32m73.2/73.2 kB\u001b[0m \u001b[31m6.7 MB/s\u001b[0m eta \u001b[36m0:00:00\u001b[0m\n",
            "\u001b[?25hDownloading cudensitymat_cu12-0.0.5-py3-none-manylinux2014_x86_64.whl (1.7 MB)\n",
            "\u001b[2K   \u001b[90m━━━━━━━━━━━━━━━━━━━━━━━━━━━━━━━━━━━━━━━━\u001b[0m \u001b[32m1.7/1.7 MB\u001b[0m \u001b[31m69.6 MB/s\u001b[0m eta \u001b[36m0:00:00\u001b[0m\n",
            "\u001b[?25hDownloading cupy_cuda12x-13.3.0-cp310-cp310-manylinux2014_x86_64.whl (90.6 MB)\n",
            "\u001b[2K   \u001b[90m━━━━━━━━━━━━━━━━━━━━━━━━━━━━━━━━━━━━━━━━\u001b[0m \u001b[32m90.6/90.6 MB\u001b[0m \u001b[31m21.9 MB/s\u001b[0m eta \u001b[36m0:00:00\u001b[0m\n",
            "\u001b[?25hDownloading custatevec_cu12-1.7.0-py3-none-manylinux2014_x86_64.whl (38.6 MB)\n",
            "\u001b[2K   \u001b[90m━━━━━━━━━━━━━━━━━━━━━━━━━━━━━━━━━━━━━━━━\u001b[0m \u001b[32m38.6/38.6 MB\u001b[0m \u001b[31m53.6 MB/s\u001b[0m eta \u001b[36m0:00:00\u001b[0m\n",
            "\u001b[?25hDownloading cutensornet_cu12-2.6.0-py3-none-manylinux2014_x86_64.whl (2.3 MB)\n",
            "\u001b[2K   \u001b[90m━━━━━━━━━━━━━━━━━━━━━━━━━━━━━━━━━━━━━━━━\u001b[0m \u001b[32m2.3/2.3 MB\u001b[0m \u001b[31m78.2 MB/s\u001b[0m eta \u001b[36m0:00:00\u001b[0m\n",
            "\u001b[?25hDownloading cutensor_cu12-2.0.2-py3-none-manylinux2014_x86_64.whl (156.9 MB)\n",
            "\u001b[2K   \u001b[90m━━━━━━━━━━━━━━━━━━━━━━━━━━━━━━━━━━━━━━━━\u001b[0m \u001b[32m156.9/156.9 MB\u001b[0m \u001b[31m8.9 MB/s\u001b[0m eta \u001b[36m0:00:00\u001b[0m\n",
            "\u001b[?25hBuilding wheels for collected packages: cuda-quantum-cu12\n",
            "  Building wheel for cuda-quantum-cu12 (pyproject.toml) ... \u001b[?25l\u001b[?25hdone\n",
            "  Created wheel for cuda-quantum-cu12: filename=cuda_quantum_cu12-0.9.0-cp310-cp310-manylinux_2_28_x86_64.whl size=129589413 sha256=2b0b4821acd1d4d3d70e757ae95d8c591c75e3961bef19e5ccdc8223eda10499\n",
            "  Stored in directory: /root/.cache/pip/wheels/6f/3b/d1/8ece93a6fc9e2a1be79ae7ab2d439ac3695c4e590d946538f5\n",
            "Successfully built cuda-quantum-cu12\n",
            "Installing collected packages: cutensor-cu12, custatevec-cu12, uvicorn, cutensornet-cu12, cupy-cuda12x, cudensitymat-cu12, astpretty, starlette, pyscf, cuquantum-python-cu12, fastapi, cuda-quantum-cu12, cudaq-solvers\n",
            "  Attempting uninstall: cupy-cuda12x\n",
            "    Found existing installation: cupy-cuda12x 12.2.0\n",
            "    Uninstalling cupy-cuda12x-12.2.0:\n",
            "      Successfully uninstalled cupy-cuda12x-12.2.0\n",
            "Successfully installed astpretty-3.0.0 cuda-quantum-cu12-0.9.0 cudaq-solvers-0.1.0 cudensitymat-cu12-0.0.5 cupy-cuda12x-13.3.0 cuquantum-python-cu12-24.11.0 custatevec-cu12-1.7.0 cutensor-cu12-2.0.2 cutensornet-cu12-2.6.0 fastapi-0.115.5 pyscf-2.7.0 starlette-0.41.3 uvicorn-0.32.1\n"
          ]
        }
      ]
    },
    {
      "cell_type": "code",
      "execution_count": 2,
      "metadata": {
        "colab": {
          "base_uri": "https://localhost:8080/"
        },
        "id": "kQVxlLTknc-w",
        "outputId": "458aa271-d68c-415a-c666-0a6339c4cc27"
      },
      "outputs": [
        {
          "output_type": "stream",
          "name": "stdout",
          "text": [
            "Final <H> = -1.137021742253307\n"
          ]
        }
      ],
      "source": [
        "# ============================================================================ #\n",
        "# Copyright (c) 2024 NVIDIA Corporation & Affiliates.                          #\n",
        "# All rights reserved.                                                         #\n",
        "#                                                                              #\n",
        "# This source code and the accompanying materials are made available under     #\n",
        "# the terms of the Apache License 2.0 which accompanies this distribution.     #\n",
        "# ============================================================================ #\n",
        "import cudaq, cudaq_solvers as solvers\n",
        "from scipy.optimize import minimize\n",
        "\n",
        "# Create the molecular hamiltonian\n",
        "geometry = [('H', (0., 0., 0.)), ('H', (0., 0., .7474))]\n",
        "molecule = solvers.create_molecule(geometry,\n",
        "                                            'sto-3g',\n",
        "                                            0,\n",
        "                                            0,\n",
        "                                            casci=True)\n",
        "\n",
        "# Get the number of qubits and electrons\n",
        "numQubits = molecule.n_orbitals * 2\n",
        "numElectrons = molecule.n_electrons\n",
        "spin = 0\n",
        "initialX = [-.2] * solvers.stateprep.get_num_uccsd_parameters(\n",
        "    numElectrons, numQubits)\n",
        "\n",
        "\n",
        "# Define the UCCSD ansatz\n",
        "@cudaq.kernel\n",
        "def ansatz(thetas: list[float]):\n",
        "    q = cudaq.qvector(numQubits)\n",
        "    for i in range(numElectrons):\n",
        "        x(q[i])\n",
        "    solvers.stateprep.uccsd(q, thetas, numElectrons, spin)\n",
        "\n",
        "\n",
        "# Run VQE\n",
        "energy, params, all_data = solvers.vqe(ansatz,\n",
        "                                              molecule.hamiltonian,\n",
        "                                              initialX,\n",
        "                                              optimizer=minimize,\n",
        "                                              method='L-BFGS-B',\n",
        "                                              jac='3-point',\n",
        "                                              tol=1e-4,\n",
        "                                              options={'disp': True})\n",
        "print(f'Final <H> = {energy}')"
      ]
    }
  ]
}