{
  "nbformat": 4,
  "nbformat_minor": 0,
  "metadata": {
    "colab": {
      "provenance": [],
      "gpuType": "T4",
      "include_colab_link": true
    },
    "kernelspec": {
      "name": "python3",
      "display_name": "Python 3"
    },
    "language_info": {
      "name": "python"
    },
    "accelerator": "GPU"
  },
  "cells": [
    {
      "cell_type": "markdown",
      "metadata": {
        "id": "view-in-github",
        "colab_type": "text"
      },
      "source": [
        "<a href=\"https://colab.research.google.com/github/Squirtle007/CUDA-Q/blob/main/colab/CUDA-QX/optimizations/cudaq_graph_coloring.ipynb\" target=\"_parent\"><img src=\"https://colab.research.google.com/assets/colab-badge.svg\" alt=\"Open In Colab\"/></a>"
      ]
    },
    {
      "cell_type": "code",
      "execution_count": null,
      "metadata": {
        "id": "fE2DntGDYanE",
        "colab": {
          "base_uri": "https://localhost:8080/"
        },
        "outputId": "a724d65f-dd92-4cc3-8d7d-23e3a32d1081"
      },
      "outputs": [
        {
          "output_type": "stream",
          "name": "stdout",
          "text": [
            "\u001b[?25l   \u001b[90m━━━━━━━━━━━━━━━━━━━━━━━━━━━━━━━━━━━━━━━━\u001b[0m \u001b[32m0.0/1.3 MB\u001b[0m \u001b[31m?\u001b[0m eta \u001b[36m-:--:--\u001b[0m\r\u001b[2K   \u001b[91m━━━━━━━━━━━━━━━━━━━━━━━━━━━━━━━━━━━━━━━\u001b[0m\u001b[91m╸\u001b[0m \u001b[32m1.3/1.3 MB\u001b[0m \u001b[31m47.6 MB/s\u001b[0m eta \u001b[36m0:00:01\u001b[0m\r\u001b[2K   \u001b[90m━━━━━━━━━━━━━━━━━━━━━━━━━━━━━━━━━━━━━━━━\u001b[0m \u001b[32m1.3/1.3 MB\u001b[0m \u001b[31m26.1 MB/s\u001b[0m eta \u001b[36m0:00:00\u001b[0m\n",
            "\u001b[2K   \u001b[90m━━━━━━━━━━━━━━━━━━━━━━━━━━━━━━━━━━━━━━━━\u001b[0m \u001b[32m258.3/258.3 kB\u001b[0m \u001b[31m15.7 MB/s\u001b[0m eta \u001b[36m0:00:00\u001b[0m\n",
            "\u001b[2K   \u001b[90m━━━━━━━━━━━━━━━━━━━━━━━━━━━━━━━━━━━━━━━━\u001b[0m \u001b[32m122.8/122.8 MB\u001b[0m \u001b[31m5.8 MB/s\u001b[0m eta \u001b[36m0:00:00\u001b[0m\n",
            "\u001b[2K   \u001b[90m━━━━━━━━━━━━━━━━━━━━━━━━━━━━━━━━━━━━━━━━\u001b[0m \u001b[32m9.1/9.1 MB\u001b[0m \u001b[31m41.5 MB/s\u001b[0m eta \u001b[36m0:00:00\u001b[0m\n",
            "\u001b[2K   \u001b[90m━━━━━━━━━━━━━━━━━━━━━━━━━━━━━━━━━━━━━━━━\u001b[0m \u001b[32m95.2/95.2 kB\u001b[0m \u001b[31m6.3 MB/s\u001b[0m eta \u001b[36m0:00:00\u001b[0m\n",
            "\u001b[2K   \u001b[90m━━━━━━━━━━━━━━━━━━━━━━━━━━━━━━━━━━━━━━━━\u001b[0m \u001b[32m50.9/50.9 MB\u001b[0m \u001b[31m10.5 MB/s\u001b[0m eta \u001b[36m0:00:00\u001b[0m\n",
            "\u001b[2K   \u001b[90m━━━━━━━━━━━━━━━━━━━━━━━━━━━━━━━━━━━━━━━━\u001b[0m \u001b[32m62.5/62.5 kB\u001b[0m \u001b[31m2.4 MB/s\u001b[0m eta \u001b[36m0:00:00\u001b[0m\n",
            "\u001b[2K   \u001b[90m━━━━━━━━━━━━━━━━━━━━━━━━━━━━━━━━━━━━━━━━\u001b[0m \u001b[32m5.2/5.2 MB\u001b[0m \u001b[31m34.4 MB/s\u001b[0m eta \u001b[36m0:00:00\u001b[0m\n",
            "\u001b[2K   \u001b[90m━━━━━━━━━━━━━━━━━━━━━━━━━━━━━━━━━━━━━━━━\u001b[0m \u001b[32m9.0/9.0 MB\u001b[0m \u001b[31m50.6 MB/s\u001b[0m eta \u001b[36m0:00:00\u001b[0m\n",
            "\u001b[2K   \u001b[90m━━━━━━━━━━━━━━━━━━━━━━━━━━━━━━━━━━━━━━━━\u001b[0m \u001b[32m72.0/72.0 kB\u001b[0m \u001b[31m3.5 MB/s\u001b[0m eta \u001b[36m0:00:00\u001b[0m\n",
            "\u001b[2K   \u001b[90m━━━━━━━━━━━━━━━━━━━━━━━━━━━━━━━━━━━━━━━━\u001b[0m \u001b[32m4.0/4.0 MB\u001b[0m \u001b[31m48.9 MB/s\u001b[0m eta \u001b[36m0:00:00\u001b[0m\n",
            "\u001b[2K   \u001b[90m━━━━━━━━━━━━━━━━━━━━━━━━━━━━━━━━━━━━━━━━\u001b[0m \u001b[32m44.3/44.3 MB\u001b[0m \u001b[31m13.7 MB/s\u001b[0m eta \u001b[36m0:00:00\u001b[0m\n",
            "\u001b[2K   \u001b[90m━━━━━━━━━━━━━━━━━━━━━━━━━━━━━━━━━━━━━━━━\u001b[0m \u001b[32m2.6/2.6 MB\u001b[0m \u001b[31m62.9 MB/s\u001b[0m eta \u001b[36m0:00:00\u001b[0m\n",
            "\u001b[2K   \u001b[90m━━━━━━━━━━━━━━━━━━━━━━━━━━━━━━━━━━━━━━━━\u001b[0m \u001b[32m202.3/202.3 MB\u001b[0m \u001b[31m5.7 MB/s\u001b[0m eta \u001b[36m0:00:00\u001b[0m\n",
            "\u001b[?25h"
          ]
        }
      ],
      "source": [
        "!pip install cudaq-solvers==0.2.1 pyqubo==1.5.0 networkx==3.4.2 -q"
      ]
    },
    {
      "cell_type": "markdown",
      "source": [
        "# **Solving Graph Coloring with CUDA-Q Solvers**"
      ],
      "metadata": {
        "id": "Mn0HDEHZ6VV-"
      }
    },
    {
      "cell_type": "markdown",
      "source": [
        "The graph coloring problem asks how to assign colors to the vertices of a graph so that no two adjacent vertices share the same color. Each vertex must be assigned exactly one color from a given set, and adjacent (connected) vertices must have different colors to avoid conflict. That is, given:  \n",
        "- Binary variables $x_{v,c} \\in \\{0,1\\}$, where $x_{v,c} = 1$ if vertex $v$ is assigned color $c$, otherwise 0.  \n",
        "- $v$ ranges over all vertices.  \n",
        "- $c$ ranges over all colors.  \n",
        "- $(u,v)$ are edges connecting vertices.\n",
        "\n",
        "The objective function $ f(x) $ in **QUBO** (Quadratic Unconstrained Binary Optimization) formulation to be minimized:\n",
        "\n",
        "$$\n",
        "f(x) = A \\sum_{v} \\left( \\sum_{c} x_{v,c} - 1 \\right)^2 + B \\sum_{(u,v) \\in \\text{edges}} \\sum_{c} x_{u,c} \\, x_{v,c}\n",
        "$$\n",
        "\n",
        "Where:  \n",
        "- The **first constraint** $ \\sum_{v} \\left( \\sum_{c} x_{v,c} - 1 \\right)^2 $ with scaling factor $ A $ ensures that each vertex is assigned exactly one color (i.e., exactly one $x_{v,c} = 1$ for each vertex $v$.).  \n",
        "- The **second constraint** $ \\sum_{(u,v)} \\sum_{c} x_{u,c} x_{v,c} $ with scaling factor $ B $ penalizes the scenario where two adjacent vertices $ (u,v) $ are assigned the same color."
      ],
      "metadata": {
        "id": "rtRdAQ7ts0c4"
      }
    },
    {
      "cell_type": "code",
      "source": [
        "from pyqubo import Array, Constraint\n",
        "\n",
        "\n",
        "# Define graph edges\n",
        "edges = [(0, 1), (1, 2), (2, 0)]\n",
        "n_vertices = 3\n",
        "n_colors = 3\n",
        "\n",
        "# Binary variables: x[v][c] = 1 if vertex v is colored with c\n",
        "variables = Array.create('x', shape=(n_vertices, n_colors), vartype='BINARY')\n",
        "\n",
        "# Constraint-1: Each vertex must have exactly one color\n",
        "one_color_per_vertex = sum(\n",
        "    (sum(variables[v][c] for c in range(n_colors)) - 1)**2\n",
        "    for v in range(n_vertices)\n",
        ")\n",
        "\n",
        "# Constraint-2: Adjacent vertices cannot share the same color\n",
        "no_same_color_edges = sum(\n",
        "    variables[u][c] * variables[v][c]\n",
        "    for (u, v) in edges\n",
        "    for c in range(n_colors)\n",
        ")\n",
        "\n",
        "# Combine the constraints to form the objective function\n",
        "A = 5  # Penalty for violating one-color constraint\n",
        "B = 9   # Penalty for adjacent same-color\n",
        "objective = A * Constraint(one_color_per_vertex, label='one_color') + B * Constraint(one_color_per_vertex, label='same_color')\n",
        "\n",
        "# Compile\n",
        "model = objective.compile()"
      ],
      "metadata": {
        "id": "AQsPArL9Yx7n"
      },
      "execution_count": null,
      "outputs": []
    },
    {
      "cell_type": "markdown",
      "source": [
        "Note that the QUBO formulation from PyQUBO is based on the 0 and 1 basis. Here, we aim to transform it into the -1 and 1 basis and construct the Hamiltonian with Ising formulation, making it compatible for use with CUDA-Q:"
      ],
      "metadata": {
        "id": "CJl5puiI5xbe"
      }
    },
    {
      "cell_type": "code",
      "source": [
        "import cudaq\n",
        "from cudaq import spin\n",
        "import numpy as np\n",
        "from typing import List\n",
        "\n",
        "\n",
        "def to_cudaq(model):\n",
        "    \"\"\"\n",
        "    Convert a binary optimization model to QAOA inputs compatible with CUDA-Q.\n",
        "\n",
        "    This function extracts the linear and quadratic coefficients from the model's\n",
        "    Ising formulation, maps variables to qubit indices, and constructs CUDA-Q Hamiltonian.\n",
        "    \"\"\"\n",
        "\n",
        "    h, J, offset = model.to_ising()\n",
        "\n",
        "    # Map variables to qubit indices\n",
        "    vars_set = set(h) | {v for pair in J for v in pair}\n",
        "    var_to_index = {var: idx for idx, var in enumerate(sorted(vars_set))}\n",
        "\n",
        "    # Initialization\n",
        "    H = 0\n",
        "\n",
        "    # Fill in linear terms (diagonal)\n",
        "    for var, weight in h.items():\n",
        "        idx = var_to_index[var]\n",
        "        H += weight * spin.z(idx)\n",
        "\n",
        "    # Fill in quadratic terms (off-diagonal)\n",
        "    for (v1, v2), weight in J.items():\n",
        "        i, j = var_to_index[v1], var_to_index[v2]\n",
        "        H += weight * spin.z(i) * spin.z(j)\n",
        "\n",
        "    H += offset\n",
        "\n",
        "    return H\n",
        "\n",
        "\n",
        "H = to_cudaq(model)\n",
        "print(\"Hamiltonian:\", H)"
      ],
      "metadata": {
        "colab": {
          "base_uri": "https://localhost:8080/"
        },
        "id": "33zk34HPYx-C",
        "outputId": "23d34577-9d3c-480e-e9d7-219b525fc9a2"
      },
      "execution_count": null,
      "outputs": [
        {
          "output_type": "stream",
          "name": "stdout",
          "text": [
            "Hamiltonian: [7+0j] IIIZIZIII\n",
            "[7+0j] IIIIIIIZZ\n",
            "[7+0j] IIIIZIIII\n",
            "[7+0j] IIZIIIIII\n",
            "[7+0j] ZIIIIIIII\n",
            "[7+0j] IIIIIIZZI\n",
            "[7+0j] IZIIIIIII\n",
            "[7+0j] IIIIZZIII\n",
            "[7+0j] ZIZIIIIII\n",
            "[7+0j] IIIIIIZIZ\n",
            "[7+0j] IIIIIIIIZ\n",
            "[7+0j] IIIIIIIZI\n",
            "[42+0j] IIIIIIIII\n",
            "[7+0j] IIIZZIIII\n",
            "[7+0j] IZZIIIIII\n",
            "[7+0j] IIIIIIZII\n",
            "[7+0j] IIIZIIIII\n",
            "[7+0j] IIIIIZIII\n",
            "[7+0j] ZZIIIIIII\n",
            "\n"
          ]
        }
      ]
    },
    {
      "cell_type": "markdown",
      "source": [
        "##**QAOA using cudaq-solvers.qaoa**\n",
        "The **Quantum Approximate Optimization Algorithm (QAOA)** is a variational quantum algorithm designed to solve **combinatorial optimization problems  (COPs)**.\n",
        "CUDA-Q Solvers provides the built-in `cudaq-solvers.qaoa` API, offering a simple and intuitive approach to tackle COPs using QAOA:"
      ],
      "metadata": {
        "id": "VJr6Ef8R57sg"
      }
    },
    {
      "cell_type": "code",
      "source": [
        "import cudaq_solvers as solvers\n",
        "import numpy as np\n",
        "\n",
        "\n",
        "# Get the number of parameters we'll need\n",
        "num_layers = 5\n",
        "parameter_count = solvers.get_num_qaoa_parameters(H,\n",
        "                                                  num_layers,\n",
        "                                                  full_parameterization=True)\n",
        "\n",
        "# Create the initial parameters to begin optimization\n",
        "initial_parameters = np.random.uniform(-np.pi / 8, np.pi / 8, parameter_count)\n",
        "\n",
        "# Set up the optimizer for convergence; supported cudaq-x optimizers include 'cobyla' and 'lbfgs'\n",
        "optimizer = 'cobyla'\n",
        "\n",
        "# Run QAOA, specify full parameterization using an optimization parameter for\n",
        "# every term in the problem Hamiltonian and the mixer hamiltonian.\n",
        "opt_value, opt_params, opt_config = solvers.qaoa(H,\n",
        "                                                 num_layers,\n",
        "                                                 initial_parameters,\n",
        "                                                 optimizer=optimizer,\n",
        "                                                 full_parameterization=True,\n",
        "                                                 )\n",
        "\n",
        "# Print the results\n",
        "print('Optimal energy: ', opt_value)\n",
        "print('Sampled states: ', opt_config)\n",
        "print('Optimal Configuration: ', opt_config.most_probable())"
      ],
      "metadata": {
        "colab": {
          "base_uri": "https://localhost:8080/"
        },
        "id": "dRrMnH5GYyAR",
        "outputId": "74e0c29f-d2c7-44b9-bff7-114b89fdaf8e"
      },
      "execution_count": null,
      "outputs": [
        {
          "output_type": "stream",
          "name": "stdout",
          "text": [
            "Optimal energy:  0.000397952235068999\n",
            "Sampled states:  { 011011011:62 011011101:10 011011110:94 011101011:89 011101101:14 011101110:149 011110011:2 011110110:5 101011011:55 101011101:9 101011110:80 101101011:74 101101101:16 101101110:141 101110011:1 101110101:3 101110110:12 110011011:29 110011101:1 110011110:36 110101011:43 110101101:10 110101110:60 110110011:2 110110110:3 }\n",
            "\n",
            "Optimal Configuration:  011101110\n"
          ]
        }
      ]
    },
    {
      "cell_type": "markdown",
      "source": [
        "Note that in **PyQUBO**, the variables (`Binary`) are originally **0 or 1**:  $ x_{u(v),c} \\in \\{0, 1\\} $\n",
        "\n",
        "Meanwhile, in the **Ising form**, the variables are represented as **-1 or +1**: $ s_{u(v),c} \\in \\{-1, 1\\} $\n",
        "\n",
        "To convert the sampled bitstring back to the pre-defined variable $x$, we should apply the transformation:\n",
        "$$\n",
        "x = \\frac{1 - s}{2}\n",
        "$$"
      ],
      "metadata": {
        "id": "3pR9x918wXSu"
      }
    },
    {
      "cell_type": "code",
      "source": [
        "def to_variables(variables, most_probable_bits):\n",
        "    \"\"\"\n",
        "    Convert Ising bitstring string (s ∈ {-1,1}) to predefined Binary variables (x ∈ {0,1})\n",
        "    for a 2D variable structure.\n",
        "    \"\"\"\n",
        "    result = {}\n",
        "    idx = 0\n",
        "    for row in variables:\n",
        "        for var in row:\n",
        "            result[str(var)] = int((1 - (1 if most_probable_bits[idx] == '1' else -1)) // 2)\n",
        "            idx += 1\n",
        "    return result\n",
        "\n",
        "\n",
        "# Print result\n",
        "most_probable_bits = opt_config.most_probable()\n",
        "best_result = to_variables(variables, most_probable_bits)\n",
        "print(\"Best result:\", best_result)"
      ],
      "metadata": {
        "colab": {
          "base_uri": "https://localhost:8080/"
        },
        "id": "kxvVGL1FdpkU",
        "outputId": "692a5d8d-6751-457b-fdbe-fdbe9053903e"
      },
      "execution_count": null,
      "outputs": [
        {
          "output_type": "stream",
          "name": "stdout",
          "text": [
            "Best result: {\"Binary('x[0][0]')\": 1, \"Binary('x[0][1]')\": 0, \"Binary('x[0][2]')\": 0, \"Binary('x[1][0]')\": 0, \"Binary('x[1][1]')\": 1, \"Binary('x[1][2]')\": 0, \"Binary('x[2][0]')\": 0, \"Binary('x[2][1]')\": 0, \"Binary('x[2][2]')\": 1}\n"
          ]
        }
      ]
    },
    {
      "cell_type": "markdown",
      "source": [
        "Let's visualize the graph coloring result using `networkx` to check whether the assigned colors satisfy the constraints:"
      ],
      "metadata": {
        "id": "GsrF2viTlagD"
      }
    },
    {
      "cell_type": "code",
      "source": [
        "import networkx as nx\n",
        "import matplotlib.pyplot as plt\n",
        "\n",
        "\n",
        "# Color map for visualizing the colors assigned to vertices\n",
        "color_map = {0: 'red', 1: 'green', 2: 'blue'}\n",
        "\n",
        "# Create the graph\n",
        "G = nx.Graph()\n",
        "G.add_edges_from(edges)\n",
        "\n",
        "# Assign colors to vertices based on the result\n",
        "node_colors = []\n",
        "for node in range(n_vertices):\n",
        "    for color in range(n_colors):\n",
        "        if best_result.get(f\"Binary('x[{node}][{color}]')\") == 1:\n",
        "            node_colors.append(color_map[color])\n",
        "\n",
        "# Draw the graph with assigned colors\n",
        "nx.draw(G, with_labels=True, node_color=node_colors[:n_vertices], node_size=500, font_size=16)\n",
        "plt.show()"
      ],
      "metadata": {
        "colab": {
          "base_uri": "https://localhost:8080/",
          "height": 516
        },
        "id": "puLb-E46ksW3",
        "outputId": "e69c809b-5bc8-43ed-e8ba-38ff4e5ab477"
      },
      "execution_count": null,
      "outputs": [
        {
          "output_type": "display_data",
          "data": {
            "text/plain": [
              "<Figure size 640x480 with 1 Axes>"
            ],
            "image/png": "[encoded data removed]"
          },
          "metadata": {}
        }
      ]
    },
    {
      "cell_type": "markdown",
      "source": [
        "##**Comparison with Simulated Annealing solver from `neal`**"
      ],
      "metadata": {
        "id": "OG4FtI_A6AUF"
      }
    },
    {
      "cell_type": "code",
      "source": [
        "import neal\n",
        "\n",
        "\n",
        "# Convert the pre-defined model to QUBO\n",
        "qubo, offset = model.to_qubo()\n",
        "\n",
        "# Solve with simulated annealing\n",
        "sampler = neal.SimulatedAnnealingSampler()\n",
        "sampleset = sampler.sample_qubo(qubo, num_reads=100)\n",
        "\n",
        "# Decode solution\n",
        "decoded_samples = model.decode_sampleset(sampleset)\n",
        "best = min(decoded_samples, key=lambda s: s.energy)\n",
        "\n",
        "# Print result\n",
        "print(\"Best result:\", best.sample)\n",
        "print(\"Energy (including offset):\", best.energy)"
      ],
      "metadata": {
        "colab": {
          "base_uri": "https://localhost:8080/"
        },
        "id": "FHhTxPLQp51S",
        "outputId": "51e94993-0a3f-4bd2-96a6-2d5e2de9c88d"
      },
      "execution_count": null,
      "outputs": [
        {
          "output_type": "stream",
          "name": "stdout",
          "text": [
            "Best result: {'x[2][2]': 1, 'x[2][1]': 0, 'x[1][2]': 1, 'x[1][1]': 0, 'x[2][0]': 0, 'x[0][2]': 1, 'x[1][0]': 0, 'x[0][1]': 0, 'x[0][0]': 0}\n",
            "Energy (including offset): 0.0\n"
          ]
        }
      ]
    }
  ]
}