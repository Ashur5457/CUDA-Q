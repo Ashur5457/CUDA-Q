{
  "nbformat": 4,
  "nbformat_minor": 0,
  "metadata": {
    "colab": {
      "provenance": [],
      "gpuType": "T4",
      "include_colab_link": true
    },
    "kernelspec": {
      "name": "python3",
      "display_name": "Python 3"
    },
    "language_info": {
      "name": "python"
    },
    "accelerator": "GPU"
  },
  "cells": [
    {
      "cell_type": "markdown",
      "metadata": {
        "id": "view-in-github",
        "colab_type": "text"
      },
      "source": [
        "<a href=\"https://colab.research.google.com/github/Squirtle007/CUDA-Q/blob/main/colab/CUDA-QX/optimizations/cudaq_graph_coloring.ipynb\" target=\"_parent\"><img src=\"https://colab.research.google.com/assets/colab-badge.svg\" alt=\"Open In Colab\"/></a>"
      ]
    },
    {
      "cell_type": "code",
      "execution_count": 37,
      "metadata": {
        "id": "fE2DntGDYanE"
      },
      "outputs": [],
      "source": [
        "!pip install cudaq-solvers==0.2.1 pyqubo==1.5.0 networkx==3.4.2 -q"
      ]
    },
    {
      "cell_type": "markdown",
      "source": [
        "# **Solving Grpah Coloring with CUDA-Q Solvers**"
      ],
      "metadata": {
        "id": "Mn0HDEHZ6VV-"
      }
    },
    {
      "cell_type": "markdown",
      "source": [
        "The graph coloring problem asks how to assign colors to the vertices of a graph so that no two adjacent vertices share the same color. Each vertex must be assigned exactly one color from a given set, and adjacent (connected) vertices must have different colors to avoid conflict. That is, given:  \n",
        "- Binary variables $x_{v,c} \\in \\{0,1\\}$, where $x_{v,c} = 1$ if vertex $v$ is assigned color $c$, otherwise 0.  \n",
        "- $v$ ranges over all vertices.  \n",
        "- $c$ ranges over all colors.  \n",
        "- $(u,v)$ are edges connecting vertices.\n",
        "\n",
        "The objective function $ f(x) $ in **QUBO** (Quadratic Unconstrained Binary Optimization) formulation to be minimized:\n",
        "\n",
        "$$\n",
        "f(x) = A \\sum_{v} \\left( \\sum_{c} x_{v,c} - 1 \\right)^2 + B \\sum_{(u,v) \\in \\text{edges}} \\sum_{c} x_{u,c} \\, x_{v,c}\n",
        "$$\n",
        "\n",
        "Where:  \n",
        "- The **first constraint** $ \\sum_{v} \\left( \\sum_{c} x_{v,c} - 1 \\right)^2 $ with scaling factor $ A $ ensures that each vertex is assigned exactly one color (i.e., exactly one $x_{v,c} = 1$ for each vertex $v$.).  \n",
        "- The **second constraint** $ \\sum_{(u,v)} \\sum_{c} x_{u,c} x_{v,c} $ with scaling factor $ B $ penalizes the scenario where two adjacent vertices $ (u,v) $ are assigned the same color."
      ],
      "metadata": {
        "id": "rtRdAQ7ts0c4"
      }
    },
    {
      "cell_type": "code",
      "source": [
        "from pyqubo import Array, Constraint\n",
        "\n",
        "\n",
        "# Define graph edges\n",
        "edges = [(0, 1), (1, 2), (2, 0)]\n",
        "n_vertices = 3\n",
        "n_colors = 3\n",
        "\n",
        "# Binary variables: x[v][c] = 1 if vertex v is colored with c\n",
        "variables = Array.create('x', shape=(n_vertices, n_colors), vartype='BINARY')\n",
        "\n",
        "# Constraint-1: Each vertex must have exactly one color\n",
        "one_color_per_vertex = sum(\n",
        "    (sum(variables[v][c] for c in range(n_colors)) - 1)**2\n",
        "    for v in range(n_vertices)\n",
        ")\n",
        "\n",
        "# Constraint-2: Adjacent vertices cannot share the same color\n",
        "no_same_color_edges = sum(\n",
        "    variables[u][c] * variables[v][c]\n",
        "    for (u, v) in edges\n",
        "    for c in range(n_colors)\n",
        ")\n",
        "\n",
        "# Combine the constraints to form the objective function\n",
        "A = 5  # Penalty for violating one-color constraint\n",
        "B = 4   # Penalty for adjacent same-color\n",
        "objective = A * Constraint(one_color_per_vertex, label='one_color') + B * Constraint(one_color_per_vertex, label='same_color')\n",
        "\n",
        "# Compile\n",
        "model = objective.compile()"
      ],
      "metadata": {
        "id": "AQsPArL9Yx7n"
      },
      "execution_count": 38,
      "outputs": []
    },
    {
      "cell_type": "markdown",
      "source": [
        "Note that the QUBO formulation from PyQUBO is based on the 0 and 1 basis. Here, we aim to transform it into the -1 and 1 basis and construct the Hamiltonian with Ising formulation, making it compatible for use with CUDA-Q:"
      ],
      "metadata": {
        "id": "CJl5puiI5xbe"
      }
    },
    {
      "cell_type": "code",
      "source": [
        "import cudaq\n",
        "from cudaq import spin\n",
        "import numpy as np\n",
        "from typing import List\n",
        "\n",
        "\n",
        "def to_cudaq(model):\n",
        "    \"\"\"\n",
        "    Convert a binary optimization model to QAOA inputs compatible with CUDA-Q.\n",
        "\n",
        "    This function extracts the linear and quadratic coefficients from the model's\n",
        "    Ising formulation, maps variables to qubit indices, and constructs CUDA-Q Hamiltonian.\n",
        "    \"\"\"\n",
        "\n",
        "    h, J, offset = model.to_ising()\n",
        "\n",
        "    # Map variables to qubit indices\n",
        "    vars_set = set(h) | {v for pair in J for v in pair}\n",
        "    var_to_index = {var: idx for idx, var in enumerate(sorted(vars_set))}\n",
        "\n",
        "    # Initialization\n",
        "    H = 0\n",
        "\n",
        "    # Fill in linear terms (diagonal)\n",
        "    for var, weight in h.items():\n",
        "        idx = var_to_index[var]\n",
        "        H += weight * spin.z(idx)\n",
        "\n",
        "    # Fill in quadratic terms (off-diagonal)\n",
        "    for (v1, v2), weight in J.items():\n",
        "        i, j = var_to_index[v1], var_to_index[v2]\n",
        "        H += weight * spin.z(i) * spin.z(j)\n",
        "\n",
        "    H += offset\n",
        "\n",
        "    return H\n",
        "\n",
        "\n",
        "H = to_cudaq(model)\n",
        "print(\"Hamiltonian:\", H)"
      ],
      "metadata": {
        "colab": {
          "base_uri": "https://localhost:8080/"
        },
        "id": "33zk34HPYx-C",
        "outputId": "4a53e1ba-4619-4e76-9169-d2cf61b3388a"
      },
      "execution_count": 39,
      "outputs": [
        {
          "output_type": "stream",
          "name": "stdout",
          "text": [
            "Hamiltonian: [4.5+0j] IIIZIZIII\n",
            "[4.5+0j] IIIIIIIZZ\n",
            "[4.5+0j] IIIIZIIII\n",
            "[4.5+0j] IIZIIIIII\n",
            "[4.5+0j] ZIIIIIIII\n",
            "[4.5+0j] IIIIIIZZI\n",
            "[4.5+0j] IZIIIIIII\n",
            "[4.5+0j] IIIIZZIII\n",
            "[4.5+0j] ZIZIIIIII\n",
            "[4.5+0j] IIIIIIZIZ\n",
            "[4.5+0j] IIIIIIIIZ\n",
            "[4.5+0j] IIIIIIIZI\n",
            "[27+0j] IIIIIIIII\n",
            "[4.5+0j] IIIZZIIII\n",
            "[4.5+0j] IZZIIIIII\n",
            "[4.5+0j] IIIIIIZII\n",
            "[4.5+0j] IIIZIIIII\n",
            "[4.5+0j] IIIIIZIII\n",
            "[4.5+0j] ZZIIIIIII\n",
            "\n"
          ]
        }
      ]
    },
    {
      "cell_type": "markdown",
      "source": [
        "##**QAOA using cudaq-solvers.qaoa**\n",
        "The **Quantum Approximate Optimization Algorithm (QAOA)** is a variational quantum algorithm designed to solve **combinatorial optimization problems  (COPs)**.\n",
        "CUDA-Q Solvers provides the built-in `cudaq-solvers.qaoa` API, offering a simple and intuitive approach to tackle COPs using QAOA:"
      ],
      "metadata": {
        "id": "VJr6Ef8R57sg"
      }
    },
    {
      "cell_type": "code",
      "source": [
        "import cudaq_solvers as solvers\n",
        "import numpy as np\n",
        "\n",
        "\n",
        "# Get the number of parameters we'll need\n",
        "num_layers = 5\n",
        "parameter_count = solvers.get_num_qaoa_parameters(H,\n",
        "                                                  num_layers,\n",
        "                                                  full_parameterization=True)\n",
        "\n",
        "# Create the initial parameters to begin optimization\n",
        "initial_parameters = np.random.uniform(-np.pi / 8, np.pi / 8, parameter_count)\n",
        "\n",
        "# Set up the optimizer for convergence; supported cudaq-x optimizers include 'cobyla' and 'lbfgs'\n",
        "optimizer = 'cobyla'\n",
        "\n",
        "# Run QAOA, specify full parameterization using an optimization parameter for\n",
        "# every term in the problem Hamiltonian and the mixer hamiltonian.\n",
        "opt_value, opt_params, opt_config = solvers.qaoa(H,\n",
        "                                                 num_layers,\n",
        "                                                 initial_parameters,\n",
        "                                                 optimizer=optimizer,\n",
        "                                                 full_parameterization=True,\n",
        "                                                 )\n",
        "\n",
        "# Print the results\n",
        "print('Optimal energy: ', opt_value)\n",
        "print('Sampled states: ', opt_config)\n",
        "print('Optimal Configuration: ', opt_config.most_probable())"
      ],
      "metadata": {
        "colab": {
          "base_uri": "https://localhost:8080/"
        },
        "id": "dRrMnH5GYyAR",
        "outputId": "7f9947e9-9328-48ee-f8f2-e9d26e2667d2"
      },
      "execution_count": 40,
      "outputs": [
        {
          "output_type": "stream",
          "name": "stdout",
          "text": [
            "Optimal energy:  4.104590349385262e-06\n",
            "Sampled states:  { 011011011:33 011011101:14 011011110:10 011101011:73 011101101:24 011101110:17 011110011:91 011110101:34 011110110:21 101011011:65 101011101:21 101011110:14 101101011:186 101101101:54 101101110:33 101110011:200 101110101:51 101110110:42 110011011:2 110011101:2 110101011:2 110101101:2 110101110:1 110110011:5 110110101:1 110110110:2 }\n",
            "\n",
            "Optimal Configuration:  101110011\n"
          ]
        }
      ]
    },
    {
      "cell_type": "markdown",
      "source": [
        "Note that in **PyQUBO**, the variables (`Binary`) are originally **0 or 1**:  $ x_{u(v),c} \\in \\{0, 1\\} $\n",
        "\n",
        "Meanwhile, in the **Ising form**, the variables are represented as **-1 or +1**: $ s_{u(v),c} \\in \\{-1, 1\\} $\n",
        "\n",
        "To convert the sampled bitstring back to the pre-defined variable $x$, we should apply the transformation:\n",
        "$$\n",
        "x = \\frac{1 - s}{2}\n",
        "$$"
      ],
      "metadata": {
        "id": "3pR9x918wXSu"
      }
    },
    {
      "cell_type": "code",
      "source": [
        "def to_variables(variables, most_probable_bits):\n",
        "    \"\"\"\n",
        "    Convert Ising bitstring string (s ∈ {-1,1}) to predefined Binary variables (x ∈ {0,1})\n",
        "    for a 2D variable structure.\n",
        "    \"\"\"\n",
        "    result = {}\n",
        "    idx = 0\n",
        "    for row in variables:\n",
        "        for var in row:\n",
        "            result[str(var)] = int((1 - (1 if most_probable_bits[idx] == '1' else -1)) // 2)\n",
        "            idx += 1\n",
        "    return result\n",
        "\n",
        "\n",
        "\n",
        "# Print result\n",
        "most_probable_bits = opt_config.most_probable()\n",
        "best_result = to_variables(variables, most_probable_bits)\n",
        "print(\"Best result:\", best_result)"
      ],
      "metadata": {
        "colab": {
          "base_uri": "https://localhost:8080/"
        },
        "id": "kxvVGL1FdpkU",
        "outputId": "6292068f-d360-4ba6-9965-2cd6698658c0"
      },
      "execution_count": 41,
      "outputs": [
        {
          "output_type": "stream",
          "name": "stdout",
          "text": [
            "Best result: {\"Binary('x[0][0]')\": 0, \"Binary('x[0][1]')\": 1, \"Binary('x[0][2]')\": 0, \"Binary('x[1][0]')\": 0, \"Binary('x[1][1]')\": 0, \"Binary('x[1][2]')\": 1, \"Binary('x[2][0]')\": 1, \"Binary('x[2][1]')\": 0, \"Binary('x[2][2]')\": 0}\n"
          ]
        }
      ]
    },
    {
      "cell_type": "markdown",
      "source": [
        "Let's visualize the graph coloring result using `networkx` to check whether the assigned colors satisfy the constraints:"
      ],
      "metadata": {
        "id": "GsrF2viTlagD"
      }
    },
    {
      "cell_type": "code",
      "source": [
        "import networkx as nx\n",
        "import matplotlib.pyplot as plt\n",
        "\n",
        "\n",
        "# Color map for visualizing the colors assigned to vertices\n",
        "color_map = {0: 'red', 1: 'green', 2: 'blue'}\n",
        "\n",
        "# Create the graph\n",
        "G = nx.Graph()\n",
        "G.add_edges_from(edges)\n",
        "\n",
        "# Assign colors to vertices based on the result\n",
        "node_colors = []\n",
        "for node in range(n_vertices):\n",
        "    for color in range(n_colors):\n",
        "        if best_result.get(f\"Binary('x[{node}][{color}]')\") == 1:\n",
        "            node_colors.append(color_map[color])\n",
        "\n",
        "# Draw the graph with assigned colors\n",
        "nx.draw(G, with_labels=True, node_color=node_colors[:n_vertices], node_size=500, font_size=16)\n",
        "plt.show()"
      ],
      "metadata": {
        "colab": {
          "base_uri": "https://localhost:8080/",
          "height": 516
        },
        "id": "puLb-E46ksW3",
        "outputId": "448200a9-0bfc-4e78-f656-1e76a6049ccd"
      },
      "execution_count": 42,
      "outputs": [
        {
          "output_type": "display_data",
          "data": {
            "text/plain": [
              "<Figure size 640x480 with 1 Axes>"
            ],
            "image/png": "[encoded data removed]"
          },
          "metadata": {}
        }
      ]
    },
    {
      "cell_type": "markdown",
      "source": [
        "##**Comparison with Simulated Annealing solver from `neal`**"
      ],
      "metadata": {
        "id": "OG4FtI_A6AUF"
      }
    },
    {
      "cell_type": "code",
      "source": [
        "import neal\n",
        "\n",
        "\n",
        "# Convert the pre-defined model to QUBO\n",
        "qubo, offset = model.to_qubo()\n",
        "\n",
        "# Solve with simulated annealing\n",
        "sampler = neal.SimulatedAnnealingSampler()\n",
        "sampleset = sampler.sample_qubo(qubo, num_reads=100)\n",
        "\n",
        "# Decode solution\n",
        "decoded_samples = model.decode_sampleset(sampleset)\n",
        "best = min(decoded_samples, key=lambda s: s.energy)\n",
        "\n",
        "# Print result\n",
        "print(\"Best result:\", best.sample)\n",
        "print(\"Energy (including offset):\", best.energy)"
      ],
      "metadata": {
        "colab": {
          "base_uri": "https://localhost:8080/"
        },
        "id": "FHhTxPLQp51S",
        "outputId": "dd3a121a-9523-4fde-986c-40de52442633"
      },
      "execution_count": 43,
      "outputs": [
        {
          "output_type": "stream",
          "name": "stdout",
          "text": [
            "Best result: {'x[2][2]': 1, 'x[2][1]': 0, 'x[1][2]': 1, 'x[1][1]': 0, 'x[2][0]': 0, 'x[0][2]': 1, 'x[1][0]': 0, 'x[0][1]': 0, 'x[0][0]': 0}\n",
            "Energy (including offset): 0.0\n"
          ]
        }
      ]
    }
  ]
}