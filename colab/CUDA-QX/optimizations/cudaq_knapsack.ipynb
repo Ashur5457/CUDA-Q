{
  "nbformat": 4,
  "nbformat_minor": 0,
  "metadata": {
    "colab": {
      "provenance": [],
      "authorship_tag": "ABX9TyPP1+T8mUePEEmwaUbXl0yM",
      "include_colab_link": true
    },
    "kernelspec": {
      "name": "python3",
      "display_name": "Python 3"
    },
    "language_info": {
      "name": "python"
    }
  },
  "cells": [
    {
      "cell_type": "markdown",
      "metadata": {
        "id": "view-in-github",
        "colab_type": "text"
      },
      "source": [
        "<a href=\"https://colab.research.google.com/github/Squirtle007/CUDA-Q/blob/main/colab/CUDA-QX/optimizations/cudaq_knapsack.ipynb\" target=\"_parent\"><img src=\"https://colab.research.google.com/assets/colab-badge.svg\" alt=\"Open In Colab\"/></a>"
      ]
    },
    {
      "cell_type": "code",
      "execution_count": 1,
      "metadata": {
        "colab": {
          "base_uri": "https://localhost:8080/"
        },
        "id": "fE2DntGDYanE",
        "outputId": "ea9276d1-07ce-4007-b7a3-5c6d64d3f5b8"
      },
      "outputs": [
        {
          "output_type": "stream",
          "name": "stdout",
          "text": [
            "\u001b[2K   \u001b[90m━━━━━━━━━━━━━━━━━━━━━━━━━━━━━━━━━━━━━━━━\u001b[0m \u001b[32m1.3/1.3 MB\u001b[0m \u001b[31m16.2 MB/s\u001b[0m eta \u001b[36m0:00:00\u001b[0m\n",
            "\u001b[2K   \u001b[90m━━━━━━━━━━━━━━━━━━━━━━━━━━━━━━━━━━━━━━━━\u001b[0m \u001b[32m258.3/258.3 kB\u001b[0m \u001b[31m19.3 MB/s\u001b[0m eta \u001b[36m0:00:00\u001b[0m\n",
            "\u001b[2K   \u001b[90m━━━━━━━━━━━━━━━━━━━━━━━━━━━━━━━━━━━━━━━━\u001b[0m \u001b[32m122.8/122.8 MB\u001b[0m \u001b[31m6.0 MB/s\u001b[0m eta \u001b[36m0:00:00\u001b[0m\n",
            "\u001b[2K   \u001b[90m━━━━━━━━━━━━━━━━━━━━━━━━━━━━━━━━━━━━━━━━\u001b[0m \u001b[32m9.1/9.1 MB\u001b[0m \u001b[31m106.0 MB/s\u001b[0m eta \u001b[36m0:00:00\u001b[0m\n",
            "\u001b[2K   \u001b[90m━━━━━━━━━━━━━━━━━━━━━━━━━━━━━━━━━━━━━━━━\u001b[0m \u001b[32m95.2/95.2 kB\u001b[0m \u001b[31m9.7 MB/s\u001b[0m eta \u001b[36m0:00:00\u001b[0m\n",
            "\u001b[2K   \u001b[90m━━━━━━━━━━━━━━━━━━━━━━━━━━━━━━━━━━━━━━━━\u001b[0m \u001b[32m50.9/50.9 MB\u001b[0m \u001b[31m12.9 MB/s\u001b[0m eta \u001b[36m0:00:00\u001b[0m\n",
            "\u001b[2K   \u001b[90m━━━━━━━━━━━━━━━━━━━━━━━━━━━━━━━━━━━━━━━━\u001b[0m \u001b[32m62.5/62.5 kB\u001b[0m \u001b[31m6.1 MB/s\u001b[0m eta \u001b[36m0:00:00\u001b[0m\n",
            "\u001b[2K   \u001b[90m━━━━━━━━━━━━━━━━━━━━━━━━━━━━━━━━━━━━━━━━\u001b[0m \u001b[32m5.2/5.2 MB\u001b[0m \u001b[31m17.7 MB/s\u001b[0m eta \u001b[36m0:00:00\u001b[0m\n",
            "\u001b[2K   \u001b[90m━━━━━━━━━━━━━━━━━━━━━━━━━━━━━━━━━━━━━━━━\u001b[0m \u001b[32m9.0/9.0 MB\u001b[0m \u001b[31m106.2 MB/s\u001b[0m eta \u001b[36m0:00:00\u001b[0m\n",
            "\u001b[2K   \u001b[90m━━━━━━━━━━━━━━━━━━━━━━━━━━━━━━━━━━━━━━━━\u001b[0m \u001b[32m72.0/72.0 kB\u001b[0m \u001b[31m7.4 MB/s\u001b[0m eta \u001b[36m0:00:00\u001b[0m\n",
            "\u001b[2K   \u001b[90m━━━━━━━━━━━━━━━━━━━━━━━━━━━━━━━━━━━━━━━━\u001b[0m \u001b[32m4.0/4.0 MB\u001b[0m \u001b[31m71.5 MB/s\u001b[0m eta \u001b[36m0:00:00\u001b[0m\n",
            "\u001b[2K   \u001b[90m━━━━━━━━━━━━━━━━━━━━━━━━━━━━━━━━━━━━━━━━\u001b[0m \u001b[32m44.3/44.3 MB\u001b[0m \u001b[31m16.7 MB/s\u001b[0m eta \u001b[36m0:00:00\u001b[0m\n",
            "\u001b[2K   \u001b[90m━━━━━━━━━━━━━━━━━━━━━━━━━━━━━━━━━━━━━━━━\u001b[0m \u001b[32m2.6/2.6 MB\u001b[0m \u001b[31m89.1 MB/s\u001b[0m eta \u001b[36m0:00:00\u001b[0m\n",
            "\u001b[2K   \u001b[90m━━━━━━━━━━━━━━━━━━━━━━━━━━━━━━━━━━━━━━━━\u001b[0m \u001b[32m202.3/202.3 MB\u001b[0m \u001b[31m5.9 MB/s\u001b[0m eta \u001b[36m0:00:00\u001b[0m\n",
            "\u001b[?25h"
          ]
        }
      ],
      "source": [
        "!pip install cudaq-solvers==0.2.1 pyqubo==1.5.0 -q"
      ]
    },
    {
      "cell_type": "markdown",
      "source": [
        "# **Solving Knapsack Problem with CUDA-Q Solvers**"
      ],
      "metadata": {
        "id": "Mn0HDEHZ6VV-"
      }
    },
    {
      "cell_type": "markdown",
      "source": [
        "The **Knapsack Problem** is a combinatorial optimization problem where the objective is to maximize the total value of selected items, subject to a weight constraint. The objective function $ f(x) $ in **QUBO** (Quadratic Unconstrained Binary Optimization) formulation to be minimized:\n",
        "\n",
        "$$\n",
        "f(x) = -\\sum (v_i \\times x_i) + \\lambda \\left( \\sum (w_i \\times x_i) - W \\right)^2\n",
        "$$\n",
        "\n",
        "The goal is to maximize the total value while penalizing weight violations. Below is a detailed breakdown of the QUBO:\n",
        "\n",
        "## **1. Item Data**  \n",
        "Items have associated weights and values, represented by lists `weights` and `values`.\n",
        "\n",
        "## **2. Binary Variables**  \n",
        "Each item is assigned a binary variable (`items`), where 1 indicates the item is selected, and 0 indicates it is not.\n",
        "\n",
        "## **3. Total Weight and Value**  \n",
        "- Total weight: $ \\sum (w_i \\times x_i) $  \n",
        "- Total value: $ \\sum (v_i \\times x_i) $  \n",
        "\n",
        "where $ x_i $ is the binary selection variable for item $ i $.\n",
        "\n",
        "## **4. Weight Constraint**\n",
        "A penalty is applied if the total weight exceeds the maximum allowable weight $ W $, represented by:\n",
        "\n",
        "$$\n",
        "\\left( \\sum (w_i \\times x_i) - W \\right)^2\n",
        "$$\n",
        "where $ \\lambda $ is the penalty scale factor of the penalty for the constraint."
      ],
      "metadata": {
        "id": "rtRdAQ7ts0c4"
      }
    },
    {
      "cell_type": "code",
      "source": [
        "from pyqubo import Binary, Constraint\n",
        "\n",
        "\n",
        "# Item data (weights and values)\n",
        "weights = [3, 5, 2]\n",
        "values = [8, 16, 9]\n",
        "max_weight = 7\n",
        "\n",
        "# Binary variables for item selection\n",
        "variables = [Binary(f'item_{i}') for i in range(3)]\n",
        "\n",
        "# Total weight and value calculations\n",
        "total_weight = sum(w * x for w, x in zip(weights, variables))\n",
        "total_value = sum(v * x for v, x in zip(values, variables))\n",
        "\n",
        "# Objective: minimize (negative value + weight constraint penalty)\n",
        "penalty = 5\n",
        "weight_constraint = Constraint((total_weight - max_weight)**2, label=\"Weight_Constraint\")\n",
        "objective = -total_value + penalty * weight_constraint\n",
        "\n",
        "# Compile\n",
        "model = objective.compile()"
      ],
      "metadata": {
        "id": "AQsPArL9Yx7n"
      },
      "execution_count": 2,
      "outputs": []
    },
    {
      "cell_type": "markdown",
      "source": [
        "Note that the QUBO formulation from PyQUBO is based on the 0 and 1 basis. Here, we aim to transform it into the -1 and 1 basis and construct the Hamiltonian with Ising formulation, making it compatible for use with CUDA-Q:"
      ],
      "metadata": {
        "id": "CJl5puiI5xbe"
      }
    },
    {
      "cell_type": "code",
      "source": [
        "import cudaq\n",
        "from cudaq import spin\n",
        "import numpy as np\n",
        "from typing import List\n",
        "\n",
        "\n",
        "def to_cudaq(model):\n",
        "    \"\"\"\n",
        "    Convert a binary optimization model to QAOA inputs compatible with CUDA-Q.\n",
        "\n",
        "    This function extracts the linear and quadratic coefficients from the model's\n",
        "    Ising formulation, maps variables to qubit indices, and constructs CUDA-Q Hamiltonian.\n",
        "    \"\"\"\n",
        "\n",
        "    h, J, offset = model.to_ising()\n",
        "\n",
        "    # Map variables to qubit indices\n",
        "    vars_set = set(h) | {v for pair in J for v in pair}\n",
        "    var_to_index = {var: idx for idx, var in enumerate(sorted(vars_set))}\n",
        "\n",
        "    # Initialization\n",
        "    H = 0\n",
        "\n",
        "    # Fill in linear terms (diagonal)\n",
        "    for var, weight in h.items():\n",
        "        idx = var_to_index[var]\n",
        "        H += weight * spin.z(idx)\n",
        "\n",
        "    # Fill in quadratic terms (off-diagonal)\n",
        "    for (v1, v2), weight in J.items():\n",
        "        i, j = var_to_index[v1], var_to_index[v2]\n",
        "        H += weight * spin.z(i) * spin.z(j)\n",
        "\n",
        "    H += offset\n",
        "\n",
        "    return H\n",
        "\n",
        "\n",
        "H = to_cudaq(model)\n",
        "print(\"Hamiltonian:\", H)"
      ],
      "metadata": {
        "colab": {
          "base_uri": "https://localhost:8080/"
        },
        "id": "33zk34HPYx-C",
        "outputId": "5f2053d8-fc63-4bf5-ae62-767bc8050bb7"
      },
      "execution_count": 3,
      "outputs": [
        {
          "output_type": "stream",
          "name": "stdout",
          "text": [
            "Hamiltonian: [25+0j] IZZ\n",
            "[15+0j] ZIZ\n",
            "[-58+0j] IZI\n",
            "[37.5+0j] ZZI\n",
            "[-34+0j] ZII\n",
            "[-24.5+0j] IIZ\n",
            "[51+0j] III\n",
            "\n"
          ]
        }
      ]
    },
    {
      "cell_type": "markdown",
      "source": [
        "##**QAOA using cudaq-solvers.qaoa**\n",
        "The **Quantum Approximate Optimization Algorithm (QAOA)** is a variational quantum algorithm designed to solve **combinatorial optimization problems  (COPs)**.\n",
        "CUDA-Q Solvers provides the built-in `cudaq-solvers.qaoa` API, offering a simple and intuitive approach to tackle COPs using QAOA:"
      ],
      "metadata": {
        "id": "VJr6Ef8R57sg"
      }
    },
    {
      "cell_type": "code",
      "source": [
        "import cudaq_solvers as solvers\n",
        "import numpy as np\n",
        "\n",
        "\n",
        "# Get the number of parameters we'll need\n",
        "num_layers = 3\n",
        "parameter_count = solvers.get_num_qaoa_parameters(H,\n",
        "                                                  num_layers,\n",
        "                                                  full_parameterization=True)\n",
        "\n",
        "# Create the initial parameters to begin optimization\n",
        "initial_parameters = np.random.uniform(-np.pi / 8, np.pi / 8, parameter_count)\n",
        "\n",
        "# Set up the optimizer for convergence; supported cudaq-x optimizers include 'cobyla' and 'lbfgs'\n",
        "optimizer = 'cobyla'\n",
        "\n",
        "# Run QAOA, specify full parameterization using an optimization parameter for\n",
        "# every term in the problem Hamiltonian and the mixer hamiltonian.\n",
        "opt_value, opt_params, opt_config = solvers.qaoa(H,\n",
        "                                                 num_layers,\n",
        "                                                 initial_parameters,\n",
        "                                                 optimizer=optimizer,\n",
        "                                                 full_parameterization=True,\n",
        "                                                 )\n",
        "\n",
        "# Print the results\n",
        "print('Optimal energy: ', opt_value)\n",
        "print('Sampled states: ', opt_config)\n",
        "print('Optimal Configuration: ', opt_config.most_probable())"
      ],
      "metadata": {
        "colab": {
          "base_uri": "https://localhost:8080/"
        },
        "id": "dRrMnH5GYyAR",
        "outputId": "f8d186b5-aa2c-4c17-880e-80c902078ee3"
      },
      "execution_count": 4,
      "outputs": [
        {
          "output_type": "stream",
          "name": "stdout",
          "text": [
            "Optimal energy:  -23.143728584922556\n",
            "Sampled states:  { 000:1 010:29 100:963 110:7 }\n",
            "\n",
            "Optimal Configuration:  100\n"
          ]
        }
      ]
    },
    {
      "cell_type": "markdown",
      "source": [
        "Note that in **PyQUBO**, the variables (`Binary`) are originally **0 or 1**:  $ x_i \\in \\{0, 1\\} $\n",
        "\n",
        "Meanwhile, in the **Ising form**, the variables are represented as **-1 or +1**: $ s_i \\in \\{-1, 1\\} $\n",
        "\n",
        "To convert the sampled bitstring back to the pre-defined variable $x$, we should apply the transformation:\n",
        "$$\n",
        "x = \\frac{1 - s}{2}\n",
        "$$"
      ],
      "metadata": {
        "id": "3pR9x918wXSu"
      }
    },
    {
      "cell_type": "code",
      "source": [
        "def to_variables(variables, most_probable_bits):\n",
        "    \"\"\"\n",
        "    Convert Ising bitstring string (s ∈ {-1,1}) to predefined Binary variables (x ∈ {0,1}).\n",
        "    \"\"\"\n",
        "    best_result = {str(variables[i]): int((1 - (1 if bit == '1' else -1)) // 2) for i, bit in enumerate(most_probable_bits)}\n",
        "    return best_result\n",
        "\n",
        "\n",
        "# Print result\n",
        "most_probable_bits = opt_config.most_probable()\n",
        "best_result = to_variables(variables, most_probable_bits)\n",
        "print(\"Best result:\", best_result)"
      ],
      "metadata": {
        "colab": {
          "base_uri": "https://localhost:8080/"
        },
        "id": "D6rtcix3xx-N",
        "outputId": "e282a1b7-d135-4d76-a177-b657bb6fdd63"
      },
      "execution_count": 5,
      "outputs": [
        {
          "output_type": "stream",
          "name": "stdout",
          "text": [
            "Best result: {\"Binary('item_0')\": 0, \"Binary('item_1')\": 1, \"Binary('item_2')\": 1}\n"
          ]
        }
      ]
    },
    {
      "cell_type": "markdown",
      "source": [
        "##**Comparison with Simulated Annealing solver from `neal`**"
      ],
      "metadata": {
        "id": "OG4FtI_A6AUF"
      }
    },
    {
      "cell_type": "code",
      "source": [
        "import neal\n",
        "\n",
        "\n",
        "# Convert the pre-defined model to QUBO\n",
        "qubo, offset = model.to_qubo()\n",
        "\n",
        "# Solve with simulated annealing\n",
        "sampler = neal.SimulatedAnnealingSampler()\n",
        "sampleset = sampler.sample_qubo(qubo, num_reads=100)\n",
        "\n",
        "# Decode solution\n",
        "decoded_samples = model.decode_sampleset(sampleset)\n",
        "best = min(decoded_samples, key=lambda s: s.energy)\n",
        "\n",
        "# Print result\n",
        "print(\"Best result:\", best.sample)\n",
        "print(\"Energy (including offset):\", best.energy)"
      ],
      "metadata": {
        "colab": {
          "base_uri": "https://localhost:8080/"
        },
        "id": "FHhTxPLQp51S",
        "outputId": "86e306b8-76e8-425f-9794-8509ab7b922d"
      },
      "execution_count": 6,
      "outputs": [
        {
          "output_type": "stream",
          "name": "stdout",
          "text": [
            "Best result: {'item_2': 1, 'item_1': 1, 'item_0': 0}\n",
            "Energy (including offset): -25.0\n"
          ]
        }
      ]
    }
  ]
}