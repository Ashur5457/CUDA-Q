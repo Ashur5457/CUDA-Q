{
  "cells": [
    {
      "cell_type": "markdown",
      "metadata": {
        "id": "view-in-github",
        "colab_type": "text"
      },
      "source": [
        "<a href=\"https://colab.research.google.com/github/Squirtle007/CUDA-Q/blob/main/colab/v0.8.0/cudaq_qaoa.ipynb\" target=\"_parent\"><img src=\"https://colab.research.google.com/assets/colab-badge.svg\" alt=\"Open In Colab\"/></a>"
      ]
    },
    {
      "cell_type": "markdown",
      "metadata": {
        "id": "Ar02CoRdfQau"
      },
      "source": [
        "**Set up CUDA-Q Environment**"
      ]
    },
    {
      "cell_type": "code",
      "execution_count": null,
      "metadata": {
        "colab": {
          "base_uri": "https://localhost:8080/"
        },
        "id": "2JHNaUJjgL2Y",
        "outputId": "2ab31510-5510-447a-e9e2-8483ae48f176"
      },
      "outputs": [
        {
          "output_type": "stream",
          "name": "stdout",
          "text": [
            "Requirement already satisfied: cuda-quantum==0.8.0 in /usr/local/lib/python3.10/dist-packages (0.8.0)\n",
            "Requirement already satisfied: astpretty~=3.0 in /usr/local/lib/python3.10/dist-packages (from cuda-quantum==0.8.0) (3.0.0)\n",
            "Requirement already satisfied: cuquantum-cu11~=24.03 in /usr/local/lib/python3.10/dist-packages (from cuda-quantum==0.8.0) (24.8.0)\n",
            "Requirement already satisfied: graphlib-backport>=1.0 in /usr/local/lib/python3.10/dist-packages (from cuda-quantum==0.8.0) (1.1.0)\n",
            "Requirement already satisfied: numpy>=1.24 in /usr/local/lib/python3.10/dist-packages (from cuda-quantum==0.8.0) (1.26.4)\n",
            "Requirement already satisfied: requests>=2.31 in /usr/local/lib/python3.10/dist-packages (from cuda-quantum==0.8.0) (2.32.3)\n",
            "Requirement already satisfied: nvidia-cublas-cu11==11.11.3.6 in /usr/local/lib/python3.10/dist-packages (from cuda-quantum==0.8.0) (11.11.3.6)\n",
            "Requirement already satisfied: nvidia-cuda-runtime-cu11==11.8.89 in /usr/local/lib/python3.10/dist-packages (from cuda-quantum==0.8.0) (11.8.89)\n",
            "Requirement already satisfied: nvidia-cusolver-cu11==11.4.1.48 in /usr/local/lib/python3.10/dist-packages (from cuda-quantum==0.8.0) (11.4.1.48)\n",
            "Requirement already satisfied: custatevec-cu11==1.6.0.post1 in /usr/local/lib/python3.10/dist-packages (from cuquantum-cu11~=24.03->cuda-quantum==0.8.0) (1.6.0.post1)\n",
            "Requirement already satisfied: cutensornet-cu11==2.5.0 in /usr/local/lib/python3.10/dist-packages (from cuquantum-cu11~=24.03->cuda-quantum==0.8.0) (2.5.0)\n",
            "Requirement already satisfied: cutensor-cu11<3,>=2.0.1 in /usr/local/lib/python3.10/dist-packages (from cutensornet-cu11==2.5.0->cuquantum-cu11~=24.03->cuda-quantum==0.8.0) (2.0.2)\n",
            "Requirement already satisfied: charset-normalizer<4,>=2 in /usr/local/lib/python3.10/dist-packages (from requests>=2.31->cuda-quantum==0.8.0) (3.4.0)\n",
            "Requirement already satisfied: idna<4,>=2.5 in /usr/local/lib/python3.10/dist-packages (from requests>=2.31->cuda-quantum==0.8.0) (3.10)\n",
            "Requirement already satisfied: urllib3<3,>=1.21.1 in /usr/local/lib/python3.10/dist-packages (from requests>=2.31->cuda-quantum==0.8.0) (2.2.3)\n",
            "Requirement already satisfied: certifi>=2017.4.17 in /usr/local/lib/python3.10/dist-packages (from requests>=2.31->cuda-quantum==0.8.0) (2024.8.30)\n"
          ]
        }
      ],
      "source": [
        "%pip install cuda-quantum==0.8.0"
      ]
    },
    {
      "cell_type": "markdown",
      "metadata": {
        "id": "90-M1O-E0Lvv"
      },
      "source": [
        "# Quantum Approximate Optimization Algorithm"
      ]
    },
    {
      "cell_type": "code",
      "source": [
        "import networkx as nx\n",
        "import numpy as np\n",
        "\n",
        "coefficient_matrix = np.array([[ -1.,  3.1,  1.5,  0. ],\n",
        "                               [ 3.1, -1.5,  2.3,  1.9],\n",
        "                               [ 1.5,  2.3,  0.,   0. ],\n",
        "                               [ 0.,   1.9,  0.,   0. ]])\n",
        "\n",
        "\n",
        "#Create a weighted NetworkX graph from coefficient matrix to visualize the problem\n",
        "G = nx.from_numpy_array(coefficient_matrix)\n",
        "nx.draw(G, with_labels=True, alpha=0.8, node_size=500, node_color='#76B900')"
      ],
      "metadata": {
        "colab": {
          "base_uri": "https://localhost:8080/",
          "height": 516
        },
        "id": "fof8FP9f5NA3",
        "outputId": "221409da-1a7d-4a3a-f473-d40ceb333e79"
      },
      "execution_count": null,
      "outputs": [
        {
          "output_type": "display_data",
          "data": {
            "text/plain": [
              "<Figure size 640x480 with 1 Axes>"
            ],
            "image/png": "[encoded data removed]"
          },
          "metadata": {}
        }
      ]
    },
    {
      "cell_type": "code",
      "source": [
        "# Construct the lists of 1st-order and 2nd-order terms from problem matrix\n",
        "first_order = []\n",
        "second_order = []\n",
        "for i in range(coefficient_matrix.shape[0]):\n",
        "    # 1st-order terms: Node weights from diagonal\n",
        "    if coefficient_matrix[i, i] != 0:\n",
        "        first_order.append((i, coefficient_matrix[i, i]))\n",
        "\n",
        "    # 2nd-order terms: Edge weights from off-diagonal elements\n",
        "    for j in range(i + 1, coefficient_matrix.shape[1]):  # Upper triangle for undirected edges\n",
        "        if coefficient_matrix[i, j] != 0:\n",
        "            second_order.append((i, j, coefficient_matrix[i, j]))\n",
        "\n",
        "\n",
        "# Preprint the terms of the problem\n",
        "print(\"First-order terms (node weights):\", first_order)\n",
        "print(\"Second-order terms (edge weights):\", second_order)"
      ],
      "metadata": {
        "colab": {
          "base_uri": "https://localhost:8080/"
        },
        "id": "Y6YKfd0sm8x6",
        "outputId": "c5a4fe07-79f6-4636-c8d3-b1e0f12f3a19"
      },
      "execution_count": null,
      "outputs": [
        {
          "output_type": "stream",
          "name": "stdout",
          "text": [
            "First-order terms (node weights): [(0, -1.0), (1, -1.5)]\n",
            "Second-order terms (edge weights): [(0, 1, 3.1), (0, 2, 1.5), (1, 2, 2.3), (1, 3, 1.9)]\n"
          ]
        }
      ]
    },
    {
      "cell_type": "code",
      "execution_count": null,
      "metadata": {
        "colab": {
          "base_uri": "https://localhost:8080/"
        },
        "id": "3fpifp_U0UKK",
        "outputId": "822a1492-c005-4c5e-d4da-284a5dd9585d"
      },
      "outputs": [
        {
          "output_type": "stream",
          "name": "stdout",
          "text": [
            "Initial parameters =  [0.21810696323572243, -0.20613464375211488, 0.2546877639814583, 0.3657985647468064]\n",
            "     ╭───╮╭─────────────╮                                               »\n",
            "q0 : ┤ h ├┤ rz(-0.4362) ├──●─────────────────●────●──────────────────●──»\n",
            "     ├───┤├─────────────┤╭─┴─╮╭───────────╮╭─┴─╮  │                  │  »\n",
            "q1 : ┤ h ├┤ rz(-0.6543) ├┤ x ├┤ rz(1.352) ├┤ x ├──┼──────────────────┼──»\n",
            "     ├───┤╰─────────────╯╰───╯╰───────────╯╰───╯╭─┴─╮╭────────────╮╭─┴─╮»\n",
            "q2 : ┤ h ├──────────────────────────────────────┤ x ├┤ rz(0.6543) ├┤ x ├»\n",
            "     ├───┤                                      ╰───╯╰────────────╯╰───╯»\n",
            "q3 : ┤ h ├──────────────────────────────────────────────────────────────»\n",
            "     ╰───╯                                                              »\n",
            "\n",
            "################################################################################\n",
            "\n",
            "╭────────────╮╭────────────╮                                           »\n",
            "┤ rx(0.5094) ├┤ rz(0.4123) ├───────────────────────────────────────────»\n",
            "╰────────────╯╰────────────╯                             ╭────────────╮»\n",
            "──────●───────────────────────●────●──────────────────●──┤ rx(0.5094) ├»\n",
            "    ╭─┴─╮     ╭───────────╮ ╭─┴─╮  │                  │  ├────────────┤»\n",
            "────┤ x ├─────┤ rz(1.003) ├─┤ x ├──┼──────────────────┼──┤ rx(0.5094) ├»\n",
            "    ╰───╯     ╰───────────╯ ╰───╯╭─┴─╮╭────────────╮╭─┴─╮├────────────┤»\n",
            "─────────────────────────────────┤ x ├┤ rz(0.8288) ├┤ x ├┤ rx(0.5094) ├»\n",
            "                                 ╰───╯╰────────────╯╰───╯╰────────────╯»\n",
            "\n",
            "################################################################################\n",
            "\n",
            "                                                               ╭────────────╮»\n",
            "────────────────●──────────────────●────●───────────────────●──┤ rx(0.7316) ├»\n",
            "╭────────────╮╭─┴─╮╭────────────╮╭─┴─╮  │                   │  ╰────────────╯»\n",
            "┤ rz(0.6184) ├┤ x ├┤ rz(-1.278) ├┤ x ├──┼───────────────────┼────────●───────»\n",
            "╰────────────╯╰───╯╰────────────╯╰───╯╭─┴─╮╭─────────────╮╭─┴─╮    ╭─┴─╮     »\n",
            "──────────────────────────────────────┤ x ├┤ rz(-0.6184) ├┤ x ├────┤ x ├─────»\n",
            "                                      ╰───╯╰─────────────╯╰───╯    ╰───╯     »\n",
            "─────────────────────────────────────────────────────────────────────────────»\n",
            "                                                                             »\n",
            "\n",
            "################################################################################\n",
            "\n",
            "                                                           \n",
            "───────────────────────────────────────────────────────────\n",
            "                                             ╭────────────╮\n",
            "─────────────────●────●───────────────────●──┤ rx(0.7316) ├\n",
            "╭─────────────╮╭─┴─╮  │                   │  ├────────────┤\n",
            "┤ rz(-0.9482) ├┤ x ├──┼───────────────────┼──┤ rx(0.7316) ├\n",
            "╰─────────────╯╰───╯╭─┴─╮╭─────────────╮╭─┴─╮├────────────┤\n",
            "────────────────────┤ x ├┤ rz(-0.7833) ├┤ x ├┤ rx(0.7316) ├\n",
            "                    ╰───╯╰─────────────╯╰───╯╰────────────╯\n",
            "\n"
          ]
        }
      ],
      "source": [
        "import cudaq\n",
        "from cudaq import spin\n",
        "from typing import List\n",
        "import numpy as np\n",
        "\n",
        "\n",
        "# The problem Hamiltonian\n",
        "hamiltonian = 0\n",
        "for (i, w) in first_order:\n",
        "    hamiltonian += w * spin.z(i)\n",
        "for (i, j, w) in second_order:\n",
        "    hamiltonian += w * spin.z(i) * spin.z(j)\n",
        "\n",
        "\n",
        "# Parameters of QAOA\n",
        "qubit_count = int(coefficient_matrix.shape[0])\n",
        "layer_count: int = 2\n",
        "parameter_count: int = 2 * layer_count\n",
        "\n",
        "\n",
        "# Flatten the lists that serve as CUDA-Q arguments\n",
        "first_order = [float(item) for sublist in first_order for item in sublist]\n",
        "second_order = [float(item) for sublist in second_order for item in sublist]\n",
        "\n",
        "\n",
        "@cudaq.kernel\n",
        "def kernel_qaoa(qubit_count: int, first_order: List[float], second_order: List[float], layer_count: int, thetas: List[float]):\n",
        "    \"\"\"QAOA ansatz for Max-Cut\"\"\"\n",
        "    qvector = cudaq.qvector(qubit_count)\n",
        "\n",
        "    # Create superposition\n",
        "    h(qvector)\n",
        "\n",
        "    # Loop over the layers\n",
        "    for layer in range(layer_count):\n",
        "        # Problem unitary: 1st-order terms\n",
        "        for i in range(int(len(first_order)/2)):\n",
        "            q = int(first_order[2*i])\n",
        "            rz(2.0*first_order[2*i+1]*thetas[layer], qvector[q])\n",
        "\n",
        "        # Problem unitary: 2nd-order terms\n",
        "        for i in range(int(len(second_order)/3)):\n",
        "            q1, q2 = int(second_order[3*i]), int(second_order[3*i+1])\n",
        "            x.ctrl(qvector[q1], qvector[q2])\n",
        "            rz(2.0 * second_order[3*i+2]*thetas[layer], qvector[q2])\n",
        "            x.ctrl(qvector[q1], qvector[q2])\n",
        "\n",
        "        # Mixer unitary\n",
        "        for qubit in range(qubit_count):\n",
        "            rx(2.0 * thetas[layer + layer_count], qvector[qubit])\n",
        "\n",
        "\n",
        "# Specify the optimizer and its initial parameters. Make it repeatable.\n",
        "cudaq.set_random_seed(13)\n",
        "optimizer = cudaq.optimizers.COBYLA()\n",
        "np.random.seed(13)\n",
        "optimizer.initial_parameters = np.random.uniform(-np.pi / 8.0, np.pi / 8.0, parameter_count)\n",
        "print(\"Initial parameters = \", optimizer.initial_parameters)\n",
        "print(cudaq.draw(kernel_qaoa, qubit_count, first_order, second_order, layer_count, optimizer.initial_parameters))"
      ]
    },
    {
      "cell_type": "code",
      "execution_count": null,
      "metadata": {
        "colab": {
          "base_uri": "https://localhost:8080/"
        },
        "id": "9rz2j3Q00VyT",
        "outputId": "06893540-0ee9-4c0e-8d0d-7cbdbcc3618a"
      },
      "outputs": [
        {
          "output_type": "stream",
          "name": "stdout",
          "text": [
            "Execution time = 0.147 (s)\n",
            "Optimal value =  -2.9962138512302774\n",
            "Optimal parameters =  [-1.4334297988025442, -0.5508928196383609, -0.8020490314806129, 0.6953739970831859]\n",
            "{ 0111:23943 1011:327 0000:78 0011:7277 1000:2884 1101:7076 0100:81609 1100:17827 0110:83307 0010:26498 1010:81 1001:428 1110:2342 0001:533 1111:25 0101:7909 }\n",
            "\n",
            "The optimal bitstring with max. number of shots = 0110\n"
          ]
        }
      ],
      "source": [
        "import time\n",
        "\n",
        "\n",
        "# Define the simulation target:\n",
        "cudaq.set_target(\"nvidia\")  # \"nvidia\" for GPU, \"qpp-cpu\" for CPU\n",
        "\n",
        "\n",
        "# Define the objective, return `<state(params) | H | state(params)>`\n",
        "def objective(parameters):\n",
        "    return cudaq.observe(kernel_qaoa, hamiltonian, qubit_count, first_order, second_order, layer_count,\n",
        "                         parameters).expectation()\n",
        "\n",
        "\n",
        "# Optimize!\n",
        "t0 = time.time()\n",
        "optimal_expectation, optimal_parameters = optimizer.optimize(\n",
        "    dimensions=parameter_count, function=objective)\n",
        "print(\"Execution time =\", round(time.time()-t0, 3), \"(s)\")\n",
        "\n",
        "# Print the optimized value and its parameters\n",
        "print(\"Optimal value = \", optimal_expectation)\n",
        "print(\"Optimal parameters = \", optimal_parameters)\n",
        "\n",
        "# Sample the circuit using the optimized parameters\n",
        "counts = cudaq.sample(kernel_qaoa, qubit_count,  first_order, second_order, layer_count, optimal_parameters, shots_count=2**18)\n",
        "print(counts)\n",
        "\n",
        "max = 0\n",
        "for bitstring in counts:\n",
        "    if counts[bitstring] > max:\n",
        "        max = counts[bitstring]\n",
        "        bitstring_max = bitstring\n",
        "print(\"The optimal bitstring with max. number of shots =\", bitstring_max)"
      ]
    }
  ],
  "metadata": {
    "accelerator": "GPU",
    "colab": {
      "gpuType": "T4",
      "provenance": [],
      "include_colab_link": true
    },
    "kernelspec": {
      "display_name": "Python 3",
      "name": "python3"
    },
    "language_info": {
      "name": "python"
    }
  },
  "nbformat": 4,
  "nbformat_minor": 0
}